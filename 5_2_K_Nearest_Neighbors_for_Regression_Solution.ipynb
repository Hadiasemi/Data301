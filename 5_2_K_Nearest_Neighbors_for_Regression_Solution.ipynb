{
  "nbformat": 4,
  "nbformat_minor": 0,
  "metadata": {
    "kernelspec": {
      "display_name": "Python 3",
      "language": "python",
      "name": "python3"
    },
    "language_info": {
      "codemirror_mode": {
        "name": "ipython",
        "version": 3
      },
      "file_extension": ".py",
      "mimetype": "text/x-python",
      "name": "python",
      "nbconvert_exporter": "python",
      "pygments_lexer": "ipython3",
      "version": "3.6.8"
    },
    "colab": {
      "name": "5.2 K-Nearest Neighbors for Regression Solution.ipynb",
      "provenance": [],
      "collapsed_sections": [],
      "include_colab_link": true
    }
  },
  "cells": [
    {
      "cell_type": "markdown",
      "metadata": {
        "id": "view-in-github",
        "colab_type": "text"
      },
      "source": [
        "<a href=\"https://colab.research.google.com/github/Hadiasemi/Data301/blob/main/5_2_K_Nearest_Neighbors_for_Regression_Solution.ipynb\" target=\"_parent\"><img src=\"https://colab.research.google.com/assets/colab-badge.svg\" alt=\"Open In Colab\"/></a>"
      ]
    },
    {
      "cell_type": "markdown",
      "metadata": {
        "id": "pdLP6qa3gdpn"
      },
      "source": [
        "# 5.2 K-Nearest Neighbors for Regression\n",
        "\n",
        "Linear regression is not the only machine learning model that Ashenfelter could have fit."
      ]
    },
    {
      "cell_type": "code",
      "metadata": {
        "id": "jwOMv33Jgdpp",
        "colab": {
          "base_uri": "https://localhost:8080/",
          "height": 237
        },
        "outputId": "f15ea973-0d90-4b30-c7b2-518631bec67d"
      },
      "source": [
        "import pandas as pd\n",
        "import numpy as np\n",
        "\n",
        "data_dir = \"https://dlsun.github.io/pods/data/\"\n",
        "bordeaux_df = pd.read_csv(data_dir + \"bordeaux.csv\",\n",
        "                          index_col=\"year\")\n",
        "\n",
        "# Split the data into training and test sets.\n",
        "bordeaux_train = bordeaux_df.loc[:1980].copy()\n",
        "bordeaux_test = bordeaux_df.loc[1981:].copy()\n",
        "\n",
        "# Log transform the target.\n",
        "bordeaux_train[\"log(price)\"] = np.log(bordeaux_train[\"price\"])\n",
        "bordeaux_train.head()"
      ],
      "execution_count": null,
      "outputs": [
        {
          "output_type": "execute_result",
          "data": {
            "text/plain": [
              "      price  summer  har   sep  win  age  log(price)\n",
              "year                                                \n",
              "1952   37.0    17.1  160  14.3  600   40    3.610918\n",
              "1953   63.0    16.7   80  17.3  690   39    4.143135\n",
              "1955   45.0    17.1  130  16.8  502   37    3.806662\n",
              "1957   22.0    16.1  110  16.2  420   35    3.091042\n",
              "1958   18.0    16.4  187  19.1  582   34    2.890372"
            ],
            "text/html": [
              "\n",
              "  <div id=\"df-a6b0fa23-d984-4e90-9b78-862da5ca1814\">\n",
              "    <div class=\"colab-df-container\">\n",
              "      <div>\n",
              "<style scoped>\n",
              "    .dataframe tbody tr th:only-of-type {\n",
              "        vertical-align: middle;\n",
              "    }\n",
              "\n",
              "    .dataframe tbody tr th {\n",
              "        vertical-align: top;\n",
              "    }\n",
              "\n",
              "    .dataframe thead th {\n",
              "        text-align: right;\n",
              "    }\n",
              "</style>\n",
              "<table border=\"1\" class=\"dataframe\">\n",
              "  <thead>\n",
              "    <tr style=\"text-align: right;\">\n",
              "      <th></th>\n",
              "      <th>price</th>\n",
              "      <th>summer</th>\n",
              "      <th>har</th>\n",
              "      <th>sep</th>\n",
              "      <th>win</th>\n",
              "      <th>age</th>\n",
              "      <th>log(price)</th>\n",
              "    </tr>\n",
              "    <tr>\n",
              "      <th>year</th>\n",
              "      <th></th>\n",
              "      <th></th>\n",
              "      <th></th>\n",
              "      <th></th>\n",
              "      <th></th>\n",
              "      <th></th>\n",
              "      <th></th>\n",
              "    </tr>\n",
              "  </thead>\n",
              "  <tbody>\n",
              "    <tr>\n",
              "      <th>1952</th>\n",
              "      <td>37.0</td>\n",
              "      <td>17.1</td>\n",
              "      <td>160</td>\n",
              "      <td>14.3</td>\n",
              "      <td>600</td>\n",
              "      <td>40</td>\n",
              "      <td>3.610918</td>\n",
              "    </tr>\n",
              "    <tr>\n",
              "      <th>1953</th>\n",
              "      <td>63.0</td>\n",
              "      <td>16.7</td>\n",
              "      <td>80</td>\n",
              "      <td>17.3</td>\n",
              "      <td>690</td>\n",
              "      <td>39</td>\n",
              "      <td>4.143135</td>\n",
              "    </tr>\n",
              "    <tr>\n",
              "      <th>1955</th>\n",
              "      <td>45.0</td>\n",
              "      <td>17.1</td>\n",
              "      <td>130</td>\n",
              "      <td>16.8</td>\n",
              "      <td>502</td>\n",
              "      <td>37</td>\n",
              "      <td>3.806662</td>\n",
              "    </tr>\n",
              "    <tr>\n",
              "      <th>1957</th>\n",
              "      <td>22.0</td>\n",
              "      <td>16.1</td>\n",
              "      <td>110</td>\n",
              "      <td>16.2</td>\n",
              "      <td>420</td>\n",
              "      <td>35</td>\n",
              "      <td>3.091042</td>\n",
              "    </tr>\n",
              "    <tr>\n",
              "      <th>1958</th>\n",
              "      <td>18.0</td>\n",
              "      <td>16.4</td>\n",
              "      <td>187</td>\n",
              "      <td>19.1</td>\n",
              "      <td>582</td>\n",
              "      <td>34</td>\n",
              "      <td>2.890372</td>\n",
              "    </tr>\n",
              "  </tbody>\n",
              "</table>\n",
              "</div>\n",
              "      <button class=\"colab-df-convert\" onclick=\"convertToInteractive('df-a6b0fa23-d984-4e90-9b78-862da5ca1814')\"\n",
              "              title=\"Convert this dataframe to an interactive table.\"\n",
              "              style=\"display:none;\">\n",
              "        \n",
              "  <svg xmlns=\"http://www.w3.org/2000/svg\" height=\"24px\"viewBox=\"0 0 24 24\"\n",
              "       width=\"24px\">\n",
              "    <path d=\"M0 0h24v24H0V0z\" fill=\"none\"/>\n",
              "    <path d=\"M18.56 5.44l.94 2.06.94-2.06 2.06-.94-2.06-.94-.94-2.06-.94 2.06-2.06.94zm-11 1L8.5 8.5l.94-2.06 2.06-.94-2.06-.94L8.5 2.5l-.94 2.06-2.06.94zm10 10l.94 2.06.94-2.06 2.06-.94-2.06-.94-.94-2.06-.94 2.06-2.06.94z\"/><path d=\"M17.41 7.96l-1.37-1.37c-.4-.4-.92-.59-1.43-.59-.52 0-1.04.2-1.43.59L10.3 9.45l-7.72 7.72c-.78.78-.78 2.05 0 2.83L4 21.41c.39.39.9.59 1.41.59.51 0 1.02-.2 1.41-.59l7.78-7.78 2.81-2.81c.8-.78.8-2.07 0-2.86zM5.41 20L4 18.59l7.72-7.72 1.47 1.35L5.41 20z\"/>\n",
              "  </svg>\n",
              "      </button>\n",
              "      \n",
              "  <style>\n",
              "    .colab-df-container {\n",
              "      display:flex;\n",
              "      flex-wrap:wrap;\n",
              "      gap: 12px;\n",
              "    }\n",
              "\n",
              "    .colab-df-convert {\n",
              "      background-color: #E8F0FE;\n",
              "      border: none;\n",
              "      border-radius: 50%;\n",
              "      cursor: pointer;\n",
              "      display: none;\n",
              "      fill: #1967D2;\n",
              "      height: 32px;\n",
              "      padding: 0 0 0 0;\n",
              "      width: 32px;\n",
              "    }\n",
              "\n",
              "    .colab-df-convert:hover {\n",
              "      background-color: #E2EBFA;\n",
              "      box-shadow: 0px 1px 2px rgba(60, 64, 67, 0.3), 0px 1px 3px 1px rgba(60, 64, 67, 0.15);\n",
              "      fill: #174EA6;\n",
              "    }\n",
              "\n",
              "    [theme=dark] .colab-df-convert {\n",
              "      background-color: #3B4455;\n",
              "      fill: #D2E3FC;\n",
              "    }\n",
              "\n",
              "    [theme=dark] .colab-df-convert:hover {\n",
              "      background-color: #434B5C;\n",
              "      box-shadow: 0px 1px 3px 1px rgba(0, 0, 0, 0.15);\n",
              "      filter: drop-shadow(0px 1px 2px rgba(0, 0, 0, 0.3));\n",
              "      fill: #FFFFFF;\n",
              "    }\n",
              "  </style>\n",
              "\n",
              "      <script>\n",
              "        const buttonEl =\n",
              "          document.querySelector('#df-a6b0fa23-d984-4e90-9b78-862da5ca1814 button.colab-df-convert');\n",
              "        buttonEl.style.display =\n",
              "          google.colab.kernel.accessAllowed ? 'block' : 'none';\n",
              "\n",
              "        async function convertToInteractive(key) {\n",
              "          const element = document.querySelector('#df-a6b0fa23-d984-4e90-9b78-862da5ca1814');\n",
              "          const dataTable =\n",
              "            await google.colab.kernel.invokeFunction('convertToInteractive',\n",
              "                                                     [key], {});\n",
              "          if (!dataTable) return;\n",
              "\n",
              "          const docLinkHtml = 'Like what you see? Visit the ' +\n",
              "            '<a target=\"_blank\" href=https://colab.research.google.com/notebooks/data_table.ipynb>data table notebook</a>'\n",
              "            + ' to learn more about interactive tables.';\n",
              "          element.innerHTML = '';\n",
              "          dataTable['output_type'] = 'display_data';\n",
              "          await google.colab.output.renderOutput(dataTable, element);\n",
              "          const docLink = document.createElement('div');\n",
              "          docLink.innerHTML = docLinkHtml;\n",
              "          element.appendChild(docLink);\n",
              "        }\n",
              "      </script>\n",
              "    </div>\n",
              "  </div>\n",
              "  "
            ]
          },
          "metadata": {},
          "execution_count": 2
        }
      ]
    },
    {
      "cell_type": "markdown",
      "metadata": {
        "id": "obIRRRtTgdpu"
      },
      "source": [
        "Let's focus on just two features for now: winter rainfall (**win**) and average summer temperature (**summer**). Let's plot the training data, using a color gradient to represent the target (**log(price)**). Notice how we can customize the color gradient using the `cmap=` argument. A list of the available colormaps can be found [here](https://matplotlib.org/examples/color/colormaps_reference.html)."
      ]
    },
    {
      "cell_type": "code",
      "metadata": {
        "id": "2LpV-ttBgdpw",
        "colab": {
          "base_uri": "https://localhost:8080/",
          "height": 270
        },
        "outputId": "0b21eb09-39d2-4bae-b6d7-20dcb5462599"
      },
      "source": [
        "import matplotlib.cm as cm\n",
        "\n",
        "bordeaux_train.plot.scatter(x=\"win\", y=\"summer\", c=\"log(price)\", \n",
        "                            cmap=cm.YlOrRd)"
      ],
      "execution_count": null,
      "outputs": [
        {
          "output_type": "execute_result",
          "data": {
            "text/plain": [
              "<matplotlib.axes._subplots.AxesSubplot at 0x7fa97d55fa50>"
            ]
          },
          "metadata": {},
          "execution_count": 3
        },
        {
          "output_type": "display_data",
          "data": {
            "text/plain": [
              "<Figure size 432x288 with 2 Axes>"
            ],
            "image/png": "[encoded data removed]"
          },
          "metadata": {
            "needs_background": "light"
          }
        }
      ]
    },
    {
      "cell_type": "markdown",
      "metadata": {
        "id": "Rr_2sHvrgdpz"
      },
      "source": [
        "Notice how wines that are close on this scatterplot are of similar quality. This insight is the basis of the $k$-nearest neighbors algorithm for predicting wine quality. Suppose that we want to predict the quality of the 1986 vintage, represented by a blue star in the plot below. \n",
        "\n",
        "![](https://github.com/dlsun/pods/blob/master/05-Regression-Models/regression_neighbors.png?raw=1)\n",
        "\n",
        "The $k=5$ points that are closest to this point in feature space are indicated by dotted lines. We can average the qualities of thse wines to obtain our prediction. All 5 of these points have a quality less than 3.0, so the 1986 vintage is also predicted to be of low quality.\n",
        "\n",
        "The $k$-nearest neighbors regression algorithm can be summarized as follows:\n",
        "\n",
        "1. Determine the $k$ closest points in the training data to the new point that you want to predict for, based on some distance metric on the features.\n",
        "2. The predicted label of the new point is the mean (or median) of the labels of the $k$ closest points.\n",
        "\n",
        "Let's implement this in code. First, we extract the training data and scale the features:"
      ]
    },
    {
      "cell_type": "code",
      "metadata": {
        "id": "1LMYQFf7gdp0"
      },
      "source": [
        "X_train = bordeaux_train[[\"win\", \"summer\"]]\n",
        "y_train = bordeaux_train[\"log(price)\"]\n",
        "\n",
        "# Standardize the features.\n",
        "X_train_mean = X_train.mean()\n",
        "X_train_sd = X_train.std()\n",
        "X_train_st = (X_train - X_train_mean) / X_train_sd"
      ],
      "execution_count": null,
      "outputs": []
    },
    {
      "cell_type": "markdown",
      "metadata": {
        "id": "yp1jBJqNgdp4"
      },
      "source": [
        "Now, we get the features for the new observation (i.e., the 1986 vintage), standardizing it in the same way."
      ]
    },
    {
      "cell_type": "code",
      "metadata": {
        "id": "Kt0eaZ3Cgdp6",
        "colab": {
          "base_uri": "https://localhost:8080/"
        },
        "outputId": "e048026e-5133-47a0-c4b4-1072c10930fb"
      },
      "source": [
        "x_new = bordeaux_test.loc[1986, [\"win\", \"summer\"]]\n",
        "\n",
        "x_new_st = (x_new - X_train_mean) / X_train_sd\n",
        "x_new_st"
      ],
      "execution_count": null,
      "outputs": [
        {
          "output_type": "execute_result",
          "data": {
            "text/plain": [
              "win      -0.351900\n",
              "summer   -0.261262\n",
              "dtype: float64"
            ]
          },
          "metadata": {},
          "execution_count": 5
        }
      ]
    },
    {
      "cell_type": "markdown",
      "metadata": {
        "id": "MRheuLl-gdp-"
      },
      "source": [
        "Now we calculate the (Euclidean) distances between the 1986 vintage and the vintages in the training data."
      ]
    },
    {
      "cell_type": "code",
      "metadata": {
        "id": "OJK7pzwmgdp_",
        "colab": {
          "base_uri": "https://localhost:8080/"
        },
        "outputId": "fe4a09ce-7ba3-4ff0-a263-e08b2833c32e"
      },
      "source": [
        "dists = np.sqrt(((X_train_st - x_new_st) ** 2).sum(axis=1))\n",
        "dists"
      ],
      "execution_count": null,
      "outputs": [
        {
          "output_type": "execute_result",
          "data": {
            "text/plain": [
              "year\n",
              "1952    1.259860\n",
              "1953    1.159726\n",
              "1955    1.314727\n",
              "1957    1.149883\n",
              "1958    0.212597\n",
              "1959    1.936933\n",
              "1960    1.557535\n",
              "1961    2.575503\n",
              "1962    1.038478\n",
              "1963    0.983970\n",
              "1964    1.976971\n",
              "1965    1.412851\n",
              "1966    2.007525\n",
              "1967    1.180230\n",
              "1968    0.395207\n",
              "1969    0.320488\n",
              "1970    0.765065\n",
              "1971    0.772366\n",
              "1972    2.004492\n",
              "1973    1.898753\n",
              "1974    0.085248\n",
              "1975    0.922736\n",
              "1976    2.288442\n",
              "1977    2.269387\n",
              "1978    1.729248\n",
              "1979    1.203287\n",
              "1980    0.474508\n",
              "dtype: float64"
            ]
          },
          "metadata": {},
          "execution_count": 6
        }
      ]
    },
    {
      "cell_type": "markdown",
      "metadata": {
        "id": "AOn2bnnZgdqC"
      },
      "source": [
        "Now, we sort the distances. The first 5 of these are the nearest neighbors. To get the year of these nearest neighbors, we get the index."
      ]
    },
    {
      "cell_type": "code",
      "metadata": {
        "id": "FHCsio0NgdqE",
        "colab": {
          "base_uri": "https://localhost:8080/"
        },
        "outputId": "f92e457a-0a73-4168-922a-1e9da91c7a8d"
      },
      "source": [
        "i_nearest = dists.sort_values().index[:5]\n",
        "i_nearest"
      ],
      "execution_count": null,
      "outputs": [
        {
          "output_type": "execute_result",
          "data": {
            "text/plain": [
              "Int64Index([1974, 1958, 1969, 1968, 1980], dtype='int64', name='year')"
            ]
          },
          "metadata": {},
          "execution_count": 7
        }
      ]
    },
    {
      "cell_type": "markdown",
      "metadata": {
        "id": "cvLMrn-hgdqG"
      },
      "source": [
        "We can look up these years in the training data."
      ]
    },
    {
      "cell_type": "code",
      "metadata": {
        "id": "x2GRYEEsgdqH",
        "colab": {
          "base_uri": "https://localhost:8080/",
          "height": 237
        },
        "outputId": "8e720e14-082a-465a-e8ca-a38fb1d25b80"
      },
      "source": [
        "bordeaux_train.loc[i_nearest]"
      ],
      "execution_count": null,
      "outputs": [
        {
          "output_type": "execute_result",
          "data": {
            "text/plain": [
              "      price  summer  har   sep  win  age  log(price)\n",
              "year                                                \n",
              "1974   11.0    16.3  184  16.2  574   18    2.397895\n",
              "1958   18.0    16.4  187  19.1  582   34    2.890372\n",
              "1969   12.0    16.5  244  16.6  575   23    2.484907\n",
              "1968   11.0    16.2  292  16.4  610   24    2.397895\n",
              "1980   14.0    16.0   74  18.4  578   12    2.639057"
            ],
            "text/html": [
              "\n",
              "  <div id=\"df-1e100b48-121e-4ea5-be1e-f3ab982fd871\">\n",
              "    <div class=\"colab-df-container\">\n",
              "      <div>\n",
              "<style scoped>\n",
              "    .dataframe tbody tr th:only-of-type {\n",
              "        vertical-align: middle;\n",
              "    }\n",
              "\n",
              "    .dataframe tbody tr th {\n",
              "        vertical-align: top;\n",
              "    }\n",
              "\n",
              "    .dataframe thead th {\n",
              "        text-align: right;\n",
              "    }\n",
              "</style>\n",
              "<table border=\"1\" class=\"dataframe\">\n",
              "  <thead>\n",
              "    <tr style=\"text-align: right;\">\n",
              "      <th></th>\n",
              "      <th>price</th>\n",
              "      <th>summer</th>\n",
              "      <th>har</th>\n",
              "      <th>sep</th>\n",
              "      <th>win</th>\n",
              "      <th>age</th>\n",
              "      <th>log(price)</th>\n",
              "    </tr>\n",
              "    <tr>\n",
              "      <th>year</th>\n",
              "      <th></th>\n",
              "      <th></th>\n",
              "      <th></th>\n",
              "      <th></th>\n",
              "      <th></th>\n",
              "      <th></th>\n",
              "      <th></th>\n",
              "    </tr>\n",
              "  </thead>\n",
              "  <tbody>\n",
              "    <tr>\n",
              "      <th>1974</th>\n",
              "      <td>11.0</td>\n",
              "      <td>16.3</td>\n",
              "      <td>184</td>\n",
              "      <td>16.2</td>\n",
              "      <td>574</td>\n",
              "      <td>18</td>\n",
              "      <td>2.397895</td>\n",
              "    </tr>\n",
              "    <tr>\n",
              "      <th>1958</th>\n",
              "      <td>18.0</td>\n",
              "      <td>16.4</td>\n",
              "      <td>187</td>\n",
              "      <td>19.1</td>\n",
              "      <td>582</td>\n",
              "      <td>34</td>\n",
              "      <td>2.890372</td>\n",
              "    </tr>\n",
              "    <tr>\n",
              "      <th>1969</th>\n",
              "      <td>12.0</td>\n",
              "      <td>16.5</td>\n",
              "      <td>244</td>\n",
              "      <td>16.6</td>\n",
              "      <td>575</td>\n",
              "      <td>23</td>\n",
              "      <td>2.484907</td>\n",
              "    </tr>\n",
              "    <tr>\n",
              "      <th>1968</th>\n",
              "      <td>11.0</td>\n",
              "      <td>16.2</td>\n",
              "      <td>292</td>\n",
              "      <td>16.4</td>\n",
              "      <td>610</td>\n",
              "      <td>24</td>\n",
              "      <td>2.397895</td>\n",
              "    </tr>\n",
              "    <tr>\n",
              "      <th>1980</th>\n",
              "      <td>14.0</td>\n",
              "      <td>16.0</td>\n",
              "      <td>74</td>\n",
              "      <td>18.4</td>\n",
              "      <td>578</td>\n",
              "      <td>12</td>\n",
              "      <td>2.639057</td>\n",
              "    </tr>\n",
              "  </tbody>\n",
              "</table>\n",
              "</div>\n",
              "      <button class=\"colab-df-convert\" onclick=\"convertToInteractive('df-1e100b48-121e-4ea5-be1e-f3ab982fd871')\"\n",
              "              title=\"Convert this dataframe to an interactive table.\"\n",
              "              style=\"display:none;\">\n",
              "        \n",
              "  <svg xmlns=\"http://www.w3.org/2000/svg\" height=\"24px\"viewBox=\"0 0 24 24\"\n",
              "       width=\"24px\">\n",
              "    <path d=\"M0 0h24v24H0V0z\" fill=\"none\"/>\n",
              "    <path d=\"M18.56 5.44l.94 2.06.94-2.06 2.06-.94-2.06-.94-.94-2.06-.94 2.06-2.06.94zm-11 1L8.5 8.5l.94-2.06 2.06-.94-2.06-.94L8.5 2.5l-.94 2.06-2.06.94zm10 10l.94 2.06.94-2.06 2.06-.94-2.06-.94-.94-2.06-.94 2.06-2.06.94z\"/><path d=\"M17.41 7.96l-1.37-1.37c-.4-.4-.92-.59-1.43-.59-.52 0-1.04.2-1.43.59L10.3 9.45l-7.72 7.72c-.78.78-.78 2.05 0 2.83L4 21.41c.39.39.9.59 1.41.59.51 0 1.02-.2 1.41-.59l7.78-7.78 2.81-2.81c.8-.78.8-2.07 0-2.86zM5.41 20L4 18.59l7.72-7.72 1.47 1.35L5.41 20z\"/>\n",
              "  </svg>\n",
              "      </button>\n",
              "      \n",
              "  <style>\n",
              "    .colab-df-container {\n",
              "      display:flex;\n",
              "      flex-wrap:wrap;\n",
              "      gap: 12px;\n",
              "    }\n",
              "\n",
              "    .colab-df-convert {\n",
              "      background-color: #E8F0FE;\n",
              "      border: none;\n",
              "      border-radius: 50%;\n",
              "      cursor: pointer;\n",
              "      display: none;\n",
              "      fill: #1967D2;\n",
              "      height: 32px;\n",
              "      padding: 0 0 0 0;\n",
              "      width: 32px;\n",
              "    }\n",
              "\n",
              "    .colab-df-convert:hover {\n",
              "      background-color: #E2EBFA;\n",
              "      box-shadow: 0px 1px 2px rgba(60, 64, 67, 0.3), 0px 1px 3px 1px rgba(60, 64, 67, 0.15);\n",
              "      fill: #174EA6;\n",
              "    }\n",
              "\n",
              "    [theme=dark] .colab-df-convert {\n",
              "      background-color: #3B4455;\n",
              "      fill: #D2E3FC;\n",
              "    }\n",
              "\n",
              "    [theme=dark] .colab-df-convert:hover {\n",
              "      background-color: #434B5C;\n",
              "      box-shadow: 0px 1px 3px 1px rgba(0, 0, 0, 0.15);\n",
              "      filter: drop-shadow(0px 1px 2px rgba(0, 0, 0, 0.3));\n",
              "      fill: #FFFFFF;\n",
              "    }\n",
              "  </style>\n",
              "\n",
              "      <script>\n",
              "        const buttonEl =\n",
              "          document.querySelector('#df-1e100b48-121e-4ea5-be1e-f3ab982fd871 button.colab-df-convert');\n",
              "        buttonEl.style.display =\n",
              "          google.colab.kernel.accessAllowed ? 'block' : 'none';\n",
              "\n",
              "        async function convertToInteractive(key) {\n",
              "          const element = document.querySelector('#df-1e100b48-121e-4ea5-be1e-f3ab982fd871');\n",
              "          const dataTable =\n",
              "            await google.colab.kernel.invokeFunction('convertToInteractive',\n",
              "                                                     [key], {});\n",
              "          if (!dataTable) return;\n",
              "\n",
              "          const docLinkHtml = 'Like what you see? Visit the ' +\n",
              "            '<a target=\"_blank\" href=https://colab.research.google.com/notebooks/data_table.ipynb>data table notebook</a>'\n",
              "            + ' to learn more about interactive tables.';\n",
              "          element.innerHTML = '';\n",
              "          dataTable['output_type'] = 'display_data';\n",
              "          await google.colab.output.renderOutput(dataTable, element);\n",
              "          const docLink = document.createElement('div');\n",
              "          docLink.innerHTML = docLinkHtml;\n",
              "          element.appendChild(docLink);\n",
              "        }\n",
              "      </script>\n",
              "    </div>\n",
              "  </div>\n",
              "  "
            ]
          },
          "metadata": {},
          "execution_count": 8
        }
      ]
    },
    {
      "cell_type": "markdown",
      "metadata": {
        "id": "xzpFu5_GgdqK"
      },
      "source": [
        "To make a prediction for the price of the 1986 vintage, we average the sale prices of these 5-nearest neighbors."
      ]
    },
    {
      "cell_type": "code",
      "metadata": {
        "id": "TfnayFCmgdqM",
        "colab": {
          "base_uri": "https://localhost:8080/"
        },
        "outputId": "fbcfeb34-0708-4cc1-f8eb-d911c1031aaf"
      },
      "source": [
        "y_train.loc[i_nearest].mean()"
      ],
      "execution_count": null,
      "outputs": [
        {
          "output_type": "execute_result",
          "data": {
            "text/plain": [
              "2.562025256579233"
            ]
          },
          "metadata": {},
          "execution_count": 9
        }
      ]
    },
    {
      "cell_type": "markdown",
      "metadata": {
        "id": "e2dNakSEgdqP"
      },
      "source": [
        "So the model predicts that the quality of the 1986 is about 2.56, which is well below the average quality.\n",
        "\n",
        "Of course, the model above only had two features so it was easy to visualize the \"nearest neighbors\" on the scatterplot. The magic of $k$-nearest neighbors is that it still works when there are more features and the data is not possible to visualize."
      ]
    },
    {
      "cell_type": "markdown",
      "metadata": {
        "id": "pDVZHOz8gdqQ"
      },
      "source": [
        "## K-Nearest Neighbors in scikit-learn\n",
        "\n",
        "Now let's see how to implement $k$-nearest neighbors in scikit-learn. Recall from the previous lesson that all scikit-learn models follow the three-step pattern:\n",
        "\n",
        "1. Declare the model.\n",
        "2. Fit the model to training data.\n",
        "3. Use the model to predict on test data.\n",
        "\n",
        "To fit a $k$-nearest neighbors model instead of a linear regression model, we only need to modify the first step. Instead of declaring a model of type `LinearRegression`, we define a model of type `KNeighborsRegressor`, specifying the value of $k$ as one of the parameters. Because `KNeighborsRegressor` works with distances, it is a good idea to scale the features before passing the features into the model. (Refer back to Chapter 3 for a full explanation.)"
      ]
    },
    {
      "cell_type": "code",
      "metadata": {
        "id": "-Z8RozqFgdqQ",
        "colab": {
          "base_uri": "https://localhost:8080/"
        },
        "outputId": "b9d8e9fa-79d4-4f05-a51d-1ea06521b456"
      },
      "source": [
        "from sklearn.preprocessing import StandardScaler\n",
        "from sklearn.neighbors import KNeighborsRegressor\n",
        "\n",
        "# Standardize the training and test data\n",
        "scaler = StandardScaler()\n",
        "X_train_st = scaler.fit_transform(X_train)\n",
        "X_new_st = scaler.transform(pd.DataFrame([x_new])) # needs to be a DataFrame\n",
        "y_train = bordeaux_train[\"log(price)\"]\n",
        "\n",
        "# Fit k-nearest neighbors\n",
        "model = KNeighborsRegressor(n_neighbors=5)\n",
        "model.fit(X=X_train_st, y=y_train)\n",
        "model.predict(X=X_new_st)"
      ],
      "execution_count": null,
      "outputs": [
        {
          "output_type": "execute_result",
          "data": {
            "text/plain": [
              "array([2.56202526])"
            ]
          },
          "metadata": {},
          "execution_count": 10
        }
      ]
    },
    {
      "cell_type": "markdown",
      "metadata": {
        "id": "otJtjyw1gdqT"
      },
      "source": [
        "This is the same predicted value that we got by implementing $k$-nearest neighbors manually."
      ]
    },
    {
      "cell_type": "markdown",
      "metadata": {
        "id": "VNrdiBTaggrM"
      },
      "source": [
        "In the code above, we had to be careful to standardize the training data and the test data in exactly the same way before fitting the $k$-nearest neighbors model. Most machine learning models have many more preprocessing steps. As the preprocessing gets more complex, it is easy to accidentally omit one of the preprocessing steps. For this reason, scikit-learn provides a _Pipeline_ object, which simply chains together a sequence of preprocessing and model building steps. If we call `Pipeline.fit()` or `Pipeline.predict()` on the data, all of the steps will be applied to the data in a consistent manner."
      ]
    },
    {
      "cell_type": "code",
      "metadata": {
        "id": "ZSFA_1MFggjH",
        "colab": {
          "base_uri": "https://localhost:8080/"
        },
        "outputId": "02e48a8c-ce19-43e4-816c-3dfc2b9f78ab"
      },
      "source": [
        "from sklearn.pipeline import make_pipeline\n",
        "\n",
        "pipeline = make_pipeline(\n",
        "          StandardScaler(),\n",
        "          KNeighborsRegressor(n_neighbors=5)\n",
        ")\n",
        "\n",
        "pipeline.fit(X=X_train, y=y_train)\n",
        "pipeline.predict(X=pd.DataFrame([x_new]))"
      ],
      "execution_count": null,
      "outputs": [
        {
          "output_type": "execute_result",
          "data": {
            "text/plain": [
              "array([2.56202526])"
            ]
          },
          "metadata": {},
          "execution_count": 11
        }
      ]
    },
    {
      "cell_type": "markdown",
      "metadata": {
        "id": "aAUqRnbagdqU"
      },
      "source": [
        "## The K-Nearest Neighbors Regression Function\n",
        "\n",
        "A predictive model is simply a function $f$ that maps feature values ${\\bf x}$ to target values $y$. We can visualize $f$ when ${\\bf x}$ consists of just a single feature, such as **age**. In the previous lesson, we saw that $f$ is just a line when the model is linear regression. What does $f$ look like when the model is a $k$-nearest neighbors regressor?\n",
        "\n",
        "First, we extract the training data. There is no need to scale the features in this case because there is only one feature. (The point of scaling is to bring all of the variables to the same scale."
      ]
    },
    {
      "cell_type": "code",
      "metadata": {
        "id": "oLegUnjjgdqV"
      },
      "source": [
        "X_train = bordeaux_train[[\"age\"]]\n",
        "y_train = bordeaux_train[\"log(price)\"]"
      ],
      "execution_count": null,
      "outputs": []
    },
    {
      "cell_type": "markdown",
      "metadata": {
        "id": "seSY9rIhgdqY"
      },
      "source": [
        "Now we fit the $k$-nearest neighbor model as before. We do not need to standardize the feature in this case because there is only one feature. Standardizing is only useful when there are multiple features that we want to bring to the same scale."
      ]
    },
    {
      "cell_type": "code",
      "metadata": {
        "id": "CA7yrXhKgdqZ",
        "colab": {
          "base_uri": "https://localhost:8080/"
        },
        "outputId": "31d690d8-7fcc-4ca4-e174-2accc454d43e"
      },
      "source": [
        "# Fit k-nearest neighbors\n",
        "model = KNeighborsRegressor(n_neighbors=5)\n",
        "model.fit(X=X_train, y=y_train)"
      ],
      "execution_count": null,
      "outputs": [
        {
          "output_type": "execute_result",
          "data": {
            "text/plain": [
              "KNeighborsRegressor()"
            ]
          },
          "metadata": {},
          "execution_count": 13
        }
      ]
    },
    {
      "cell_type": "markdown",
      "metadata": {
        "id": "Tt8S3Mvpgdqe"
      },
      "source": [
        "In order to graph $f$, we need to evaluate the predictive model at a grid of feature values. Since age ranges from 12 to 40 in the training data, we create a grid of ${\\bf x}$ values from 10 to 45, make predictions at these values, and plot these predictions as a curve."
      ]
    },
    {
      "cell_type": "code",
      "metadata": {
        "id": "odZD51z6gdqf",
        "colab": {
          "base_uri": "https://localhost:8080/",
          "height": 297
        },
        "outputId": "fc10f2fd-fb29-4608-b72c-4e805c748bb4"
      },
      "source": [
        "# Define a grid of feature values.\n",
        "X_new = pd.DataFrame()\n",
        "X_new[\"age\"] = np.linspace(10, 45, num=200)\n",
        "\n",
        "# Make predictions at those feature values.\n",
        "y_new_ = pd.Series(\n",
        "    model.predict(X_new),\n",
        "    index=X_new[\"age\"]\n",
        ")\n",
        "\n",
        "# Plot the predictions.\n",
        "bordeaux_train.plot.scatter(x=\"age\", y=\"log(price)\")\n",
        "y_new_.plot.line()"
      ],
      "execution_count": null,
      "outputs": [
        {
          "output_type": "execute_result",
          "data": {
            "text/plain": [
              "<matplotlib.axes._subplots.AxesSubplot at 0x7fa97d437e90>"
            ]
          },
          "metadata": {},
          "execution_count": 14
        },
        {
          "output_type": "display_data",
          "data": {
            "text/plain": [
              "<Figure size 432x288 with 1 Axes>"
            ],
            "image/png": "[encoded data removed]"
          },
          "metadata": {
            "needs_background": "light"
          }
        }
      ]
    },
    {
      "cell_type": "markdown",
      "metadata": {
        "id": "hMkIpaWSgdqi"
      },
      "source": [
        "Unlike the linear regression model, the $k$-nearest neighbor model is piecewise constant. For example, wines more than 37 years old all have the same 5-nearest neighbors, so the prediction is constant in that range."
      ]
    },
    {
      "cell_type": "markdown",
      "metadata": {
        "id": "pY5hYuQQgdqj"
      },
      "source": [
        "# Exercises"
      ]
    },
    {
      "cell_type": "markdown",
      "metadata": {
        "id": "4Ac0WvSvgdqk"
      },
      "source": [
        "1\\. Plot the $k$-nearest neighbors regression function for predicting the quality of a wine from its age for $k=1, 5, 10, 20$. How does the regression function change as $k$ increases?"
      ]
    },
    {
      "cell_type": "code",
      "source": [
        "for k in [1,5,10,20]:\n",
        "  # Fit k-nearest neighbors\n",
        "  model = KNeighborsRegressor(n_neighbors=k)\n",
        "  model.fit(X=X_train, y=y_train)\n",
        "\n",
        "  # Define a grid of feature values.\n",
        "  X_new = pd.DataFrame()\n",
        "  X_new[\"age\"] = np.linspace(10, 45, num=200)\n",
        "\n",
        "  # Make predictions at those feature values.\n",
        "  y_new_ = pd.Series(\n",
        "      model.predict(X_new),\n",
        "      index=X_new[\"age\"]\n",
        "  )\n",
        "\n",
        "  # Plot the predictions.\n",
        "  bordeaux_train.plot.scatter(x=\"age\", y=\"log(price)\")\n",
        "  y_new_.plot.line()"
      ],
      "metadata": {
        "colab": {
          "base_uri": "https://localhost:8080/",
          "height": 1000
        },
        "id": "weTfC1-Suz_s",
        "outputId": "bd3b21b1-4ba5-4ffd-f546-040efb9cc538"
      },
      "execution_count": null,
      "outputs": [
        {
          "output_type": "display_data",
          "data": {
            "text/plain": [
              "<Figure size 432x288 with 1 Axes>"
            ],
            "image/png": "[encoded data removed]"
          },
          "metadata": {
            "needs_background": "light"
          }
        },
        {
          "output_type": "display_data",
          "data": {
            "text/plain": [
              "<Figure size 432x288 with 1 Axes>"
            ],
            "image/png": "[encoded data removed]"
          },
          "metadata": {
            "needs_background": "light"
          }
        },
        {
          "output_type": "display_data",
          "data": {
            "text/plain": [
              "<Figure size 432x288 with 1 Axes>"
            ],
            "image/png": "[encoded data removed]"
          },
          "metadata": {
            "needs_background": "light"
          }
        },
        {
          "output_type": "display_data",
          "data": {
            "text/plain": [
              "<Figure size 432x288 with 1 Axes>"
            ],
            "image/png": "[encoded data removed]"
          },
          "metadata": {
            "needs_background": "light"
          }
        }
      ]
    },
    {
      "cell_type": "markdown",
      "metadata": {
        "id": "ZWTD3k7Ugdql"
      },
      "source": [
        "2\\. Using the Ames housing data set (http://dlsun.github.io/pods/data/AmesHousing.txt ), fit a $k$-nearest neighbors model that predicts the price of a home using square footage, number of bedrooms (**Bedroom AbvGr**), number of full bathrooms (**Full Bath**), and number of half bathrooms (**Half Bath**). Then, use your fitted model to predict the price of a home that is 1500 square feet, with 3 bedrooms, 2 full baths, and 1 half bath."
      ]
    },
    {
      "cell_type": "code",
      "source": [
        "df_ames = pd.read_csv('http://dlsun.github.io/pods/data/AmesHousing.txt',delimiter='\\t')"
      ],
      "metadata": {
        "id": "-u_nHoDgvOnD"
      },
      "execution_count": null,
      "outputs": []
    },
    {
      "cell_type": "code",
      "source": [
        "pipeline = make_pipeline(\n",
        "          StandardScaler(),\n",
        "          KNeighborsRegressor(n_neighbors=5)\n",
        ")\n",
        "\n",
        "X_train = df_ames[['Gr Liv Area','Bedroom AbvGr','Full Bath','Half Bath']]\n",
        "y_train = df_ames['SalePrice']\n",
        "\n",
        "pipeline.fit(X=X_train, y=y_train)"
      ],
      "metadata": {
        "id": "28Z-pi48vaNk",
        "colab": {
          "base_uri": "https://localhost:8080/"
        },
        "outputId": "57c6068e-adc4-441a-c4f1-861c329b77d2"
      },
      "execution_count": null,
      "outputs": [
        {
          "output_type": "execute_result",
          "data": {
            "text/plain": [
              "Pipeline(steps=[('standardscaler', StandardScaler()),\n",
              "                ('kneighborsregressor', KNeighborsRegressor())])"
            ]
          },
          "metadata": {},
          "execution_count": 35
        }
      ]
    },
    {
      "cell_type": "code",
      "source": [
        "data = pd.Series({\n",
        "    'Gr Liv Area':1500,\n",
        "    'Bedroom AbvGr':3,\n",
        "    'Full Bath':2,\n",
        "    'Half Bath':1\n",
        "    })\n",
        "pipeline.predict([data])"
      ],
      "metadata": {
        "colab": {
          "base_uri": "https://localhost:8080/"
        },
        "id": "Yat1t-DqwHf0",
        "outputId": "75bd3187-75e2-4218-a904-b4e93b2018ce"
      },
      "execution_count": null,
      "outputs": [
        {
          "output_type": "stream",
          "name": "stderr",
          "text": [
            "/usr/local/lib/python3.7/dist-packages/sklearn/base.py:451: UserWarning: X does not have valid feature names, but StandardScaler was fitted with feature names\n",
            "  \"X does not have valid feature names, but\"\n"
          ]
        },
        {
          "output_type": "execute_result",
          "data": {
            "text/plain": [
              "array([176480.])"
            ]
          },
          "metadata": {},
          "execution_count": 36
        }
      ]
    },
    {
      "cell_type": "markdown",
      "metadata": {
        "id": "ezyjjnFAgdql"
      },
      "source": [
        "3\\. You would like to predict how much a male diner will tip on a bill of \\\\$40.00 on a Sunday. Build a $k$-nearest neighbors model to answer this question, using the tips data (http://dlsun.github.io/pods/data/tips.csv ) as your training data."
      ]
    },
    {
      "cell_type": "code",
      "source": [
        "df_tips = pd.read_csv('http://dlsun.github.io/pods/data/tips.csv')\n",
        "df_tips.head()"
      ],
      "metadata": {
        "colab": {
          "base_uri": "https://localhost:8080/",
          "height": 206
        },
        "id": "JbUkAMlxzHKx",
        "outputId": "b2e0669e-a0d6-4abb-a775-2a9cb4935b46"
      },
      "execution_count": null,
      "outputs": [
        {
          "output_type": "execute_result",
          "data": {
            "text/plain": [
              "   total_bill   tip     sex smoker  day    time  size\n",
              "0       16.99  1.01  Female     No  Sun  Dinner     2\n",
              "1       10.34  1.66    Male     No  Sun  Dinner     3\n",
              "2       21.01  3.50    Male     No  Sun  Dinner     3\n",
              "3       23.68  3.31    Male     No  Sun  Dinner     2\n",
              "4       24.59  3.61  Female     No  Sun  Dinner     4"
            ],
            "text/html": [
              "\n",
              "  <div id=\"df-1958a6ec-c000-4ece-96e6-860f616413e7\">\n",
              "    <div class=\"colab-df-container\">\n",
              "      <div>\n",
              "<style scoped>\n",
              "    .dataframe tbody tr th:only-of-type {\n",
              "        vertical-align: middle;\n",
              "    }\n",
              "\n",
              "    .dataframe tbody tr th {\n",
              "        vertical-align: top;\n",
              "    }\n",
              "\n",
              "    .dataframe thead th {\n",
              "        text-align: right;\n",
              "    }\n",
              "</style>\n",
              "<table border=\"1\" class=\"dataframe\">\n",
              "  <thead>\n",
              "    <tr style=\"text-align: right;\">\n",
              "      <th></th>\n",
              "      <th>total_bill</th>\n",
              "      <th>tip</th>\n",
              "      <th>sex</th>\n",
              "      <th>smoker</th>\n",
              "      <th>day</th>\n",
              "      <th>time</th>\n",
              "      <th>size</th>\n",
              "    </tr>\n",
              "  </thead>\n",
              "  <tbody>\n",
              "    <tr>\n",
              "      <th>0</th>\n",
              "      <td>16.99</td>\n",
              "      <td>1.01</td>\n",
              "      <td>Female</td>\n",
              "      <td>No</td>\n",
              "      <td>Sun</td>\n",
              "      <td>Dinner</td>\n",
              "      <td>2</td>\n",
              "    </tr>\n",
              "    <tr>\n",
              "      <th>1</th>\n",
              "      <td>10.34</td>\n",
              "      <td>1.66</td>\n",
              "      <td>Male</td>\n",
              "      <td>No</td>\n",
              "      <td>Sun</td>\n",
              "      <td>Dinner</td>\n",
              "      <td>3</td>\n",
              "    </tr>\n",
              "    <tr>\n",
              "      <th>2</th>\n",
              "      <td>21.01</td>\n",
              "      <td>3.50</td>\n",
              "      <td>Male</td>\n",
              "      <td>No</td>\n",
              "      <td>Sun</td>\n",
              "      <td>Dinner</td>\n",
              "      <td>3</td>\n",
              "    </tr>\n",
              "    <tr>\n",
              "      <th>3</th>\n",
              "      <td>23.68</td>\n",
              "      <td>3.31</td>\n",
              "      <td>Male</td>\n",
              "      <td>No</td>\n",
              "      <td>Sun</td>\n",
              "      <td>Dinner</td>\n",
              "      <td>2</td>\n",
              "    </tr>\n",
              "    <tr>\n",
              "      <th>4</th>\n",
              "      <td>24.59</td>\n",
              "      <td>3.61</td>\n",
              "      <td>Female</td>\n",
              "      <td>No</td>\n",
              "      <td>Sun</td>\n",
              "      <td>Dinner</td>\n",
              "      <td>4</td>\n",
              "    </tr>\n",
              "  </tbody>\n",
              "</table>\n",
              "</div>\n",
              "      <button class=\"colab-df-convert\" onclick=\"convertToInteractive('df-1958a6ec-c000-4ece-96e6-860f616413e7')\"\n",
              "              title=\"Convert this dataframe to an interactive table.\"\n",
              "              style=\"display:none;\">\n",
              "        \n",
              "  <svg xmlns=\"http://www.w3.org/2000/svg\" height=\"24px\"viewBox=\"0 0 24 24\"\n",
              "       width=\"24px\">\n",
              "    <path d=\"M0 0h24v24H0V0z\" fill=\"none\"/>\n",
              "    <path d=\"M18.56 5.44l.94 2.06.94-2.06 2.06-.94-2.06-.94-.94-2.06-.94 2.06-2.06.94zm-11 1L8.5 8.5l.94-2.06 2.06-.94-2.06-.94L8.5 2.5l-.94 2.06-2.06.94zm10 10l.94 2.06.94-2.06 2.06-.94-2.06-.94-.94-2.06-.94 2.06-2.06.94z\"/><path d=\"M17.41 7.96l-1.37-1.37c-.4-.4-.92-.59-1.43-.59-.52 0-1.04.2-1.43.59L10.3 9.45l-7.72 7.72c-.78.78-.78 2.05 0 2.83L4 21.41c.39.39.9.59 1.41.59.51 0 1.02-.2 1.41-.59l7.78-7.78 2.81-2.81c.8-.78.8-2.07 0-2.86zM5.41 20L4 18.59l7.72-7.72 1.47 1.35L5.41 20z\"/>\n",
              "  </svg>\n",
              "      </button>\n",
              "      \n",
              "  <style>\n",
              "    .colab-df-container {\n",
              "      display:flex;\n",
              "      flex-wrap:wrap;\n",
              "      gap: 12px;\n",
              "    }\n",
              "\n",
              "    .colab-df-convert {\n",
              "      background-color: #E8F0FE;\n",
              "      border: none;\n",
              "      border-radius: 50%;\n",
              "      cursor: pointer;\n",
              "      display: none;\n",
              "      fill: #1967D2;\n",
              "      height: 32px;\n",
              "      padding: 0 0 0 0;\n",
              "      width: 32px;\n",
              "    }\n",
              "\n",
              "    .colab-df-convert:hover {\n",
              "      background-color: #E2EBFA;\n",
              "      box-shadow: 0px 1px 2px rgba(60, 64, 67, 0.3), 0px 1px 3px 1px rgba(60, 64, 67, 0.15);\n",
              "      fill: #174EA6;\n",
              "    }\n",
              "\n",
              "    [theme=dark] .colab-df-convert {\n",
              "      background-color: #3B4455;\n",
              "      fill: #D2E3FC;\n",
              "    }\n",
              "\n",
              "    [theme=dark] .colab-df-convert:hover {\n",
              "      background-color: #434B5C;\n",
              "      box-shadow: 0px 1px 3px 1px rgba(0, 0, 0, 0.15);\n",
              "      filter: drop-shadow(0px 1px 2px rgba(0, 0, 0, 0.3));\n",
              "      fill: #FFFFFF;\n",
              "    }\n",
              "  </style>\n",
              "\n",
              "      <script>\n",
              "        const buttonEl =\n",
              "          document.querySelector('#df-1958a6ec-c000-4ece-96e6-860f616413e7 button.colab-df-convert');\n",
              "        buttonEl.style.display =\n",
              "          google.colab.kernel.accessAllowed ? 'block' : 'none';\n",
              "\n",
              "        async function convertToInteractive(key) {\n",
              "          const element = document.querySelector('#df-1958a6ec-c000-4ece-96e6-860f616413e7');\n",
              "          const dataTable =\n",
              "            await google.colab.kernel.invokeFunction('convertToInteractive',\n",
              "                                                     [key], {});\n",
              "          if (!dataTable) return;\n",
              "\n",
              "          const docLinkHtml = 'Like what you see? Visit the ' +\n",
              "            '<a target=\"_blank\" href=https://colab.research.google.com/notebooks/data_table.ipynb>data table notebook</a>'\n",
              "            + ' to learn more about interactive tables.';\n",
              "          element.innerHTML = '';\n",
              "          dataTable['output_type'] = 'display_data';\n",
              "          await google.colab.output.renderOutput(dataTable, element);\n",
              "          const docLink = document.createElement('div');\n",
              "          docLink.innerHTML = docLinkHtml;\n",
              "          element.appendChild(docLink);\n",
              "        }\n",
              "      </script>\n",
              "    </div>\n",
              "  </div>\n",
              "  "
            ]
          },
          "metadata": {},
          "execution_count": 29
        }
      ]
    },
    {
      "cell_type": "code",
      "source": [
        "df_tips = pd.get_dummies(df_tips,prefix='dummy',columns=['sex','day'])\n",
        "cols = ['total_bill','size'] + [col for col in df_tips.columns if 'dummy_' in col]\n",
        "cols"
      ],
      "metadata": {
        "colab": {
          "base_uri": "https://localhost:8080/"
        },
        "id": "uNsMDcXdwTfq",
        "outputId": "c25caf39-d7f2-4493-fc06-395027f61434"
      },
      "execution_count": null,
      "outputs": [
        {
          "output_type": "execute_result",
          "data": {
            "text/plain": [
              "['total_bill',\n",
              " 'size',\n",
              " 'dummy_Female',\n",
              " 'dummy_Male',\n",
              " 'dummy_Fri',\n",
              " 'dummy_Sat',\n",
              " 'dummy_Sun',\n",
              " 'dummy_Thur']"
            ]
          },
          "metadata": {},
          "execution_count": 30
        }
      ]
    },
    {
      "cell_type": "code",
      "source": [
        "pipeline = make_pipeline(\n",
        "          StandardScaler(),\n",
        "          KNeighborsRegressor(n_neighbors=5)\n",
        ")\n",
        "\n",
        "X_train = df_tips[cols]\n",
        "y_train = df_tips['tip']\n",
        "\n",
        "pipeline.fit(X=X_train, y=y_train)"
      ],
      "metadata": {
        "id": "z9z5sKIwwSrU",
        "colab": {
          "base_uri": "https://localhost:8080/"
        },
        "outputId": "a8ce1bb9-1414-47a7-e3e3-4720fce8b172"
      },
      "execution_count": null,
      "outputs": [
        {
          "output_type": "execute_result",
          "data": {
            "text/plain": [
              "Pipeline(steps=[('standardscaler', StandardScaler()),\n",
              "                ('kneighborsregressor', KNeighborsRegressor())])"
            ]
          },
          "metadata": {},
          "execution_count": 37
        }
      ]
    },
    {
      "cell_type": "code",
      "source": [
        "data = pd.Series({\n",
        "    'total_bill':40,\n",
        "    'size':1,\n",
        "    'dummy_Female':0,\n",
        "    'dummy_Male':1,\n",
        "    'dummy_Thur':0,\n",
        "    'dummy_Fri':0,\n",
        "    'dummy_Sat':0,\n",
        "    'dummy_Sun':1\n",
        "})\n",
        "pipeline.predict([data])"
      ],
      "metadata": {
        "colab": {
          "base_uri": "https://localhost:8080/"
        },
        "id": "cBZ-6248wn38",
        "outputId": "ffb8bd3b-8375-4056-ff8e-8b0a1f726035"
      },
      "execution_count": null,
      "outputs": [
        {
          "output_type": "stream",
          "name": "stderr",
          "text": [
            "/usr/local/lib/python3.7/dist-packages/sklearn/base.py:451: UserWarning: X does not have valid feature names, but StandardScaler was fitted with feature names\n",
            "  \"X does not have valid feature names, but\"\n"
          ]
        },
        {
          "output_type": "execute_result",
          "data": {
            "text/plain": [
              "array([3.882])"
            ]
          },
          "metadata": {},
          "execution_count": 38
        }
      ]
    },
    {
      "cell_type": "code",
      "source": [
        ""
      ],
      "metadata": {
        "id": "zhd7COWowotv"
      },
      "execution_count": null,
      "outputs": []
    }
  ]
}