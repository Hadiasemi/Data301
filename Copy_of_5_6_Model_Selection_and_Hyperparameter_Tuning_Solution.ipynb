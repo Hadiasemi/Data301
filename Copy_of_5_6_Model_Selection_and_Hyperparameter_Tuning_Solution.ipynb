{
  "nbformat": 4,
  "nbformat_minor": 0,
  "metadata": {
    "kernelspec": {
      "display_name": "Python 3",
      "language": "python",
      "name": "python3"
    },
    "language_info": {
      "codemirror_mode": {
        "name": "ipython",
        "version": 3
      },
      "file_extension": ".py",
      "mimetype": "text/x-python",
      "name": "python",
      "nbconvert_exporter": "python",
      "pygments_lexer": "ipython3",
      "version": "3.7.0"
    },
    "colab": {
      "name": "Copy of 5.6 Model Selection and Hyperparameter Tuning Solution",
      "provenance": [],
      "collapsed_sections": [],
      "include_colab_link": true
    }
  },
  "cells": [
    {
      "cell_type": "markdown",
      "metadata": {
        "id": "view-in-github",
        "colab_type": "text"
      },
      "source": [
        "<a href=\"https://colab.research.google.com/github/Hadiasemi/Data301/blob/main/Copy_of_5_6_Model_Selection_and_Hyperparameter_Tuning_Solution.ipynb\" target=\"_parent\"><img src=\"https://colab.research.google.com/assets/colab-badge.svg\" alt=\"Open In Colab\"/></a>"
      ]
    },
    {
      "cell_type": "markdown",
      "metadata": {
        "id": "5GN7RdM8RC5n"
      },
      "source": [
        "# 5.6 Model Selection and Hyperparameter Tuning\n",
        "\n",
        "In this lesson, we will use the tools developed in the previous section to answer two important questions:\n",
        "\n",
        "- Model Selection: Is $k$-nearest neighbors better or is linear regression better? Which features should we include in the model?\n",
        "- Hyperparameter Tuning: How do we choose hyperparameters, such as $k$ in $k$-nearest neighbors?\n",
        "\n",
        "In the previous lesson, we saw how to use cross-validation to estimate how well a model will perform on test data. A natural way to decide between competing models or hyperparameters is to choose the one that minimizes the validation error."
      ]
    },
    {
      "cell_type": "code",
      "metadata": {
        "id": "ZQJ5yKVIRC5q"
      },
      "source": [
        "import pandas as pd\n",
        "import numpy as np\n",
        "\n",
        "# Extract the training data.\n",
        "data_dir = \"https://dlsun.github.io/pods/data/\"\n",
        "bordeaux_df = pd.read_csv(data_dir + \"bordeaux.csv\",\n",
        "                          index_col=\"year\")\n",
        "bordeaux_train = bordeaux_df.loc[:1980].copy()\n",
        "bordeaux_train[\"log(price)\"] = np.log(bordeaux_train[\"price\"])"
      ],
      "execution_count": null,
      "outputs": []
    },
    {
      "cell_type": "markdown",
      "metadata": {
        "id": "8qk080JgRC6G"
      },
      "source": [
        "## Model Selection\n",
        "\n",
        "Suppose we wish to fit a $4$-nearest neighbors model but are not sure which features to include in the model. In the code below, we consider five possible sets of features."
      ]
    },
    {
      "cell_type": "code",
      "metadata": {
        "id": "AGOqOZs4g0ab",
        "colab": {
          "base_uri": "https://localhost:8080/"
        },
        "outputId": "7e20f809-7f3c-4b29-b128-51dec9663c6c"
      },
      "source": [
        "from sklearn.preprocessing import StandardScaler\n",
        "from sklearn.neighbors import KNeighborsRegressor\n",
        "from sklearn.pipeline import make_pipeline\n",
        "from sklearn.model_selection import cross_val_score\n",
        "\n",
        "# calculate estimate of test error for a given feature set\n",
        "def get_cv_error(features):\n",
        "  # define pipeline\n",
        "  pipeline = make_pipeline(\n",
        "      StandardScaler(),\n",
        "      KNeighborsRegressor(n_neighbors=4)\n",
        "  )\n",
        "  # calculate errors from cross-validation\n",
        "  cv_errs = -cross_val_score(pipeline, X=bordeaux_train[features], \n",
        "                             y=bordeaux_train[\"log(price)\"],\n",
        "                             scoring=\"neg_mean_squared_error\", cv=10)\n",
        "  # calculate average of the cross-validation errors\n",
        "  return cv_errs.mean()\n",
        "\n",
        "# calculate and store errors for different feature sets\n",
        "errs = pd.Series()\n",
        "for features in [[\"win\", \"summer\"],\n",
        "                 [\"win\", \"summer\", \"age\"],\n",
        "                 [\"win\", \"summer\", \"age\", \"sep\"],\n",
        "                 [\"win\", \"summer\", \"age\", \"har\"],\n",
        "                 [\"win\", \"summer\", \"age\", \"har\", \"sep\"]]:\n",
        "  errs[str(features)] = get_cv_error(features)\n",
        "\n",
        "errs"
      ],
      "execution_count": null,
      "outputs": [
        {
          "output_type": "stream",
          "name": "stderr",
          "text": [
            "/usr/local/lib/python3.7/dist-packages/ipykernel_launcher.py:21: DeprecationWarning: The default dtype for empty Series will be 'object' instead of 'float64' in a future version. Specify a dtype explicitly to silence this warning.\n"
          ]
        },
        {
          "output_type": "execute_result",
          "data": {
            "text/plain": [
              "['win', 'summer']                         0.229951\n",
              "['win', 'summer', 'age']                  0.240647\n",
              "['win', 'summer', 'age', 'sep']           0.275654\n",
              "['win', 'summer', 'age', 'har']           0.175315\n",
              "['win', 'summer', 'age', 'har', 'sep']    0.254417\n",
              "dtype: float64"
            ]
          },
          "metadata": {},
          "execution_count": 2
        }
      ]
    },
    {
      "cell_type": "markdown",
      "metadata": {
        "id": "XNsS0EJ5mtyN"
      },
      "source": [
        "Notice that more is not necessarily better. The model with the lowest mean-squared error is actually the one with four features:\n",
        "\n",
        "- winter rainfall (**win**)\n",
        "- average summer temperature (**summer**)\n",
        "- age of the wine (**age**)\n",
        "- harvest rainfall (**har**)\n",
        "\n",
        "The mean-squared error actually increases when we add the average September temperature (**sep**) to the model."
      ]
    },
    {
      "cell_type": "markdown",
      "metadata": {
        "id": "v0qX7lJURC6C"
      },
      "source": [
        "## Hyperparameter Tuning\n",
        "\n",
        "Now that we have a good working model, how do we determine the optimal value of the hyperparameter $k$? We can use cross-validation to estimate the test error for different values of $k$ and choose the one with the smallest (test) MSE. This is not hard to do manually."
      ]
    },
    {
      "cell_type": "code",
      "metadata": {
        "id": "22_pXlcHRC6D",
        "colab": {
          "base_uri": "https://localhost:8080/",
          "height": 620
        },
        "outputId": "60a8b659-e628-4d92-9d1b-080b1ad74b53"
      },
      "source": [
        "X_train = bordeaux_train[[\"win\", \"summer\", \"age\", \"har\"]]\n",
        "y_train = bordeaux_train[\"log(price)\"]\n",
        "\n",
        "# calculate estimate of test error for a value of k\n",
        "def get_cv_error(k):\n",
        "  # define pipeline\n",
        "  pipeline = make_pipeline(\n",
        "      StandardScaler(),\n",
        "      KNeighborsRegressor(n_neighbors=k)\n",
        "  ) \n",
        "  # calculate errors from cross-validation\n",
        "  cv_errs = -cross_val_score(pipeline, X=X_train, y=y_train,\n",
        "                             scoring=\"neg_mean_squared_error\", cv=10)\n",
        "  # calculate average of the cross-validation errors\n",
        "  return cv_errs.mean()\n",
        "    \n",
        "ks = pd.Series(range(1, 20))\n",
        "ks.index = range(1, 20)\n",
        "test_errs = ks.apply(get_cv_error)\n",
        "\n",
        "test_errs.plot.line()\n",
        "test_errs.sort_values()"
      ],
      "execution_count": null,
      "outputs": [
        {
          "output_type": "execute_result",
          "data": {
            "text/plain": [
              "3     0.174962\n",
              "4     0.175315\n",
              "5     0.198948\n",
              "9     0.199141\n",
              "8     0.210195\n",
              "2     0.213024\n",
              "10    0.214402\n",
              "6     0.220198\n",
              "7     0.228192\n",
              "11    0.237055\n",
              "12    0.252668\n",
              "1     0.254797\n",
              "13    0.256685\n",
              "14    0.264675\n",
              "15    0.270900\n",
              "16    0.276364\n",
              "17    0.281160\n",
              "18    0.285790\n",
              "19    0.301274\n",
              "dtype: float64"
            ]
          },
          "metadata": {},
          "execution_count": 3
        },
        {
          "output_type": "display_data",
          "data": {
            "text/plain": [
              "<Figure size 432x288 with 1 Axes>"
            ],
            "image/png": "[encoded data removed]"
          },
          "metadata": {
            "needs_background": "light"
          }
        }
      ]
    },
    {
      "cell_type": "markdown",
      "metadata": {
        "id": "yg5lOXKvRC6F"
      },
      "source": [
        "The MSE is minimized at $k = 3$, which suggests that we should use a $3$-nearest neighbors model to predict wine quality."
      ]
    },
    {
      "cell_type": "markdown",
      "metadata": {
        "id": "ydsc27bXpq-8"
      },
      "source": [
        "Scikit-learn provides a utility, `GridSearchCV`, that automates most of the drudgery of trying different hyperparameters. We specify `param_grid=`, which is a dictionary that maps the name of the parameter (e.g., `n_neighbors`) to a list of parameter values to try. The model with the highest score will be stored in `.best_estimator_`. (Note the trailing underscore, which indicates that this attribute is only available after `.fit()` has been called.)\n",
        "\n",
        "For simplicity, let's start by fitting $k$-nearest neighbors to the raw data directly, without standardization."
      ]
    },
    {
      "cell_type": "code",
      "metadata": {
        "id": "GhuaSStDuhMF",
        "colab": {
          "base_uri": "https://localhost:8080/"
        },
        "outputId": "50637929-75e9-44e4-e13d-6ea2cc8c295c"
      },
      "source": [
        "from sklearn.model_selection import GridSearchCV\n",
        "\n",
        "model = KNeighborsRegressor(n_neighbors=5)\n",
        "\n",
        "# GridSearchCV will replace n_neighbors by values in param_grid.\n",
        "grid_search = GridSearchCV(model,\n",
        "                           param_grid={\"n_neighbors\": range(1, 20)},\n",
        "                           scoring=\"neg_mean_squared_error\",\n",
        "                           cv=10)\n",
        "grid_search.fit(X_train, y_train)\n",
        "grid_search.best_estimator_"
      ],
      "execution_count": null,
      "outputs": [
        {
          "output_type": "execute_result",
          "data": {
            "text/plain": [
              "KNeighborsRegressor(n_neighbors=9)"
            ]
          },
          "metadata": {},
          "execution_count": 4
        }
      ]
    },
    {
      "cell_type": "markdown",
      "metadata": {
        "id": "0QnOI_rOvwQ8"
      },
      "source": [
        "More realistically, we will want to standardize the feature variables before passing them into `KNeighborsRegressor`, so we set up a pipeline. Notice that each step in the pipeline is automatically given a name. We will need to refer to this name when using `GridSearchCV`."
      ]
    },
    {
      "cell_type": "code",
      "metadata": {
        "id": "SFzr7YVEqHNT",
        "colab": {
          "base_uri": "https://localhost:8080/"
        },
        "outputId": "25421fd5-bb70-4289-a78c-d02fd4ce5803"
      },
      "source": [
        "# define pipeline\n",
        "pipeline = make_pipeline(\n",
        "    StandardScaler(),\n",
        "    KNeighborsRegressor(n_neighbors=5)\n",
        ") \n",
        "pipeline"
      ],
      "execution_count": null,
      "outputs": [
        {
          "output_type": "execute_result",
          "data": {
            "text/plain": [
              "Pipeline(steps=[('standardscaler', StandardScaler()),\n",
              "                ('kneighborsregressor', KNeighborsRegressor())])"
            ]
          },
          "metadata": {},
          "execution_count": 5
        }
      ]
    },
    {
      "cell_type": "markdown",
      "metadata": {
        "id": "jcEiA_ULwZdK"
      },
      "source": [
        "The parameter that we want to tune is `n_neighbors`, which is embedded inside the `kneighborsregressor` step of the pipeline. In `GridSearchCV`, the convention is to refer to a parameter inside a step of the pipeline as `<step>__<parameter>`. So the parameter we are tuning in this case is `kneighborsregressor__n_neighbors`."
      ]
    },
    {
      "cell_type": "code",
      "metadata": {
        "id": "MLY8AwN4pq3K",
        "colab": {
          "base_uri": "https://localhost:8080/"
        },
        "outputId": "866aa550-4f26-4db7-82d6-3d0c24533a7e"
      },
      "source": [
        "from sklearn.model_selection import GridSearchCV\n",
        "\n",
        "grid_search = GridSearchCV(pipeline,\n",
        "                           param_grid={\n",
        "                               \"kneighborsregressor__n_neighbors\": range(1, 20)\n",
        "                           },\n",
        "                           scoring=\"neg_mean_squared_error\",\n",
        "                           cv=10)\n",
        "grid_search.fit(X_train, y_train)\n",
        "grid_search.best_estimator_"
      ],
      "execution_count": null,
      "outputs": [
        {
          "output_type": "execute_result",
          "data": {
            "text/plain": [
              "Pipeline(steps=[('standardscaler', StandardScaler()),\n",
              "                ('kneighborsregressor', KNeighborsRegressor(n_neighbors=3))])"
            ]
          },
          "metadata": {},
          "execution_count": 6
        }
      ]
    },
    {
      "cell_type": "markdown",
      "metadata": {
        "id": "VcptCHMaxOZQ"
      },
      "source": [
        "Inspecting the scikit-learn model that was deemed best by `GridSearchCV`, we see that a $3$-nearest neighbors model has the lowest MSE, which agrees with what we obtained earlier. It is possible to get a complete summary of what `GridSearchCV` tried, in the attribute `.cv_results_`."
      ]
    },
    {
      "cell_type": "code",
      "metadata": {
        "id": "gP7PE9DaqiUL",
        "colab": {
          "base_uri": "https://localhost:8080/"
        },
        "outputId": "7ace147b-ef82-4296-d4e9-e8c4a7725ef9"
      },
      "source": [
        "grid_search.cv_results_"
      ],
      "execution_count": null,
      "outputs": [
        {
          "output_type": "execute_result",
          "data": {
            "text/plain": [
              "{'mean_fit_time': array([0.01132772, 0.01867335, 0.0098773 , 0.01054583, 0.01318598,\n",
              "        0.01217456, 0.0171905 , 0.01253765, 0.01129906, 0.00877204,\n",
              "        0.00963748, 0.0128675 , 0.00939014, 0.0131963 , 0.01343427,\n",
              "        0.01441777, 0.02074919, 0.01723976, 0.00972297]),\n",
              " 'mean_score_time': array([0.00522866, 0.00930941, 0.00592918, 0.00559411, 0.00549328,\n",
              "        0.0059006 , 0.00931695, 0.00891943, 0.00547988, 0.00505857,\n",
              "        0.00613673, 0.0076833 , 0.00538576, 0.00628588, 0.0066767 ,\n",
              "        0.0063138 , 0.00713258, 0.00859604, 0.00521321]),\n",
              " 'mean_test_score': array([-0.25479653, -0.21302425, -0.17496234, -0.17531468, -0.19894827,\n",
              "        -0.22019751, -0.22819183, -0.21019534, -0.19914083, -0.21440248,\n",
              "        -0.23705541, -0.25266814, -0.25668508, -0.26467454, -0.27090046,\n",
              "        -0.27636402, -0.28116019, -0.28578995, -0.30127447]),\n",
              " 'param_kneighborsregressor__n_neighbors': masked_array(data=[1, 2, 3, 4, 5, 6, 7, 8, 9, 10, 11, 12, 13, 14, 15, 16,\n",
              "                    17, 18, 19],\n",
              "              mask=[False, False, False, False, False, False, False, False,\n",
              "                    False, False, False, False, False, False, False, False,\n",
              "                    False, False, False],\n",
              "        fill_value='?',\n",
              "             dtype=object),\n",
              " 'params': [{'kneighborsregressor__n_neighbors': 1},\n",
              "  {'kneighborsregressor__n_neighbors': 2},\n",
              "  {'kneighborsregressor__n_neighbors': 3},\n",
              "  {'kneighborsregressor__n_neighbors': 4},\n",
              "  {'kneighborsregressor__n_neighbors': 5},\n",
              "  {'kneighborsregressor__n_neighbors': 6},\n",
              "  {'kneighborsregressor__n_neighbors': 7},\n",
              "  {'kneighborsregressor__n_neighbors': 8},\n",
              "  {'kneighborsregressor__n_neighbors': 9},\n",
              "  {'kneighborsregressor__n_neighbors': 10},\n",
              "  {'kneighborsregressor__n_neighbors': 11},\n",
              "  {'kneighborsregressor__n_neighbors': 12},\n",
              "  {'kneighborsregressor__n_neighbors': 13},\n",
              "  {'kneighborsregressor__n_neighbors': 14},\n",
              "  {'kneighborsregressor__n_neighbors': 15},\n",
              "  {'kneighborsregressor__n_neighbors': 16},\n",
              "  {'kneighborsregressor__n_neighbors': 17},\n",
              "  {'kneighborsregressor__n_neighbors': 18},\n",
              "  {'kneighborsregressor__n_neighbors': 19}],\n",
              " 'rank_test_score': array([12,  6,  1,  2,  3,  8,  9,  5,  4,  7, 10, 11, 13, 14, 15, 16, 17,\n",
              "        18, 19], dtype=int32),\n",
              " 'split0_test_score': array([-0.36133217, -0.32601667, -0.12313347, -0.13181094, -0.18712976,\n",
              "        -0.23630326, -0.28472552, -0.25216019, -0.23638274, -0.26939948,\n",
              "        -0.30287058, -0.2919911 , -0.31795004, -0.35717188, -0.37098391,\n",
              "        -0.43140032, -0.48849158, -0.51562095, -0.53615936]),\n",
              " 'split1_test_score': array([-0.2206874 , -0.13121489, -0.22540788, -0.207109  , -0.26750106,\n",
              "        -0.42283971, -0.37674997, -0.37486567, -0.31309079, -0.25688559,\n",
              "        -0.29895368, -0.34196254, -0.34731889, -0.36037418, -0.3496902 ,\n",
              "        -0.38041495, -0.31586927, -0.29193961, -0.32032661]),\n",
              " 'split2_test_score': array([-0.31099932, -0.13973969, -0.1910059 , -0.31153588, -0.30620166,\n",
              "        -0.35038118, -0.37642676, -0.42656408, -0.41217197, -0.53331771,\n",
              "        -0.60131253, -0.61586692, -0.64338326, -0.65515921, -0.71805566,\n",
              "        -0.66898086, -0.69484763, -0.7158247 , -0.74811932]),\n",
              " 'split3_test_score': array([-0.1499397 , -0.01006653, -0.01293803, -0.02038831, -0.01155239,\n",
              "        -0.00554946, -0.01164246, -0.02295594, -0.02833009, -0.04546985,\n",
              "        -0.06366472, -0.08016743, -0.07745776, -0.08176138, -0.1008768 ,\n",
              "        -0.11446502, -0.12428532, -0.13155352, -0.15426805]),\n",
              " 'split4_test_score': array([-0.14580399, -0.15413456, -0.05815739, -0.06727384, -0.09898444,\n",
              "        -0.05315639, -0.07206886, -0.07037512, -0.10058526, -0.14124766,\n",
              "        -0.21391469, -0.20787258, -0.24167304, -0.26531506, -0.30083221,\n",
              "        -0.28993546, -0.30251798, -0.31361467, -0.31962912]),\n",
              " 'split5_test_score': array([-0.19095448, -0.12800717, -0.140065  , -0.15811548, -0.17930357,\n",
              "        -0.14587718, -0.16852237, -0.17262009, -0.19542666, -0.18423567,\n",
              "        -0.20324286, -0.19416346, -0.17579673, -0.18164377, -0.13604537,\n",
              "        -0.14011714, -0.16397727, -0.15045588, -0.15441485]),\n",
              " 'split6_test_score': array([-0.5752098 , -0.24866417, -0.30249212, -0.30462085, -0.41337342,\n",
              "        -0.39322343, -0.43172027, -0.32910006, -0.29754331, -0.27533209,\n",
              "        -0.24669805, -0.29941367, -0.3123532 , -0.34967118, -0.35521708,\n",
              "        -0.39030181, -0.34814127, -0.38605548, -0.42616963]),\n",
              " 'split7_test_score': array([-0.10513651, -0.32776721, -0.03988277, -0.09486475, -0.13013088,\n",
              "        -0.11052109, -0.12795567, -0.13063879, -0.15248262, -0.15226199,\n",
              "        -0.12230802, -0.07587526, -0.08427656, -0.06314365, -0.04765916,\n",
              "        -0.04455491, -0.03961628, -0.04419537, -0.04086946]),\n",
              " 'split8_test_score': array([-0.24064282, -0.28103642, -0.47692131, -0.27592671, -0.3195846 ,\n",
              "        -0.38681276, -0.34326671, -0.26281357, -0.20807696, -0.24255767,\n",
              "        -0.25653325, -0.33220032, -0.29507427, -0.24821043, -0.2404266 ,\n",
              "        -0.21786693, -0.26908096, -0.2546876 , -0.25502731]),\n",
              " 'split9_test_score': array([-0.24725915, -0.38359517, -0.17961956, -0.18150098, -0.07572095,\n",
              "        -0.09731069, -0.08883967, -0.05985986, -0.0473179 , -0.0433171 ,\n",
              "        -0.06105571, -0.08716812, -0.07156704, -0.08429463, -0.08921757,\n",
              "        -0.08560283, -0.06477435, -0.05395177, -0.05776103]),\n",
              " 'std_fit_time': array([0.00406969, 0.01181209, 0.00264389, 0.00500696, 0.00424702,\n",
              "        0.00618397, 0.00911311, 0.00433997, 0.00691921, 0.0005847 ,\n",
              "        0.00089063, 0.00696319, 0.00429185, 0.00451942, 0.0089874 ,\n",
              "        0.01059531, 0.00743161, 0.00786739, 0.00335842]),\n",
              " 'std_score_time': array([0.00114318, 0.00743534, 0.00337369, 0.00215263, 0.00171826,\n",
              "        0.00223433, 0.00570311, 0.00489555, 0.00151389, 0.00031997,\n",
              "        0.00104394, 0.00519036, 0.00284908, 0.00300991, 0.00342551,\n",
              "        0.00256082, 0.00385903, 0.00709666, 0.00248479]),\n",
              " 'std_test_score': array([0.12959247, 0.11174734, 0.13126794, 0.09528054, 0.11928555,\n",
              "        0.14919778, 0.14359665, 0.13324789, 0.11560589, 0.13378082,\n",
              "        0.14737863, 0.15613314, 0.16400004, 0.17064329, 0.1884265 ,\n",
              "        0.18452602, 0.1907681 , 0.2009492 , 0.21061028])}"
            ]
          },
          "metadata": {},
          "execution_count": 7
        }
      ]
    },
    {
      "cell_type": "markdown",
      "metadata": {
        "id": "XD34QhV-xj3X"
      },
      "source": [
        "## Exercises"
      ]
    },
    {
      "cell_type": "markdown",
      "metadata": {
        "id": "lz8ng0psxtHB"
      },
      "source": [
        "1\\. Train a linear regression model on the Ames data (http://dlsun.github.io/pods/data/AmesHousing.txt ) that predicts the sale price using the square footage (**Gr Liv Area**), number of bedrooms (**Bedrooms AbvGr**), and neighborhood (**Neighborhood**). Decide whether it would be valuable to add the number of full bathrooms (**Full Bath**) and/or the number of half bathrooms (**Half Bath**) to this model."
      ]
    },
    {
      "cell_type": "code",
      "source": [
        "df_housing = pd.read_csv('http://dlsun.github.io/pods/data/AmesHousing.txt',delimiter='\\t')\n",
        "df_housing['LogSalePrice'] = np.log(df_housing['SalePrice'])"
      ],
      "metadata": {
        "id": "8DrOlPstBI9V"
      },
      "execution_count": null,
      "outputs": []
    },
    {
      "cell_type": "code",
      "source": [
        "from sklearn.linear_model import LinearRegression\n",
        "from sklearn.compose import make_column_transformer\n",
        "from sklearn.preprocessing import StandardScaler, OneHotEncoder\n",
        "from sklearn.pipeline import make_pipeline\n",
        "\n",
        "# calculate estimate of test error for a given feature set\n",
        "def get_cv_error(features):\n",
        "\n",
        "  ct = make_column_transformer(\n",
        "      (StandardScaler(), features),\n",
        "      (OneHotEncoder(handle_unknown='ignore'), [\"Neighborhood\"]),\n",
        "      remainder=\"drop\"  # all other columns in X will be dropped.\n",
        "  )\n",
        "\n",
        "  pipeline = make_pipeline(\n",
        "    ct,\n",
        "    LinearRegression()\n",
        "  )\n",
        "  \n",
        "  # calculate errors from cross-validation\n",
        "  cv_errs = -cross_val_score(pipeline, X=df_housing[features + ['Neighborhood']],\n",
        "                             y=df_housing[\"LogSalePrice\"],\n",
        "                             scoring=\"neg_mean_squared_error\", cv=10)\n",
        "  \n",
        "  # calculate average of the cross-validation errors\n",
        "  return cv_errs.mean()\n",
        "\n",
        "# calculate and store errors for different feature sets\n",
        "errs = pd.Series()\n",
        "for features in [[\"Gr Liv Area\", \"Bedroom AbvGr\"],\n",
        "                 [\"Gr Liv Area\", \"Bedroom AbvGr\", \"Full Bath\"],\n",
        "                 [\"Gr Liv Area\", \"Bedroom AbvGr\", \"Half Bath\"],\n",
        "                 [\"Gr Liv Area\", \"Bedroom AbvGr\", \"Full Bath\", \"Half Bath\"]]:\n",
        "  errs[str(features)] = get_cv_error(features)\n",
        "\n",
        "errs"
      ],
      "metadata": {
        "colab": {
          "base_uri": "https://localhost:8080/"
        },
        "id": "pK6RAhIkBpvt",
        "outputId": "24b5a4b9-af21-46eb-ee00-81b67aea1f1f"
      },
      "execution_count": null,
      "outputs": [
        {
          "output_type": "stream",
          "name": "stderr",
          "text": [
            "/usr/local/lib/python3.7/dist-packages/ipykernel_launcher.py:29: DeprecationWarning: The default dtype for empty Series will be 'object' instead of 'float64' in a future version. Specify a dtype explicitly to silence this warning.\n"
          ]
        },
        {
          "output_type": "execute_result",
          "data": {
            "text/plain": [
              "['Gr Liv Area', 'Bedroom AbvGr']                              0.041325\n",
              "['Gr Liv Area', 'Bedroom AbvGr', 'Full Bath']                 0.041321\n",
              "['Gr Liv Area', 'Bedroom AbvGr', 'Half Bath']                 0.041277\n",
              "['Gr Liv Area', 'Bedroom AbvGr', 'Full Bath', 'Half Bath']    0.041345\n",
              "dtype: float64"
            ]
          },
          "metadata": {},
          "execution_count": 17
        }
      ]
    },
    {
      "cell_type": "markdown",
      "metadata": {
        "id": "rb3RTJ4LxvTP"
      },
      "source": [
        "2\\. Train a $k$-nearest neighbors model on the tips data (http://dlsun.github.io/pods/data/tips.csv ). Use cross-validation to determine the optimal value of $k$."
      ]
    },
    {
      "cell_type": "code",
      "source": [
        "df_tips = pd.read_csv('http://dlsun.github.io/pods/data/tips.csv')\n",
        "df_tips.head()"
      ],
      "metadata": {
        "colab": {
          "base_uri": "https://localhost:8080/",
          "height": 206
        },
        "id": "Xu5vjfUXJduY",
        "outputId": "56eafb3f-46ec-493c-db19-42f0716c1200"
      },
      "execution_count": null,
      "outputs": [
        {
          "output_type": "execute_result",
          "data": {
            "text/plain": [
              "   total_bill   tip     sex smoker  day    time  size\n",
              "0       16.99  1.01  Female     No  Sun  Dinner     2\n",
              "1       10.34  1.66    Male     No  Sun  Dinner     3\n",
              "2       21.01  3.50    Male     No  Sun  Dinner     3\n",
              "3       23.68  3.31    Male     No  Sun  Dinner     2\n",
              "4       24.59  3.61  Female     No  Sun  Dinner     4"
            ],
            "text/html": [
              "\n",
              "  <div id=\"df-125b68f4-b3eb-483c-a88e-d7bd0dc03a78\">\n",
              "    <div class=\"colab-df-container\">\n",
              "      <div>\n",
              "<style scoped>\n",
              "    .dataframe tbody tr th:only-of-type {\n",
              "        vertical-align: middle;\n",
              "    }\n",
              "\n",
              "    .dataframe tbody tr th {\n",
              "        vertical-align: top;\n",
              "    }\n",
              "\n",
              "    .dataframe thead th {\n",
              "        text-align: right;\n",
              "    }\n",
              "</style>\n",
              "<table border=\"1\" class=\"dataframe\">\n",
              "  <thead>\n",
              "    <tr style=\"text-align: right;\">\n",
              "      <th></th>\n",
              "      <th>total_bill</th>\n",
              "      <th>tip</th>\n",
              "      <th>sex</th>\n",
              "      <th>smoker</th>\n",
              "      <th>day</th>\n",
              "      <th>time</th>\n",
              "      <th>size</th>\n",
              "    </tr>\n",
              "  </thead>\n",
              "  <tbody>\n",
              "    <tr>\n",
              "      <th>0</th>\n",
              "      <td>16.99</td>\n",
              "      <td>1.01</td>\n",
              "      <td>Female</td>\n",
              "      <td>No</td>\n",
              "      <td>Sun</td>\n",
              "      <td>Dinner</td>\n",
              "      <td>2</td>\n",
              "    </tr>\n",
              "    <tr>\n",
              "      <th>1</th>\n",
              "      <td>10.34</td>\n",
              "      <td>1.66</td>\n",
              "      <td>Male</td>\n",
              "      <td>No</td>\n",
              "      <td>Sun</td>\n",
              "      <td>Dinner</td>\n",
              "      <td>3</td>\n",
              "    </tr>\n",
              "    <tr>\n",
              "      <th>2</th>\n",
              "      <td>21.01</td>\n",
              "      <td>3.50</td>\n",
              "      <td>Male</td>\n",
              "      <td>No</td>\n",
              "      <td>Sun</td>\n",
              "      <td>Dinner</td>\n",
              "      <td>3</td>\n",
              "    </tr>\n",
              "    <tr>\n",
              "      <th>3</th>\n",
              "      <td>23.68</td>\n",
              "      <td>3.31</td>\n",
              "      <td>Male</td>\n",
              "      <td>No</td>\n",
              "      <td>Sun</td>\n",
              "      <td>Dinner</td>\n",
              "      <td>2</td>\n",
              "    </tr>\n",
              "    <tr>\n",
              "      <th>4</th>\n",
              "      <td>24.59</td>\n",
              "      <td>3.61</td>\n",
              "      <td>Female</td>\n",
              "      <td>No</td>\n",
              "      <td>Sun</td>\n",
              "      <td>Dinner</td>\n",
              "      <td>4</td>\n",
              "    </tr>\n",
              "  </tbody>\n",
              "</table>\n",
              "</div>\n",
              "      <button class=\"colab-df-convert\" onclick=\"convertToInteractive('df-125b68f4-b3eb-483c-a88e-d7bd0dc03a78')\"\n",
              "              title=\"Convert this dataframe to an interactive table.\"\n",
              "              style=\"display:none;\">\n",
              "        \n",
              "  <svg xmlns=\"http://www.w3.org/2000/svg\" height=\"24px\"viewBox=\"0 0 24 24\"\n",
              "       width=\"24px\">\n",
              "    <path d=\"M0 0h24v24H0V0z\" fill=\"none\"/>\n",
              "    <path d=\"M18.56 5.44l.94 2.06.94-2.06 2.06-.94-2.06-.94-.94-2.06-.94 2.06-2.06.94zm-11 1L8.5 8.5l.94-2.06 2.06-.94-2.06-.94L8.5 2.5l-.94 2.06-2.06.94zm10 10l.94 2.06.94-2.06 2.06-.94-2.06-.94-.94-2.06-.94 2.06-2.06.94z\"/><path d=\"M17.41 7.96l-1.37-1.37c-.4-.4-.92-.59-1.43-.59-.52 0-1.04.2-1.43.59L10.3 9.45l-7.72 7.72c-.78.78-.78 2.05 0 2.83L4 21.41c.39.39.9.59 1.41.59.51 0 1.02-.2 1.41-.59l7.78-7.78 2.81-2.81c.8-.78.8-2.07 0-2.86zM5.41 20L4 18.59l7.72-7.72 1.47 1.35L5.41 20z\"/>\n",
              "  </svg>\n",
              "      </button>\n",
              "      \n",
              "  <style>\n",
              "    .colab-df-container {\n",
              "      display:flex;\n",
              "      flex-wrap:wrap;\n",
              "      gap: 12px;\n",
              "    }\n",
              "\n",
              "    .colab-df-convert {\n",
              "      background-color: #E8F0FE;\n",
              "      border: none;\n",
              "      border-radius: 50%;\n",
              "      cursor: pointer;\n",
              "      display: none;\n",
              "      fill: #1967D2;\n",
              "      height: 32px;\n",
              "      padding: 0 0 0 0;\n",
              "      width: 32px;\n",
              "    }\n",
              "\n",
              "    .colab-df-convert:hover {\n",
              "      background-color: #E2EBFA;\n",
              "      box-shadow: 0px 1px 2px rgba(60, 64, 67, 0.3), 0px 1px 3px 1px rgba(60, 64, 67, 0.15);\n",
              "      fill: #174EA6;\n",
              "    }\n",
              "\n",
              "    [theme=dark] .colab-df-convert {\n",
              "      background-color: #3B4455;\n",
              "      fill: #D2E3FC;\n",
              "    }\n",
              "\n",
              "    [theme=dark] .colab-df-convert:hover {\n",
              "      background-color: #434B5C;\n",
              "      box-shadow: 0px 1px 3px 1px rgba(0, 0, 0, 0.15);\n",
              "      filter: drop-shadow(0px 1px 2px rgba(0, 0, 0, 0.3));\n",
              "      fill: #FFFFFF;\n",
              "    }\n",
              "  </style>\n",
              "\n",
              "      <script>\n",
              "        const buttonEl =\n",
              "          document.querySelector('#df-125b68f4-b3eb-483c-a88e-d7bd0dc03a78 button.colab-df-convert');\n",
              "        buttonEl.style.display =\n",
              "          google.colab.kernel.accessAllowed ? 'block' : 'none';\n",
              "\n",
              "        async function convertToInteractive(key) {\n",
              "          const element = document.querySelector('#df-125b68f4-b3eb-483c-a88e-d7bd0dc03a78');\n",
              "          const dataTable =\n",
              "            await google.colab.kernel.invokeFunction('convertToInteractive',\n",
              "                                                     [key], {});\n",
              "          if (!dataTable) return;\n",
              "\n",
              "          const docLinkHtml = 'Like what you see? Visit the ' +\n",
              "            '<a target=\"_blank\" href=https://colab.research.google.com/notebooks/data_table.ipynb>data table notebook</a>'\n",
              "            + ' to learn more about interactive tables.';\n",
              "          element.innerHTML = '';\n",
              "          dataTable['output_type'] = 'display_data';\n",
              "          await google.colab.output.renderOutput(dataTable, element);\n",
              "          const docLink = document.createElement('div');\n",
              "          docLink.innerHTML = docLinkHtml;\n",
              "          element.appendChild(docLink);\n",
              "        }\n",
              "      </script>\n",
              "    </div>\n",
              "  </div>\n",
              "  "
            ]
          },
          "metadata": {},
          "execution_count": 19
        }
      ]
    },
    {
      "cell_type": "code",
      "source": [
        "ct = make_column_transformer(\n",
        "    (OneHotEncoder(), [\"sex\", 'day']),\n",
        "    (StandardScaler(), ['total_bill','size']),\n",
        "    remainder=\"drop\"\n",
        ")\n",
        "\n",
        "pipeline = make_pipeline(\n",
        "    ct,\n",
        "    KNeighborsRegressor()\n",
        ")\n",
        "\n",
        "X_train = df_tips[['total_bill','size','sex','day']]\n",
        "y_train = df_tips['tip']"
      ],
      "metadata": {
        "id": "0qVGoaPrJeFC"
      },
      "execution_count": null,
      "outputs": []
    },
    {
      "cell_type": "code",
      "source": [
        "grid_search = GridSearchCV(pipeline,\n",
        "                           param_grid={\n",
        "                               \"kneighborsregressor__n_neighbors\": range(1, 20)\n",
        "                           },\n",
        "                           scoring=\"neg_mean_absolute_error\",\n",
        "                           cv=10)\n",
        "grid_search.fit(X_train, y_train)\n",
        "grid_search.best_estimator_"
      ],
      "metadata": {
        "colab": {
          "base_uri": "https://localhost:8080/"
        },
        "id": "OKrnPBt6Jx9e",
        "outputId": "967edd10-2911-4b3e-b362-c31840adef8b"
      },
      "execution_count": null,
      "outputs": [
        {
          "output_type": "execute_result",
          "data": {
            "text/plain": [
              "Pipeline(steps=[('columntransformer',\n",
              "                 ColumnTransformer(transformers=[('onehotencoder',\n",
              "                                                  OneHotEncoder(),\n",
              "                                                  ['sex', 'day']),\n",
              "                                                 ('standardscaler',\n",
              "                                                  StandardScaler(),\n",
              "                                                  ['total_bill', 'size'])])),\n",
              "                ('kneighborsregressor', KNeighborsRegressor(n_neighbors=10))])"
            ]
          },
          "metadata": {},
          "execution_count": 25
        }
      ]
    },
    {
      "cell_type": "code",
      "source": [
        ""
      ],
      "metadata": {
        "id": "6IYu8rcJJsgQ"
      },
      "execution_count": null,
      "outputs": []
    }
  ]
}