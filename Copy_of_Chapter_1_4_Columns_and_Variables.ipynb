{
  "nbformat": 4,
  "nbformat_minor": 0,
  "metadata": {
    "colab": {
      "name": "Copy of Chapter 1.4 Columns and Variables",
      "provenance": [],
      "collapsed_sections": [],
      "include_colab_link": true
    },
    "kernelspec": {
      "name": "python3",
      "display_name": "Python 3"
    }
  },
  "cells": [
    {
      "cell_type": "markdown",
      "metadata": {
        "id": "view-in-github",
        "colab_type": "text"
      },
      "source": [
        "<a href=\"https://colab.research.google.com/github/Hadiasemi/Data301/blob/main/Copy_of_Chapter_1_4_Columns_and_Variables.ipynb\" target=\"_parent\"><img src=\"https://colab.research.google.com/assets/colab-badge.svg\" alt=\"Open In Colab\"/></a>"
      ]
    },
    {
      "cell_type": "markdown",
      "metadata": {
        "id": "jDl1ZPzz08kD"
      },
      "source": [
        "# Columns and Variables\n",
        "\n",
        "Recall that the columns of a tabular data set represent variables. They are the measurements that we make on each observation. \n",
        "\n",
        "As an example, let's consider the variables in the OKCupid data set. This data set does not have a natural index, so we use the default index (0, 1, 2, ...)."
      ]
    },
    {
      "cell_type": "code",
      "metadata": {
        "id": "-5F143Dj7OKh",
        "colab": {
          "base_uri": "https://localhost:8080/",
          "height": 733
        },
        "outputId": "d305b35c-2a5e-432a-dcc9-00d499ffe1dd"
      },
      "source": [
        "import pandas as pd\n",
        "\n",
        "data_dir = \"https://dlsun.github.io/pods/data/\"\n",
        "df_okcupid = pd.read_csv(data_dir + \"okcupid.csv\")\n",
        "df_okcupid.head()"
      ],
      "execution_count": null,
      "outputs": [
        {
          "output_type": "execute_result",
          "data": {
            "text/plain": [
              "   age body_type               diet    drinks      drugs  \\\n",
              "0   31       NaN  mostly vegetarian  socially  sometimes   \n",
              "1   25   average                NaN  socially        NaN   \n",
              "2   43     curvy                NaN    rarely      never   \n",
              "3   31   average                NaN  socially      never   \n",
              "4   34       NaN                NaN  socially        NaN   \n",
              "\n",
              "                           education  \\\n",
              "0  graduated from college/university   \n",
              "1      working on college/university   \n",
              "2     graduated from masters program   \n",
              "3                                NaN   \n",
              "4        graduated from ph.d program   \n",
              "\n",
              "                                              essay0  \\\n",
              "0  75% nice, 45% shy, 80% stubborn, 100% charming...   \n",
              "1  i like trees, spending long periods of time co...   \n",
              "2                                                NaN   \n",
              "3  i am a seeker of laughs ,music ,magick good pe...   \n",
              "4  i've just moved here from london after finishi...   \n",
              "\n",
              "                                              essay1  \\\n",
              "0                         i'm a new nurse. it rules.   \n",
              "1  studying landscape horticulture, beekeeping, g...   \n",
              "2                                                NaN   \n",
              "3  i strive to live life to the fullest and to tr...   \n",
              "4      i'm doing a postdoc in psychology at stanford   \n",
              "\n",
              "                                              essay2  \\\n",
              "0                multiple-choice questions, dancing.   \n",
              "1            wasting time, making breakfast, nesting   \n",
              "2                                                NaN   \n",
              "3  i am good at my magic and weaving a world of i...   \n",
              "4                                                NaN   \n",
              "\n",
              "                                              essay3  ...  \\\n",
              "0                          it depends on the people.  ...   \n",
              "1                           i have a lot of freckles  ...   \n",
              "2                                                NaN  ...   \n",
              "3  i am guessing y'all would notice my jewelry an...  ...   \n",
              "4                                                NaN  ...   \n",
              "\n",
              "                    location                offspring orientation  \\\n",
              "0  san francisco, california          might want kids         gay   \n",
              "1        oakland, california                      NaN         gay   \n",
              "2  san francisco, california                has a kid    straight   \n",
              "3  san francisco, california  doesn&rsquo;t want kids         gay   \n",
              "4  san francisco, california                      NaN         gay   \n",
              "\n",
              "                      pets                         religion sex  \\\n",
              "0               likes cats                         buddhism   f   \n",
              "1                      NaN                              NaN   m   \n",
              "2  likes dogs and has cats      other and laughing about it   f   \n",
              "3                      NaN  other and very serious about it   m   \n",
              "4                      NaN                              NaN   m   \n",
              "\n",
              "                                            sign          smokes  height  \\\n",
              "0       taurus and it&rsquo;s fun to think about              no    67.0   \n",
              "1  sagittarius and it&rsquo;s fun to think about              no    66.0   \n",
              "2          leo and it&rsquo;s fun to think about  trying to quit    65.0   \n",
              "3    capricorn and it&rsquo;s fun to think about  trying to quit    70.0   \n",
              "4             cancer but it doesn&rsquo;t matter             NaN    71.0   \n",
              "\n",
              "   status  \n",
              "0  single  \n",
              "1  single  \n",
              "2  single  \n",
              "3  single  \n",
              "4  single  \n",
              "\n",
              "[5 rows x 31 columns]"
            ],
            "text/html": [
              "\n",
              "  <div id=\"df-86aeea60-fed8-4d8a-8a62-43fbbdca9323\">\n",
              "    <div class=\"colab-df-container\">\n",
              "      <div>\n",
              "<style scoped>\n",
              "    .dataframe tbody tr th:only-of-type {\n",
              "        vertical-align: middle;\n",
              "    }\n",
              "\n",
              "    .dataframe tbody tr th {\n",
              "        vertical-align: top;\n",
              "    }\n",
              "\n",
              "    .dataframe thead th {\n",
              "        text-align: right;\n",
              "    }\n",
              "</style>\n",
              "<table border=\"1\" class=\"dataframe\">\n",
              "  <thead>\n",
              "    <tr style=\"text-align: right;\">\n",
              "      <th></th>\n",
              "      <th>age</th>\n",
              "      <th>body_type</th>\n",
              "      <th>diet</th>\n",
              "      <th>drinks</th>\n",
              "      <th>drugs</th>\n",
              "      <th>education</th>\n",
              "      <th>essay0</th>\n",
              "      <th>essay1</th>\n",
              "      <th>essay2</th>\n",
              "      <th>essay3</th>\n",
              "      <th>...</th>\n",
              "      <th>location</th>\n",
              "      <th>offspring</th>\n",
              "      <th>orientation</th>\n",
              "      <th>pets</th>\n",
              "      <th>religion</th>\n",
              "      <th>sex</th>\n",
              "      <th>sign</th>\n",
              "      <th>smokes</th>\n",
              "      <th>height</th>\n",
              "      <th>status</th>\n",
              "    </tr>\n",
              "  </thead>\n",
              "  <tbody>\n",
              "    <tr>\n",
              "      <th>0</th>\n",
              "      <td>31</td>\n",
              "      <td>NaN</td>\n",
              "      <td>mostly vegetarian</td>\n",
              "      <td>socially</td>\n",
              "      <td>sometimes</td>\n",
              "      <td>graduated from college/university</td>\n",
              "      <td>75% nice, 45% shy, 80% stubborn, 100% charming...</td>\n",
              "      <td>i'm a new nurse. it rules.</td>\n",
              "      <td>multiple-choice questions, dancing.</td>\n",
              "      <td>it depends on the people.</td>\n",
              "      <td>...</td>\n",
              "      <td>san francisco, california</td>\n",
              "      <td>might want kids</td>\n",
              "      <td>gay</td>\n",
              "      <td>likes cats</td>\n",
              "      <td>buddhism</td>\n",
              "      <td>f</td>\n",
              "      <td>taurus and it&amp;rsquo;s fun to think about</td>\n",
              "      <td>no</td>\n",
              "      <td>67.0</td>\n",
              "      <td>single</td>\n",
              "    </tr>\n",
              "    <tr>\n",
              "      <th>1</th>\n",
              "      <td>25</td>\n",
              "      <td>average</td>\n",
              "      <td>NaN</td>\n",
              "      <td>socially</td>\n",
              "      <td>NaN</td>\n",
              "      <td>working on college/university</td>\n",
              "      <td>i like trees, spending long periods of time co...</td>\n",
              "      <td>studying landscape horticulture, beekeeping, g...</td>\n",
              "      <td>wasting time, making breakfast, nesting</td>\n",
              "      <td>i have a lot of freckles</td>\n",
              "      <td>...</td>\n",
              "      <td>oakland, california</td>\n",
              "      <td>NaN</td>\n",
              "      <td>gay</td>\n",
              "      <td>NaN</td>\n",
              "      <td>NaN</td>\n",
              "      <td>m</td>\n",
              "      <td>sagittarius and it&amp;rsquo;s fun to think about</td>\n",
              "      <td>no</td>\n",
              "      <td>66.0</td>\n",
              "      <td>single</td>\n",
              "    </tr>\n",
              "    <tr>\n",
              "      <th>2</th>\n",
              "      <td>43</td>\n",
              "      <td>curvy</td>\n",
              "      <td>NaN</td>\n",
              "      <td>rarely</td>\n",
              "      <td>never</td>\n",
              "      <td>graduated from masters program</td>\n",
              "      <td>NaN</td>\n",
              "      <td>NaN</td>\n",
              "      <td>NaN</td>\n",
              "      <td>NaN</td>\n",
              "      <td>...</td>\n",
              "      <td>san francisco, california</td>\n",
              "      <td>has a kid</td>\n",
              "      <td>straight</td>\n",
              "      <td>likes dogs and has cats</td>\n",
              "      <td>other and laughing about it</td>\n",
              "      <td>f</td>\n",
              "      <td>leo and it&amp;rsquo;s fun to think about</td>\n",
              "      <td>trying to quit</td>\n",
              "      <td>65.0</td>\n",
              "      <td>single</td>\n",
              "    </tr>\n",
              "    <tr>\n",
              "      <th>3</th>\n",
              "      <td>31</td>\n",
              "      <td>average</td>\n",
              "      <td>NaN</td>\n",
              "      <td>socially</td>\n",
              "      <td>never</td>\n",
              "      <td>NaN</td>\n",
              "      <td>i am a seeker of laughs ,music ,magick good pe...</td>\n",
              "      <td>i strive to live life to the fullest and to tr...</td>\n",
              "      <td>i am good at my magic and weaving a world of i...</td>\n",
              "      <td>i am guessing y'all would notice my jewelry an...</td>\n",
              "      <td>...</td>\n",
              "      <td>san francisco, california</td>\n",
              "      <td>doesn&amp;rsquo;t want kids</td>\n",
              "      <td>gay</td>\n",
              "      <td>NaN</td>\n",
              "      <td>other and very serious about it</td>\n",
              "      <td>m</td>\n",
              "      <td>capricorn and it&amp;rsquo;s fun to think about</td>\n",
              "      <td>trying to quit</td>\n",
              "      <td>70.0</td>\n",
              "      <td>single</td>\n",
              "    </tr>\n",
              "    <tr>\n",
              "      <th>4</th>\n",
              "      <td>34</td>\n",
              "      <td>NaN</td>\n",
              "      <td>NaN</td>\n",
              "      <td>socially</td>\n",
              "      <td>NaN</td>\n",
              "      <td>graduated from ph.d program</td>\n",
              "      <td>i've just moved here from london after finishi...</td>\n",
              "      <td>i'm doing a postdoc in psychology at stanford</td>\n",
              "      <td>NaN</td>\n",
              "      <td>NaN</td>\n",
              "      <td>...</td>\n",
              "      <td>san francisco, california</td>\n",
              "      <td>NaN</td>\n",
              "      <td>gay</td>\n",
              "      <td>NaN</td>\n",
              "      <td>NaN</td>\n",
              "      <td>m</td>\n",
              "      <td>cancer but it doesn&amp;rsquo;t matter</td>\n",
              "      <td>NaN</td>\n",
              "      <td>71.0</td>\n",
              "      <td>single</td>\n",
              "    </tr>\n",
              "  </tbody>\n",
              "</table>\n",
              "<p>5 rows × 31 columns</p>\n",
              "</div>\n",
              "      <button class=\"colab-df-convert\" onclick=\"convertToInteractive('df-86aeea60-fed8-4d8a-8a62-43fbbdca9323')\"\n",
              "              title=\"Convert this dataframe to an interactive table.\"\n",
              "              style=\"display:none;\">\n",
              "        \n",
              "  <svg xmlns=\"http://www.w3.org/2000/svg\" height=\"24px\"viewBox=\"0 0 24 24\"\n",
              "       width=\"24px\">\n",
              "    <path d=\"M0 0h24v24H0V0z\" fill=\"none\"/>\n",
              "    <path d=\"M18.56 5.44l.94 2.06.94-2.06 2.06-.94-2.06-.94-.94-2.06-.94 2.06-2.06.94zm-11 1L8.5 8.5l.94-2.06 2.06-.94-2.06-.94L8.5 2.5l-.94 2.06-2.06.94zm10 10l.94 2.06.94-2.06 2.06-.94-2.06-.94-.94-2.06-.94 2.06-2.06.94z\"/><path d=\"M17.41 7.96l-1.37-1.37c-.4-.4-.92-.59-1.43-.59-.52 0-1.04.2-1.43.59L10.3 9.45l-7.72 7.72c-.78.78-.78 2.05 0 2.83L4 21.41c.39.39.9.59 1.41.59.51 0 1.02-.2 1.41-.59l7.78-7.78 2.81-2.81c.8-.78.8-2.07 0-2.86zM5.41 20L4 18.59l7.72-7.72 1.47 1.35L5.41 20z\"/>\n",
              "  </svg>\n",
              "      </button>\n",
              "      \n",
              "  <style>\n",
              "    .colab-df-container {\n",
              "      display:flex;\n",
              "      flex-wrap:wrap;\n",
              "      gap: 12px;\n",
              "    }\n",
              "\n",
              "    .colab-df-convert {\n",
              "      background-color: #E8F0FE;\n",
              "      border: none;\n",
              "      border-radius: 50%;\n",
              "      cursor: pointer;\n",
              "      display: none;\n",
              "      fill: #1967D2;\n",
              "      height: 32px;\n",
              "      padding: 0 0 0 0;\n",
              "      width: 32px;\n",
              "    }\n",
              "\n",
              "    .colab-df-convert:hover {\n",
              "      background-color: #E2EBFA;\n",
              "      box-shadow: 0px 1px 2px rgba(60, 64, 67, 0.3), 0px 1px 3px 1px rgba(60, 64, 67, 0.15);\n",
              "      fill: #174EA6;\n",
              "    }\n",
              "\n",
              "    [theme=dark] .colab-df-convert {\n",
              "      background-color: #3B4455;\n",
              "      fill: #D2E3FC;\n",
              "    }\n",
              "\n",
              "    [theme=dark] .colab-df-convert:hover {\n",
              "      background-color: #434B5C;\n",
              "      box-shadow: 0px 1px 3px 1px rgba(0, 0, 0, 0.15);\n",
              "      filter: drop-shadow(0px 1px 2px rgba(0, 0, 0, 0.3));\n",
              "      fill: #FFFFFF;\n",
              "    }\n",
              "  </style>\n",
              "\n",
              "      <script>\n",
              "        const buttonEl =\n",
              "          document.querySelector('#df-86aeea60-fed8-4d8a-8a62-43fbbdca9323 button.colab-df-convert');\n",
              "        buttonEl.style.display =\n",
              "          google.colab.kernel.accessAllowed ? 'block' : 'none';\n",
              "\n",
              "        async function convertToInteractive(key) {\n",
              "          const element = document.querySelector('#df-86aeea60-fed8-4d8a-8a62-43fbbdca9323');\n",
              "          const dataTable =\n",
              "            await google.colab.kernel.invokeFunction('convertToInteractive',\n",
              "                                                     [key], {});\n",
              "          if (!dataTable) return;\n",
              "\n",
              "          const docLinkHtml = 'Like what you see? Visit the ' +\n",
              "            '<a target=\"_blank\" href=https://colab.research.google.com/notebooks/data_table.ipynb>data table notebook</a>'\n",
              "            + ' to learn more about interactive tables.';\n",
              "          element.innerHTML = '';\n",
              "          dataTable['output_type'] = 'display_data';\n",
              "          await google.colab.output.renderOutput(dataTable, element);\n",
              "          const docLink = document.createElement('div');\n",
              "          docLink.innerHTML = docLinkHtml;\n",
              "          element.appendChild(docLink);\n",
              "        }\n",
              "      </script>\n",
              "    </div>\n",
              "  </div>\n",
              "  "
            ]
          },
          "metadata": {},
          "execution_count": 1
        }
      ]
    },
    {
      "cell_type": "markdown",
      "metadata": {
        "id": "_CScd5-542Ci"
      },
      "source": [
        "## Types of Variables\n",
        "\n",
        "There is a fundamental difference between variables like `age` and `height`, which can be measured on a numeric scale, and variables like `religion` and `orientation`, which cannot be.\n",
        "\n",
        "Variables that can be measured on a numeric scale are called **quantitative variables**. Just because a variable happens to contain numbers does not necessarily make it \"quantitative\". For example, in the Framingham data set, the `SEX` column was coded as 1 for men and 2 for women. However, these numbers are not on any meaningful numerical scale; a woman is not \"twice\" a man.\n",
        "\n",
        "Variables that are not quantitative but take on a limited set of values are called **categorical variables**. For example, the variable `orientation` takes on one of three possible values (gay, straight, or bisexual), so it is a categorical variable. So is the variable `religion`, which takes on a larger, but still limited, set of values. We call each possible value of a categorical variable a \"level\". Levels are usually non-numeric.\n",
        "\n",
        "Some variables do not fit neatly into either classification. For example, the variable `essay1` contains users' answers to the prompt \"What I’m doing with my life\". This variable is obviously not quantitative, but it is not categorical either because every user has a unique answer. In other words, this variable does not take on a limited set of values. We will group such variables into an \"other\" category.\n",
        "\n",
        "Every variable can be classified into one of these three **types**: \n",
        "- quantitative,\n",
        "- categorical, or\n",
        "- other. \n",
        "\n",
        "The type of the variable often dictates how we analyze that variable, as we will see in the next two chapters."
      ]
    },
    {
      "cell_type": "markdown",
      "metadata": {
        "id": "xZlpl3SVELs4"
      },
      "source": [
        "## Selecting Variables\n",
        "\n",
        "Suppose we want to select the `age` column from the `DataFrame` above. There are three ways to do this."
      ]
    },
    {
      "cell_type": "markdown",
      "metadata": {
        "id": "vleFOfFYE82o"
      },
      "source": [
        "1\\.  Use `.loc`, specifying both the rows and columns. (The colon `:` is Python shorthand for \"all\".)"
      ]
    },
    {
      "cell_type": "code",
      "metadata": {
        "id": "tYeLGCqtELgK",
        "colab": {
          "base_uri": "https://localhost:8080/"
        },
        "outputId": "9e7e8044-7030-4971-bda5-4842493a619d"
      },
      "source": [
        "df_okcupid.loc[:, \"age\"]"
      ],
      "execution_count": null,
      "outputs": [
        {
          "output_type": "execute_result",
          "data": {
            "text/plain": [
              "0       31\n",
              "1       25\n",
              "2       43\n",
              "3       31\n",
              "4       34\n",
              "        ..\n",
              "2995    24\n",
              "2996    50\n",
              "2997    31\n",
              "2998    31\n",
              "2999    60\n",
              "Name: age, Length: 3000, dtype: int64"
            ]
          },
          "metadata": {},
          "execution_count": 2
        }
      ]
    },
    {
      "cell_type": "markdown",
      "metadata": {
        "id": "Zw1KEIjeFEbT"
      },
      "source": [
        "2\\. Access the column as you would a key in a `dict`."
      ]
    },
    {
      "cell_type": "code",
      "metadata": {
        "id": "y7UY-QO_FEIT",
        "colab": {
          "base_uri": "https://localhost:8080/"
        },
        "outputId": "5e608a46-3eba-48f2-cd6f-8e1c2bff106b"
      },
      "source": [
        "df_okcupid[\"age\"]"
      ],
      "execution_count": null,
      "outputs": [
        {
          "output_type": "execute_result",
          "data": {
            "text/plain": [
              "0       31\n",
              "1       25\n",
              "2       43\n",
              "3       31\n",
              "4       34\n",
              "        ..\n",
              "2995    24\n",
              "2996    50\n",
              "2997    31\n",
              "2998    31\n",
              "2999    60\n",
              "Name: age, Length: 3000, dtype: int64"
            ]
          },
          "metadata": {},
          "execution_count": 3
        }
      ]
    },
    {
      "cell_type": "markdown",
      "metadata": {
        "id": "kixEblNxFMjs"
      },
      "source": [
        "3\\. Access the column as an attribute of the `DataFrame`."
      ]
    },
    {
      "cell_type": "code",
      "metadata": {
        "id": "Iivsx62yFMYm",
        "colab": {
          "base_uri": "https://localhost:8080/"
        },
        "outputId": "a5be1cb1-1393-4eb5-ad56-39fbfefcc20a"
      },
      "source": [
        "df_okcupid.age"
      ],
      "execution_count": null,
      "outputs": [
        {
          "output_type": "execute_result",
          "data": {
            "text/plain": [
              "0       31\n",
              "1       25\n",
              "2       43\n",
              "3       31\n",
              "4       34\n",
              "        ..\n",
              "2995    24\n",
              "2996    50\n",
              "2997    31\n",
              "2998    31\n",
              "2999    60\n",
              "Name: age, Length: 3000, dtype: int64"
            ]
          },
          "metadata": {},
          "execution_count": 4
        }
      ]
    },
    {
      "cell_type": "markdown",
      "metadata": {
        "id": "MqwcwoI_FZ9p"
      },
      "source": [
        "Method 3 (attribute access) is the most concise. However, it does not work if the variable name contains spaces or special characters, begins with a number, or matches an existing attribute of `DataFrame`. For example, if `df_okcupid` had a column called `head`, `df_okcupid.head` would not return the column because `df_okcupid.head` is already reserved for something else."
      ]
    },
    {
      "cell_type": "markdown",
      "metadata": {
        "id": "TSTNcccjFx_Q"
      },
      "source": [
        "Notice that a `Series` is used here to store a single variable (across multiple observations). In the previous section, we saw that a `Series` can also be used to store a single observation (across multiple columns). To summarize, the `Series` data structure is used to store either a single row or a single column in a tabular data set. In other words, while a `DataFrame` is two-dimensional (containing both rows and columns), a `Series` is one-dimensional."
      ]
    },
    {
      "cell_type": "markdown",
      "metadata": {
        "id": "Oh5YgoA7GrgG"
      },
      "source": [
        "To select multiple columns, you would pass in a _list_ of variable names, instead of a single variable name. For example, to select both `age` and `religion`, either of the two methods below would work (and produce the same result):"
      ]
    },
    {
      "cell_type": "code",
      "metadata": {
        "id": "0WcfjkqGGvfw",
        "colab": {
          "base_uri": "https://localhost:8080/",
          "height": 206
        },
        "outputId": "ce1c3902-1466-465e-afc0-2cde943a370e"
      },
      "source": [
        "# METHOD 1\n",
        "df_okcupid.loc[:, [\"age\", \"religion\"]].head()\n",
        "\n",
        "# METHOD 2\n",
        "df_okcupid[[\"age\", \"religion\"]].head()"
      ],
      "execution_count": null,
      "outputs": [
        {
          "output_type": "execute_result",
          "data": {
            "text/plain": [
              "   age                         religion\n",
              "0   31                         buddhism\n",
              "1   25                              NaN\n",
              "2   43      other and laughing about it\n",
              "3   31  other and very serious about it\n",
              "4   34                              NaN"
            ],
            "text/html": [
              "\n",
              "  <div id=\"df-48b533fe-811f-4efb-a967-9f3ecd73302c\">\n",
              "    <div class=\"colab-df-container\">\n",
              "      <div>\n",
              "<style scoped>\n",
              "    .dataframe tbody tr th:only-of-type {\n",
              "        vertical-align: middle;\n",
              "    }\n",
              "\n",
              "    .dataframe tbody tr th {\n",
              "        vertical-align: top;\n",
              "    }\n",
              "\n",
              "    .dataframe thead th {\n",
              "        text-align: right;\n",
              "    }\n",
              "</style>\n",
              "<table border=\"1\" class=\"dataframe\">\n",
              "  <thead>\n",
              "    <tr style=\"text-align: right;\">\n",
              "      <th></th>\n",
              "      <th>age</th>\n",
              "      <th>religion</th>\n",
              "    </tr>\n",
              "  </thead>\n",
              "  <tbody>\n",
              "    <tr>\n",
              "      <th>0</th>\n",
              "      <td>31</td>\n",
              "      <td>buddhism</td>\n",
              "    </tr>\n",
              "    <tr>\n",
              "      <th>1</th>\n",
              "      <td>25</td>\n",
              "      <td>NaN</td>\n",
              "    </tr>\n",
              "    <tr>\n",
              "      <th>2</th>\n",
              "      <td>43</td>\n",
              "      <td>other and laughing about it</td>\n",
              "    </tr>\n",
              "    <tr>\n",
              "      <th>3</th>\n",
              "      <td>31</td>\n",
              "      <td>other and very serious about it</td>\n",
              "    </tr>\n",
              "    <tr>\n",
              "      <th>4</th>\n",
              "      <td>34</td>\n",
              "      <td>NaN</td>\n",
              "    </tr>\n",
              "  </tbody>\n",
              "</table>\n",
              "</div>\n",
              "      <button class=\"colab-df-convert\" onclick=\"convertToInteractive('df-48b533fe-811f-4efb-a967-9f3ecd73302c')\"\n",
              "              title=\"Convert this dataframe to an interactive table.\"\n",
              "              style=\"display:none;\">\n",
              "        \n",
              "  <svg xmlns=\"http://www.w3.org/2000/svg\" height=\"24px\"viewBox=\"0 0 24 24\"\n",
              "       width=\"24px\">\n",
              "    <path d=\"M0 0h24v24H0V0z\" fill=\"none\"/>\n",
              "    <path d=\"M18.56 5.44l.94 2.06.94-2.06 2.06-.94-2.06-.94-.94-2.06-.94 2.06-2.06.94zm-11 1L8.5 8.5l.94-2.06 2.06-.94-2.06-.94L8.5 2.5l-.94 2.06-2.06.94zm10 10l.94 2.06.94-2.06 2.06-.94-2.06-.94-.94-2.06-.94 2.06-2.06.94z\"/><path d=\"M17.41 7.96l-1.37-1.37c-.4-.4-.92-.59-1.43-.59-.52 0-1.04.2-1.43.59L10.3 9.45l-7.72 7.72c-.78.78-.78 2.05 0 2.83L4 21.41c.39.39.9.59 1.41.59.51 0 1.02-.2 1.41-.59l7.78-7.78 2.81-2.81c.8-.78.8-2.07 0-2.86zM5.41 20L4 18.59l7.72-7.72 1.47 1.35L5.41 20z\"/>\n",
              "  </svg>\n",
              "      </button>\n",
              "      \n",
              "  <style>\n",
              "    .colab-df-container {\n",
              "      display:flex;\n",
              "      flex-wrap:wrap;\n",
              "      gap: 12px;\n",
              "    }\n",
              "\n",
              "    .colab-df-convert {\n",
              "      background-color: #E8F0FE;\n",
              "      border: none;\n",
              "      border-radius: 50%;\n",
              "      cursor: pointer;\n",
              "      display: none;\n",
              "      fill: #1967D2;\n",
              "      height: 32px;\n",
              "      padding: 0 0 0 0;\n",
              "      width: 32px;\n",
              "    }\n",
              "\n",
              "    .colab-df-convert:hover {\n",
              "      background-color: #E2EBFA;\n",
              "      box-shadow: 0px 1px 2px rgba(60, 64, 67, 0.3), 0px 1px 3px 1px rgba(60, 64, 67, 0.15);\n",
              "      fill: #174EA6;\n",
              "    }\n",
              "\n",
              "    [theme=dark] .colab-df-convert {\n",
              "      background-color: #3B4455;\n",
              "      fill: #D2E3FC;\n",
              "    }\n",
              "\n",
              "    [theme=dark] .colab-df-convert:hover {\n",
              "      background-color: #434B5C;\n",
              "      box-shadow: 0px 1px 3px 1px rgba(0, 0, 0, 0.15);\n",
              "      filter: drop-shadow(0px 1px 2px rgba(0, 0, 0, 0.3));\n",
              "      fill: #FFFFFF;\n",
              "    }\n",
              "  </style>\n",
              "\n",
              "      <script>\n",
              "        const buttonEl =\n",
              "          document.querySelector('#df-48b533fe-811f-4efb-a967-9f3ecd73302c button.colab-df-convert');\n",
              "        buttonEl.style.display =\n",
              "          google.colab.kernel.accessAllowed ? 'block' : 'none';\n",
              "\n",
              "        async function convertToInteractive(key) {\n",
              "          const element = document.querySelector('#df-48b533fe-811f-4efb-a967-9f3ecd73302c');\n",
              "          const dataTable =\n",
              "            await google.colab.kernel.invokeFunction('convertToInteractive',\n",
              "                                                     [key], {});\n",
              "          if (!dataTable) return;\n",
              "\n",
              "          const docLinkHtml = 'Like what you see? Visit the ' +\n",
              "            '<a target=\"_blank\" href=https://colab.research.google.com/notebooks/data_table.ipynb>data table notebook</a>'\n",
              "            + ' to learn more about interactive tables.';\n",
              "          element.innerHTML = '';\n",
              "          dataTable['output_type'] = 'display_data';\n",
              "          await google.colab.output.renderOutput(dataTable, element);\n",
              "          const docLink = document.createElement('div');\n",
              "          docLink.innerHTML = docLinkHtml;\n",
              "          element.appendChild(docLink);\n",
              "        }\n",
              "      </script>\n",
              "    </div>\n",
              "  </div>\n",
              "  "
            ]
          },
          "metadata": {},
          "execution_count": 5
        }
      ]
    },
    {
      "cell_type": "markdown",
      "metadata": {
        "id": "jHFdMuKxHQGh"
      },
      "source": [
        "## Type Inference and Casting"
      ]
    },
    {
      "cell_type": "markdown",
      "metadata": {
        "id": "rQzO52mU49V5"
      },
      "source": [
        "\n",
        "`pandas` tries to infer the type of each variable automatically. If every value in a column (except for missing values) is a number, then `pandas` will treat that variable as quantitative. Otherwise, the variable is treated as categorical. \n",
        "\n",
        "To determine the type that Pandas inferred, simply select that variable using the methods above and look for its `dtype`. A `dtype` of `float64` or `int64` indicates that the variable is quantitative.  For example, the `age` variable has a `dtype` of `int64`, so it is quantitative."
      ]
    },
    {
      "cell_type": "code",
      "metadata": {
        "id": "ryMiIIc41cYZ",
        "colab": {
          "base_uri": "https://localhost:8080/"
        },
        "outputId": "887d1962-d1a6-4239-8841-0e631ad2d440"
      },
      "source": [
        "df_okcupid.age"
      ],
      "execution_count": null,
      "outputs": [
        {
          "output_type": "execute_result",
          "data": {
            "text/plain": [
              "0       31\n",
              "1       25\n",
              "2       43\n",
              "3       31\n",
              "4       34\n",
              "        ..\n",
              "2995    24\n",
              "2996    50\n",
              "2997    31\n",
              "2998    31\n",
              "2999    60\n",
              "Name: age, Length: 3000, dtype: int64"
            ]
          },
          "metadata": {},
          "execution_count": 6
        }
      ]
    },
    {
      "cell_type": "markdown",
      "metadata": {
        "id": "Hp9eJzrcHnj8"
      },
      "source": [
        "On the other hand, the `religion` variable has a `dtype` of `object`, so `pandas` will treat it as categorical."
      ]
    },
    {
      "cell_type": "code",
      "metadata": {
        "id": "G3pTtkAYHeLC",
        "colab": {
          "base_uri": "https://localhost:8080/"
        },
        "outputId": "f587968c-372f-4808-efde-86348780ca9d"
      },
      "source": [
        "df_okcupid.religion"
      ],
      "execution_count": null,
      "outputs": [
        {
          "output_type": "execute_result",
          "data": {
            "text/plain": [
              "0                                buddhism\n",
              "1                                     NaN\n",
              "2             other and laughing about it\n",
              "3         other and very serious about it\n",
              "4                                     NaN\n",
              "                      ...                \n",
              "2995                          catholicism\n",
              "2996                          agnosticism\n",
              "2997                                  NaN\n",
              "2998    catholicism and laughing about it\n",
              "2999                                other\n",
              "Name: religion, Length: 3000, dtype: object"
            ]
          },
          "metadata": {},
          "execution_count": 7
        }
      ]
    },
    {
      "cell_type": "markdown",
      "metadata": {
        "id": "iL7_9NjKJWaC"
      },
      "source": [
        "Sometimes it is necessary to convert quantitative variables to categorical variables and vice versa. This can be achieved using the `.astype()` method of a `Series`. For example, to convert `age` to a categorical variable, we simply cast its values to strings."
      ]
    },
    {
      "cell_type": "code",
      "metadata": {
        "id": "RYkKhlT8IFlz",
        "colab": {
          "base_uri": "https://localhost:8080/"
        },
        "outputId": "89eaaab9-2b14-4409-a5b6-5192bb595622"
      },
      "source": [
        "df_okcupid.age.astype(str)"
      ],
      "execution_count": null,
      "outputs": [
        {
          "output_type": "execute_result",
          "data": {
            "text/plain": [
              "0       31\n",
              "1       25\n",
              "2       43\n",
              "3       31\n",
              "4       34\n",
              "        ..\n",
              "2995    24\n",
              "2996    50\n",
              "2997    31\n",
              "2998    31\n",
              "2999    60\n",
              "Name: age, Length: 3000, dtype: object"
            ]
          },
          "metadata": {},
          "execution_count": 8
        }
      ]
    },
    {
      "cell_type": "markdown",
      "metadata": {
        "id": "7PjCiv8KMaep"
      },
      "source": [
        "To save this as a column in the `DataFrame`, we assign it to a column called `age_cat`. (Note that this column does not exist yet! It will be created at the time of assignment.)"
      ]
    },
    {
      "cell_type": "code",
      "metadata": {
        "id": "DYO8Nf7eMaMC",
        "colab": {
          "base_uri": "https://localhost:8080/",
          "height": 733
        },
        "outputId": "6b4d4610-12b7-41cc-a790-c1e61f575138"
      },
      "source": [
        "df_okcupid[\"age_cat\"] = df_okcupid.age.astype(str)\n",
        "\n",
        "# Check that age_cat is a column in this DataFrame\n",
        "df_okcupid.head()"
      ],
      "execution_count": null,
      "outputs": [
        {
          "output_type": "execute_result",
          "data": {
            "text/plain": [
              "   age body_type               diet    drinks      drugs  \\\n",
              "0   31       NaN  mostly vegetarian  socially  sometimes   \n",
              "1   25   average                NaN  socially        NaN   \n",
              "2   43     curvy                NaN    rarely      never   \n",
              "3   31   average                NaN  socially      never   \n",
              "4   34       NaN                NaN  socially        NaN   \n",
              "\n",
              "                           education  \\\n",
              "0  graduated from college/university   \n",
              "1      working on college/university   \n",
              "2     graduated from masters program   \n",
              "3                                NaN   \n",
              "4        graduated from ph.d program   \n",
              "\n",
              "                                              essay0  \\\n",
              "0  75% nice, 45% shy, 80% stubborn, 100% charming...   \n",
              "1  i like trees, spending long periods of time co...   \n",
              "2                                                NaN   \n",
              "3  i am a seeker of laughs ,music ,magick good pe...   \n",
              "4  i've just moved here from london after finishi...   \n",
              "\n",
              "                                              essay1  \\\n",
              "0                         i'm a new nurse. it rules.   \n",
              "1  studying landscape horticulture, beekeeping, g...   \n",
              "2                                                NaN   \n",
              "3  i strive to live life to the fullest and to tr...   \n",
              "4      i'm doing a postdoc in psychology at stanford   \n",
              "\n",
              "                                              essay2  \\\n",
              "0                multiple-choice questions, dancing.   \n",
              "1            wasting time, making breakfast, nesting   \n",
              "2                                                NaN   \n",
              "3  i am good at my magic and weaving a world of i...   \n",
              "4                                                NaN   \n",
              "\n",
              "                                              essay3  ...  \\\n",
              "0                          it depends on the people.  ...   \n",
              "1                           i have a lot of freckles  ...   \n",
              "2                                                NaN  ...   \n",
              "3  i am guessing y'all would notice my jewelry an...  ...   \n",
              "4                                                NaN  ...   \n",
              "\n",
              "                 offspring orientation                     pets  \\\n",
              "0          might want kids         gay               likes cats   \n",
              "1                      NaN         gay                      NaN   \n",
              "2                has a kid    straight  likes dogs and has cats   \n",
              "3  doesn&rsquo;t want kids         gay                      NaN   \n",
              "4                      NaN         gay                      NaN   \n",
              "\n",
              "                          religion sex  \\\n",
              "0                         buddhism   f   \n",
              "1                              NaN   m   \n",
              "2      other and laughing about it   f   \n",
              "3  other and very serious about it   m   \n",
              "4                              NaN   m   \n",
              "\n",
              "                                            sign          smokes height  \\\n",
              "0       taurus and it&rsquo;s fun to think about              no   67.0   \n",
              "1  sagittarius and it&rsquo;s fun to think about              no   66.0   \n",
              "2          leo and it&rsquo;s fun to think about  trying to quit   65.0   \n",
              "3    capricorn and it&rsquo;s fun to think about  trying to quit   70.0   \n",
              "4             cancer but it doesn&rsquo;t matter             NaN   71.0   \n",
              "\n",
              "   status age_cat  \n",
              "0  single      31  \n",
              "1  single      25  \n",
              "2  single      43  \n",
              "3  single      31  \n",
              "4  single      34  \n",
              "\n",
              "[5 rows x 32 columns]"
            ],
            "text/html": [
              "\n",
              "  <div id=\"df-0068c968-99bd-4829-bf27-7213be4530a6\">\n",
              "    <div class=\"colab-df-container\">\n",
              "      <div>\n",
              "<style scoped>\n",
              "    .dataframe tbody tr th:only-of-type {\n",
              "        vertical-align: middle;\n",
              "    }\n",
              "\n",
              "    .dataframe tbody tr th {\n",
              "        vertical-align: top;\n",
              "    }\n",
              "\n",
              "    .dataframe thead th {\n",
              "        text-align: right;\n",
              "    }\n",
              "</style>\n",
              "<table border=\"1\" class=\"dataframe\">\n",
              "  <thead>\n",
              "    <tr style=\"text-align: right;\">\n",
              "      <th></th>\n",
              "      <th>age</th>\n",
              "      <th>body_type</th>\n",
              "      <th>diet</th>\n",
              "      <th>drinks</th>\n",
              "      <th>drugs</th>\n",
              "      <th>education</th>\n",
              "      <th>essay0</th>\n",
              "      <th>essay1</th>\n",
              "      <th>essay2</th>\n",
              "      <th>essay3</th>\n",
              "      <th>...</th>\n",
              "      <th>offspring</th>\n",
              "      <th>orientation</th>\n",
              "      <th>pets</th>\n",
              "      <th>religion</th>\n",
              "      <th>sex</th>\n",
              "      <th>sign</th>\n",
              "      <th>smokes</th>\n",
              "      <th>height</th>\n",
              "      <th>status</th>\n",
              "      <th>age_cat</th>\n",
              "    </tr>\n",
              "  </thead>\n",
              "  <tbody>\n",
              "    <tr>\n",
              "      <th>0</th>\n",
              "      <td>31</td>\n",
              "      <td>NaN</td>\n",
              "      <td>mostly vegetarian</td>\n",
              "      <td>socially</td>\n",
              "      <td>sometimes</td>\n",
              "      <td>graduated from college/university</td>\n",
              "      <td>75% nice, 45% shy, 80% stubborn, 100% charming...</td>\n",
              "      <td>i'm a new nurse. it rules.</td>\n",
              "      <td>multiple-choice questions, dancing.</td>\n",
              "      <td>it depends on the people.</td>\n",
              "      <td>...</td>\n",
              "      <td>might want kids</td>\n",
              "      <td>gay</td>\n",
              "      <td>likes cats</td>\n",
              "      <td>buddhism</td>\n",
              "      <td>f</td>\n",
              "      <td>taurus and it&amp;rsquo;s fun to think about</td>\n",
              "      <td>no</td>\n",
              "      <td>67.0</td>\n",
              "      <td>single</td>\n",
              "      <td>31</td>\n",
              "    </tr>\n",
              "    <tr>\n",
              "      <th>1</th>\n",
              "      <td>25</td>\n",
              "      <td>average</td>\n",
              "      <td>NaN</td>\n",
              "      <td>socially</td>\n",
              "      <td>NaN</td>\n",
              "      <td>working on college/university</td>\n",
              "      <td>i like trees, spending long periods of time co...</td>\n",
              "      <td>studying landscape horticulture, beekeeping, g...</td>\n",
              "      <td>wasting time, making breakfast, nesting</td>\n",
              "      <td>i have a lot of freckles</td>\n",
              "      <td>...</td>\n",
              "      <td>NaN</td>\n",
              "      <td>gay</td>\n",
              "      <td>NaN</td>\n",
              "      <td>NaN</td>\n",
              "      <td>m</td>\n",
              "      <td>sagittarius and it&amp;rsquo;s fun to think about</td>\n",
              "      <td>no</td>\n",
              "      <td>66.0</td>\n",
              "      <td>single</td>\n",
              "      <td>25</td>\n",
              "    </tr>\n",
              "    <tr>\n",
              "      <th>2</th>\n",
              "      <td>43</td>\n",
              "      <td>curvy</td>\n",
              "      <td>NaN</td>\n",
              "      <td>rarely</td>\n",
              "      <td>never</td>\n",
              "      <td>graduated from masters program</td>\n",
              "      <td>NaN</td>\n",
              "      <td>NaN</td>\n",
              "      <td>NaN</td>\n",
              "      <td>NaN</td>\n",
              "      <td>...</td>\n",
              "      <td>has a kid</td>\n",
              "      <td>straight</td>\n",
              "      <td>likes dogs and has cats</td>\n",
              "      <td>other and laughing about it</td>\n",
              "      <td>f</td>\n",
              "      <td>leo and it&amp;rsquo;s fun to think about</td>\n",
              "      <td>trying to quit</td>\n",
              "      <td>65.0</td>\n",
              "      <td>single</td>\n",
              "      <td>43</td>\n",
              "    </tr>\n",
              "    <tr>\n",
              "      <th>3</th>\n",
              "      <td>31</td>\n",
              "      <td>average</td>\n",
              "      <td>NaN</td>\n",
              "      <td>socially</td>\n",
              "      <td>never</td>\n",
              "      <td>NaN</td>\n",
              "      <td>i am a seeker of laughs ,music ,magick good pe...</td>\n",
              "      <td>i strive to live life to the fullest and to tr...</td>\n",
              "      <td>i am good at my magic and weaving a world of i...</td>\n",
              "      <td>i am guessing y'all would notice my jewelry an...</td>\n",
              "      <td>...</td>\n",
              "      <td>doesn&amp;rsquo;t want kids</td>\n",
              "      <td>gay</td>\n",
              "      <td>NaN</td>\n",
              "      <td>other and very serious about it</td>\n",
              "      <td>m</td>\n",
              "      <td>capricorn and it&amp;rsquo;s fun to think about</td>\n",
              "      <td>trying to quit</td>\n",
              "      <td>70.0</td>\n",
              "      <td>single</td>\n",
              "      <td>31</td>\n",
              "    </tr>\n",
              "    <tr>\n",
              "      <th>4</th>\n",
              "      <td>34</td>\n",
              "      <td>NaN</td>\n",
              "      <td>NaN</td>\n",
              "      <td>socially</td>\n",
              "      <td>NaN</td>\n",
              "      <td>graduated from ph.d program</td>\n",
              "      <td>i've just moved here from london after finishi...</td>\n",
              "      <td>i'm doing a postdoc in psychology at stanford</td>\n",
              "      <td>NaN</td>\n",
              "      <td>NaN</td>\n",
              "      <td>...</td>\n",
              "      <td>NaN</td>\n",
              "      <td>gay</td>\n",
              "      <td>NaN</td>\n",
              "      <td>NaN</td>\n",
              "      <td>m</td>\n",
              "      <td>cancer but it doesn&amp;rsquo;t matter</td>\n",
              "      <td>NaN</td>\n",
              "      <td>71.0</td>\n",
              "      <td>single</td>\n",
              "      <td>34</td>\n",
              "    </tr>\n",
              "  </tbody>\n",
              "</table>\n",
              "<p>5 rows × 32 columns</p>\n",
              "</div>\n",
              "      <button class=\"colab-df-convert\" onclick=\"convertToInteractive('df-0068c968-99bd-4829-bf27-7213be4530a6')\"\n",
              "              title=\"Convert this dataframe to an interactive table.\"\n",
              "              style=\"display:none;\">\n",
              "        \n",
              "  <svg xmlns=\"http://www.w3.org/2000/svg\" height=\"24px\"viewBox=\"0 0 24 24\"\n",
              "       width=\"24px\">\n",
              "    <path d=\"M0 0h24v24H0V0z\" fill=\"none\"/>\n",
              "    <path d=\"M18.56 5.44l.94 2.06.94-2.06 2.06-.94-2.06-.94-.94-2.06-.94 2.06-2.06.94zm-11 1L8.5 8.5l.94-2.06 2.06-.94-2.06-.94L8.5 2.5l-.94 2.06-2.06.94zm10 10l.94 2.06.94-2.06 2.06-.94-2.06-.94-.94-2.06-.94 2.06-2.06.94z\"/><path d=\"M17.41 7.96l-1.37-1.37c-.4-.4-.92-.59-1.43-.59-.52 0-1.04.2-1.43.59L10.3 9.45l-7.72 7.72c-.78.78-.78 2.05 0 2.83L4 21.41c.39.39.9.59 1.41.59.51 0 1.02-.2 1.41-.59l7.78-7.78 2.81-2.81c.8-.78.8-2.07 0-2.86zM5.41 20L4 18.59l7.72-7.72 1.47 1.35L5.41 20z\"/>\n",
              "  </svg>\n",
              "      </button>\n",
              "      \n",
              "  <style>\n",
              "    .colab-df-container {\n",
              "      display:flex;\n",
              "      flex-wrap:wrap;\n",
              "      gap: 12px;\n",
              "    }\n",
              "\n",
              "    .colab-df-convert {\n",
              "      background-color: #E8F0FE;\n",
              "      border: none;\n",
              "      border-radius: 50%;\n",
              "      cursor: pointer;\n",
              "      display: none;\n",
              "      fill: #1967D2;\n",
              "      height: 32px;\n",
              "      padding: 0 0 0 0;\n",
              "      width: 32px;\n",
              "    }\n",
              "\n",
              "    .colab-df-convert:hover {\n",
              "      background-color: #E2EBFA;\n",
              "      box-shadow: 0px 1px 2px rgba(60, 64, 67, 0.3), 0px 1px 3px 1px rgba(60, 64, 67, 0.15);\n",
              "      fill: #174EA6;\n",
              "    }\n",
              "\n",
              "    [theme=dark] .colab-df-convert {\n",
              "      background-color: #3B4455;\n",
              "      fill: #D2E3FC;\n",
              "    }\n",
              "\n",
              "    [theme=dark] .colab-df-convert:hover {\n",
              "      background-color: #434B5C;\n",
              "      box-shadow: 0px 1px 3px 1px rgba(0, 0, 0, 0.15);\n",
              "      filter: drop-shadow(0px 1px 2px rgba(0, 0, 0, 0.3));\n",
              "      fill: #FFFFFF;\n",
              "    }\n",
              "  </style>\n",
              "\n",
              "      <script>\n",
              "        const buttonEl =\n",
              "          document.querySelector('#df-0068c968-99bd-4829-bf27-7213be4530a6 button.colab-df-convert');\n",
              "        buttonEl.style.display =\n",
              "          google.colab.kernel.accessAllowed ? 'block' : 'none';\n",
              "\n",
              "        async function convertToInteractive(key) {\n",
              "          const element = document.querySelector('#df-0068c968-99bd-4829-bf27-7213be4530a6');\n",
              "          const dataTable =\n",
              "            await google.colab.kernel.invokeFunction('convertToInteractive',\n",
              "                                                     [key], {});\n",
              "          if (!dataTable) return;\n",
              "\n",
              "          const docLinkHtml = 'Like what you see? Visit the ' +\n",
              "            '<a target=\"_blank\" href=https://colab.research.google.com/notebooks/data_table.ipynb>data table notebook</a>'\n",
              "            + ' to learn more about interactive tables.';\n",
              "          element.innerHTML = '';\n",
              "          dataTable['output_type'] = 'display_data';\n",
              "          await google.colab.output.renderOutput(dataTable, element);\n",
              "          const docLink = document.createElement('div');\n",
              "          docLink.innerHTML = docLinkHtml;\n",
              "          element.appendChild(docLink);\n",
              "        }\n",
              "      </script>\n",
              "    </div>\n",
              "  </div>\n",
              "  "
            ]
          },
          "metadata": {},
          "execution_count": 9
        }
      ]
    },
    {
      "cell_type": "markdown",
      "metadata": {
        "id": "46Toey3KJmkw"
      },
      "source": [
        "## Exercises"
      ]
    },
    {
      "cell_type": "markdown",
      "metadata": {
        "id": "VPWWaiMkJ8je"
      },
      "source": [
        "Exercises 1-2 deal with the Titanic data set (https://dlsun.github.io/pods/data/titanic.csv)"
      ]
    },
    {
      "cell_type": "markdown",
      "metadata": {
        "id": "0pHYmVsPJx5V"
      },
      "source": [
        "1\\. Read in the Titanic data set. Identify each variable in the Titanic data set as either quantitative, categorical, or other. Cast all variables to the right type and assign them back to the `DataFrame`."
      ]
    },
    {
      "cell_type": "code",
      "metadata": {
        "id": "Ms1lIXsmJY7g"
      },
      "source": [
        "# YOUR CODE HERE\n",
        "df_titanic = pd.read_csv(\"https://dlsun.github.io/pods/data/titanic.csv\")\n",
        "df_titanic.head()\n",
        "df_titanic.survived = df_titanic.survived.astype(str)\n",
        "df_titanic.ticketno = df_titanic.ticketno.astype(str)"
      ],
      "execution_count": null,
      "outputs": []
    },
    {
      "cell_type": "code",
      "source": [
        ""
      ],
      "metadata": {
        "id": "hfOPomyVpVqD"
      },
      "execution_count": null,
      "outputs": []
    },
    {
      "cell_type": "markdown",
      "metadata": {
        "id": "yXE6l53nO14r"
      },
      "source": [
        "2\\. Create a `DataFrame` (not a `Series`) consisting of just the `class` column."
      ]
    },
    {
      "cell_type": "code",
      "metadata": {
        "id": "iqTL7YA2Lz-j",
        "colab": {
          "base_uri": "https://localhost:8080/",
          "height": 206
        },
        "outputId": "a9b27123-a3a5-4bf5-e7d0-d570bb06ec1b"
      },
      "source": [
        "# YOUR CODE HERE\n",
        "df_class = df_titanic[['class']]\n",
        "df_class.head()"
      ],
      "execution_count": null,
      "outputs": [
        {
          "output_type": "execute_result",
          "data": {
            "text/plain": [
              "  class\n",
              "0   3rd\n",
              "1   3rd\n",
              "2   3rd\n",
              "3   3rd\n",
              "4   3rd"
            ],
            "text/html": [
              "\n",
              "  <div id=\"df-8be2a142-aaf4-47e5-96dd-33d81afb8c87\">\n",
              "    <div class=\"colab-df-container\">\n",
              "      <div>\n",
              "<style scoped>\n",
              "    .dataframe tbody tr th:only-of-type {\n",
              "        vertical-align: middle;\n",
              "    }\n",
              "\n",
              "    .dataframe tbody tr th {\n",
              "        vertical-align: top;\n",
              "    }\n",
              "\n",
              "    .dataframe thead th {\n",
              "        text-align: right;\n",
              "    }\n",
              "</style>\n",
              "<table border=\"1\" class=\"dataframe\">\n",
              "  <thead>\n",
              "    <tr style=\"text-align: right;\">\n",
              "      <th></th>\n",
              "      <th>class</th>\n",
              "    </tr>\n",
              "  </thead>\n",
              "  <tbody>\n",
              "    <tr>\n",
              "      <th>0</th>\n",
              "      <td>3rd</td>\n",
              "    </tr>\n",
              "    <tr>\n",
              "      <th>1</th>\n",
              "      <td>3rd</td>\n",
              "    </tr>\n",
              "    <tr>\n",
              "      <th>2</th>\n",
              "      <td>3rd</td>\n",
              "    </tr>\n",
              "    <tr>\n",
              "      <th>3</th>\n",
              "      <td>3rd</td>\n",
              "    </tr>\n",
              "    <tr>\n",
              "      <th>4</th>\n",
              "      <td>3rd</td>\n",
              "    </tr>\n",
              "  </tbody>\n",
              "</table>\n",
              "</div>\n",
              "      <button class=\"colab-df-convert\" onclick=\"convertToInteractive('df-8be2a142-aaf4-47e5-96dd-33d81afb8c87')\"\n",
              "              title=\"Convert this dataframe to an interactive table.\"\n",
              "              style=\"display:none;\">\n",
              "        \n",
              "  <svg xmlns=\"http://www.w3.org/2000/svg\" height=\"24px\"viewBox=\"0 0 24 24\"\n",
              "       width=\"24px\">\n",
              "    <path d=\"M0 0h24v24H0V0z\" fill=\"none\"/>\n",
              "    <path d=\"M18.56 5.44l.94 2.06.94-2.06 2.06-.94-2.06-.94-.94-2.06-.94 2.06-2.06.94zm-11 1L8.5 8.5l.94-2.06 2.06-.94-2.06-.94L8.5 2.5l-.94 2.06-2.06.94zm10 10l.94 2.06.94-2.06 2.06-.94-2.06-.94-.94-2.06-.94 2.06-2.06.94z\"/><path d=\"M17.41 7.96l-1.37-1.37c-.4-.4-.92-.59-1.43-.59-.52 0-1.04.2-1.43.59L10.3 9.45l-7.72 7.72c-.78.78-.78 2.05 0 2.83L4 21.41c.39.39.9.59 1.41.59.51 0 1.02-.2 1.41-.59l7.78-7.78 2.81-2.81c.8-.78.8-2.07 0-2.86zM5.41 20L4 18.59l7.72-7.72 1.47 1.35L5.41 20z\"/>\n",
              "  </svg>\n",
              "      </button>\n",
              "      \n",
              "  <style>\n",
              "    .colab-df-container {\n",
              "      display:flex;\n",
              "      flex-wrap:wrap;\n",
              "      gap: 12px;\n",
              "    }\n",
              "\n",
              "    .colab-df-convert {\n",
              "      background-color: #E8F0FE;\n",
              "      border: none;\n",
              "      border-radius: 50%;\n",
              "      cursor: pointer;\n",
              "      display: none;\n",
              "      fill: #1967D2;\n",
              "      height: 32px;\n",
              "      padding: 0 0 0 0;\n",
              "      width: 32px;\n",
              "    }\n",
              "\n",
              "    .colab-df-convert:hover {\n",
              "      background-color: #E2EBFA;\n",
              "      box-shadow: 0px 1px 2px rgba(60, 64, 67, 0.3), 0px 1px 3px 1px rgba(60, 64, 67, 0.15);\n",
              "      fill: #174EA6;\n",
              "    }\n",
              "\n",
              "    [theme=dark] .colab-df-convert {\n",
              "      background-color: #3B4455;\n",
              "      fill: #D2E3FC;\n",
              "    }\n",
              "\n",
              "    [theme=dark] .colab-df-convert:hover {\n",
              "      background-color: #434B5C;\n",
              "      box-shadow: 0px 1px 3px 1px rgba(0, 0, 0, 0.15);\n",
              "      filter: drop-shadow(0px 1px 2px rgba(0, 0, 0, 0.3));\n",
              "      fill: #FFFFFF;\n",
              "    }\n",
              "  </style>\n",
              "\n",
              "      <script>\n",
              "        const buttonEl =\n",
              "          document.querySelector('#df-8be2a142-aaf4-47e5-96dd-33d81afb8c87 button.colab-df-convert');\n",
              "        buttonEl.style.display =\n",
              "          google.colab.kernel.accessAllowed ? 'block' : 'none';\n",
              "\n",
              "        async function convertToInteractive(key) {\n",
              "          const element = document.querySelector('#df-8be2a142-aaf4-47e5-96dd-33d81afb8c87');\n",
              "          const dataTable =\n",
              "            await google.colab.kernel.invokeFunction('convertToInteractive',\n",
              "                                                     [key], {});\n",
              "          if (!dataTable) return;\n",
              "\n",
              "          const docLinkHtml = 'Like what you see? Visit the ' +\n",
              "            '<a target=\"_blank\" href=https://colab.research.google.com/notebooks/data_table.ipynb>data table notebook</a>'\n",
              "            + ' to learn more about interactive tables.';\n",
              "          element.innerHTML = '';\n",
              "          dataTable['output_type'] = 'display_data';\n",
              "          await google.colab.output.renderOutput(dataTable, element);\n",
              "          const docLink = document.createElement('div');\n",
              "          docLink.innerHTML = docLinkHtml;\n",
              "          element.appendChild(docLink);\n",
              "        }\n",
              "      </script>\n",
              "    </div>\n",
              "  </div>\n",
              "  "
            ]
          },
          "metadata": {},
          "execution_count": 27
        }
      ]
    },
    {
      "cell_type": "code",
      "source": [
        ""
      ],
      "metadata": {
        "id": "en-mK9_-niDi"
      },
      "execution_count": null,
      "outputs": []
    }
  ]
}