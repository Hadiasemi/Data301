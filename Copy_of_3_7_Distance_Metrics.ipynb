{
  "nbformat": 4,
  "nbformat_minor": 0,
  "metadata": {
    "kernelspec": {
      "display_name": "Python 3",
      "language": "python",
      "name": "python3"
    },
    "language_info": {
      "codemirror_mode": {
        "name": "ipython",
        "version": 3
      },
      "file_extension": ".py",
      "mimetype": "text/x-python",
      "name": "python",
      "nbconvert_exporter": "python",
      "pygments_lexer": "ipython3",
      "version": "3.6.8"
    },
    "colab": {
      "name": "Copy of 3.7 Distance Metrics.ipynb",
      "provenance": [],
      "include_colab_link": true
    }
  },
  "cells": [
    {
      "cell_type": "markdown",
      "metadata": {
        "id": "view-in-github",
        "colab_type": "text"
      },
      "source": [
        "<a href=\"https://colab.research.google.com/github/Hadiasemi/Data301/blob/main/Copy_of_3_7_Distance_Metrics.ipynb\" target=\"_parent\"><img src=\"https://colab.research.google.com/assets/colab-badge.svg\" alt=\"Open In Colab\"/></a>"
      ]
    },
    {
      "cell_type": "markdown",
      "metadata": {
        "id": "je_aAoxOkRG1"
      },
      "source": [
        "# 3.7 Distance Metrics\n",
        "\n",
        "So far, this chapter has been about ways to measure relationships between variables, or the _columns_ of a `DataFrame`. This lesson is about how to measure relationships between observations, or the _rows_ of a `DataFrame`.\n",
        "\n",
        "How do we quantify how \"similar\" two observations are? We will use the Ames housing data set, but to keep things simple, we will work with just three quantitative variables from that data set: the number of bedrooms, the number of bathrooms, and the living area (in square feet)."
      ]
    },
    {
      "cell_type": "code",
      "metadata": {
        "id": "1lX_v7OWkRG4",
        "colab": {
          "base_uri": "https://localhost:8080/",
          "height": 423
        },
        "outputId": "4b162fd8-a162-4c57-92ba-7988b1a5dd45"
      },
      "source": [
        "import numpy as np\n",
        "import pandas as pd\n",
        "\n",
        "data_dir = \"https://dlsun.github.io/pods/data/\"\n",
        "df_housing = pd.read_csv(data_dir + \"AmesHousing.txt\", sep=\"\\t\")\n",
        "\n",
        "# extract 3 quantitative variables\n",
        "df_housing_quant = df_housing[[\"Bedroom AbvGr\", \"Gr Liv Area\"]].copy()\n",
        "df_housing_quant[\"Bathrooms\"] = (\n",
        "    df_housing[\"Full Bath\"] + \n",
        "    0.5 * df_housing[\"Half Bath\"]\n",
        ")\n",
        "df_housing_quant"
      ],
      "execution_count": 16,
      "outputs": [
        {
          "output_type": "execute_result",
          "data": {
            "text/plain": [
              "      Bedroom AbvGr  Gr Liv Area  Bathrooms\n",
              "0                 3         1656        1.0\n",
              "1                 2          896        1.0\n",
              "2                 3         1329        1.5\n",
              "3                 3         2110        2.5\n",
              "4                 3         1629        2.5\n",
              "...             ...          ...        ...\n",
              "2925              3         1003        1.0\n",
              "2926              2          902        1.0\n",
              "2927              3          970        1.0\n",
              "2928              2         1389        1.0\n",
              "2929              3         2000        2.5\n",
              "\n",
              "[2930 rows x 3 columns]"
            ],
            "text/html": [
              "\n",
              "  <div id=\"df-4e1132b8-5aba-44ac-88ca-d5138950ea91\">\n",
              "    <div class=\"colab-df-container\">\n",
              "      <div>\n",
              "<style scoped>\n",
              "    .dataframe tbody tr th:only-of-type {\n",
              "        vertical-align: middle;\n",
              "    }\n",
              "\n",
              "    .dataframe tbody tr th {\n",
              "        vertical-align: top;\n",
              "    }\n",
              "\n",
              "    .dataframe thead th {\n",
              "        text-align: right;\n",
              "    }\n",
              "</style>\n",
              "<table border=\"1\" class=\"dataframe\">\n",
              "  <thead>\n",
              "    <tr style=\"text-align: right;\">\n",
              "      <th></th>\n",
              "      <th>Bedroom AbvGr</th>\n",
              "      <th>Gr Liv Area</th>\n",
              "      <th>Bathrooms</th>\n",
              "    </tr>\n",
              "  </thead>\n",
              "  <tbody>\n",
              "    <tr>\n",
              "      <th>0</th>\n",
              "      <td>3</td>\n",
              "      <td>1656</td>\n",
              "      <td>1.0</td>\n",
              "    </tr>\n",
              "    <tr>\n",
              "      <th>1</th>\n",
              "      <td>2</td>\n",
              "      <td>896</td>\n",
              "      <td>1.0</td>\n",
              "    </tr>\n",
              "    <tr>\n",
              "      <th>2</th>\n",
              "      <td>3</td>\n",
              "      <td>1329</td>\n",
              "      <td>1.5</td>\n",
              "    </tr>\n",
              "    <tr>\n",
              "      <th>3</th>\n",
              "      <td>3</td>\n",
              "      <td>2110</td>\n",
              "      <td>2.5</td>\n",
              "    </tr>\n",
              "    <tr>\n",
              "      <th>4</th>\n",
              "      <td>3</td>\n",
              "      <td>1629</td>\n",
              "      <td>2.5</td>\n",
              "    </tr>\n",
              "    <tr>\n",
              "      <th>...</th>\n",
              "      <td>...</td>\n",
              "      <td>...</td>\n",
              "      <td>...</td>\n",
              "    </tr>\n",
              "    <tr>\n",
              "      <th>2925</th>\n",
              "      <td>3</td>\n",
              "      <td>1003</td>\n",
              "      <td>1.0</td>\n",
              "    </tr>\n",
              "    <tr>\n",
              "      <th>2926</th>\n",
              "      <td>2</td>\n",
              "      <td>902</td>\n",
              "      <td>1.0</td>\n",
              "    </tr>\n",
              "    <tr>\n",
              "      <th>2927</th>\n",
              "      <td>3</td>\n",
              "      <td>970</td>\n",
              "      <td>1.0</td>\n",
              "    </tr>\n",
              "    <tr>\n",
              "      <th>2928</th>\n",
              "      <td>2</td>\n",
              "      <td>1389</td>\n",
              "      <td>1.0</td>\n",
              "    </tr>\n",
              "    <tr>\n",
              "      <th>2929</th>\n",
              "      <td>3</td>\n",
              "      <td>2000</td>\n",
              "      <td>2.5</td>\n",
              "    </tr>\n",
              "  </tbody>\n",
              "</table>\n",
              "<p>2930 rows × 3 columns</p>\n",
              "</div>\n",
              "      <button class=\"colab-df-convert\" onclick=\"convertToInteractive('df-4e1132b8-5aba-44ac-88ca-d5138950ea91')\"\n",
              "              title=\"Convert this dataframe to an interactive table.\"\n",
              "              style=\"display:none;\">\n",
              "        \n",
              "  <svg xmlns=\"http://www.w3.org/2000/svg\" height=\"24px\"viewBox=\"0 0 24 24\"\n",
              "       width=\"24px\">\n",
              "    <path d=\"M0 0h24v24H0V0z\" fill=\"none\"/>\n",
              "    <path d=\"M18.56 5.44l.94 2.06.94-2.06 2.06-.94-2.06-.94-.94-2.06-.94 2.06-2.06.94zm-11 1L8.5 8.5l.94-2.06 2.06-.94-2.06-.94L8.5 2.5l-.94 2.06-2.06.94zm10 10l.94 2.06.94-2.06 2.06-.94-2.06-.94-.94-2.06-.94 2.06-2.06.94z\"/><path d=\"M17.41 7.96l-1.37-1.37c-.4-.4-.92-.59-1.43-.59-.52 0-1.04.2-1.43.59L10.3 9.45l-7.72 7.72c-.78.78-.78 2.05 0 2.83L4 21.41c.39.39.9.59 1.41.59.51 0 1.02-.2 1.41-.59l7.78-7.78 2.81-2.81c.8-.78.8-2.07 0-2.86zM5.41 20L4 18.59l7.72-7.72 1.47 1.35L5.41 20z\"/>\n",
              "  </svg>\n",
              "      </button>\n",
              "      \n",
              "  <style>\n",
              "    .colab-df-container {\n",
              "      display:flex;\n",
              "      flex-wrap:wrap;\n",
              "      gap: 12px;\n",
              "    }\n",
              "\n",
              "    .colab-df-convert {\n",
              "      background-color: #E8F0FE;\n",
              "      border: none;\n",
              "      border-radius: 50%;\n",
              "      cursor: pointer;\n",
              "      display: none;\n",
              "      fill: #1967D2;\n",
              "      height: 32px;\n",
              "      padding: 0 0 0 0;\n",
              "      width: 32px;\n",
              "    }\n",
              "\n",
              "    .colab-df-convert:hover {\n",
              "      background-color: #E2EBFA;\n",
              "      box-shadow: 0px 1px 2px rgba(60, 64, 67, 0.3), 0px 1px 3px 1px rgba(60, 64, 67, 0.15);\n",
              "      fill: #174EA6;\n",
              "    }\n",
              "\n",
              "    [theme=dark] .colab-df-convert {\n",
              "      background-color: #3B4455;\n",
              "      fill: #D2E3FC;\n",
              "    }\n",
              "\n",
              "    [theme=dark] .colab-df-convert:hover {\n",
              "      background-color: #434B5C;\n",
              "      box-shadow: 0px 1px 3px 1px rgba(0, 0, 0, 0.15);\n",
              "      filter: drop-shadow(0px 1px 2px rgba(0, 0, 0, 0.3));\n",
              "      fill: #FFFFFF;\n",
              "    }\n",
              "  </style>\n",
              "\n",
              "      <script>\n",
              "        const buttonEl =\n",
              "          document.querySelector('#df-4e1132b8-5aba-44ac-88ca-d5138950ea91 button.colab-df-convert');\n",
              "        buttonEl.style.display =\n",
              "          google.colab.kernel.accessAllowed ? 'block' : 'none';\n",
              "\n",
              "        async function convertToInteractive(key) {\n",
              "          const element = document.querySelector('#df-4e1132b8-5aba-44ac-88ca-d5138950ea91');\n",
              "          const dataTable =\n",
              "            await google.colab.kernel.invokeFunction('convertToInteractive',\n",
              "                                                     [key], {});\n",
              "          if (!dataTable) return;\n",
              "\n",
              "          const docLinkHtml = 'Like what you see? Visit the ' +\n",
              "            '<a target=\"_blank\" href=https://colab.research.google.com/notebooks/data_table.ipynb>data table notebook</a>'\n",
              "            + ' to learn more about interactive tables.';\n",
              "          element.innerHTML = '';\n",
              "          dataTable['output_type'] = 'display_data';\n",
              "          await google.colab.output.renderOutput(dataTable, element);\n",
              "          const docLink = document.createElement('div');\n",
              "          docLink.innerHTML = docLinkHtml;\n",
              "          element.appendChild(docLink);\n",
              "        }\n",
              "      </script>\n",
              "    </div>\n",
              "  </div>\n",
              "  "
            ]
          },
          "metadata": {},
          "execution_count": 16
        }
      ]
    },
    {
      "cell_type": "markdown",
      "metadata": {
        "id": "9eWXjPdgkRHE"
      },
      "source": [
        "Shown below is a (three-dimensional) scatterplot of these variables. Consider the two observations connected by a red line. (The label next to each point is its index in the `DataFrame`.) To measure how similar they are, we can calculate the distance between the two points.\n",
        "\n",
        "![](https://github.com/dlsun/pods/blob/master/03-Quantitative-Data/distance.png?raw=1)\n",
        "\n",
        "Calculating the distance between two points is not as straightforward as it might seem because there is more than one way to define distance. The most familiar distance metric is probably _Euclidan distance_, which is the straight-line distance (\"as the crow flies\") between the two points. The formula for calculating this distance is a generalization of the Pythagorean theorem:\n",
        "\n",
        "$$ d({\\bf x}, {\\bf x'}) = \\sqrt{\\sum_{j=1}^D (x_j - x'_j)^2} $$"
      ]
    },
    {
      "cell_type": "code",
      "metadata": {
        "id": "brcT2DoikRHF",
        "colab": {
          "base_uri": "https://localhost:8080/"
        },
        "outputId": "6ab75e87-cdfe-48ed-fde5-948f366eada6"
      },
      "source": [
        "x = df_housing_quant.loc[2927]\n",
        "x1 = df_housing_quant.loc[2928]\n",
        "\n",
        "x - x1"
      ],
      "execution_count": 17,
      "outputs": [
        {
          "output_type": "execute_result",
          "data": {
            "text/plain": [
              "Bedroom AbvGr      1.0\n",
              "Gr Liv Area     -419.0\n",
              "Bathrooms          0.0\n",
              "dtype: float64"
            ]
          },
          "metadata": {},
          "execution_count": 17
        }
      ]
    },
    {
      "cell_type": "code",
      "metadata": {
        "id": "H1Cx-BqfkRHK",
        "colab": {
          "base_uri": "https://localhost:8080/"
        },
        "outputId": "a4f8c03b-bd5f-44ed-b615-53770217a8b5"
      },
      "source": [
        "(x - x1) ** 2"
      ],
      "execution_count": 18,
      "outputs": [
        {
          "output_type": "execute_result",
          "data": {
            "text/plain": [
              "Bedroom AbvGr         1.0\n",
              "Gr Liv Area      175561.0\n",
              "Bathrooms             0.0\n",
              "dtype: float64"
            ]
          },
          "metadata": {},
          "execution_count": 18
        }
      ]
    },
    {
      "cell_type": "code",
      "metadata": {
        "id": "1alhuSntkRHO",
        "colab": {
          "base_uri": "https://localhost:8080/"
        },
        "outputId": "7195b8fa-6bde-465f-a6d5-0d6b159b1233"
      },
      "source": [
        "np.sqrt(((x - x1) ** 2).sum())"
      ],
      "execution_count": 19,
      "outputs": [
        {
          "output_type": "execute_result",
          "data": {
            "text/plain": [
              "419.0011933157231"
            ]
          },
          "metadata": {},
          "execution_count": 19
        }
      ]
    },
    {
      "cell_type": "markdown",
      "metadata": {
        "id": "RbaoZjajkRHT"
      },
      "source": [
        "The beauty of this definition is that it generalizes to more than three dimensions. Even though it is difficult to visualize points in 100-dimensional space, we can calculate distances between them in exactly the same way.\n",
        "\n",
        "However, Euclidean distance is not the only way to measure how far apart two points are. There is also [**Manhattan distance**](https://en.wikipedia.org/wiki/Taxicab_geometry) (also called _taxicab distance_), which measures the distance a taxicab in Manhattan would have to drive to travel from A to B. In Manhattan, taxicabs cannot travel in a straight line (i.e., the green path below) because they have to follow the street grid. But there are multiple paths along the street grid that all have exactly the same length (i.e., the red, yellow, and blue paths below); the Manhattan distance is the length of any one of these shortest paths.\n",
        "\n",
        "![](https://upload.wikimedia.org/wikipedia/commons/thumb/0/08/Manhattan_distance.svg/283px-Manhattan_distance.svg.png)\n",
        "\n",
        "The formula for Manhattan distance is actually quite similar to the formula for Euclidean distance. Instead of squaring the differences and taking the square root at the end (as in Euclidean distance), we simply take absolute values:\n",
        "$$ d({\\bf x}, {\\bf x'}) = \\sum_{j=1}^D |x_j - x'_j|. $$\n",
        "\n",
        "The following code calculates Manhattan distance:"
      ]
    },
    {
      "cell_type": "code",
      "metadata": {
        "id": "yGZZUEHskRHU",
        "colab": {
          "base_uri": "https://localhost:8080/"
        },
        "outputId": "c75d8ddc-ce7d-4d52-f0ff-b93b8ac45b1c"
      },
      "source": [
        "((x - x1).abs()).sum()"
      ],
      "execution_count": 20,
      "outputs": [
        {
          "output_type": "execute_result",
          "data": {
            "text/plain": [
              "420.0"
            ]
          },
          "metadata": {},
          "execution_count": 20
        }
      ]
    },
    {
      "cell_type": "markdown",
      "metadata": {
        "id": "CqgSzkAwkRHZ"
      },
      "source": [
        "In general, we can raise the absolute difference to any power $p$ and take the $p$th root. \n",
        "$$ d({\\bf x}, {\\bf x'}) = \\left(\\sum_{j=1}^D |x_j - x'_j|^p\\right)^{1/p}. $$\n",
        "This is called _Minkowski distance_. Manhattan distance and Euclidean distance are special cases of Minkowski distance for $p=1$ and $p=2$, respectively."
      ]
    },
    {
      "cell_type": "markdown",
      "metadata": {
        "id": "Oc25K5ZnkRHb"
      },
      "source": [
        "### Comparison of Euclidean and Manhattan distance\n",
        "\n",
        "The Euclidean distance was essentially just the largest difference. This is because Euclidean distance first _squares_ the differences. The squaring operation has a \"rich get richer\" effect; larger values get magnified by more than smaller values. As a result, the largest differences tend to dominate the Euclidean distance.\n",
        "\n",
        "On the other hand, Manhattan distance treats all differences equally. So Manhattan distance is preferred if we are concerned that an outlier in one variable might dominate the distance metric."
      ]
    },
    {
      "cell_type": "markdown",
      "metadata": {
        "id": "ySlOPzAFkRHc"
      },
      "source": [
        "## The Importance of Scaling\n",
        "\n",
        "Here's something to ponder. There are two pairs of observations in the figure below, one connected by a red line, the other connected by an orange line. Which pair of observations is more similar (assuming we use Euclidean distance)?\n",
        "\n",
        "![](https://github.com/dlsun/pods/blob/master/03-Quantitative-Data/closer.png?raw=1)\n",
        "\n",
        "Let's actually calculate these two distances."
      ]
    },
    {
      "cell_type": "code",
      "metadata": {
        "id": "jP0ls6K1kRHd",
        "colab": {
          "base_uri": "https://localhost:8080/"
        },
        "outputId": "2fcde45e-6f70-47ec-ab8f-817a40e22ba5"
      },
      "source": [
        "# Distance between two points connected by red line\n",
        "x = df_housing_quant.loc[2927]\n",
        "x1 = df_housing_quant.loc[2928]\n",
        "\n",
        "np.sqrt(((x - x1) ** 2).sum())"
      ],
      "execution_count": 21,
      "outputs": [
        {
          "output_type": "execute_result",
          "data": {
            "text/plain": [
              "419.0011933157231"
            ]
          },
          "metadata": {},
          "execution_count": 21
        }
      ]
    },
    {
      "cell_type": "code",
      "metadata": {
        "id": "V_KpLBbGkRHh",
        "colab": {
          "base_uri": "https://localhost:8080/"
        },
        "outputId": "9eb8968c-bf99-463e-eb77-e7239aac64b7"
      },
      "source": [
        "# Distance between two points connected by orange line\n",
        "x = df_housing_quant.loc[2498]\n",
        "x1 = df_housing_quant.loc[290]\n",
        "\n",
        "np.sqrt(((x - x1) ** 2).sum())\n"
      ],
      "execution_count": 22,
      "outputs": [
        {
          "output_type": "execute_result",
          "data": {
            "text/plain": [
              "5.0990195135927845"
            ]
          },
          "metadata": {},
          "execution_count": 22
        }
      ]
    },
    {
      "cell_type": "markdown",
      "metadata": {
        "id": "7y5mpdx_kRHl"
      },
      "source": [
        "Surprised by the answer? The scatterplot is deceiving because it automatically scales the variables to make the points fit on the same plot. In reality, the variables are on very different scales. The number of bedrooms and bathrooms range from 0 to 6, while living area is in the thousands. When variables are on such different scales, the variable with the largest variability will dominate the distance metric.\n",
        "\n",
        "The plot below shows the same data, but drawn to scale. We can see that differences in the number of bedrooms and the number of bathrooms hardly matter at all; only the variability in the living area matters.\n",
        "\n",
        "![](https://github.com/dlsun/pods/blob/master/03-Quantitative-Data/closer_rescaled.png?raw=1)"
      ]
    },
    {
      "cell_type": "markdown",
      "metadata": {
        "id": "NbTp75j6kRHm"
      },
      "source": [
        "To obtain distances that agree more with our intuition---and that do not give too much weight to any one variable---we transform the variables to be on the same scale. There are several ways to _scale_ a variable ${\\bf x} = (x_1, \\ldots, x_n)$:\n",
        "\n",
        "- _standardizing_: subtract each value by the mean, then divide by the standard deviation, \n",
        "$$ x_i \\leftarrow \\frac{x_i - \\bar {\\bf x}}{\\text{SD}({\\bf x})} $$\n",
        "- _normalizing_: scale each value so that the variable has length (or \"norm\") 1, \n",
        "$$ x_i \\leftarrow \\frac{x_i}{\\sqrt{\\sum_{i=1}^n x_i^2}} $$\n",
        "- _min/max scaling_: scale each value so that all values are between 0 and 1, \n",
        "$$x_i \\leftarrow \\frac{x_i - \\min({\\bf x})}{\\max({\\bf x}) - \\min({\\bf x})}.$$\n",
        "\n",
        "The figure below illustrates what each of these scaling methods do to a synthetic data set with two variables. All three methods scale the variables in similar (but slightly different) ways, resulting in figure-eights with different aspect ratios.  Standardizing also moves the data to be centered around the origin, while min-max scaling moves the data to be in a box whose corners are $(0, 0)$ and $(1, 1)$.\n",
        "\n",
        "![](https://github.com/dlsun/pods/blob/master/03-Quantitative-Data/scaling.png?raw=1)\n",
        "\n",
        "Let's standardize the Ames housing data, and see how it affects the distance metric."
      ]
    },
    {
      "cell_type": "code",
      "metadata": {
        "id": "0ttluusMkRHo",
        "colab": {
          "base_uri": "https://localhost:8080/",
          "height": 423
        },
        "outputId": "fc9deee3-c48e-47ff-a786-e89edd3e553c"
      },
      "source": [
        "df_housing_st = (\n",
        "    (df_housing_quant - df_housing_quant.mean()) / \n",
        "    df_housing_quant.std()\n",
        ")\n",
        "df_housing_st"
      ],
      "execution_count": 23,
      "outputs": [
        {
          "output_type": "execute_result",
          "data": {
            "text/plain": [
              "      Bedroom AbvGr  Gr Liv Area  Bathrooms\n",
              "0          0.176064     0.309212  -1.176462\n",
              "1         -1.032058    -1.194223  -1.176462\n",
              "2          0.176064    -0.337661  -0.398702\n",
              "3          0.176064     1.207317   1.156819\n",
              "4          0.176064     0.255801   1.156819\n",
              "...             ...          ...        ...\n",
              "2925       0.176064    -0.982555  -1.176462\n",
              "2926      -1.032058    -1.182354  -1.176462\n",
              "2927       0.176064    -1.047836  -1.176462\n",
              "2928      -1.032058    -0.218968  -1.176462\n",
              "2929       0.176064     0.989715   1.156819\n",
              "\n",
              "[2930 rows x 3 columns]"
            ],
            "text/html": [
              "\n",
              "  <div id=\"df-3077c897-916b-45af-b98b-67b50e992436\">\n",
              "    <div class=\"colab-df-container\">\n",
              "      <div>\n",
              "<style scoped>\n",
              "    .dataframe tbody tr th:only-of-type {\n",
              "        vertical-align: middle;\n",
              "    }\n",
              "\n",
              "    .dataframe tbody tr th {\n",
              "        vertical-align: top;\n",
              "    }\n",
              "\n",
              "    .dataframe thead th {\n",
              "        text-align: right;\n",
              "    }\n",
              "</style>\n",
              "<table border=\"1\" class=\"dataframe\">\n",
              "  <thead>\n",
              "    <tr style=\"text-align: right;\">\n",
              "      <th></th>\n",
              "      <th>Bedroom AbvGr</th>\n",
              "      <th>Gr Liv Area</th>\n",
              "      <th>Bathrooms</th>\n",
              "    </tr>\n",
              "  </thead>\n",
              "  <tbody>\n",
              "    <tr>\n",
              "      <th>0</th>\n",
              "      <td>0.176064</td>\n",
              "      <td>0.309212</td>\n",
              "      <td>-1.176462</td>\n",
              "    </tr>\n",
              "    <tr>\n",
              "      <th>1</th>\n",
              "      <td>-1.032058</td>\n",
              "      <td>-1.194223</td>\n",
              "      <td>-1.176462</td>\n",
              "    </tr>\n",
              "    <tr>\n",
              "      <th>2</th>\n",
              "      <td>0.176064</td>\n",
              "      <td>-0.337661</td>\n",
              "      <td>-0.398702</td>\n",
              "    </tr>\n",
              "    <tr>\n",
              "      <th>3</th>\n",
              "      <td>0.176064</td>\n",
              "      <td>1.207317</td>\n",
              "      <td>1.156819</td>\n",
              "    </tr>\n",
              "    <tr>\n",
              "      <th>4</th>\n",
              "      <td>0.176064</td>\n",
              "      <td>0.255801</td>\n",
              "      <td>1.156819</td>\n",
              "    </tr>\n",
              "    <tr>\n",
              "      <th>...</th>\n",
              "      <td>...</td>\n",
              "      <td>...</td>\n",
              "      <td>...</td>\n",
              "    </tr>\n",
              "    <tr>\n",
              "      <th>2925</th>\n",
              "      <td>0.176064</td>\n",
              "      <td>-0.982555</td>\n",
              "      <td>-1.176462</td>\n",
              "    </tr>\n",
              "    <tr>\n",
              "      <th>2926</th>\n",
              "      <td>-1.032058</td>\n",
              "      <td>-1.182354</td>\n",
              "      <td>-1.176462</td>\n",
              "    </tr>\n",
              "    <tr>\n",
              "      <th>2927</th>\n",
              "      <td>0.176064</td>\n",
              "      <td>-1.047836</td>\n",
              "      <td>-1.176462</td>\n",
              "    </tr>\n",
              "    <tr>\n",
              "      <th>2928</th>\n",
              "      <td>-1.032058</td>\n",
              "      <td>-0.218968</td>\n",
              "      <td>-1.176462</td>\n",
              "    </tr>\n",
              "    <tr>\n",
              "      <th>2929</th>\n",
              "      <td>0.176064</td>\n",
              "      <td>0.989715</td>\n",
              "      <td>1.156819</td>\n",
              "    </tr>\n",
              "  </tbody>\n",
              "</table>\n",
              "<p>2930 rows × 3 columns</p>\n",
              "</div>\n",
              "      <button class=\"colab-df-convert\" onclick=\"convertToInteractive('df-3077c897-916b-45af-b98b-67b50e992436')\"\n",
              "              title=\"Convert this dataframe to an interactive table.\"\n",
              "              style=\"display:none;\">\n",
              "        \n",
              "  <svg xmlns=\"http://www.w3.org/2000/svg\" height=\"24px\"viewBox=\"0 0 24 24\"\n",
              "       width=\"24px\">\n",
              "    <path d=\"M0 0h24v24H0V0z\" fill=\"none\"/>\n",
              "    <path d=\"M18.56 5.44l.94 2.06.94-2.06 2.06-.94-2.06-.94-.94-2.06-.94 2.06-2.06.94zm-11 1L8.5 8.5l.94-2.06 2.06-.94-2.06-.94L8.5 2.5l-.94 2.06-2.06.94zm10 10l.94 2.06.94-2.06 2.06-.94-2.06-.94-.94-2.06-.94 2.06-2.06.94z\"/><path d=\"M17.41 7.96l-1.37-1.37c-.4-.4-.92-.59-1.43-.59-.52 0-1.04.2-1.43.59L10.3 9.45l-7.72 7.72c-.78.78-.78 2.05 0 2.83L4 21.41c.39.39.9.59 1.41.59.51 0 1.02-.2 1.41-.59l7.78-7.78 2.81-2.81c.8-.78.8-2.07 0-2.86zM5.41 20L4 18.59l7.72-7.72 1.47 1.35L5.41 20z\"/>\n",
              "  </svg>\n",
              "      </button>\n",
              "      \n",
              "  <style>\n",
              "    .colab-df-container {\n",
              "      display:flex;\n",
              "      flex-wrap:wrap;\n",
              "      gap: 12px;\n",
              "    }\n",
              "\n",
              "    .colab-df-convert {\n",
              "      background-color: #E8F0FE;\n",
              "      border: none;\n",
              "      border-radius: 50%;\n",
              "      cursor: pointer;\n",
              "      display: none;\n",
              "      fill: #1967D2;\n",
              "      height: 32px;\n",
              "      padding: 0 0 0 0;\n",
              "      width: 32px;\n",
              "    }\n",
              "\n",
              "    .colab-df-convert:hover {\n",
              "      background-color: #E2EBFA;\n",
              "      box-shadow: 0px 1px 2px rgba(60, 64, 67, 0.3), 0px 1px 3px 1px rgba(60, 64, 67, 0.15);\n",
              "      fill: #174EA6;\n",
              "    }\n",
              "\n",
              "    [theme=dark] .colab-df-convert {\n",
              "      background-color: #3B4455;\n",
              "      fill: #D2E3FC;\n",
              "    }\n",
              "\n",
              "    [theme=dark] .colab-df-convert:hover {\n",
              "      background-color: #434B5C;\n",
              "      box-shadow: 0px 1px 3px 1px rgba(0, 0, 0, 0.15);\n",
              "      filter: drop-shadow(0px 1px 2px rgba(0, 0, 0, 0.3));\n",
              "      fill: #FFFFFF;\n",
              "    }\n",
              "  </style>\n",
              "\n",
              "      <script>\n",
              "        const buttonEl =\n",
              "          document.querySelector('#df-3077c897-916b-45af-b98b-67b50e992436 button.colab-df-convert');\n",
              "        buttonEl.style.display =\n",
              "          google.colab.kernel.accessAllowed ? 'block' : 'none';\n",
              "\n",
              "        async function convertToInteractive(key) {\n",
              "          const element = document.querySelector('#df-3077c897-916b-45af-b98b-67b50e992436');\n",
              "          const dataTable =\n",
              "            await google.colab.kernel.invokeFunction('convertToInteractive',\n",
              "                                                     [key], {});\n",
              "          if (!dataTable) return;\n",
              "\n",
              "          const docLinkHtml = 'Like what you see? Visit the ' +\n",
              "            '<a target=\"_blank\" href=https://colab.research.google.com/notebooks/data_table.ipynb>data table notebook</a>'\n",
              "            + ' to learn more about interactive tables.';\n",
              "          element.innerHTML = '';\n",
              "          dataTable['output_type'] = 'display_data';\n",
              "          await google.colab.output.renderOutput(dataTable, element);\n",
              "          const docLink = document.createElement('div');\n",
              "          docLink.innerHTML = docLinkHtml;\n",
              "          element.appendChild(docLink);\n",
              "        }\n",
              "      </script>\n",
              "    </div>\n",
              "  </div>\n",
              "  "
            ]
          },
          "metadata": {},
          "execution_count": 23
        }
      ]
    },
    {
      "cell_type": "markdown",
      "metadata": {
        "id": "osyZTJFCkRH6"
      },
      "source": [
        "Notice that the resulting `DataFrame` contains negative values. This makes sense because standardizing makes the mean of every variable equal to 0. If the mean is 0, then some values must be negative.\n",
        "\n",
        "The above command is deceptively simple. We actually subtracted a `DataFrame` by a `Series`, then divided the resulting `DataFrame` by another `Series`. We relied on `pandas` to broadcast each `Series` over the right dimension of the `DataFrame`. To be more explicit about the broadcasting, we could have also used the `.sub()` and `.divide()` methods (instead of `-` and `/`) and been explicit about the axis:"
      ]
    },
    {
      "cell_type": "code",
      "metadata": {
        "id": "etj1hXwgkRH7",
        "colab": {
          "base_uri": "https://localhost:8080/",
          "height": 423
        },
        "outputId": "e93ab10a-d871-4442-f6af-ad69e7a6eea6"
      },
      "source": [
        "df_housing_st = (df_housing_quant.\n",
        "                  sub(df_housing_quant.mean(), axis=1).\n",
        "                  divide(df_housing_quant.std(), axis=1))\n",
        "df_housing_st"
      ],
      "execution_count": 24,
      "outputs": [
        {
          "output_type": "execute_result",
          "data": {
            "text/plain": [
              "      Bedroom AbvGr  Gr Liv Area  Bathrooms\n",
              "0          0.176064     0.309212  -1.176462\n",
              "1         -1.032058    -1.194223  -1.176462\n",
              "2          0.176064    -0.337661  -0.398702\n",
              "3          0.176064     1.207317   1.156819\n",
              "4          0.176064     0.255801   1.156819\n",
              "...             ...          ...        ...\n",
              "2925       0.176064    -0.982555  -1.176462\n",
              "2926      -1.032058    -1.182354  -1.176462\n",
              "2927       0.176064    -1.047836  -1.176462\n",
              "2928      -1.032058    -0.218968  -1.176462\n",
              "2929       0.176064     0.989715   1.156819\n",
              "\n",
              "[2930 rows x 3 columns]"
            ],
            "text/html": [
              "\n",
              "  <div id=\"df-74534a48-46a5-446f-a1bd-cab3b002a205\">\n",
              "    <div class=\"colab-df-container\">\n",
              "      <div>\n",
              "<style scoped>\n",
              "    .dataframe tbody tr th:only-of-type {\n",
              "        vertical-align: middle;\n",
              "    }\n",
              "\n",
              "    .dataframe tbody tr th {\n",
              "        vertical-align: top;\n",
              "    }\n",
              "\n",
              "    .dataframe thead th {\n",
              "        text-align: right;\n",
              "    }\n",
              "</style>\n",
              "<table border=\"1\" class=\"dataframe\">\n",
              "  <thead>\n",
              "    <tr style=\"text-align: right;\">\n",
              "      <th></th>\n",
              "      <th>Bedroom AbvGr</th>\n",
              "      <th>Gr Liv Area</th>\n",
              "      <th>Bathrooms</th>\n",
              "    </tr>\n",
              "  </thead>\n",
              "  <tbody>\n",
              "    <tr>\n",
              "      <th>0</th>\n",
              "      <td>0.176064</td>\n",
              "      <td>0.309212</td>\n",
              "      <td>-1.176462</td>\n",
              "    </tr>\n",
              "    <tr>\n",
              "      <th>1</th>\n",
              "      <td>-1.032058</td>\n",
              "      <td>-1.194223</td>\n",
              "      <td>-1.176462</td>\n",
              "    </tr>\n",
              "    <tr>\n",
              "      <th>2</th>\n",
              "      <td>0.176064</td>\n",
              "      <td>-0.337661</td>\n",
              "      <td>-0.398702</td>\n",
              "    </tr>\n",
              "    <tr>\n",
              "      <th>3</th>\n",
              "      <td>0.176064</td>\n",
              "      <td>1.207317</td>\n",
              "      <td>1.156819</td>\n",
              "    </tr>\n",
              "    <tr>\n",
              "      <th>4</th>\n",
              "      <td>0.176064</td>\n",
              "      <td>0.255801</td>\n",
              "      <td>1.156819</td>\n",
              "    </tr>\n",
              "    <tr>\n",
              "      <th>...</th>\n",
              "      <td>...</td>\n",
              "      <td>...</td>\n",
              "      <td>...</td>\n",
              "    </tr>\n",
              "    <tr>\n",
              "      <th>2925</th>\n",
              "      <td>0.176064</td>\n",
              "      <td>-0.982555</td>\n",
              "      <td>-1.176462</td>\n",
              "    </tr>\n",
              "    <tr>\n",
              "      <th>2926</th>\n",
              "      <td>-1.032058</td>\n",
              "      <td>-1.182354</td>\n",
              "      <td>-1.176462</td>\n",
              "    </tr>\n",
              "    <tr>\n",
              "      <th>2927</th>\n",
              "      <td>0.176064</td>\n",
              "      <td>-1.047836</td>\n",
              "      <td>-1.176462</td>\n",
              "    </tr>\n",
              "    <tr>\n",
              "      <th>2928</th>\n",
              "      <td>-1.032058</td>\n",
              "      <td>-0.218968</td>\n",
              "      <td>-1.176462</td>\n",
              "    </tr>\n",
              "    <tr>\n",
              "      <th>2929</th>\n",
              "      <td>0.176064</td>\n",
              "      <td>0.989715</td>\n",
              "      <td>1.156819</td>\n",
              "    </tr>\n",
              "  </tbody>\n",
              "</table>\n",
              "<p>2930 rows × 3 columns</p>\n",
              "</div>\n",
              "      <button class=\"colab-df-convert\" onclick=\"convertToInteractive('df-74534a48-46a5-446f-a1bd-cab3b002a205')\"\n",
              "              title=\"Convert this dataframe to an interactive table.\"\n",
              "              style=\"display:none;\">\n",
              "        \n",
              "  <svg xmlns=\"http://www.w3.org/2000/svg\" height=\"24px\"viewBox=\"0 0 24 24\"\n",
              "       width=\"24px\">\n",
              "    <path d=\"M0 0h24v24H0V0z\" fill=\"none\"/>\n",
              "    <path d=\"M18.56 5.44l.94 2.06.94-2.06 2.06-.94-2.06-.94-.94-2.06-.94 2.06-2.06.94zm-11 1L8.5 8.5l.94-2.06 2.06-.94-2.06-.94L8.5 2.5l-.94 2.06-2.06.94zm10 10l.94 2.06.94-2.06 2.06-.94-2.06-.94-.94-2.06-.94 2.06-2.06.94z\"/><path d=\"M17.41 7.96l-1.37-1.37c-.4-.4-.92-.59-1.43-.59-.52 0-1.04.2-1.43.59L10.3 9.45l-7.72 7.72c-.78.78-.78 2.05 0 2.83L4 21.41c.39.39.9.59 1.41.59.51 0 1.02-.2 1.41-.59l7.78-7.78 2.81-2.81c.8-.78.8-2.07 0-2.86zM5.41 20L4 18.59l7.72-7.72 1.47 1.35L5.41 20z\"/>\n",
              "  </svg>\n",
              "      </button>\n",
              "      \n",
              "  <style>\n",
              "    .colab-df-container {\n",
              "      display:flex;\n",
              "      flex-wrap:wrap;\n",
              "      gap: 12px;\n",
              "    }\n",
              "\n",
              "    .colab-df-convert {\n",
              "      background-color: #E8F0FE;\n",
              "      border: none;\n",
              "      border-radius: 50%;\n",
              "      cursor: pointer;\n",
              "      display: none;\n",
              "      fill: #1967D2;\n",
              "      height: 32px;\n",
              "      padding: 0 0 0 0;\n",
              "      width: 32px;\n",
              "    }\n",
              "\n",
              "    .colab-df-convert:hover {\n",
              "      background-color: #E2EBFA;\n",
              "      box-shadow: 0px 1px 2px rgba(60, 64, 67, 0.3), 0px 1px 3px 1px rgba(60, 64, 67, 0.15);\n",
              "      fill: #174EA6;\n",
              "    }\n",
              "\n",
              "    [theme=dark] .colab-df-convert {\n",
              "      background-color: #3B4455;\n",
              "      fill: #D2E3FC;\n",
              "    }\n",
              "\n",
              "    [theme=dark] .colab-df-convert:hover {\n",
              "      background-color: #434B5C;\n",
              "      box-shadow: 0px 1px 3px 1px rgba(0, 0, 0, 0.15);\n",
              "      filter: drop-shadow(0px 1px 2px rgba(0, 0, 0, 0.3));\n",
              "      fill: #FFFFFF;\n",
              "    }\n",
              "  </style>\n",
              "\n",
              "      <script>\n",
              "        const buttonEl =\n",
              "          document.querySelector('#df-74534a48-46a5-446f-a1bd-cab3b002a205 button.colab-df-convert');\n",
              "        buttonEl.style.display =\n",
              "          google.colab.kernel.accessAllowed ? 'block' : 'none';\n",
              "\n",
              "        async function convertToInteractive(key) {\n",
              "          const element = document.querySelector('#df-74534a48-46a5-446f-a1bd-cab3b002a205');\n",
              "          const dataTable =\n",
              "            await google.colab.kernel.invokeFunction('convertToInteractive',\n",
              "                                                     [key], {});\n",
              "          if (!dataTable) return;\n",
              "\n",
              "          const docLinkHtml = 'Like what you see? Visit the ' +\n",
              "            '<a target=\"_blank\" href=https://colab.research.google.com/notebooks/data_table.ipynb>data table notebook</a>'\n",
              "            + ' to learn more about interactive tables.';\n",
              "          element.innerHTML = '';\n",
              "          dataTable['output_type'] = 'display_data';\n",
              "          await google.colab.output.renderOutput(dataTable, element);\n",
              "          const docLink = document.createElement('div');\n",
              "          docLink.innerHTML = docLinkHtml;\n",
              "          element.appendChild(docLink);\n",
              "        }\n",
              "      </script>\n",
              "    </div>\n",
              "  </div>\n",
              "  "
            ]
          },
          "metadata": {},
          "execution_count": 24
        }
      ]
    },
    {
      "cell_type": "markdown",
      "metadata": {
        "id": "9m8lvgUJkRIA"
      },
      "source": [
        "Now let's recalculate the distances using this standardized data and see if our conclusions change."
      ]
    },
    {
      "cell_type": "code",
      "metadata": {
        "id": "iqSyNtiekRIB",
        "colab": {
          "base_uri": "https://localhost:8080/"
        },
        "outputId": "931e20c1-8af7-4e76-c022-cdd26fb2a010"
      },
      "source": [
        "# Distance between two points connected by red line\n",
        "x = df_housing_st.loc[2927]\n",
        "x1 = df_housing_st.loc[2928]\n",
        "\n",
        "np.sqrt(((x - x1) ** 2).sum())"
      ],
      "execution_count": 25,
      "outputs": [
        {
          "output_type": "execute_result",
          "data": {
            "text/plain": [
              "1.4651211129695825"
            ]
          },
          "metadata": {},
          "execution_count": 25
        }
      ]
    },
    {
      "cell_type": "code",
      "metadata": {
        "id": "LayFUy7ykRIF",
        "colab": {
          "base_uri": "https://localhost:8080/"
        },
        "outputId": "0fad29a0-c026-4ca8-da43-a2f1a06e4abd"
      },
      "source": [
        "# Distance between two points connected by orange line\n",
        "x = df_housing_st.loc[2498]\n",
        "x1 = df_housing_st.loc[290]\n",
        "\n",
        "np.sqrt(((x - x1) ** 2).sum())"
      ],
      "execution_count": 26,
      "outputs": [
        {
          "output_type": "execute_result",
          "data": {
            "text/plain": [
              "3.9440754446060033"
            ]
          },
          "metadata": {},
          "execution_count": 26
        }
      ]
    },
    {
      "cell_type": "markdown",
      "metadata": {
        "id": "wJr63l6JkRII"
      },
      "source": [
        "So, if we first standardize the data, then the pair of observations connected by the red line are more similar than the pair connected by the orange line, which matches our intuition. It is (almost) always a good idea to scale the variables before calculating distances."
      ]
    },
    {
      "cell_type": "markdown",
      "metadata": {
        "id": "uSIL_3jhkRIJ"
      },
      "source": [
        "## The Scikit-Learn API\n",
        "\n",
        "Scikit-Learn is a machine learning library in Python that we will use extensively in Part II of this book. Since scaling data and calculating distances are essential tasks in machine learning, scikit-learn has built-in functions for carrying out these common tasks."
      ]
    },
    {
      "cell_type": "markdown",
      "metadata": {
        "id": "fveA7pDgkRIL"
      },
      "source": [
        "To scale a variable in scikit-learn, there are three steps:\n",
        "\n",
        "1. First, we declare the scaler that we want to use.\n",
        "2. Next, we \"fit\" the scaler to data. For example, in the case of standardization, this simply calculates and stores the mean and standard deviation to use for standardization.\n",
        "3. Finally, we transform the data. This actually applies the scaling to the data.\n",
        "\n",
        "To standardize data, we use the `StandardScaler`. There is also a `MinMaxScaler` for min-max scaling and a `Normalizer` for normalization (but scikit-learn's `Normalizer` normalizes the rows to be length 1, rather than the columns). See [here](https://scikit-learn.org/stable/modules/classes.html#module-sklearn.preprocessing) for a complete list of scalers and other preprocessing functions."
      ]
    },
    {
      "cell_type": "code",
      "metadata": {
        "id": "1X2qOj9gkRIN",
        "colab": {
          "base_uri": "https://localhost:8080/"
        },
        "outputId": "c6230168-1902-48e8-dcc6-3087a0d078d9"
      },
      "source": [
        "from sklearn.preprocessing import StandardScaler\n",
        "\n",
        "scaler = StandardScaler()\n",
        "scaler.fit(df_housing_quant)\n",
        "df_housing_st = scaler.transform(df_housing_quant)\n",
        "\n",
        "df_housing_st"
      ],
      "execution_count": 27,
      "outputs": [
        {
          "output_type": "execute_result",
          "data": {
            "text/plain": [
              "array([[ 0.17609421,  0.30926506, -1.17666295],\n",
              "       [-1.03223376, -1.19442705, -1.17666295],\n",
              "       [ 0.17609421, -0.33771825, -0.3987698 ],\n",
              "       ...,\n",
              "       [ 0.17609421, -1.04801492, -1.17666295],\n",
              "       [-1.03223376, -0.21900572, -1.17666295],\n",
              "       [ 0.17609421,  0.9898836 ,  1.1570165 ]])"
            ]
          },
          "metadata": {},
          "execution_count": 27
        }
      ]
    },
    {
      "cell_type": "markdown",
      "metadata": {
        "id": "Me6TY7fXkRIW"
      },
      "source": [
        "Notice that scikit-learn returns the standardized data as a plain `numpy` array, rather than a `pandas` `DataFrame`. This is one disadvantage of using scikit-learn; we lose the column names, the row index, and all of the other metadata that `DataFrame`s contain."
      ]
    },
    {
      "cell_type": "markdown",
      "metadata": {
        "id": "leeHIXaZkRIX"
      },
      "source": [
        "You might wonder why scikit-learn divides scaling into three separate steps. For example, why is it necessary to separate the fitting step from the transformation step? The reason is that a scaler can be fit to one data set and then used to transform many different data sets, not just the original data set to which it was fit. Since the scaler is fit only once, this guarantees that all subsequent data sets will be scaled in exactly the same way (i.e., with respect to the same mean and standard deviation if using the `StandardScaler`)."
      ]
    },
    {
      "cell_type": "markdown",
      "metadata": {
        "id": "3tkAxf_QkRIZ"
      },
      "source": [
        "Scikit-Learn also has built-in functions for calculating distances. For example, to calculate all pairwise distances between observations (2927, 2498) and (2928, 290), we can use the `euclidean_distances` function. There are also other distance metrics available, such as `manhattan_distances`."
      ]
    },
    {
      "cell_type": "code",
      "metadata": {
        "id": "SGueiCz5kRIa",
        "colab": {
          "base_uri": "https://localhost:8080/"
        },
        "outputId": "ca0a1597-f916-46f2-e466-00bb9687da4b"
      },
      "source": [
        "from sklearn.metrics.pairwise import euclidean_distances\n",
        "\n",
        "x = df_housing_st[[2927, 2498], :]\n",
        "x1 = df_housing_st[[2928, 290], :]\n",
        "\n",
        "euclidean_distances(x, x1)"
      ],
      "execution_count": 28,
      "outputs": [
        {
          "output_type": "execute_result",
          "data": {
            "text/plain": [
              "array([[1.4653712 , 5.81988338],\n",
              "       [3.17266983, 3.94474867]])"
            ]
          },
          "metadata": {},
          "execution_count": 28
        }
      ]
    },
    {
      "cell_type": "markdown",
      "metadata": {
        "id": "bKCYfyeLkRId"
      },
      "source": [
        "The upper left entry of this matrix represents the distance between observations 2927 and 2928, while the lower right entry represents the distance between observations 2498 and 290. Check that they match the distances we calculated earlier using `pandas`."
      ]
    },
    {
      "cell_type": "markdown",
      "metadata": {
        "id": "7VpM1xVxkRIe"
      },
      "source": [
        "## Exercises"
      ]
    },
    {
      "cell_type": "markdown",
      "metadata": {
        "id": "rPJouSPfkRIf"
      },
      "source": [
        "1\\. Instead of standardizing the three variables from the Ames housing data set, normalize them. Then, recompute the distances between the two pairs of points above. Does your conclusion change?"
      ]
    },
    {
      "cell_type": "code",
      "source": [
        "from sklearn.preprocessing import Normalizer\n",
        "\n",
        "scaler = StandardScaler()\n",
        "scaler.fit(df_housing_quant)\n",
        "df_housing_st = scaler.transform(df_housing_quant)"
      ],
      "metadata": {
        "id": "hQ8FN2jlobKF"
      },
      "execution_count": 29,
      "outputs": []
    },
    {
      "cell_type": "markdown",
      "metadata": {
        "id": "cT5rNT3AkRIm"
      },
      "source": [
        "2\\. Instead of standardizing the three variables from the Ames housing data set, apply a min-max scaling to them. Then, recompute the distances between the two pairs of points above. Does your conclusion change?"
      ]
    },
    {
      "cell_type": "code",
      "source": [
        "from sklearn.preprocessing import MinMaxScaler\n",
        "\n",
        "scaler ="
      ],
      "metadata": {
        "id": "ur1HVCkLob7B",
        "outputId": "b1aef1cf-8c7a-48b4-85f3-7e364254b1a9",
        "colab": {
          "base_uri": "https://localhost:8080/",
          "height": 133
        }
      },
      "execution_count": 30,
      "outputs": [
        {
          "output_type": "error",
          "ename": "SyntaxError",
          "evalue": "ignored",
          "traceback": [
            "\u001b[0;36m  File \u001b[0;32m\"<ipython-input-30-7fe685f29b22>\"\u001b[0;36m, line \u001b[0;32m3\u001b[0m\n\u001b[0;31m    scaler =\u001b[0m\n\u001b[0m            ^\u001b[0m\n\u001b[0;31mSyntaxError\u001b[0m\u001b[0;31m:\u001b[0m invalid syntax\n"
          ]
        }
      ]
    },
    {
      "cell_type": "markdown",
      "metadata": {
        "id": "Jrjnb_xLkRIo"
      },
      "source": [
        "3\\. Suppose that you really like house 0 in the data set, but it is too expensive. Find cheaper homes that are similar to it, by calculating distances after encoding categorical variables as dummy variables. Be sure to actually look at the profiles of the homes that your algorithm picked out as most similar. Do they make sense?\n",
        "\n",
        "Try different distance metrics and different scaling methods. How sensitive are your results to these choices?\n",
        "\n",
        "_Think:_ If the goal is to find a \"good deal\" on a similar house, should sale price be included as a variable in your distance metric? \n",
        "\n",
        "_Hint:_ There are too many variables in the data set. Do not attempt to call `pd.get_dummies()` on the entire `DataFrame`! You will want to pare down the number of variables, but be sure to include a mixture of categorical and quantitative variables. Refer to the [data documentation](https://ww2.amstat.org/publications/jse/v19n3/decock/DataDocumentation.txt) for information about the variables."
      ]
    },
    {
      "cell_type": "code",
      "source": [
        "df_housing.iloc[0]\n",
        "df_hosing_vars = df_housing[['Lot Frontage', 'Lot Area', 'Bldg Type', 'SalePrice']]"
      ],
      "metadata": {
        "id": "pxkX14Sx1w4V"
      },
      "execution_count": 40,
      "outputs": []
    },
    {
      "cell_type": "code",
      "source": [
        "from sklearn.preprocessing import StandardScaler\n",
        "\n",
        "scaler = StandardScaler()\n",
        "vals = scaler.fit_transform(df_hosing_vars[['Lot Frontage', 'Lot Area']])\n",
        "vals"
      ],
      "metadata": {
        "colab": {
          "base_uri": "https://localhost:8080/"
        },
        "id": "WwWZd0zZln6X",
        "outputId": "bd12a4cc-9e34-4c51-c5a8-62d0d6ed31b7"
      },
      "execution_count": 45,
      "outputs": [
        {
          "output_type": "execute_result",
          "data": {
            "text/plain": [
              "array([[ 3.07250559,  2.74438073],\n",
              "       [ 0.46126531,  0.18709726],\n",
              "       [ 0.50407253,  0.5228137 ],\n",
              "       ...,\n",
              "       [-0.3092646 ,  0.03719892],\n",
              "       [ 0.33284366, -0.01750572],\n",
              "       [ 0.20442201, -0.06611797]])"
            ]
          },
          "metadata": {},
          "execution_count": 45
        }
      ]
    },
    {
      "cell_type": "code",
      "source": [
        "df_housing[['Lot Frontage Scaled', 'Lot Area Scaled']] = vals"
      ],
      "metadata": {
        "id": "H8AnUAW1mS6C"
      },
      "execution_count": 47,
      "outputs": []
    },
    {
      "cell_type": "code",
      "source": [
        "df_housing_with_dummies = pd.get_dummies(df_housing[['Lot Area Scaled', 'Lot Frontage Scaled','Bldg Type']], columns = ['Bldg Type'])\n",
        "df_housing_with_dummies.head()"
      ],
      "metadata": {
        "colab": {
          "base_uri": "https://localhost:8080/",
          "height": 206
        },
        "id": "pHAgmUUMnA3-",
        "outputId": "d4f3ccc3-38d6-4ea4-c9aa-898e090b4880"
      },
      "execution_count": 53,
      "outputs": [
        {
          "output_type": "execute_result",
          "data": {
            "text/plain": [
              "   Lot Area Scaled  Lot Frontage Scaled  Bldg Type_1Fam  Bldg Type_2fmCon  \\\n",
              "0         2.744381             3.072506               1                 0   \n",
              "1         0.187097             0.461265               1                 0   \n",
              "2         0.522814             0.504073               1                 0   \n",
              "3         0.128458             1.017759               1                 0   \n",
              "4         0.467348             0.204422               1                 0   \n",
              "\n",
              "   Bldg Type_Duplex  Bldg Type_Twnhs  Bldg Type_TwnhsE  \n",
              "0                 0                0                 0  \n",
              "1                 0                0                 0  \n",
              "2                 0                0                 0  \n",
              "3                 0                0                 0  \n",
              "4                 0                0                 0  "
            ],
            "text/html": [
              "\n",
              "  <div id=\"df-b3ed926a-4268-4ff5-b935-7c3d5f99da65\">\n",
              "    <div class=\"colab-df-container\">\n",
              "      <div>\n",
              "<style scoped>\n",
              "    .dataframe tbody tr th:only-of-type {\n",
              "        vertical-align: middle;\n",
              "    }\n",
              "\n",
              "    .dataframe tbody tr th {\n",
              "        vertical-align: top;\n",
              "    }\n",
              "\n",
              "    .dataframe thead th {\n",
              "        text-align: right;\n",
              "    }\n",
              "</style>\n",
              "<table border=\"1\" class=\"dataframe\">\n",
              "  <thead>\n",
              "    <tr style=\"text-align: right;\">\n",
              "      <th></th>\n",
              "      <th>Lot Area Scaled</th>\n",
              "      <th>Lot Frontage Scaled</th>\n",
              "      <th>Bldg Type_1Fam</th>\n",
              "      <th>Bldg Type_2fmCon</th>\n",
              "      <th>Bldg Type_Duplex</th>\n",
              "      <th>Bldg Type_Twnhs</th>\n",
              "      <th>Bldg Type_TwnhsE</th>\n",
              "    </tr>\n",
              "  </thead>\n",
              "  <tbody>\n",
              "    <tr>\n",
              "      <th>0</th>\n",
              "      <td>2.744381</td>\n",
              "      <td>3.072506</td>\n",
              "      <td>1</td>\n",
              "      <td>0</td>\n",
              "      <td>0</td>\n",
              "      <td>0</td>\n",
              "      <td>0</td>\n",
              "    </tr>\n",
              "    <tr>\n",
              "      <th>1</th>\n",
              "      <td>0.187097</td>\n",
              "      <td>0.461265</td>\n",
              "      <td>1</td>\n",
              "      <td>0</td>\n",
              "      <td>0</td>\n",
              "      <td>0</td>\n",
              "      <td>0</td>\n",
              "    </tr>\n",
              "    <tr>\n",
              "      <th>2</th>\n",
              "      <td>0.522814</td>\n",
              "      <td>0.504073</td>\n",
              "      <td>1</td>\n",
              "      <td>0</td>\n",
              "      <td>0</td>\n",
              "      <td>0</td>\n",
              "      <td>0</td>\n",
              "    </tr>\n",
              "    <tr>\n",
              "      <th>3</th>\n",
              "      <td>0.128458</td>\n",
              "      <td>1.017759</td>\n",
              "      <td>1</td>\n",
              "      <td>0</td>\n",
              "      <td>0</td>\n",
              "      <td>0</td>\n",
              "      <td>0</td>\n",
              "    </tr>\n",
              "    <tr>\n",
              "      <th>4</th>\n",
              "      <td>0.467348</td>\n",
              "      <td>0.204422</td>\n",
              "      <td>1</td>\n",
              "      <td>0</td>\n",
              "      <td>0</td>\n",
              "      <td>0</td>\n",
              "      <td>0</td>\n",
              "    </tr>\n",
              "  </tbody>\n",
              "</table>\n",
              "</div>\n",
              "      <button class=\"colab-df-convert\" onclick=\"convertToInteractive('df-b3ed926a-4268-4ff5-b935-7c3d5f99da65')\"\n",
              "              title=\"Convert this dataframe to an interactive table.\"\n",
              "              style=\"display:none;\">\n",
              "        \n",
              "  <svg xmlns=\"http://www.w3.org/2000/svg\" height=\"24px\"viewBox=\"0 0 24 24\"\n",
              "       width=\"24px\">\n",
              "    <path d=\"M0 0h24v24H0V0z\" fill=\"none\"/>\n",
              "    <path d=\"M18.56 5.44l.94 2.06.94-2.06 2.06-.94-2.06-.94-.94-2.06-.94 2.06-2.06.94zm-11 1L8.5 8.5l.94-2.06 2.06-.94-2.06-.94L8.5 2.5l-.94 2.06-2.06.94zm10 10l.94 2.06.94-2.06 2.06-.94-2.06-.94-.94-2.06-.94 2.06-2.06.94z\"/><path d=\"M17.41 7.96l-1.37-1.37c-.4-.4-.92-.59-1.43-.59-.52 0-1.04.2-1.43.59L10.3 9.45l-7.72 7.72c-.78.78-.78 2.05 0 2.83L4 21.41c.39.39.9.59 1.41.59.51 0 1.02-.2 1.41-.59l7.78-7.78 2.81-2.81c.8-.78.8-2.07 0-2.86zM5.41 20L4 18.59l7.72-7.72 1.47 1.35L5.41 20z\"/>\n",
              "  </svg>\n",
              "      </button>\n",
              "      \n",
              "  <style>\n",
              "    .colab-df-container {\n",
              "      display:flex;\n",
              "      flex-wrap:wrap;\n",
              "      gap: 12px;\n",
              "    }\n",
              "\n",
              "    .colab-df-convert {\n",
              "      background-color: #E8F0FE;\n",
              "      border: none;\n",
              "      border-radius: 50%;\n",
              "      cursor: pointer;\n",
              "      display: none;\n",
              "      fill: #1967D2;\n",
              "      height: 32px;\n",
              "      padding: 0 0 0 0;\n",
              "      width: 32px;\n",
              "    }\n",
              "\n",
              "    .colab-df-convert:hover {\n",
              "      background-color: #E2EBFA;\n",
              "      box-shadow: 0px 1px 2px rgba(60, 64, 67, 0.3), 0px 1px 3px 1px rgba(60, 64, 67, 0.15);\n",
              "      fill: #174EA6;\n",
              "    }\n",
              "\n",
              "    [theme=dark] .colab-df-convert {\n",
              "      background-color: #3B4455;\n",
              "      fill: #D2E3FC;\n",
              "    }\n",
              "\n",
              "    [theme=dark] .colab-df-convert:hover {\n",
              "      background-color: #434B5C;\n",
              "      box-shadow: 0px 1px 3px 1px rgba(0, 0, 0, 0.15);\n",
              "      filter: drop-shadow(0px 1px 2px rgba(0, 0, 0, 0.3));\n",
              "      fill: #FFFFFF;\n",
              "    }\n",
              "  </style>\n",
              "\n",
              "      <script>\n",
              "        const buttonEl =\n",
              "          document.querySelector('#df-b3ed926a-4268-4ff5-b935-7c3d5f99da65 button.colab-df-convert');\n",
              "        buttonEl.style.display =\n",
              "          google.colab.kernel.accessAllowed ? 'block' : 'none';\n",
              "\n",
              "        async function convertToInteractive(key) {\n",
              "          const element = document.querySelector('#df-b3ed926a-4268-4ff5-b935-7c3d5f99da65');\n",
              "          const dataTable =\n",
              "            await google.colab.kernel.invokeFunction('convertToInteractive',\n",
              "                                                     [key], {});\n",
              "          if (!dataTable) return;\n",
              "\n",
              "          const docLinkHtml = 'Like what you see? Visit the ' +\n",
              "            '<a target=\"_blank\" href=https://colab.research.google.com/notebooks/data_table.ipynb>data table notebook</a>'\n",
              "            + ' to learn more about interactive tables.';\n",
              "          element.innerHTML = '';\n",
              "          dataTable['output_type'] = 'display_data';\n",
              "          await google.colab.output.renderOutput(dataTable, element);\n",
              "          const docLink = document.createElement('div');\n",
              "          docLink.innerHTML = docLinkHtml;\n",
              "          element.appendChild(docLink);\n",
              "        }\n",
              "      </script>\n",
              "    </div>\n",
              "  </div>\n",
              "  "
            ]
          },
          "metadata": {},
          "execution_count": 53
        }
      ]
    },
    {
      "cell_type": "code",
      "source": [
        "distance = euclidean_distances(df_housing_with_dummies.fillna(0).loc[[0]], df_housing_with_dummies.fillna(0))"
      ],
      "metadata": {
        "id": "yh2K2nKkneZN"
      },
      "execution_count": 61,
      "outputs": []
    },
    {
      "cell_type": "code",
      "source": [
        "distance.shape"
      ],
      "metadata": {
        "colab": {
          "base_uri": "https://localhost:8080/"
        },
        "id": "cbPebvlbomWE",
        "outputId": "b579353e-fdb0-4c42-ae87-bf0e01152f93"
      },
      "execution_count": 63,
      "outputs": [
        {
          "output_type": "execute_result",
          "data": {
            "text/plain": [
              "(1, 2930)"
            ]
          },
          "metadata": {},
          "execution_count": 63
        }
      ]
    },
    {
      "cell_type": "code",
      "source": [
        "df_housing['distance'] = distance[0]"
      ],
      "metadata": {
        "id": "gFxqJ8Gio9ml"
      },
      "execution_count": 64,
      "outputs": []
    },
    {
      "cell_type": "code",
      "source": [
        "df_housing['distance'].describe()"
      ],
      "metadata": {
        "colab": {
          "base_uri": "https://localhost:8080/"
        },
        "id": "kCcN6DD0pZGS",
        "outputId": "07a0d539-7162-4f64-b1b4-e7ec7bdf7632"
      },
      "execution_count": 65,
      "outputs": [
        {
          "output_type": "execute_result",
          "data": {
            "text/plain": [
              "count    2930.000000\n",
              "mean        4.259790\n",
              "std         1.001959\n",
              "min         0.000000\n",
              "25%         3.783545\n",
              "50%         4.210995\n",
              "75%         4.663484\n",
              "max        23.290738\n",
              "Name: distance, dtype: float64"
            ]
          },
          "metadata": {},
          "execution_count": 65
        }
      ]
    },
    {
      "cell_type": "code",
      "source": [
        "df_housing[(df_housing['distance']  < 1) & df_housing['SalePrice'] < df_housing.loc[0]['SalePrice']].sort_values('distance')"
      ],
      "metadata": {
        "colab": {
          "base_uri": "https://localhost:8080/",
          "height": 502
        },
        "id": "pq6Tq5zLpeMX",
        "outputId": "91280aa6-e486-46a6-b8ec-c92d8c642d1a"
      },
      "execution_count": 69,
      "outputs": [
        {
          "output_type": "execute_result",
          "data": {
            "text/plain": [
              "      Order        PID  MS SubClass MS Zoning  Lot Frontage  Lot Area Street  \\\n",
              "0         1  526301100           20        RL         141.0     31770   Pave   \n",
              "2903   2904  923125030           20   A (agr)         125.0     31250   Pave   \n",
              "2298   2299  923251160           20        RL         124.0     27697   Pave   \n",
              "2180   2181  908154195           20        RL         128.0     39290   Pave   \n",
              "2445   2446  528320060           60        RL         118.0     35760   Pave   \n",
              "...     ...        ...          ...       ...           ...       ...    ...   \n",
              "1498   1499  908154235           60        RL         313.0     63887   Pave   \n",
              "2071   2072  905301050           20        RL           NaN    115149   Pave   \n",
              "2115   2116  906426060           50        RL           NaN    159000   Pave   \n",
              "1570   1571  916125425          190        RL           NaN    164660   Grvl   \n",
              "956     957  916176125           20        RL         150.0    215245   Pave   \n",
              "\n",
              "     Alley Lot Shape Land Contour  ... Misc Feature Misc Val Mo Sold Yr Sold  \\\n",
              "0      NaN       IR1          Lvl  ...          NaN        0       5    2010   \n",
              "2903   NaN       Reg          Lvl  ...          NaN        0       5    2006   \n",
              "2298   NaN       Reg          Lvl  ...          NaN        0      11    2007   \n",
              "2180   NaN       IR1          Bnk  ...         Elev    17000      10    2007   \n",
              "2445   NaN       IR1          Lvl  ...          NaN        0       7    2006   \n",
              "...    ...       ...          ...  ...          ...      ...     ...     ...   \n",
              "1498   NaN       IR3          Bnk  ...          NaN        0       1    2008   \n",
              "2071   NaN       IR2          Low  ...          NaN        0       6    2007   \n",
              "2115   NaN       IR2          Low  ...         Shed      500       6    2007   \n",
              "1570   NaN       IR1          HLS  ...         Shed      700       8    2008   \n",
              "956    NaN       IR3          Low  ...          NaN        0       6    2009   \n",
              "\n",
              "     Sale Type Sale Condition SalePrice Lot Frontage Scaled  Lot Area Scaled  \\\n",
              "0          WD          Normal    215000            3.072506         2.744381   \n",
              "2903       WD          Normal     81500            2.387590         2.678380   \n",
              "2298       COD        Abnorml     80000            2.344783         2.227415   \n",
              "2180       New        Partial    183850            2.516012         3.698856   \n",
              "2445       WD          Normal    625000            2.087940         3.250811   \n",
              "...        ...            ...       ...                 ...              ...   \n",
              "1498       New        Partial    160000           10.435347         6.820829   \n",
              "2071       WD          Normal    302000                 NaN        13.327254   \n",
              "2115       WD          Normal    277000                 NaN        18.893039   \n",
              "1570       WD          Normal    228950                 NaN        19.611435   \n",
              "956        WD          Normal    375000            3.457771        26.031932   \n",
              "\n",
              "       distance  \n",
              "0      0.000000  \n",
              "2903   0.688088  \n",
              "2298   0.892655  \n",
              "2180   1.104857  \n",
              "2445   1.107178  \n",
              "...         ...  \n",
              "1498   8.415988  \n",
              "2071  11.019869  \n",
              "2115  16.438354  \n",
              "1570  17.202843  \n",
              "956   23.290738  \n",
              "\n",
              "[2930 rows x 85 columns]"
            ],
            "text/html": [
              "\n",
              "  <div id=\"df-88ee9088-a8d1-4ec3-8167-6aea8f297d7a\">\n",
              "    <div class=\"colab-df-container\">\n",
              "      <div>\n",
              "<style scoped>\n",
              "    .dataframe tbody tr th:only-of-type {\n",
              "        vertical-align: middle;\n",
              "    }\n",
              "\n",
              "    .dataframe tbody tr th {\n",
              "        vertical-align: top;\n",
              "    }\n",
              "\n",
              "    .dataframe thead th {\n",
              "        text-align: right;\n",
              "    }\n",
              "</style>\n",
              "<table border=\"1\" class=\"dataframe\">\n",
              "  <thead>\n",
              "    <tr style=\"text-align: right;\">\n",
              "      <th></th>\n",
              "      <th>Order</th>\n",
              "      <th>PID</th>\n",
              "      <th>MS SubClass</th>\n",
              "      <th>MS Zoning</th>\n",
              "      <th>Lot Frontage</th>\n",
              "      <th>Lot Area</th>\n",
              "      <th>Street</th>\n",
              "      <th>Alley</th>\n",
              "      <th>Lot Shape</th>\n",
              "      <th>Land Contour</th>\n",
              "      <th>...</th>\n",
              "      <th>Misc Feature</th>\n",
              "      <th>Misc Val</th>\n",
              "      <th>Mo Sold</th>\n",
              "      <th>Yr Sold</th>\n",
              "      <th>Sale Type</th>\n",
              "      <th>Sale Condition</th>\n",
              "      <th>SalePrice</th>\n",
              "      <th>Lot Frontage Scaled</th>\n",
              "      <th>Lot Area Scaled</th>\n",
              "      <th>distance</th>\n",
              "    </tr>\n",
              "  </thead>\n",
              "  <tbody>\n",
              "    <tr>\n",
              "      <th>0</th>\n",
              "      <td>1</td>\n",
              "      <td>526301100</td>\n",
              "      <td>20</td>\n",
              "      <td>RL</td>\n",
              "      <td>141.0</td>\n",
              "      <td>31770</td>\n",
              "      <td>Pave</td>\n",
              "      <td>NaN</td>\n",
              "      <td>IR1</td>\n",
              "      <td>Lvl</td>\n",
              "      <td>...</td>\n",
              "      <td>NaN</td>\n",
              "      <td>0</td>\n",
              "      <td>5</td>\n",
              "      <td>2010</td>\n",
              "      <td>WD</td>\n",
              "      <td>Normal</td>\n",
              "      <td>215000</td>\n",
              "      <td>3.072506</td>\n",
              "      <td>2.744381</td>\n",
              "      <td>0.000000</td>\n",
              "    </tr>\n",
              "    <tr>\n",
              "      <th>2903</th>\n",
              "      <td>2904</td>\n",
              "      <td>923125030</td>\n",
              "      <td>20</td>\n",
              "      <td>A (agr)</td>\n",
              "      <td>125.0</td>\n",
              "      <td>31250</td>\n",
              "      <td>Pave</td>\n",
              "      <td>NaN</td>\n",
              "      <td>Reg</td>\n",
              "      <td>Lvl</td>\n",
              "      <td>...</td>\n",
              "      <td>NaN</td>\n",
              "      <td>0</td>\n",
              "      <td>5</td>\n",
              "      <td>2006</td>\n",
              "      <td>WD</td>\n",
              "      <td>Normal</td>\n",
              "      <td>81500</td>\n",
              "      <td>2.387590</td>\n",
              "      <td>2.678380</td>\n",
              "      <td>0.688088</td>\n",
              "    </tr>\n",
              "    <tr>\n",
              "      <th>2298</th>\n",
              "      <td>2299</td>\n",
              "      <td>923251160</td>\n",
              "      <td>20</td>\n",
              "      <td>RL</td>\n",
              "      <td>124.0</td>\n",
              "      <td>27697</td>\n",
              "      <td>Pave</td>\n",
              "      <td>NaN</td>\n",
              "      <td>Reg</td>\n",
              "      <td>Lvl</td>\n",
              "      <td>...</td>\n",
              "      <td>NaN</td>\n",
              "      <td>0</td>\n",
              "      <td>11</td>\n",
              "      <td>2007</td>\n",
              "      <td>COD</td>\n",
              "      <td>Abnorml</td>\n",
              "      <td>80000</td>\n",
              "      <td>2.344783</td>\n",
              "      <td>2.227415</td>\n",
              "      <td>0.892655</td>\n",
              "    </tr>\n",
              "    <tr>\n",
              "      <th>2180</th>\n",
              "      <td>2181</td>\n",
              "      <td>908154195</td>\n",
              "      <td>20</td>\n",
              "      <td>RL</td>\n",
              "      <td>128.0</td>\n",
              "      <td>39290</td>\n",
              "      <td>Pave</td>\n",
              "      <td>NaN</td>\n",
              "      <td>IR1</td>\n",
              "      <td>Bnk</td>\n",
              "      <td>...</td>\n",
              "      <td>Elev</td>\n",
              "      <td>17000</td>\n",
              "      <td>10</td>\n",
              "      <td>2007</td>\n",
              "      <td>New</td>\n",
              "      <td>Partial</td>\n",
              "      <td>183850</td>\n",
              "      <td>2.516012</td>\n",
              "      <td>3.698856</td>\n",
              "      <td>1.104857</td>\n",
              "    </tr>\n",
              "    <tr>\n",
              "      <th>2445</th>\n",
              "      <td>2446</td>\n",
              "      <td>528320060</td>\n",
              "      <td>60</td>\n",
              "      <td>RL</td>\n",
              "      <td>118.0</td>\n",
              "      <td>35760</td>\n",
              "      <td>Pave</td>\n",
              "      <td>NaN</td>\n",
              "      <td>IR1</td>\n",
              "      <td>Lvl</td>\n",
              "      <td>...</td>\n",
              "      <td>NaN</td>\n",
              "      <td>0</td>\n",
              "      <td>7</td>\n",
              "      <td>2006</td>\n",
              "      <td>WD</td>\n",
              "      <td>Normal</td>\n",
              "      <td>625000</td>\n",
              "      <td>2.087940</td>\n",
              "      <td>3.250811</td>\n",
              "      <td>1.107178</td>\n",
              "    </tr>\n",
              "    <tr>\n",
              "      <th>...</th>\n",
              "      <td>...</td>\n",
              "      <td>...</td>\n",
              "      <td>...</td>\n",
              "      <td>...</td>\n",
              "      <td>...</td>\n",
              "      <td>...</td>\n",
              "      <td>...</td>\n",
              "      <td>...</td>\n",
              "      <td>...</td>\n",
              "      <td>...</td>\n",
              "      <td>...</td>\n",
              "      <td>...</td>\n",
              "      <td>...</td>\n",
              "      <td>...</td>\n",
              "      <td>...</td>\n",
              "      <td>...</td>\n",
              "      <td>...</td>\n",
              "      <td>...</td>\n",
              "      <td>...</td>\n",
              "      <td>...</td>\n",
              "      <td>...</td>\n",
              "    </tr>\n",
              "    <tr>\n",
              "      <th>1498</th>\n",
              "      <td>1499</td>\n",
              "      <td>908154235</td>\n",
              "      <td>60</td>\n",
              "      <td>RL</td>\n",
              "      <td>313.0</td>\n",
              "      <td>63887</td>\n",
              "      <td>Pave</td>\n",
              "      <td>NaN</td>\n",
              "      <td>IR3</td>\n",
              "      <td>Bnk</td>\n",
              "      <td>...</td>\n",
              "      <td>NaN</td>\n",
              "      <td>0</td>\n",
              "      <td>1</td>\n",
              "      <td>2008</td>\n",
              "      <td>New</td>\n",
              "      <td>Partial</td>\n",
              "      <td>160000</td>\n",
              "      <td>10.435347</td>\n",
              "      <td>6.820829</td>\n",
              "      <td>8.415988</td>\n",
              "    </tr>\n",
              "    <tr>\n",
              "      <th>2071</th>\n",
              "      <td>2072</td>\n",
              "      <td>905301050</td>\n",
              "      <td>20</td>\n",
              "      <td>RL</td>\n",
              "      <td>NaN</td>\n",
              "      <td>115149</td>\n",
              "      <td>Pave</td>\n",
              "      <td>NaN</td>\n",
              "      <td>IR2</td>\n",
              "      <td>Low</td>\n",
              "      <td>...</td>\n",
              "      <td>NaN</td>\n",
              "      <td>0</td>\n",
              "      <td>6</td>\n",
              "      <td>2007</td>\n",
              "      <td>WD</td>\n",
              "      <td>Normal</td>\n",
              "      <td>302000</td>\n",
              "      <td>NaN</td>\n",
              "      <td>13.327254</td>\n",
              "      <td>11.019869</td>\n",
              "    </tr>\n",
              "    <tr>\n",
              "      <th>2115</th>\n",
              "      <td>2116</td>\n",
              "      <td>906426060</td>\n",
              "      <td>50</td>\n",
              "      <td>RL</td>\n",
              "      <td>NaN</td>\n",
              "      <td>159000</td>\n",
              "      <td>Pave</td>\n",
              "      <td>NaN</td>\n",
              "      <td>IR2</td>\n",
              "      <td>Low</td>\n",
              "      <td>...</td>\n",
              "      <td>Shed</td>\n",
              "      <td>500</td>\n",
              "      <td>6</td>\n",
              "      <td>2007</td>\n",
              "      <td>WD</td>\n",
              "      <td>Normal</td>\n",
              "      <td>277000</td>\n",
              "      <td>NaN</td>\n",
              "      <td>18.893039</td>\n",
              "      <td>16.438354</td>\n",
              "    </tr>\n",
              "    <tr>\n",
              "      <th>1570</th>\n",
              "      <td>1571</td>\n",
              "      <td>916125425</td>\n",
              "      <td>190</td>\n",
              "      <td>RL</td>\n",
              "      <td>NaN</td>\n",
              "      <td>164660</td>\n",
              "      <td>Grvl</td>\n",
              "      <td>NaN</td>\n",
              "      <td>IR1</td>\n",
              "      <td>HLS</td>\n",
              "      <td>...</td>\n",
              "      <td>Shed</td>\n",
              "      <td>700</td>\n",
              "      <td>8</td>\n",
              "      <td>2008</td>\n",
              "      <td>WD</td>\n",
              "      <td>Normal</td>\n",
              "      <td>228950</td>\n",
              "      <td>NaN</td>\n",
              "      <td>19.611435</td>\n",
              "      <td>17.202843</td>\n",
              "    </tr>\n",
              "    <tr>\n",
              "      <th>956</th>\n",
              "      <td>957</td>\n",
              "      <td>916176125</td>\n",
              "      <td>20</td>\n",
              "      <td>RL</td>\n",
              "      <td>150.0</td>\n",
              "      <td>215245</td>\n",
              "      <td>Pave</td>\n",
              "      <td>NaN</td>\n",
              "      <td>IR3</td>\n",
              "      <td>Low</td>\n",
              "      <td>...</td>\n",
              "      <td>NaN</td>\n",
              "      <td>0</td>\n",
              "      <td>6</td>\n",
              "      <td>2009</td>\n",
              "      <td>WD</td>\n",
              "      <td>Normal</td>\n",
              "      <td>375000</td>\n",
              "      <td>3.457771</td>\n",
              "      <td>26.031932</td>\n",
              "      <td>23.290738</td>\n",
              "    </tr>\n",
              "  </tbody>\n",
              "</table>\n",
              "<p>2930 rows × 85 columns</p>\n",
              "</div>\n",
              "      <button class=\"colab-df-convert\" onclick=\"convertToInteractive('df-88ee9088-a8d1-4ec3-8167-6aea8f297d7a')\"\n",
              "              title=\"Convert this dataframe to an interactive table.\"\n",
              "              style=\"display:none;\">\n",
              "        \n",
              "  <svg xmlns=\"http://www.w3.org/2000/svg\" height=\"24px\"viewBox=\"0 0 24 24\"\n",
              "       width=\"24px\">\n",
              "    <path d=\"M0 0h24v24H0V0z\" fill=\"none\"/>\n",
              "    <path d=\"M18.56 5.44l.94 2.06.94-2.06 2.06-.94-2.06-.94-.94-2.06-.94 2.06-2.06.94zm-11 1L8.5 8.5l.94-2.06 2.06-.94-2.06-.94L8.5 2.5l-.94 2.06-2.06.94zm10 10l.94 2.06.94-2.06 2.06-.94-2.06-.94-.94-2.06-.94 2.06-2.06.94z\"/><path d=\"M17.41 7.96l-1.37-1.37c-.4-.4-.92-.59-1.43-.59-.52 0-1.04.2-1.43.59L10.3 9.45l-7.72 7.72c-.78.78-.78 2.05 0 2.83L4 21.41c.39.39.9.59 1.41.59.51 0 1.02-.2 1.41-.59l7.78-7.78 2.81-2.81c.8-.78.8-2.07 0-2.86zM5.41 20L4 18.59l7.72-7.72 1.47 1.35L5.41 20z\"/>\n",
              "  </svg>\n",
              "      </button>\n",
              "      \n",
              "  <style>\n",
              "    .colab-df-container {\n",
              "      display:flex;\n",
              "      flex-wrap:wrap;\n",
              "      gap: 12px;\n",
              "    }\n",
              "\n",
              "    .colab-df-convert {\n",
              "      background-color: #E8F0FE;\n",
              "      border: none;\n",
              "      border-radius: 50%;\n",
              "      cursor: pointer;\n",
              "      display: none;\n",
              "      fill: #1967D2;\n",
              "      height: 32px;\n",
              "      padding: 0 0 0 0;\n",
              "      width: 32px;\n",
              "    }\n",
              "\n",
              "    .colab-df-convert:hover {\n",
              "      background-color: #E2EBFA;\n",
              "      box-shadow: 0px 1px 2px rgba(60, 64, 67, 0.3), 0px 1px 3px 1px rgba(60, 64, 67, 0.15);\n",
              "      fill: #174EA6;\n",
              "    }\n",
              "\n",
              "    [theme=dark] .colab-df-convert {\n",
              "      background-color: #3B4455;\n",
              "      fill: #D2E3FC;\n",
              "    }\n",
              "\n",
              "    [theme=dark] .colab-df-convert:hover {\n",
              "      background-color: #434B5C;\n",
              "      box-shadow: 0px 1px 3px 1px rgba(0, 0, 0, 0.15);\n",
              "      filter: drop-shadow(0px 1px 2px rgba(0, 0, 0, 0.3));\n",
              "      fill: #FFFFFF;\n",
              "    }\n",
              "  </style>\n",
              "\n",
              "      <script>\n",
              "        const buttonEl =\n",
              "          document.querySelector('#df-88ee9088-a8d1-4ec3-8167-6aea8f297d7a button.colab-df-convert');\n",
              "        buttonEl.style.display =\n",
              "          google.colab.kernel.accessAllowed ? 'block' : 'none';\n",
              "\n",
              "        async function convertToInteractive(key) {\n",
              "          const element = document.querySelector('#df-88ee9088-a8d1-4ec3-8167-6aea8f297d7a');\n",
              "          const dataTable =\n",
              "            await google.colab.kernel.invokeFunction('convertToInteractive',\n",
              "                                                     [key], {});\n",
              "          if (!dataTable) return;\n",
              "\n",
              "          const docLinkHtml = 'Like what you see? Visit the ' +\n",
              "            '<a target=\"_blank\" href=https://colab.research.google.com/notebooks/data_table.ipynb>data table notebook</a>'\n",
              "            + ' to learn more about interactive tables.';\n",
              "          element.innerHTML = '';\n",
              "          dataTable['output_type'] = 'display_data';\n",
              "          await google.colab.output.renderOutput(dataTable, element);\n",
              "          const docLink = document.createElement('div');\n",
              "          docLink.innerHTML = docLinkHtml;\n",
              "          element.appendChild(docLink);\n",
              "        }\n",
              "      </script>\n",
              "    </div>\n",
              "  </div>\n",
              "  "
            ]
          },
          "metadata": {},
          "execution_count": 69
        }
      ]
    },
    {
      "cell_type": "code",
      "source": [
        ""
      ],
      "metadata": {
        "id": "kwednN15pxQO"
      },
      "execution_count": null,
      "outputs": []
    }
  ]
}