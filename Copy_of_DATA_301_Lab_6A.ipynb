{
  "nbformat": 4,
  "nbformat_minor": 0,
  "metadata": {
    "kernelspec": {
      "display_name": "Python 3",
      "language": "python",
      "name": "python3"
    },
    "language_info": {
      "codemirror_mode": {
        "name": "ipython",
        "version": 3
      },
      "file_extension": ".py",
      "mimetype": "text/x-python",
      "name": "python",
      "nbconvert_exporter": "python",
      "pygments_lexer": "ipython3",
      "version": "3.7.1"
    },
    "colab": {
      "name": "Copy of DATA 301 Lab 6A",
      "provenance": [],
      "collapsed_sections": [],
      "include_colab_link": true
    }
  },
  "cells": [
    {
      "cell_type": "markdown",
      "metadata": {
        "id": "view-in-github",
        "colab_type": "text"
      },
      "source": [
        "<a href=\"https://colab.research.google.com/github/Hadiasemi/Data301/blob/main/Copy_of_DATA_301_Lab_6A.ipynb\" target=\"_parent\"><img src=\"https://colab.research.google.com/assets/colab-badge.svg\" alt=\"Open In Colab\"/></a>"
      ]
    },
    {
      "cell_type": "markdown",
      "metadata": {
        "id": "GWSNdW_jY8DY"
      },
      "source": [
        "# Machine Learning for Beer\n",
        "\n",
        "Your goal is to train a model to predict the bitterness of a beer (in International Bittering Units, or IBU), given features about the beer. You can acquire the data in any one of three places:\n",
        "\n",
        "- on [Kaggle](https://www.kaggle.com/competitions/beer2022ventura/data) \n",
        "- on [Github](https://github.com/dlsun/pods/tree/master/data/beer) (https://dlsun.github.io/pods/data/beer/beer_train.csv and https://dlsun.github.io/pods/data/beer/beer_test.csv )\n",
        "\n",
        "A description of the variables is available [here](https://www.kaggle.com/competitions/beer2022ventura/data)."
      ]
    },
    {
      "cell_type": "markdown",
      "metadata": {
        "id": "vgaFvqueY8Dc"
      },
      "source": [
        "## Question 1\n",
        "\n",
        "You would like to predict **ibu** using a $20$-nearest neighbors model. You are choosing between 4 sets of features to put into this model:\n",
        "\n",
        "1. **abv**\n",
        "2. **abv**, **name**\n",
        "3. **abv**, **name**, **available**\n",
        "4. **abv**, **name**, **available**, **glass**\n",
        "\n",
        "Apply TF-IDF (using the top 100 terms) to the raw text variables and one-hot encoding to the categorical variables.  (It is up to you which variables to treat as categorical and which to treat as raw text.)\n",
        "\n",
        "\n",
        "For each set of features, train a $20$-nearest neighbor model to predict IBU (**ibu**). Which of these models is best for predicting IBU? Justify your answer."
      ]
    },
    {
      "cell_type": "code",
      "source": [
        "import pandas as pd\n",
        "from sklearn.linear_model import LinearRegression\n",
        "from sklearn.compose import make_column_transformer\n",
        "from sklearn.preprocessing import StandardScaler, OneHotEncoder\n",
        "from sklearn.pipeline import make_pipeline\n",
        "from sklearn.model_selection import cross_val_score\n",
        "from sklearn.neighbors import KNeighborsRegressor\n",
        "import numpy as np\n",
        "\n",
        "df_beer_train = pd.read_csv(\"https://dlsun.github.io/pods/data/beer/beer_train.csv\")\n",
        "df_beer_train.head()"
      ],
      "metadata": {
        "id": "Jp633bLE3pB2",
        "colab": {
          "base_uri": "https://localhost:8080/",
          "height": 206
        },
        "outputId": "cdbf97c3-6343-4d75-fd66-bfca30c2bd9c"
      },
      "execution_count": 80,
      "outputs": [
        {
          "output_type": "execute_result",
          "data": {
            "text/plain": [
              "   id  abv                                        available  \\\n",
              "0   0  8.2  Available at the same time of year, every year.   \n",
              "1   1  5.7  Available at the same time of year, every year.   \n",
              "2   2  5.8  Available at the same time of year, every year.   \n",
              "3   3  5.5           Available year round as a staple beer.   \n",
              "4   4  4.8           Available year round as a staple beer.   \n",
              "\n",
              "                                         description glass   ibu isOrganic  \\\n",
              "0  A Belgian-Abbey-Style Tripel that is big in al...   NaN  31.0         N   \n",
              "1  Covert Hops is a crafty ale. Its stealthy dark...  Pint  45.0         N   \n",
              "2  This is a traditional German-style Marzen char...   Mug  25.0         N   \n",
              "3  A West Coast-Style Pale Ale balancing plenty o...  Pint  55.0         N   \n",
              "4  This Bombshell has a tantalizing crisp and cle...  Pint  11.4         N   \n",
              "\n",
              "                     name  originalGravity srm  \n",
              "0         LoonyToonTripel            1.070   8  \n",
              "1             Covert Hops            1.056  35  \n",
              "2             Oktoberfest            1.048  10  \n",
              "3                Pale Ale            1.044   5  \n",
              "4  Head Turner Blonde Ale            1.045   3  "
            ],
            "text/html": [
              "\n",
              "  <div id=\"df-9b3b16e1-3667-4598-aed8-4fa428fb5571\">\n",
              "    <div class=\"colab-df-container\">\n",
              "      <div>\n",
              "<style scoped>\n",
              "    .dataframe tbody tr th:only-of-type {\n",
              "        vertical-align: middle;\n",
              "    }\n",
              "\n",
              "    .dataframe tbody tr th {\n",
              "        vertical-align: top;\n",
              "    }\n",
              "\n",
              "    .dataframe thead th {\n",
              "        text-align: right;\n",
              "    }\n",
              "</style>\n",
              "<table border=\"1\" class=\"dataframe\">\n",
              "  <thead>\n",
              "    <tr style=\"text-align: right;\">\n",
              "      <th></th>\n",
              "      <th>id</th>\n",
              "      <th>abv</th>\n",
              "      <th>available</th>\n",
              "      <th>description</th>\n",
              "      <th>glass</th>\n",
              "      <th>ibu</th>\n",
              "      <th>isOrganic</th>\n",
              "      <th>name</th>\n",
              "      <th>originalGravity</th>\n",
              "      <th>srm</th>\n",
              "    </tr>\n",
              "  </thead>\n",
              "  <tbody>\n",
              "    <tr>\n",
              "      <th>0</th>\n",
              "      <td>0</td>\n",
              "      <td>8.2</td>\n",
              "      <td>Available at the same time of year, every year.</td>\n",
              "      <td>A Belgian-Abbey-Style Tripel that is big in al...</td>\n",
              "      <td>NaN</td>\n",
              "      <td>31.0</td>\n",
              "      <td>N</td>\n",
              "      <td>LoonyToonTripel</td>\n",
              "      <td>1.070</td>\n",
              "      <td>8</td>\n",
              "    </tr>\n",
              "    <tr>\n",
              "      <th>1</th>\n",
              "      <td>1</td>\n",
              "      <td>5.7</td>\n",
              "      <td>Available at the same time of year, every year.</td>\n",
              "      <td>Covert Hops is a crafty ale. Its stealthy dark...</td>\n",
              "      <td>Pint</td>\n",
              "      <td>45.0</td>\n",
              "      <td>N</td>\n",
              "      <td>Covert Hops</td>\n",
              "      <td>1.056</td>\n",
              "      <td>35</td>\n",
              "    </tr>\n",
              "    <tr>\n",
              "      <th>2</th>\n",
              "      <td>2</td>\n",
              "      <td>5.8</td>\n",
              "      <td>Available at the same time of year, every year.</td>\n",
              "      <td>This is a traditional German-style Marzen char...</td>\n",
              "      <td>Mug</td>\n",
              "      <td>25.0</td>\n",
              "      <td>N</td>\n",
              "      <td>Oktoberfest</td>\n",
              "      <td>1.048</td>\n",
              "      <td>10</td>\n",
              "    </tr>\n",
              "    <tr>\n",
              "      <th>3</th>\n",
              "      <td>3</td>\n",
              "      <td>5.5</td>\n",
              "      <td>Available year round as a staple beer.</td>\n",
              "      <td>A West Coast-Style Pale Ale balancing plenty o...</td>\n",
              "      <td>Pint</td>\n",
              "      <td>55.0</td>\n",
              "      <td>N</td>\n",
              "      <td>Pale Ale</td>\n",
              "      <td>1.044</td>\n",
              "      <td>5</td>\n",
              "    </tr>\n",
              "    <tr>\n",
              "      <th>4</th>\n",
              "      <td>4</td>\n",
              "      <td>4.8</td>\n",
              "      <td>Available year round as a staple beer.</td>\n",
              "      <td>This Bombshell has a tantalizing crisp and cle...</td>\n",
              "      <td>Pint</td>\n",
              "      <td>11.4</td>\n",
              "      <td>N</td>\n",
              "      <td>Head Turner Blonde Ale</td>\n",
              "      <td>1.045</td>\n",
              "      <td>3</td>\n",
              "    </tr>\n",
              "  </tbody>\n",
              "</table>\n",
              "</div>\n",
              "      <button class=\"colab-df-convert\" onclick=\"convertToInteractive('df-9b3b16e1-3667-4598-aed8-4fa428fb5571')\"\n",
              "              title=\"Convert this dataframe to an interactive table.\"\n",
              "              style=\"display:none;\">\n",
              "        \n",
              "  <svg xmlns=\"http://www.w3.org/2000/svg\" height=\"24px\"viewBox=\"0 0 24 24\"\n",
              "       width=\"24px\">\n",
              "    <path d=\"M0 0h24v24H0V0z\" fill=\"none\"/>\n",
              "    <path d=\"M18.56 5.44l.94 2.06.94-2.06 2.06-.94-2.06-.94-.94-2.06-.94 2.06-2.06.94zm-11 1L8.5 8.5l.94-2.06 2.06-.94-2.06-.94L8.5 2.5l-.94 2.06-2.06.94zm10 10l.94 2.06.94-2.06 2.06-.94-2.06-.94-.94-2.06-.94 2.06-2.06.94z\"/><path d=\"M17.41 7.96l-1.37-1.37c-.4-.4-.92-.59-1.43-.59-.52 0-1.04.2-1.43.59L10.3 9.45l-7.72 7.72c-.78.78-.78 2.05 0 2.83L4 21.41c.39.39.9.59 1.41.59.51 0 1.02-.2 1.41-.59l7.78-7.78 2.81-2.81c.8-.78.8-2.07 0-2.86zM5.41 20L4 18.59l7.72-7.72 1.47 1.35L5.41 20z\"/>\n",
              "  </svg>\n",
              "      </button>\n",
              "      \n",
              "  <style>\n",
              "    .colab-df-container {\n",
              "      display:flex;\n",
              "      flex-wrap:wrap;\n",
              "      gap: 12px;\n",
              "    }\n",
              "\n",
              "    .colab-df-convert {\n",
              "      background-color: #E8F0FE;\n",
              "      border: none;\n",
              "      border-radius: 50%;\n",
              "      cursor: pointer;\n",
              "      display: none;\n",
              "      fill: #1967D2;\n",
              "      height: 32px;\n",
              "      padding: 0 0 0 0;\n",
              "      width: 32px;\n",
              "    }\n",
              "\n",
              "    .colab-df-convert:hover {\n",
              "      background-color: #E2EBFA;\n",
              "      box-shadow: 0px 1px 2px rgba(60, 64, 67, 0.3), 0px 1px 3px 1px rgba(60, 64, 67, 0.15);\n",
              "      fill: #174EA6;\n",
              "    }\n",
              "\n",
              "    [theme=dark] .colab-df-convert {\n",
              "      background-color: #3B4455;\n",
              "      fill: #D2E3FC;\n",
              "    }\n",
              "\n",
              "    [theme=dark] .colab-df-convert:hover {\n",
              "      background-color: #434B5C;\n",
              "      box-shadow: 0px 1px 3px 1px rgba(0, 0, 0, 0.15);\n",
              "      filter: drop-shadow(0px 1px 2px rgba(0, 0, 0, 0.3));\n",
              "      fill: #FFFFFF;\n",
              "    }\n",
              "  </style>\n",
              "\n",
              "      <script>\n",
              "        const buttonEl =\n",
              "          document.querySelector('#df-9b3b16e1-3667-4598-aed8-4fa428fb5571 button.colab-df-convert');\n",
              "        buttonEl.style.display =\n",
              "          google.colab.kernel.accessAllowed ? 'block' : 'none';\n",
              "\n",
              "        async function convertToInteractive(key) {\n",
              "          const element = document.querySelector('#df-9b3b16e1-3667-4598-aed8-4fa428fb5571');\n",
              "          const dataTable =\n",
              "            await google.colab.kernel.invokeFunction('convertToInteractive',\n",
              "                                                     [key], {});\n",
              "          if (!dataTable) return;\n",
              "\n",
              "          const docLinkHtml = 'Like what you see? Visit the ' +\n",
              "            '<a target=\"_blank\" href=https://colab.research.google.com/notebooks/data_table.ipynb>data table notebook</a>'\n",
              "            + ' to learn more about interactive tables.';\n",
              "          element.innerHTML = '';\n",
              "          dataTable['output_type'] = 'display_data';\n",
              "          await google.colab.output.renderOutput(dataTable, element);\n",
              "          const docLink = document.createElement('div');\n",
              "          docLink.innerHTML = docLinkHtml;\n",
              "          element.appendChild(docLink);\n",
              "        }\n",
              "      </script>\n",
              "    </div>\n",
              "  </div>\n",
              "  "
            ]
          },
          "metadata": {},
          "execution_count": 80
        }
      ]
    },
    {
      "cell_type": "code",
      "source": [
        "error = pd.Series()\n",
        "\n",
        "ct = make_column_transformer(\n",
        "    (StandardScaler(), [\"abv\"]),\n",
        "    remainder=\"drop\"  # all other columns in X will be dropped.\n",
        ")\n",
        "\n",
        "pipeline = make_pipeline(\n",
        "  ct,\n",
        "  KNeighborsRegressor(n_neighbors=20)\n",
        ")\n",
        "\n",
        "# calculate errors from cross-validation\n",
        "cv_errs = -cross_val_score(pipeline, X=df_beer_train[['abv']],\n",
        "                            y=df_beer_train[\"ibu\"],\n",
        "                            scoring=\"neg_mean_squared_error\", cv=10)\n",
        "\n",
        "# calculate average of the cross-validation errors\n",
        "error['abv'] = cv_errs.mean()"
      ],
      "metadata": {
        "colab": {
          "base_uri": "https://localhost:8080/"
        },
        "id": "SktnPG3Q5SrZ",
        "outputId": "15995778-011e-4615-9c1b-6146427c68a5"
      },
      "execution_count": 81,
      "outputs": [
        {
          "output_type": "stream",
          "name": "stderr",
          "text": [
            "/usr/local/lib/python3.7/dist-packages/ipykernel_launcher.py:1: DeprecationWarning: The default dtype for empty Series will be 'object' instead of 'float64' in a future version. Specify a dtype explicitly to silence this warning.\n",
            "  \"\"\"Entry point for launching an IPython kernel.\n"
          ]
        }
      ]
    },
    {
      "cell_type": "code",
      "source": [
        "\n",
        "from  sklearn.feature_extraction.text import TfidfVectorizer\n",
        "ct = make_column_transformer(\n",
        "    (StandardScaler(), [\"abv\"]),\n",
        "    (TfidfVectorizer(norm=None, max_features=100), \"name\"),\n",
        "    remainder=\"drop\"  # all other columns in X will be dropped.\n",
        ")\n",
        "\n",
        "pipeline = make_pipeline(\n",
        "  ct,\n",
        "  KNeighborsRegressor(n_neighbors=20)\n",
        ")\n",
        "\n",
        "# calculate errors from cross-validation\n",
        "cv_errs = -cross_val_score(pipeline, X=df_beer_train[['abv', \"name\"]],\n",
        "                            y=df_beer_train[\"ibu\"],\n",
        "                            scoring=\"neg_mean_squared_error\", cv=10)\n",
        "\n",
        "# calculate average of the cross-validation errors\n",
        "error[\"abv, name\"] =cv_errs.mean()"
      ],
      "metadata": {
        "id": "QtPl9Vu571W4"
      },
      "execution_count": 82,
      "outputs": []
    },
    {
      "cell_type": "code",
      "source": [
        "ct = make_column_transformer(\n",
        "    (StandardScaler(), [\"abv\"]),\n",
        "    (TfidfVectorizer(norm=None, max_features=100), \"name\"),\n",
        "    (OneHotEncoder(handle_unknown='ignore'), ['available']),\n",
        "    remainder=\"drop\"  # all other columns in X will be dropped.\n",
        ")\n",
        "\n",
        "pipeline = make_pipeline(\n",
        "  ct,\n",
        "  KNeighborsRegressor(n_neighbors=20)\n",
        ")\n",
        "\n",
        "# calculate errors from cross-validation\n",
        "cv_errs = -cross_val_score(pipeline, X=df_beer_train[['abv', \"name\", 'available']],\n",
        "                            y=df_beer_train[\"ibu\"],\n",
        "                            scoring=\"neg_mean_squared_error\", cv=10)\n",
        "\n",
        "# calculate average of the cross-validation errors\n",
        "error['abv, name, available'] = cv_errs.mean()"
      ],
      "metadata": {
        "id": "StsW2Qpu9tow"
      },
      "execution_count": 83,
      "outputs": []
    },
    {
      "cell_type": "code",
      "source": [
        "df_beer_train['glass'] = df_beer_train['glass'].fillna(\"Now\")\n",
        "ct = make_column_transformer(\n",
        "    (StandardScaler(), [\"abv\"]),\n",
        "    (TfidfVectorizer(norm = None, max_features=100), \"name\"),\n",
        "    (OneHotEncoder(handle_unknown='ignore'), ['available', 'glass']),\n",
        "    remainder=\"drop\"  # all other columns in X will be dropped.\n",
        ")\n",
        "\n",
        "pipeline = make_pipeline(\n",
        "  ct,\n",
        "  KNeighborsRegressor(n_neighbors=20)\n",
        ")\n",
        "\n",
        "# calculate errors from cross-validation\n",
        "cv_errs = -cross_val_score(pipeline, X=df_beer_train[['abv', \"name\", 'available', 'glass']],\n",
        "                            y=df_beer_train[\"ibu\"],\n",
        "                            scoring=\"neg_mean_squared_error\", cv=10)\n",
        "\n",
        "# calculate average of the cross-validation errors\n",
        "error['abv, name, available, glass'] = cv_errs.mean()"
      ],
      "metadata": {
        "id": "CsTomGrZ-ZHX"
      },
      "execution_count": 84,
      "outputs": []
    },
    {
      "cell_type": "code",
      "source": [
        "\n",
        "np.sqrt(error)"
      ],
      "metadata": {
        "colab": {
          "base_uri": "https://localhost:8080/"
        },
        "id": "pi7Du4rkAP5y",
        "outputId": "564c6ea0-617d-491e-99e2-345613cd1f7f"
      },
      "execution_count": 85,
      "outputs": [
        {
          "output_type": "execute_result",
          "data": {
            "text/plain": [
              "abv                            25.501843\n",
              "abv, name                      23.741901\n",
              "abv, name, available           23.740033\n",
              "abv, name, available, glass    23.577605\n",
              "dtype: float64"
            ]
          },
          "metadata": {},
          "execution_count": 85
        }
      ]
    },
    {
      "cell_type": "markdown",
      "source": [
        "The fourth one is best one to choose with error 23.577605."
      ],
      "metadata": {
        "id": "4FPOMft8Cab7"
      }
    },
    {
      "cell_type": "markdown",
      "metadata": {
        "id": "aEBlEDxWY8Dl"
      },
      "source": [
        "## Question 2\n",
        "\n",
        "Let's see how the distance metric and the scaling method influence prediction accuracy. Use the set of features from Question 1 that you determined to be the best. Continue to use $k=20$ nearest neighbors, but try fitting models with different distance metrics and scaling methods. Which distance metric and/or scaling method gives the best prediction accuracy?"
      ]
    },
    {
      "cell_type": "code",
      "source": [
        "from sklearn.preprocessing import RobustScaler"
      ],
      "metadata": {
        "id": "NGNyaGOhh7P6"
      },
      "execution_count": 86,
      "outputs": []
    },
    {
      "cell_type": "code",
      "source": [
        "errors = pd.Series()\n",
        "\n",
        "df_beer_train['glass'] = df_beer_train['glass'].fillna(\"Now\")\n",
        "ct = make_column_transformer(\n",
        "    (StandardScaler(), [\"abv\"]),\n",
        "    (TfidfVectorizer(norm = None, max_features=100), \"name\"),\n",
        "    (OneHotEncoder(handle_unknown='ignore'), ['available', 'glass']),\n",
        "    remainder=\"drop\"  # all other columns in X will be dropped.\n",
        ")\n",
        "\n",
        "pipeline = make_pipeline(\n",
        "  ct,\n",
        "  KNeighborsRegressor(n_neighbors=20, p=1) # manhattan_distance\n",
        ")\n",
        "\n",
        "# calculate errors from cross-validation\n",
        "cv_errs = -cross_val_score(pipeline, X=df_beer_train[['abv', \"name\", 'available', 'glass']],\n",
        "                            y=df_beer_train[\"ibu\"],\n",
        "                            scoring=\"neg_mean_squared_error\", cv=10)\n",
        "\n",
        "# calculate average of the cross-validation errors\n",
        "errors['Standard Scalar, Manhatan Dist'] = np.sqrt(cv_errs.mean())\n"
      ],
      "metadata": {
        "colab": {
          "base_uri": "https://localhost:8080/"
        },
        "id": "tOEZXBn5DL9P",
        "outputId": "9445b77d-5253-4f81-b2d9-47b00c20f7c8"
      },
      "execution_count": 87,
      "outputs": [
        {
          "output_type": "stream",
          "name": "stderr",
          "text": [
            "/usr/local/lib/python3.7/dist-packages/ipykernel_launcher.py:1: DeprecationWarning: The default dtype for empty Series will be 'object' instead of 'float64' in a future version. Specify a dtype explicitly to silence this warning.\n",
            "  \"\"\"Entry point for launching an IPython kernel.\n"
          ]
        }
      ]
    },
    {
      "cell_type": "code",
      "source": [
        "\n",
        "df_beer_train['glass'] = df_beer_train['glass'].fillna(\"Now\")\n",
        "ct = make_column_transformer(\n",
        "    (RobustScaler(), [\"abv\"]),\n",
        "    (TfidfVectorizer(norm = None, max_features=100), \"name\"),\n",
        "    (OneHotEncoder(handle_unknown='ignore'), [\"available\", \"glass\"]),\n",
        "    remainder=\"drop\"  # all other columns in X will be dropped.\n",
        ")\n",
        "\n",
        "pipeline = make_pipeline(\n",
        "  ct,\n",
        "  KNeighborsRegressor(n_neighbors=20) # euclidean_distance\n",
        ")\n",
        "\n",
        "# calculate errors from cross-validation\n",
        "cv_errs = -cross_val_score(pipeline, X=df_beer_train[['abv', \"name\", 'available', 'glass']],\n",
        "                            y=df_beer_train[\"ibu\"],\n",
        "                            scoring=\"neg_mean_squared_error\", cv=10)\n",
        "\n",
        "# calculate average of the cross-validation errors\n",
        "errors['Robust Scalar, Eculidian Dist'] = np.sqrt(cv_errs.mean())"
      ],
      "metadata": {
        "id": "egMf7YUkZfoJ"
      },
      "execution_count": 88,
      "outputs": []
    },
    {
      "cell_type": "code",
      "source": [
        "df_beer_train['glass'] = df_beer_train['glass'].fillna(\"Now\")\n",
        "ct = make_column_transformer(\n",
        "    (RobustScaler(), [\"abv\"]),\n",
        "    (TfidfVectorizer(norm = None, max_features=100), \"name\"),\n",
        "    (OneHotEncoder(handle_unknown='ignore'), ['available', 'glass']),\n",
        "    remainder=\"drop\"  # all other columns in X will be dropped.\n",
        ")\n",
        "\n",
        "pipeline = make_pipeline(\n",
        "  ct,\n",
        "  KNeighborsRegressor(n_neighbors=20, p=1) # manhattan_distance\n",
        ")\n",
        "\n",
        "# calculate errors from cross-validation\n",
        "cv_errs = -cross_val_score(pipeline, X=df_beer_train[['abv', \"name\", 'available', 'glass']],\n",
        "                            y=df_beer_train[\"ibu\"],\n",
        "                            scoring=\"neg_mean_squared_error\", cv=10)\n",
        "\n",
        "# calculate average of the cross-validation errors\n",
        "errors['Robust Scalar, Manhatan Dist'] = np.sqrt(cv_errs.mean())"
      ],
      "metadata": {
        "id": "Y2ZmGRMyezsO"
      },
      "execution_count": 89,
      "outputs": []
    },
    {
      "cell_type": "code",
      "source": [
        "df_beer_train['glass'] = df_beer_train['glass'].fillna(\"Now\")\n",
        "ct = make_column_transformer(\n",
        "    (StandardScaler(), [\"abv\"]),\n",
        "    (TfidfVectorizer(norm = None, max_features=100), \"name\"),\n",
        "    (OneHotEncoder(handle_unknown='ignore'), ['available', 'glass']),\n",
        "    remainder=\"drop\"  # all other columns in X will be dropped.\n",
        ")\n",
        "\n",
        "pipeline = make_pipeline(\n",
        "  ct,\n",
        "  KNeighborsRegressor(n_neighbors=20) # manhattan_distance\n",
        ")\n",
        "\n",
        "# calculate errors from cross-validation\n",
        "cv_errs = -cross_val_score(pipeline, X=df_beer_train[['abv', \"name\", 'available', 'glass']],\n",
        "                            y=df_beer_train[\"ibu\"],\n",
        "                            scoring=\"neg_mean_squared_error\", cv=10)\n",
        "\n",
        "# calculate average of the cross-validation errors\n",
        "errors['Standard Scalar, Eculidian Dist'] = np.sqrt(cv_errs.mean())"
      ],
      "metadata": {
        "id": "safbGyF3jYjb"
      },
      "execution_count": 90,
      "outputs": []
    },
    {
      "cell_type": "code",
      "source": [
        "errors"
      ],
      "metadata": {
        "colab": {
          "base_uri": "https://localhost:8080/"
        },
        "id": "EPBYJ5z4jjHW",
        "outputId": "b0eb7529-c4f1-4650-c68b-6c2348694623"
      },
      "execution_count": 91,
      "outputs": [
        {
          "output_type": "execute_result",
          "data": {
            "text/plain": [
              "Standard Scalar, Manhatan Dist     23.241898\n",
              "Robust Scalar, Eculidian Dist      23.594698\n",
              "Robust Scalar, Manhatan Dist       23.225148\n",
              "Standard Scalar, Eculidian Dist    23.577605\n",
              "dtype: float64"
            ]
          },
          "metadata": {},
          "execution_count": 91
        }
      ]
    },
    {
      "cell_type": "markdown",
      "source": [
        "Based on the result I got the least error for the **Robust Scalar, Manhatan Dist :23.225148**"
      ],
      "metadata": {
        "id": "ob7568_ZlB_D"
      }
    },
    {
      "cell_type": "markdown",
      "metadata": {
        "id": "J_uFz0BaY8Ds"
      },
      "source": [
        "## Question 3\n",
        "\n",
        "Finally, let's determine the right value of $k$. Use the set of features, the distance metric, and the scaling method that you determined to be best (for $k=20$) in Questions 1 and 2. Fit $k$-nearest neighbor models for different values of $k$. Plot the training error and the estimated test error as functions of $k$, and determine the optimal value of $k$."
      ]
    },
    {
      "cell_type": "code",
      "source": [
        "from sklearn.model_selection import GridSearchCV"
      ],
      "metadata": {
        "id": "IEJkuyciljp6"
      },
      "execution_count": 92,
      "outputs": []
    },
    {
      "cell_type": "code",
      "source": [
        "ct = make_column_transformer(\n",
        "    (RobustScaler(), [\"abv\"]),\n",
        "    (TfidfVectorizer(norm = None, max_features = 100), \"name\"),\n",
        "    (OneHotEncoder(handle_unknown='ignore'), [\"available\", \"glass\"]),\n",
        "    remainder=\"drop\"  # all other columns in X will be dropped.\n",
        ")\n",
        "pipeline = make_pipeline(\n",
        "  ct,\n",
        "  KNeighborsRegressor(p=1)\n",
        ")\n",
        "\n",
        "X_train = df_beer_train[['abv','name','available','glass']]\n",
        "y_train = df_beer_train['ibu']\n",
        "\n",
        "grid_search = GridSearchCV(pipeline,\n",
        "                           param_grid={\n",
        "                               \"kneighborsregressor__n_neighbors\": range(1, 20)\n",
        "                           },\n",
        "                           scoring=\"neg_mean_absolute_error\",\n",
        "                           cv=10)\n",
        "grid_search.fit(X_train, y_train)\n",
        "grid_search.best_estimator_"
      ],
      "metadata": {
        "colab": {
          "base_uri": "https://localhost:8080/"
        },
        "id": "RtQYvbFzlwhu",
        "outputId": "6895ec7f-8ed0-4c15-e3a2-b7368b4b682d"
      },
      "execution_count": 93,
      "outputs": [
        {
          "output_type": "execute_result",
          "data": {
            "text/plain": [
              "Pipeline(steps=[('columntransformer',\n",
              "                 ColumnTransformer(transformers=[('robustscaler',\n",
              "                                                  RobustScaler(), ['abv']),\n",
              "                                                 ('tfidfvectorizer',\n",
              "                                                  TfidfVectorizer(max_features=100,\n",
              "                                                                  norm=None),\n",
              "                                                  'name'),\n",
              "                                                 ('onehotencoder',\n",
              "                                                  OneHotEncoder(handle_unknown='ignore'),\n",
              "                                                  ['available', 'glass'])])),\n",
              "                ('kneighborsregressor',\n",
              "                 KNeighborsRegressor(n_neighbors=17, p=1))])"
            ]
          },
          "metadata": {},
          "execution_count": 93
        }
      ]
    },
    {
      "cell_type": "code",
      "metadata": {
        "id": "22_pXlcHRC6D",
        "colab": {
          "base_uri": "https://localhost:8080/",
          "height": 613
        },
        "outputId": "a7e0866a-3f0d-4bf4-e4c7-ccda48bba17b"
      },
      "source": [
        "from sklearn.model_selection import cross_val_score\n",
        "X_train = df_beer_train[['abv','name','available','glass']]\n",
        "y_train = df_beer_train['ibu']\n",
        "\n",
        "\n",
        "# calculate estimate of test error for a value of k\n",
        "def get_cv_error(k):\n",
        "  # define pipeline\n",
        "  pipeline = make_pipeline(\n",
        "  ct,\n",
        "  KNeighborsRegressor(n_neighbors=k, p=1)\n",
        "  )\n",
        "\n",
        "  # calculate errors from cross-validation\n",
        "  cv_errs = -cross_val_score(pipeline, X=X_train, y=y_train,\n",
        "                             scoring=\"neg_mean_squared_error\", cv=10)\n",
        "  # calculate average of the cross-validation errors\n",
        "  return cv_errs.mean()\n",
        "    \n",
        "ks = pd.Series(range(1, 20))\n",
        "ks.index = range(1, 20)\n",
        "test_errs = ks.apply(get_cv_error)\n",
        "test_errs\n",
        "test_errs.plot.line()\n",
        "test_errs.sort_values()"
      ],
      "execution_count": 98,
      "outputs": [
        {
          "output_type": "execute_result",
          "data": {
            "text/plain": [
              "18    538.750078\n",
              "17    539.077787\n",
              "19    540.506882\n",
              "16    541.120942\n",
              "15    542.051523\n",
              "14    544.698066\n",
              "13    545.735100\n",
              "12    549.334882\n",
              "11    555.178446\n",
              "10    558.297210\n",
              "9     561.143195\n",
              "8     571.418608\n",
              "7     573.166703\n",
              "6     582.211138\n",
              "5     594.458795\n",
              "4     619.993625\n",
              "3     654.106215\n",
              "2     765.718442\n",
              "1     985.079022\n",
              "dtype: float64"
            ]
          },
          "metadata": {},
          "execution_count": 98
        },
        {
          "output_type": "display_data",
          "data": {
            "text/plain": [
              "<Figure size 432x288 with 1 Axes>"
            ],
            "image/png": "[encoded data removed]"
          },
          "metadata": {
            "needs_background": "light"
          }
        }
      ]
    },
    {
      "cell_type": "markdown",
      "source": [
        "Based on GridSearchCV I got k = 17 from range of 1 to 20. With other method of calculation error for the k, I got 18."
      ],
      "metadata": {
        "id": "UWjU1Px7rikU"
      }
    },
    {
      "cell_type": "markdown",
      "metadata": {
        "id": "qhRFqKSDY8D2"
      },
      "source": [
        "## Submission Instructions\n",
        "\n",
        "- Restart this notebook and run the cells from beginning to end:\n",
        "  - Go to Runtime > Restart and Run All.\n",
        "- Download the notebook:\n",
        "  - Go to File > Download > Download .ipynb.\n",
        "- Submit your notebook file to the assignment on Canvas."
      ]
    },
    {
      "cell_type": "code",
      "source": [
        ""
      ],
      "metadata": {
        "id": "nFZHie-4GZyq"
      },
      "execution_count": 94,
      "outputs": []
    }
  ]
}