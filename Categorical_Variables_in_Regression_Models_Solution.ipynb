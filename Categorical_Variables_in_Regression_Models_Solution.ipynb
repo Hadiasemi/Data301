{
  "nbformat": 4,
  "nbformat_minor": 0,
  "metadata": {
    "kernelspec": {
      "display_name": "Python 3",
      "language": "python",
      "name": "python3"
    },
    "language_info": {
      "codemirror_mode": {
        "name": "ipython",
        "version": 3
      },
      "file_extension": ".py",
      "mimetype": "text/x-python",
      "name": "python",
      "nbconvert_exporter": "python",
      "pygments_lexer": "ipython3",
      "version": "3.6.8"
    },
    "colab": {
      "name": "Categorical Variables in Regression Models Solution.ipynb",
      "provenance": [],
      "collapsed_sections": [],
      "include_colab_link": true
    }
  },
  "cells": [
    {
      "cell_type": "markdown",
      "metadata": {
        "id": "view-in-github",
        "colab_type": "text"
      },
      "source": [
        "<a href=\"https://colab.research.google.com/github/Hadiasemi/Data301/blob/main/Categorical_Variables_in_Regression_Models_Solution.ipynb\" target=\"_parent\"><img src=\"https://colab.research.google.com/assets/colab-badge.svg\" alt=\"Open In Colab\"/></a>"
      ]
    },
    {
      "cell_type": "markdown",
      "metadata": {
        "id": "UHPKDZB9QgaM"
      },
      "source": [
        "# 5.3 Categorical Features in Regression Models\n",
        "\n",
        "So far, we have fit linear and $k$-nearest neighbors regression models to data where all of the features are quantitative. But what if all or some of the features are categorical? In theory, the solution is simple: we simply transform the categorical variables into quantitative variables using dummy (i.e., one-hot) encoding, following the process in Chapter 3. However, in practice, some care is needed to ensure that the categorical variables are transformed in a consistent way between the training and the test data."
      ]
    },
    {
      "cell_type": "code",
      "metadata": {
        "id": "CL4uMwkXQgaP",
        "colab": {
          "base_uri": "https://localhost:8080/",
          "height": 317
        },
        "outputId": "1be6870d-7404-466e-b1b2-7eb81ed829e7"
      },
      "source": [
        "import pandas as pd\n",
        "df_housing = pd.read_csv(\"http://dlsun.github.io/pods/data/AmesHousing.txt\", sep=\"\\t\")\n",
        "df_housing.head()"
      ],
      "execution_count": null,
      "outputs": [
        {
          "output_type": "execute_result",
          "data": {
            "text/plain": [
              "   Order        PID  MS SubClass MS Zoning  Lot Frontage  Lot Area Street  \\\n",
              "0      1  526301100           20        RL         141.0     31770   Pave   \n",
              "1      2  526350040           20        RH          80.0     11622   Pave   \n",
              "2      3  526351010           20        RL          81.0     14267   Pave   \n",
              "3      4  526353030           20        RL          93.0     11160   Pave   \n",
              "4      5  527105010           60        RL          74.0     13830   Pave   \n",
              "\n",
              "  Alley Lot Shape Land Contour  ... Pool Area Pool QC  Fence Misc Feature  \\\n",
              "0   NaN       IR1          Lvl  ...         0     NaN    NaN          NaN   \n",
              "1   NaN       Reg          Lvl  ...         0     NaN  MnPrv          NaN   \n",
              "2   NaN       IR1          Lvl  ...         0     NaN    NaN         Gar2   \n",
              "3   NaN       Reg          Lvl  ...         0     NaN    NaN          NaN   \n",
              "4   NaN       IR1          Lvl  ...         0     NaN  MnPrv          NaN   \n",
              "\n",
              "  Misc Val Mo Sold Yr Sold Sale Type  Sale Condition  SalePrice  \n",
              "0        0       5    2010       WD           Normal     215000  \n",
              "1        0       6    2010       WD           Normal     105000  \n",
              "2    12500       6    2010       WD           Normal     172000  \n",
              "3        0       4    2010       WD           Normal     244000  \n",
              "4        0       3    2010       WD           Normal     189900  \n",
              "\n",
              "[5 rows x 82 columns]"
            ],
            "text/html": [
              "\n",
              "  <div id=\"df-9f62548b-c457-4c30-ae7b-6a014c34209f\">\n",
              "    <div class=\"colab-df-container\">\n",
              "      <div>\n",
              "<style scoped>\n",
              "    .dataframe tbody tr th:only-of-type {\n",
              "        vertical-align: middle;\n",
              "    }\n",
              "\n",
              "    .dataframe tbody tr th {\n",
              "        vertical-align: top;\n",
              "    }\n",
              "\n",
              "    .dataframe thead th {\n",
              "        text-align: right;\n",
              "    }\n",
              "</style>\n",
              "<table border=\"1\" class=\"dataframe\">\n",
              "  <thead>\n",
              "    <tr style=\"text-align: right;\">\n",
              "      <th></th>\n",
              "      <th>Order</th>\n",
              "      <th>PID</th>\n",
              "      <th>MS SubClass</th>\n",
              "      <th>MS Zoning</th>\n",
              "      <th>Lot Frontage</th>\n",
              "      <th>Lot Area</th>\n",
              "      <th>Street</th>\n",
              "      <th>Alley</th>\n",
              "      <th>Lot Shape</th>\n",
              "      <th>Land Contour</th>\n",
              "      <th>...</th>\n",
              "      <th>Pool Area</th>\n",
              "      <th>Pool QC</th>\n",
              "      <th>Fence</th>\n",
              "      <th>Misc Feature</th>\n",
              "      <th>Misc Val</th>\n",
              "      <th>Mo Sold</th>\n",
              "      <th>Yr Sold</th>\n",
              "      <th>Sale Type</th>\n",
              "      <th>Sale Condition</th>\n",
              "      <th>SalePrice</th>\n",
              "    </tr>\n",
              "  </thead>\n",
              "  <tbody>\n",
              "    <tr>\n",
              "      <th>0</th>\n",
              "      <td>1</td>\n",
              "      <td>526301100</td>\n",
              "      <td>20</td>\n",
              "      <td>RL</td>\n",
              "      <td>141.0</td>\n",
              "      <td>31770</td>\n",
              "      <td>Pave</td>\n",
              "      <td>NaN</td>\n",
              "      <td>IR1</td>\n",
              "      <td>Lvl</td>\n",
              "      <td>...</td>\n",
              "      <td>0</td>\n",
              "      <td>NaN</td>\n",
              "      <td>NaN</td>\n",
              "      <td>NaN</td>\n",
              "      <td>0</td>\n",
              "      <td>5</td>\n",
              "      <td>2010</td>\n",
              "      <td>WD</td>\n",
              "      <td>Normal</td>\n",
              "      <td>215000</td>\n",
              "    </tr>\n",
              "    <tr>\n",
              "      <th>1</th>\n",
              "      <td>2</td>\n",
              "      <td>526350040</td>\n",
              "      <td>20</td>\n",
              "      <td>RH</td>\n",
              "      <td>80.0</td>\n",
              "      <td>11622</td>\n",
              "      <td>Pave</td>\n",
              "      <td>NaN</td>\n",
              "      <td>Reg</td>\n",
              "      <td>Lvl</td>\n",
              "      <td>...</td>\n",
              "      <td>0</td>\n",
              "      <td>NaN</td>\n",
              "      <td>MnPrv</td>\n",
              "      <td>NaN</td>\n",
              "      <td>0</td>\n",
              "      <td>6</td>\n",
              "      <td>2010</td>\n",
              "      <td>WD</td>\n",
              "      <td>Normal</td>\n",
              "      <td>105000</td>\n",
              "    </tr>\n",
              "    <tr>\n",
              "      <th>2</th>\n",
              "      <td>3</td>\n",
              "      <td>526351010</td>\n",
              "      <td>20</td>\n",
              "      <td>RL</td>\n",
              "      <td>81.0</td>\n",
              "      <td>14267</td>\n",
              "      <td>Pave</td>\n",
              "      <td>NaN</td>\n",
              "      <td>IR1</td>\n",
              "      <td>Lvl</td>\n",
              "      <td>...</td>\n",
              "      <td>0</td>\n",
              "      <td>NaN</td>\n",
              "      <td>NaN</td>\n",
              "      <td>Gar2</td>\n",
              "      <td>12500</td>\n",
              "      <td>6</td>\n",
              "      <td>2010</td>\n",
              "      <td>WD</td>\n",
              "      <td>Normal</td>\n",
              "      <td>172000</td>\n",
              "    </tr>\n",
              "    <tr>\n",
              "      <th>3</th>\n",
              "      <td>4</td>\n",
              "      <td>526353030</td>\n",
              "      <td>20</td>\n",
              "      <td>RL</td>\n",
              "      <td>93.0</td>\n",
              "      <td>11160</td>\n",
              "      <td>Pave</td>\n",
              "      <td>NaN</td>\n",
              "      <td>Reg</td>\n",
              "      <td>Lvl</td>\n",
              "      <td>...</td>\n",
              "      <td>0</td>\n",
              "      <td>NaN</td>\n",
              "      <td>NaN</td>\n",
              "      <td>NaN</td>\n",
              "      <td>0</td>\n",
              "      <td>4</td>\n",
              "      <td>2010</td>\n",
              "      <td>WD</td>\n",
              "      <td>Normal</td>\n",
              "      <td>244000</td>\n",
              "    </tr>\n",
              "    <tr>\n",
              "      <th>4</th>\n",
              "      <td>5</td>\n",
              "      <td>527105010</td>\n",
              "      <td>60</td>\n",
              "      <td>RL</td>\n",
              "      <td>74.0</td>\n",
              "      <td>13830</td>\n",
              "      <td>Pave</td>\n",
              "      <td>NaN</td>\n",
              "      <td>IR1</td>\n",
              "      <td>Lvl</td>\n",
              "      <td>...</td>\n",
              "      <td>0</td>\n",
              "      <td>NaN</td>\n",
              "      <td>MnPrv</td>\n",
              "      <td>NaN</td>\n",
              "      <td>0</td>\n",
              "      <td>3</td>\n",
              "      <td>2010</td>\n",
              "      <td>WD</td>\n",
              "      <td>Normal</td>\n",
              "      <td>189900</td>\n",
              "    </tr>\n",
              "  </tbody>\n",
              "</table>\n",
              "<p>5 rows × 82 columns</p>\n",
              "</div>\n",
              "      <button class=\"colab-df-convert\" onclick=\"convertToInteractive('df-9f62548b-c457-4c30-ae7b-6a014c34209f')\"\n",
              "              title=\"Convert this dataframe to an interactive table.\"\n",
              "              style=\"display:none;\">\n",
              "        \n",
              "  <svg xmlns=\"http://www.w3.org/2000/svg\" height=\"24px\"viewBox=\"0 0 24 24\"\n",
              "       width=\"24px\">\n",
              "    <path d=\"M0 0h24v24H0V0z\" fill=\"none\"/>\n",
              "    <path d=\"M18.56 5.44l.94 2.06.94-2.06 2.06-.94-2.06-.94-.94-2.06-.94 2.06-2.06.94zm-11 1L8.5 8.5l.94-2.06 2.06-.94-2.06-.94L8.5 2.5l-.94 2.06-2.06.94zm10 10l.94 2.06.94-2.06 2.06-.94-2.06-.94-.94-2.06-.94 2.06-2.06.94z\"/><path d=\"M17.41 7.96l-1.37-1.37c-.4-.4-.92-.59-1.43-.59-.52 0-1.04.2-1.43.59L10.3 9.45l-7.72 7.72c-.78.78-.78 2.05 0 2.83L4 21.41c.39.39.9.59 1.41.59.51 0 1.02-.2 1.41-.59l7.78-7.78 2.81-2.81c.8-.78.8-2.07 0-2.86zM5.41 20L4 18.59l7.72-7.72 1.47 1.35L5.41 20z\"/>\n",
              "  </svg>\n",
              "      </button>\n",
              "      \n",
              "  <style>\n",
              "    .colab-df-container {\n",
              "      display:flex;\n",
              "      flex-wrap:wrap;\n",
              "      gap: 12px;\n",
              "    }\n",
              "\n",
              "    .colab-df-convert {\n",
              "      background-color: #E8F0FE;\n",
              "      border: none;\n",
              "      border-radius: 50%;\n",
              "      cursor: pointer;\n",
              "      display: none;\n",
              "      fill: #1967D2;\n",
              "      height: 32px;\n",
              "      padding: 0 0 0 0;\n",
              "      width: 32px;\n",
              "    }\n",
              "\n",
              "    .colab-df-convert:hover {\n",
              "      background-color: #E2EBFA;\n",
              "      box-shadow: 0px 1px 2px rgba(60, 64, 67, 0.3), 0px 1px 3px 1px rgba(60, 64, 67, 0.15);\n",
              "      fill: #174EA6;\n",
              "    }\n",
              "\n",
              "    [theme=dark] .colab-df-convert {\n",
              "      background-color: #3B4455;\n",
              "      fill: #D2E3FC;\n",
              "    }\n",
              "\n",
              "    [theme=dark] .colab-df-convert:hover {\n",
              "      background-color: #434B5C;\n",
              "      box-shadow: 0px 1px 3px 1px rgba(0, 0, 0, 0.15);\n",
              "      filter: drop-shadow(0px 1px 2px rgba(0, 0, 0, 0.3));\n",
              "      fill: #FFFFFF;\n",
              "    }\n",
              "  </style>\n",
              "\n",
              "      <script>\n",
              "        const buttonEl =\n",
              "          document.querySelector('#df-9f62548b-c457-4c30-ae7b-6a014c34209f button.colab-df-convert');\n",
              "        buttonEl.style.display =\n",
              "          google.colab.kernel.accessAllowed ? 'block' : 'none';\n",
              "\n",
              "        async function convertToInteractive(key) {\n",
              "          const element = document.querySelector('#df-9f62548b-c457-4c30-ae7b-6a014c34209f');\n",
              "          const dataTable =\n",
              "            await google.colab.kernel.invokeFunction('convertToInteractive',\n",
              "                                                     [key], {});\n",
              "          if (!dataTable) return;\n",
              "\n",
              "          const docLinkHtml = 'Like what you see? Visit the ' +\n",
              "            '<a target=\"_blank\" href=https://colab.research.google.com/notebooks/data_table.ipynb>data table notebook</a>'\n",
              "            + ' to learn more about interactive tables.';\n",
              "          element.innerHTML = '';\n",
              "          dataTable['output_type'] = 'display_data';\n",
              "          await google.colab.output.renderOutput(dataTable, element);\n",
              "          const docLink = document.createElement('div');\n",
              "          docLink.innerHTML = docLinkHtml;\n",
              "          element.appendChild(docLink);\n",
              "        }\n",
              "      </script>\n",
              "    </div>\n",
              "  </div>\n",
              "  "
            ]
          },
          "metadata": {},
          "execution_count": 1
        }
      ]
    },
    {
      "cell_type": "markdown",
      "metadata": {
        "id": "JgT-LLRPQgaU"
      },
      "source": [
        "## One Categorical Feature\n",
        "\n",
        "Let's develop some intuition about the predictions that a regression model will make when there is a single categorical feature. First, suppose we train a linear regression model to predict house price from the neighborhood the house is in."
      ]
    },
    {
      "cell_type": "code",
      "metadata": {
        "id": "TTKRGhAjQgaZ",
        "colab": {
          "base_uri": "https://localhost:8080/"
        },
        "outputId": "8d7c8138-5c82-40ca-ddc4-f77c2facbd61"
      },
      "source": [
        "from sklearn.preprocessing import OneHotEncoder\n",
        "from sklearn.linear_model import LinearRegression\n",
        "\n",
        "X = df_housing[[\"Neighborhood\"]] # need 2D array for sklearn\n",
        "y = df_housing[\"SalePrice\"]\n",
        "\n",
        "enc = OneHotEncoder()\n",
        "X_dummies = enc.fit_transform(X)\n",
        "\n",
        "model = LinearRegression()\n",
        "model.fit(X_dummies, y)"
      ],
      "execution_count": null,
      "outputs": [
        {
          "output_type": "execute_result",
          "data": {
            "text/plain": [
              "LinearRegression()"
            ]
          },
          "metadata": {},
          "execution_count": 2
        }
      ]
    },
    {
      "cell_type": "markdown",
      "metadata": {
        "id": "Ei7SJrH3Qgae"
      },
      "source": [
        "A regression model with just a single feature, **Neighborhood**, will predict the same price for all houses in the same neighborhood. What is that predicted value? We can obtain it by applying the `OneHotEncoder` to a list of the unique neighborhoods in the data set and passing this to `model.predict()`.\n",
        "\n",
        "One way to obtain a list of the unique neighborhoods is inside the encoder itself, under the attribute `.categories_`. We convert this to a 2D-array to be compatible with scikit-learn."
      ]
    },
    {
      "cell_type": "code",
      "metadata": {
        "id": "xxIWrGDsQgag",
        "colab": {
          "base_uri": "https://localhost:8080/",
          "height": 927
        },
        "outputId": "dd9c6eb3-c64e-4477-a7f8-be28a091688d"
      },
      "source": [
        "X_test = pd.Series(enc.categories_[0], name=\"Neighborhood\").to_frame()\n",
        "X_test"
      ],
      "execution_count": null,
      "outputs": [
        {
          "output_type": "execute_result",
          "data": {
            "text/plain": [
              "   Neighborhood\n",
              "0       Blmngtn\n",
              "1       Blueste\n",
              "2        BrDale\n",
              "3       BrkSide\n",
              "4       ClearCr\n",
              "5       CollgCr\n",
              "6       Crawfor\n",
              "7       Edwards\n",
              "8       Gilbert\n",
              "9        Greens\n",
              "10      GrnHill\n",
              "11       IDOTRR\n",
              "12      Landmrk\n",
              "13      MeadowV\n",
              "14      Mitchel\n",
              "15        NAmes\n",
              "16      NPkVill\n",
              "17       NWAmes\n",
              "18      NoRidge\n",
              "19      NridgHt\n",
              "20      OldTown\n",
              "21        SWISU\n",
              "22       Sawyer\n",
              "23      SawyerW\n",
              "24      Somerst\n",
              "25      StoneBr\n",
              "26       Timber\n",
              "27      Veenker"
            ],
            "text/html": [
              "\n",
              "  <div id=\"df-bf8df71c-1224-43e0-8c89-8b11948794de\">\n",
              "    <div class=\"colab-df-container\">\n",
              "      <div>\n",
              "<style scoped>\n",
              "    .dataframe tbody tr th:only-of-type {\n",
              "        vertical-align: middle;\n",
              "    }\n",
              "\n",
              "    .dataframe tbody tr th {\n",
              "        vertical-align: top;\n",
              "    }\n",
              "\n",
              "    .dataframe thead th {\n",
              "        text-align: right;\n",
              "    }\n",
              "</style>\n",
              "<table border=\"1\" class=\"dataframe\">\n",
              "  <thead>\n",
              "    <tr style=\"text-align: right;\">\n",
              "      <th></th>\n",
              "      <th>Neighborhood</th>\n",
              "    </tr>\n",
              "  </thead>\n",
              "  <tbody>\n",
              "    <tr>\n",
              "      <th>0</th>\n",
              "      <td>Blmngtn</td>\n",
              "    </tr>\n",
              "    <tr>\n",
              "      <th>1</th>\n",
              "      <td>Blueste</td>\n",
              "    </tr>\n",
              "    <tr>\n",
              "      <th>2</th>\n",
              "      <td>BrDale</td>\n",
              "    </tr>\n",
              "    <tr>\n",
              "      <th>3</th>\n",
              "      <td>BrkSide</td>\n",
              "    </tr>\n",
              "    <tr>\n",
              "      <th>4</th>\n",
              "      <td>ClearCr</td>\n",
              "    </tr>\n",
              "    <tr>\n",
              "      <th>5</th>\n",
              "      <td>CollgCr</td>\n",
              "    </tr>\n",
              "    <tr>\n",
              "      <th>6</th>\n",
              "      <td>Crawfor</td>\n",
              "    </tr>\n",
              "    <tr>\n",
              "      <th>7</th>\n",
              "      <td>Edwards</td>\n",
              "    </tr>\n",
              "    <tr>\n",
              "      <th>8</th>\n",
              "      <td>Gilbert</td>\n",
              "    </tr>\n",
              "    <tr>\n",
              "      <th>9</th>\n",
              "      <td>Greens</td>\n",
              "    </tr>\n",
              "    <tr>\n",
              "      <th>10</th>\n",
              "      <td>GrnHill</td>\n",
              "    </tr>\n",
              "    <tr>\n",
              "      <th>11</th>\n",
              "      <td>IDOTRR</td>\n",
              "    </tr>\n",
              "    <tr>\n",
              "      <th>12</th>\n",
              "      <td>Landmrk</td>\n",
              "    </tr>\n",
              "    <tr>\n",
              "      <th>13</th>\n",
              "      <td>MeadowV</td>\n",
              "    </tr>\n",
              "    <tr>\n",
              "      <th>14</th>\n",
              "      <td>Mitchel</td>\n",
              "    </tr>\n",
              "    <tr>\n",
              "      <th>15</th>\n",
              "      <td>NAmes</td>\n",
              "    </tr>\n",
              "    <tr>\n",
              "      <th>16</th>\n",
              "      <td>NPkVill</td>\n",
              "    </tr>\n",
              "    <tr>\n",
              "      <th>17</th>\n",
              "      <td>NWAmes</td>\n",
              "    </tr>\n",
              "    <tr>\n",
              "      <th>18</th>\n",
              "      <td>NoRidge</td>\n",
              "    </tr>\n",
              "    <tr>\n",
              "      <th>19</th>\n",
              "      <td>NridgHt</td>\n",
              "    </tr>\n",
              "    <tr>\n",
              "      <th>20</th>\n",
              "      <td>OldTown</td>\n",
              "    </tr>\n",
              "    <tr>\n",
              "      <th>21</th>\n",
              "      <td>SWISU</td>\n",
              "    </tr>\n",
              "    <tr>\n",
              "      <th>22</th>\n",
              "      <td>Sawyer</td>\n",
              "    </tr>\n",
              "    <tr>\n",
              "      <th>23</th>\n",
              "      <td>SawyerW</td>\n",
              "    </tr>\n",
              "    <tr>\n",
              "      <th>24</th>\n",
              "      <td>Somerst</td>\n",
              "    </tr>\n",
              "    <tr>\n",
              "      <th>25</th>\n",
              "      <td>StoneBr</td>\n",
              "    </tr>\n",
              "    <tr>\n",
              "      <th>26</th>\n",
              "      <td>Timber</td>\n",
              "    </tr>\n",
              "    <tr>\n",
              "      <th>27</th>\n",
              "      <td>Veenker</td>\n",
              "    </tr>\n",
              "  </tbody>\n",
              "</table>\n",
              "</div>\n",
              "      <button class=\"colab-df-convert\" onclick=\"convertToInteractive('df-bf8df71c-1224-43e0-8c89-8b11948794de')\"\n",
              "              title=\"Convert this dataframe to an interactive table.\"\n",
              "              style=\"display:none;\">\n",
              "        \n",
              "  <svg xmlns=\"http://www.w3.org/2000/svg\" height=\"24px\"viewBox=\"0 0 24 24\"\n",
              "       width=\"24px\">\n",
              "    <path d=\"M0 0h24v24H0V0z\" fill=\"none\"/>\n",
              "    <path d=\"M18.56 5.44l.94 2.06.94-2.06 2.06-.94-2.06-.94-.94-2.06-.94 2.06-2.06.94zm-11 1L8.5 8.5l.94-2.06 2.06-.94-2.06-.94L8.5 2.5l-.94 2.06-2.06.94zm10 10l.94 2.06.94-2.06 2.06-.94-2.06-.94-.94-2.06-.94 2.06-2.06.94z\"/><path d=\"M17.41 7.96l-1.37-1.37c-.4-.4-.92-.59-1.43-.59-.52 0-1.04.2-1.43.59L10.3 9.45l-7.72 7.72c-.78.78-.78 2.05 0 2.83L4 21.41c.39.39.9.59 1.41.59.51 0 1.02-.2 1.41-.59l7.78-7.78 2.81-2.81c.8-.78.8-2.07 0-2.86zM5.41 20L4 18.59l7.72-7.72 1.47 1.35L5.41 20z\"/>\n",
              "  </svg>\n",
              "      </button>\n",
              "      \n",
              "  <style>\n",
              "    .colab-df-container {\n",
              "      display:flex;\n",
              "      flex-wrap:wrap;\n",
              "      gap: 12px;\n",
              "    }\n",
              "\n",
              "    .colab-df-convert {\n",
              "      background-color: #E8F0FE;\n",
              "      border: none;\n",
              "      border-radius: 50%;\n",
              "      cursor: pointer;\n",
              "      display: none;\n",
              "      fill: #1967D2;\n",
              "      height: 32px;\n",
              "      padding: 0 0 0 0;\n",
              "      width: 32px;\n",
              "    }\n",
              "\n",
              "    .colab-df-convert:hover {\n",
              "      background-color: #E2EBFA;\n",
              "      box-shadow: 0px 1px 2px rgba(60, 64, 67, 0.3), 0px 1px 3px 1px rgba(60, 64, 67, 0.15);\n",
              "      fill: #174EA6;\n",
              "    }\n",
              "\n",
              "    [theme=dark] .colab-df-convert {\n",
              "      background-color: #3B4455;\n",
              "      fill: #D2E3FC;\n",
              "    }\n",
              "\n",
              "    [theme=dark] .colab-df-convert:hover {\n",
              "      background-color: #434B5C;\n",
              "      box-shadow: 0px 1px 3px 1px rgba(0, 0, 0, 0.15);\n",
              "      filter: drop-shadow(0px 1px 2px rgba(0, 0, 0, 0.3));\n",
              "      fill: #FFFFFF;\n",
              "    }\n",
              "  </style>\n",
              "\n",
              "      <script>\n",
              "        const buttonEl =\n",
              "          document.querySelector('#df-bf8df71c-1224-43e0-8c89-8b11948794de button.colab-df-convert');\n",
              "        buttonEl.style.display =\n",
              "          google.colab.kernel.accessAllowed ? 'block' : 'none';\n",
              "\n",
              "        async function convertToInteractive(key) {\n",
              "          const element = document.querySelector('#df-bf8df71c-1224-43e0-8c89-8b11948794de');\n",
              "          const dataTable =\n",
              "            await google.colab.kernel.invokeFunction('convertToInteractive',\n",
              "                                                     [key], {});\n",
              "          if (!dataTable) return;\n",
              "\n",
              "          const docLinkHtml = 'Like what you see? Visit the ' +\n",
              "            '<a target=\"_blank\" href=https://colab.research.google.com/notebooks/data_table.ipynb>data table notebook</a>'\n",
              "            + ' to learn more about interactive tables.';\n",
              "          element.innerHTML = '';\n",
              "          dataTable['output_type'] = 'display_data';\n",
              "          await google.colab.output.renderOutput(dataTable, element);\n",
              "          const docLink = document.createElement('div');\n",
              "          docLink.innerHTML = docLinkHtml;\n",
              "          element.appendChild(docLink);\n",
              "        }\n",
              "      </script>\n",
              "    </div>\n",
              "  </div>\n",
              "  "
            ]
          },
          "metadata": {},
          "execution_count": 3
        }
      ]
    },
    {
      "cell_type": "code",
      "metadata": {
        "id": "RuFNvJixQgak",
        "colab": {
          "base_uri": "https://localhost:8080/"
        },
        "outputId": "824b2bae-c111-48cc-c7a2-f7130683e612"
      },
      "source": [
        "model.predict(enc.transform(X_test))"
      ],
      "execution_count": null,
      "outputs": [
        {
          "output_type": "execute_result",
          "data": {
            "text/plain": [
              "array([196661.6788359 , 143590.00024614, 105608.33360386, 124756.25045141,\n",
              "       208662.09119794, 201803.43315691, 207550.83538449, 130843.3831155 ,\n",
              "       190646.57663259, 193531.25024363, 280000.0002375 , 103752.90362624,\n",
              "       137000.00023673,  95756.48676823, 162226.63205458, 145097.34964226,\n",
              "       140710.86982888, 188406.9089579 , 330319.12710415, 322018.26594986,\n",
              "       123991.8872417 , 135071.93780061, 136751.15302894, 184070.18452755,\n",
              "       229707.32539161, 324229.19638331, 246599.54201249, 248314.58359813])"
            ]
          },
          "metadata": {},
          "execution_count": 4
        }
      ]
    },
    {
      "cell_type": "markdown",
      "metadata": {
        "id": "g7TJj5ffQgas"
      },
      "source": [
        "It is a bit hard to tell which prediction corresponds to which neighborhood. Let's put these numbers into a `Series`, indexed by the neighborhood."
      ]
    },
    {
      "cell_type": "code",
      "metadata": {
        "id": "65micH-yQgat",
        "colab": {
          "base_uri": "https://localhost:8080/"
        },
        "outputId": "a73f40e4-676a-43a0-e3bf-fbc85faec3b0"
      },
      "source": [
        "pd.Series(\n",
        "    model.predict(enc.transform(X_test)),\n",
        "    index=X_test[\"Neighborhood\"]\n",
        ")"
      ],
      "execution_count": null,
      "outputs": [
        {
          "output_type": "execute_result",
          "data": {
            "text/plain": [
              "Neighborhood\n",
              "Blmngtn    196661.678836\n",
              "Blueste    143590.000246\n",
              "BrDale     105608.333604\n",
              "BrkSide    124756.250451\n",
              "ClearCr    208662.091198\n",
              "CollgCr    201803.433157\n",
              "Crawfor    207550.835384\n",
              "Edwards    130843.383116\n",
              "Gilbert    190646.576633\n",
              "Greens     193531.250244\n",
              "GrnHill    280000.000237\n",
              "IDOTRR     103752.903626\n",
              "Landmrk    137000.000237\n",
              "MeadowV     95756.486768\n",
              "Mitchel    162226.632055\n",
              "NAmes      145097.349642\n",
              "NPkVill    140710.869829\n",
              "NWAmes     188406.908958\n",
              "NoRidge    330319.127104\n",
              "NridgHt    322018.265950\n",
              "OldTown    123991.887242\n",
              "SWISU      135071.937801\n",
              "Sawyer     136751.153029\n",
              "SawyerW    184070.184528\n",
              "Somerst    229707.325392\n",
              "StoneBr    324229.196383\n",
              "Timber     246599.542012\n",
              "Veenker    248314.583598\n",
              "dtype: float64"
            ]
          },
          "metadata": {},
          "execution_count": 5
        }
      ]
    },
    {
      "cell_type": "markdown",
      "metadata": {
        "id": "rdybOz4IQgay"
      },
      "source": [
        "Could we have obtained these predictions some other way, without going through the trouble of fitting a linear regression model? Intuitively, if all we knew about a house was the neighborhood it was in, we would predict the average price of houses in that neighborhood."
      ]
    },
    {
      "cell_type": "code",
      "metadata": {
        "id": "Uw6vvpP3Qgaz",
        "colab": {
          "base_uri": "https://localhost:8080/"
        },
        "outputId": "7ff28882-0779-418b-a477-a66960b32af5"
      },
      "source": [
        "df_housing.groupby(\"Neighborhood\")[\"SalePrice\"].mean()"
      ],
      "execution_count": null,
      "outputs": [
        {
          "output_type": "execute_result",
          "data": {
            "text/plain": [
              "Neighborhood\n",
              "Blmngtn    196661.678571\n",
              "Blueste    143590.000000\n",
              "BrDale     105608.333333\n",
              "BrkSide    124756.250000\n",
              "ClearCr    208662.090909\n",
              "CollgCr    201803.434457\n",
              "Crawfor    207550.834951\n",
              "Edwards    130843.381443\n",
              "Gilbert    190646.575758\n",
              "Greens     193531.250000\n",
              "GrnHill    280000.000000\n",
              "IDOTRR     103752.903226\n",
              "Landmrk    137000.000000\n",
              "MeadowV     95756.486486\n",
              "Mitchel    162226.631579\n",
              "NAmes      145097.349887\n",
              "NPkVill    140710.869565\n",
              "NWAmes     188406.908397\n",
              "NoRidge    330319.126761\n",
              "NridgHt    322018.265060\n",
              "OldTown    123991.891213\n",
              "SWISU      135071.937500\n",
              "Sawyer     136751.152318\n",
              "SawyerW    184070.184000\n",
              "Somerst    229707.324176\n",
              "StoneBr    324229.196078\n",
              "Timber     246599.541667\n",
              "Veenker    248314.583333\n",
              "Name: SalePrice, dtype: float64"
            ]
          },
          "metadata": {},
          "execution_count": 6
        }
      ]
    },
    {
      "cell_type": "markdown",
      "metadata": {
        "id": "ler3YwSNQga6"
      },
      "source": [
        "These numbers match the predictions from our linear regression model exactly. Linear regression simply predicts the average price in each neighborhood. "
      ]
    },
    {
      "cell_type": "markdown",
      "metadata": {
        "id": "d4cCuhK6Qga8"
      },
      "source": [
        "To see this mathematically, recall that linear regression minimizes the total squared distance between the observed price and the predicted price:\n",
        "\n",
        "$$ \\text{sum of } (\\text{price} - \\widehat{\\text{price}})^2. $$\n",
        "\n",
        "After we expand the **Neighborhood** column into 28 dummy variables (e.g., $I\\{ \\text{Blmngtn} \\}$, $I\\{ \\text{Blueste} \\}$, etc.), one for each neighborhood, we can write the predicted price in the linear regression model as \n",
        "\n",
        "$$ \\widehat{\\text{price}} = c_1 I\\{ \\text{Blmngtn} \\} + c_2 I\\{ \\text{Blueste} \\} + \\ldots + c_{28} I\\{ \\text{Veenker} \\}. $$\n",
        "\n",
        "(For simplicity, we have omitted the intercept term $b$.)\n",
        "\n",
        "Now, consider a house in Bloomington Heights, for which $I\\{ \\text{Blmngtn} \\} = 1$ and all of the other dummy variables $I\\{ \\text{Blueste} \\} = \\ldots = I\\{ \\text{Veenker} \\} = 0$. Then, $\\widehat{\\text{price}}$ for a house in Bloomington Heights is $c_1$. Likewise, $\\widehat{\\text{price}}$ for a house in Bluestem is $c_2$. And so forth.\n",
        "\n",
        "Now, we can reframe linear regression as learning the values $c_1, c_2, \\ldots, c_{28}$ that minimize\n",
        "\n",
        "$$ \\text{sum of } (\\text{price} - \\widehat{\\text{price}})^2 = \\underbrace{\\text{sum of } (\\text{price} - c_1)^2}_{\\text{over houses in Blmngtn}} + \\underbrace{\\text{sum of } (\\text{price} - c_2)^2}_{\\text{over houses in Blueste}} + \\ldots + \\underbrace{\\text{sum of } (\\text{price} - c_{28})^2}_{\\text{over houses in Veenker}}. $$ \n",
        "\n",
        "We saw in Chapter 3 that the value of $c$ that mimimizes the $\\text{sum of } (\\text{price} - c)^2$ is the mean of the prices. So $\\hat c_1$ will be the average price of houses in Bloomington Heights, $\\hat c_2$ the average price of houses in Bluestem, and so on. Since $\\hat c_1, \\hat c_2, \\ldots, \\hat c_{28}$ are also the predicted values for each neighborhood, this shows that linear regression will predict the average label in each category when there is only one categorical variable in the model."
      ]
    },
    {
      "cell_type": "markdown",
      "metadata": {
        "id": "OHpASyuCQga-"
      },
      "source": [
        "Exercise 1 in this lesson asks you to investigate what $k$-nearest neighbors regression does in the same situation."
      ]
    },
    {
      "cell_type": "markdown",
      "metadata": {
        "id": "tKEd982iQga_"
      },
      "source": [
        "## Mixing Quantitative and Categorical Features\n",
        "\n",
        "In general, we want to fit machine learning models that use a mix of both categorical and quantitative features. In this situation, we will want to apply the `OneHotEncoder` to only the categorical features. Scikit-learn provides a `ColumnTransformer` that allows us to selectively apply transformations to certain columns.\n",
        "\n",
        "For example, suppose we want to fit a $k$-nearest neighbors model to predict house price from quantitative features (square footage, number of bedrooms, number of full bathrooms) and categorical features (neighborhood, building type). We can use a `ColumnTransformer` to standardize the quantitative features and one-hot encode the categorical features."
      ]
    },
    {
      "cell_type": "code",
      "metadata": {
        "id": "pOlC1gUNQgbA",
        "colab": {
          "base_uri": "https://localhost:8080/"
        },
        "outputId": "850b2378-4823-4a43-b5f6-5d15a69fa8c0"
      },
      "source": [
        "from sklearn.compose import make_column_transformer\n",
        "from sklearn.preprocessing import StandardScaler, OneHotEncoder\n",
        "\n",
        "ct = make_column_transformer(\n",
        "    (StandardScaler(), [\"Gr Liv Area\", \"Bedroom AbvGr\", \"Full Bath\"]),\n",
        "    (OneHotEncoder(), [\"Neighborhood\", \"Bldg Type\"]),\n",
        "    remainder=\"drop\"  # all other columns in X will be dropped.\n",
        ")\n",
        "ct"
      ],
      "execution_count": null,
      "outputs": [
        {
          "output_type": "execute_result",
          "data": {
            "text/plain": [
              "ColumnTransformer(transformers=[('standardscaler', StandardScaler(),\n",
              "                                 ['Gr Liv Area', 'Bedroom AbvGr', 'Full Bath']),\n",
              "                                ('onehotencoder', OneHotEncoder(),\n",
              "                                 ['Neighborhood', 'Bldg Type'])])"
            ]
          },
          "metadata": {},
          "execution_count": 7
        }
      ]
    },
    {
      "cell_type": "markdown",
      "metadata": {
        "id": "afelS7eJQgbF"
      },
      "source": [
        "Next, we integrate this `ColumnTransformer` into a pipeline (refer to the previous lesson) with the `KNeighborsRegressor` model."
      ]
    },
    {
      "cell_type": "code",
      "metadata": {
        "id": "0a01yODHQgbI",
        "colab": {
          "base_uri": "https://localhost:8080/"
        },
        "outputId": "badf041e-e833-47fb-f581-a39c22d8dd10"
      },
      "source": [
        "from sklearn.pipeline import make_pipeline\n",
        "from sklearn.neighbors import KNeighborsRegressor\n",
        "\n",
        "pipeline = make_pipeline(\n",
        "    ct,\n",
        "    KNeighborsRegressor(n_neighbors=10)\n",
        ")\n",
        "\n",
        "pipeline.fit(X=df_housing[[\"Gr Liv Area\", \"Bedroom AbvGr\", \"Full Bath\",\n",
        "                           \"Neighborhood\", \"Bldg Type\"]], \n",
        "             y=df_housing[\"SalePrice\"])"
      ],
      "execution_count": null,
      "outputs": [
        {
          "output_type": "execute_result",
          "data": {
            "text/plain": [
              "Pipeline(steps=[('columntransformer',\n",
              "                 ColumnTransformer(transformers=[('standardscaler',\n",
              "                                                  StandardScaler(),\n",
              "                                                  ['Gr Liv Area',\n",
              "                                                   'Bedroom AbvGr',\n",
              "                                                   'Full Bath']),\n",
              "                                                 ('onehotencoder',\n",
              "                                                  OneHotEncoder(),\n",
              "                                                  ['Neighborhood',\n",
              "                                                   'Bldg Type'])])),\n",
              "                ('kneighborsregressor', KNeighborsRegressor(n_neighbors=10))])"
            ]
          },
          "metadata": {},
          "execution_count": 8
        }
      ]
    },
    {
      "cell_type": "markdown",
      "metadata": {
        "id": "E_H2s5R3QgbM"
      },
      "source": [
        "Now, if we wanted to use this model to predict the price of a 3BR/2BA, 1700 sqft single-family house in Bloomington Heights, we could create a `Series` with this information, and call `pipeline.predict()` on a 2D-array with this single row."
      ]
    },
    {
      "cell_type": "code",
      "metadata": {
        "id": "__A47DO-QgbO",
        "colab": {
          "base_uri": "https://localhost:8080/"
        },
        "outputId": "0504c6bf-0b01-448e-cd1b-82a5ce54901c"
      },
      "source": [
        "x_test = pd.Series()\n",
        "x_test[\"Gr Liv Area\"] = 1700\n",
        "x_test[\"Bedroom AbvGr\"] = 3\n",
        "x_test[\"Full Bath\"] = 2\n",
        "x_test[\"Neighborhood\"] = \"Blmngtn\"\n",
        "x_test[\"Bldg Type\"] = \"1Fam\"\n",
        "\n",
        "pipeline.predict(X=pd.DataFrame([x_test]))"
      ],
      "execution_count": null,
      "outputs": [
        {
          "output_type": "stream",
          "name": "stderr",
          "text": [
            "/usr/local/lib/python3.7/dist-packages/ipykernel_launcher.py:1: DeprecationWarning: The default dtype for empty Series will be 'object' instead of 'float64' in a future version. Specify a dtype explicitly to silence this warning.\n",
            "  \"\"\"Entry point for launching an IPython kernel.\n"
          ]
        },
        {
          "output_type": "execute_result",
          "data": {
            "text/plain": [
              "array([251550.])"
            ]
          },
          "metadata": {},
          "execution_count": 9
        }
      ]
    },
    {
      "cell_type": "markdown",
      "metadata": {
        "id": "pmHVpKhBQgbU"
      },
      "source": [
        "So this house is predicted to cost $251,550."
      ]
    },
    {
      "cell_type": "markdown",
      "metadata": {
        "id": "TO3FhdpTQgbV"
      },
      "source": [
        "## Exercises"
      ]
    },
    {
      "cell_type": "markdown",
      "metadata": {
        "id": "a0lC3xbFQgbW"
      },
      "source": [
        "1\\. Using the Ames data set, build a $10$-nearest neighbors model to predict house price using **Neighborhood** as the only feature. How do the predictions compare with just using the mean house price of each neighborhood? If there are any discrepancies, can you explain why?"
      ]
    },
    {
      "cell_type": "code",
      "source": [
        "from sklearn.preprocessing import OneHotEncoder\n",
        "from sklearn.neighbors import KNeighborsRegressor\n",
        "\n",
        "X = df_housing[[\"Neighborhood\"]] # need 2D array for sklearn\n",
        "y = df_housing[\"SalePrice\"]\n",
        "\n",
        "enc = OneHotEncoder()\n",
        "X_dummies = enc.fit_transform(X)\n",
        "\n",
        "model = KNeighborsRegressor()\n",
        "model.fit(X_dummies, y)"
      ],
      "metadata": {
        "colab": {
          "base_uri": "https://localhost:8080/"
        },
        "id": "EYjrQOpYoXq6",
        "outputId": "3834f920-4c7e-4718-f3f7-034d6e1ac842"
      },
      "execution_count": null,
      "outputs": [
        {
          "output_type": "execute_result",
          "data": {
            "text/plain": [
              "KNeighborsRegressor()"
            ]
          },
          "metadata": {},
          "execution_count": 10
        }
      ]
    },
    {
      "cell_type": "code",
      "source": [
        "pd.Series(\n",
        "    model.predict(enc.transform(X_test)),\n",
        "    index=X_test[\"Neighborhood\"]\n",
        ")"
      ],
      "metadata": {
        "colab": {
          "base_uri": "https://localhost:8080/"
        },
        "id": "G2DKv8UTolOk",
        "outputId": "b45b4b57-b417-4873-e0ef-f5834fa4a3c9"
      },
      "execution_count": null,
      "outputs": [
        {
          "output_type": "execute_result",
          "data": {
            "text/plain": [
              "Neighborhood\n",
              "Blmngtn    194722.2\n",
              "Blueste    156200.0\n",
              "BrDale     113300.0\n",
              "BrkSide    101480.0\n",
              "ClearCr    223900.0\n",
              "CollgCr    169800.0\n",
              "Crawfor    238900.0\n",
              "Edwards    117120.0\n",
              "Gilbert    206065.0\n",
              "Greens     188150.0\n",
              "GrnHill    188700.0\n",
              "IDOTRR     122940.8\n",
              "Landmrk    121300.0\n",
              "MeadowV    105080.0\n",
              "Mitchel    133100.0\n",
              "NAmes      147850.0\n",
              "NPkVill    142380.0\n",
              "NWAmes     182080.0\n",
              "NoRidge    293210.0\n",
              "NridgHt    310660.0\n",
              "OldTown    124580.0\n",
              "SWISU      143100.0\n",
              "Sawyer     141730.0\n",
              "SawyerW    148080.0\n",
              "Somerst    246100.0\n",
              "StoneBr    281385.2\n",
              "Timber     200800.0\n",
              "Veenker    242400.0\n",
              "dtype: float64"
            ]
          },
          "metadata": {},
          "execution_count": 11
        }
      ]
    },
    {
      "cell_type": "markdown",
      "metadata": {
        "id": "D_wV5j2_QgbX"
      },
      "source": [
        "2\\. In the example from the lesson, we standardized the quantitative features and one-hot encoded the categorical features in parallel. This means that the dummy variables were not standardized before being passed into the $10$-nearest neighbors model. How would you modify the pipeline so that *all* of the variables are standardized?\n",
        "\n",
        "(_Hint:_ You may find the `remainder=\"passthrough\"` option of `ColumnTransformer` helpful.)"
      ]
    },
    {
      "cell_type": "code",
      "source": [
        "from sklearn.compose import make_column_transformer, make_column_selector\n",
        "from sklearn.preprocessing import StandardScaler, OneHotEncoder\n",
        "\n",
        "ct = make_column_transformer(\n",
        "    (OneHotEncoder(), [\"Neighborhood\", \"Bldg Type\"]),\n",
        "    remainder=\"passthrough\",\n",
        "    sparse_threshold=0\n",
        ")\n",
        "\n",
        "pipeline = make_pipeline(\n",
        "    ct,\n",
        "    StandardScaler(),\n",
        "    KNeighborsRegressor(n_neighbors=10)\n",
        ")\n",
        "\n",
        "X_train = df_housing[[\"Gr Liv Area\", \"Bedroom AbvGr\", \"Full Bath\",\n",
        "                           \"Neighborhood\", \"Bldg Type\"]]\n",
        "y_train = df_housing[\"SalePrice\"]\n",
        "\n",
        "pipeline.fit(X_train,y_train)"
      ],
      "metadata": {
        "id": "d3j-pwh5o9Y4",
        "colab": {
          "base_uri": "https://localhost:8080/"
        },
        "outputId": "ee04693a-12c4-4328-91ae-a417e7bf3bdf"
      },
      "execution_count": null,
      "outputs": [
        {
          "output_type": "execute_result",
          "data": {
            "text/plain": [
              "Pipeline(steps=[('columntransformer',\n",
              "                 ColumnTransformer(remainder='passthrough', sparse_threshold=0,\n",
              "                                   transformers=[('onehotencoder',\n",
              "                                                  OneHotEncoder(),\n",
              "                                                  ['Neighborhood',\n",
              "                                                   'Bldg Type'])])),\n",
              "                ('standardscaler', StandardScaler()),\n",
              "                ('kneighborsregressor', KNeighborsRegressor(n_neighbors=10))])"
            ]
          },
          "metadata": {},
          "execution_count": 22
        }
      ]
    },
    {
      "cell_type": "markdown",
      "metadata": {
        "id": "PFxX8W2FQgbb"
      },
      "source": [
        "3\\. Using the tips data set (http://dlsun.github.io/pods/data/tips.csv ), use a $5$-nearest neighbors model to predict how much a male diner will tip on a Sunday bill of \\$40.00."
      ]
    },
    {
      "cell_type": "code",
      "source": [
        "df_tips = pd.read_csv('http://dlsun.github.io/pods/data/tips.csv')\n",
        "df_tips.head()"
      ],
      "metadata": {
        "colab": {
          "base_uri": "https://localhost:8080/",
          "height": 206
        },
        "id": "FudFSwY6poPh",
        "outputId": "03628a21-d8b9-4d9e-f8a3-89aef1dc151b"
      },
      "execution_count": null,
      "outputs": [
        {
          "output_type": "execute_result",
          "data": {
            "text/plain": [
              "   total_bill   tip     sex smoker  day    time  size\n",
              "0       16.99  1.01  Female     No  Sun  Dinner     2\n",
              "1       10.34  1.66    Male     No  Sun  Dinner     3\n",
              "2       21.01  3.50    Male     No  Sun  Dinner     3\n",
              "3       23.68  3.31    Male     No  Sun  Dinner     2\n",
              "4       24.59  3.61  Female     No  Sun  Dinner     4"
            ],
            "text/html": [
              "\n",
              "  <div id=\"df-3c07afed-ce1d-4063-8802-8ed902c1f4ae\">\n",
              "    <div class=\"colab-df-container\">\n",
              "      <div>\n",
              "<style scoped>\n",
              "    .dataframe tbody tr th:only-of-type {\n",
              "        vertical-align: middle;\n",
              "    }\n",
              "\n",
              "    .dataframe tbody tr th {\n",
              "        vertical-align: top;\n",
              "    }\n",
              "\n",
              "    .dataframe thead th {\n",
              "        text-align: right;\n",
              "    }\n",
              "</style>\n",
              "<table border=\"1\" class=\"dataframe\">\n",
              "  <thead>\n",
              "    <tr style=\"text-align: right;\">\n",
              "      <th></th>\n",
              "      <th>total_bill</th>\n",
              "      <th>tip</th>\n",
              "      <th>sex</th>\n",
              "      <th>smoker</th>\n",
              "      <th>day</th>\n",
              "      <th>time</th>\n",
              "      <th>size</th>\n",
              "    </tr>\n",
              "  </thead>\n",
              "  <tbody>\n",
              "    <tr>\n",
              "      <th>0</th>\n",
              "      <td>16.99</td>\n",
              "      <td>1.01</td>\n",
              "      <td>Female</td>\n",
              "      <td>No</td>\n",
              "      <td>Sun</td>\n",
              "      <td>Dinner</td>\n",
              "      <td>2</td>\n",
              "    </tr>\n",
              "    <tr>\n",
              "      <th>1</th>\n",
              "      <td>10.34</td>\n",
              "      <td>1.66</td>\n",
              "      <td>Male</td>\n",
              "      <td>No</td>\n",
              "      <td>Sun</td>\n",
              "      <td>Dinner</td>\n",
              "      <td>3</td>\n",
              "    </tr>\n",
              "    <tr>\n",
              "      <th>2</th>\n",
              "      <td>21.01</td>\n",
              "      <td>3.50</td>\n",
              "      <td>Male</td>\n",
              "      <td>No</td>\n",
              "      <td>Sun</td>\n",
              "      <td>Dinner</td>\n",
              "      <td>3</td>\n",
              "    </tr>\n",
              "    <tr>\n",
              "      <th>3</th>\n",
              "      <td>23.68</td>\n",
              "      <td>3.31</td>\n",
              "      <td>Male</td>\n",
              "      <td>No</td>\n",
              "      <td>Sun</td>\n",
              "      <td>Dinner</td>\n",
              "      <td>2</td>\n",
              "    </tr>\n",
              "    <tr>\n",
              "      <th>4</th>\n",
              "      <td>24.59</td>\n",
              "      <td>3.61</td>\n",
              "      <td>Female</td>\n",
              "      <td>No</td>\n",
              "      <td>Sun</td>\n",
              "      <td>Dinner</td>\n",
              "      <td>4</td>\n",
              "    </tr>\n",
              "  </tbody>\n",
              "</table>\n",
              "</div>\n",
              "      <button class=\"colab-df-convert\" onclick=\"convertToInteractive('df-3c07afed-ce1d-4063-8802-8ed902c1f4ae')\"\n",
              "              title=\"Convert this dataframe to an interactive table.\"\n",
              "              style=\"display:none;\">\n",
              "        \n",
              "  <svg xmlns=\"http://www.w3.org/2000/svg\" height=\"24px\"viewBox=\"0 0 24 24\"\n",
              "       width=\"24px\">\n",
              "    <path d=\"M0 0h24v24H0V0z\" fill=\"none\"/>\n",
              "    <path d=\"M18.56 5.44l.94 2.06.94-2.06 2.06-.94-2.06-.94-.94-2.06-.94 2.06-2.06.94zm-11 1L8.5 8.5l.94-2.06 2.06-.94-2.06-.94L8.5 2.5l-.94 2.06-2.06.94zm10 10l.94 2.06.94-2.06 2.06-.94-2.06-.94-.94-2.06-.94 2.06-2.06.94z\"/><path d=\"M17.41 7.96l-1.37-1.37c-.4-.4-.92-.59-1.43-.59-.52 0-1.04.2-1.43.59L10.3 9.45l-7.72 7.72c-.78.78-.78 2.05 0 2.83L4 21.41c.39.39.9.59 1.41.59.51 0 1.02-.2 1.41-.59l7.78-7.78 2.81-2.81c.8-.78.8-2.07 0-2.86zM5.41 20L4 18.59l7.72-7.72 1.47 1.35L5.41 20z\"/>\n",
              "  </svg>\n",
              "      </button>\n",
              "      \n",
              "  <style>\n",
              "    .colab-df-container {\n",
              "      display:flex;\n",
              "      flex-wrap:wrap;\n",
              "      gap: 12px;\n",
              "    }\n",
              "\n",
              "    .colab-df-convert {\n",
              "      background-color: #E8F0FE;\n",
              "      border: none;\n",
              "      border-radius: 50%;\n",
              "      cursor: pointer;\n",
              "      display: none;\n",
              "      fill: #1967D2;\n",
              "      height: 32px;\n",
              "      padding: 0 0 0 0;\n",
              "      width: 32px;\n",
              "    }\n",
              "\n",
              "    .colab-df-convert:hover {\n",
              "      background-color: #E2EBFA;\n",
              "      box-shadow: 0px 1px 2px rgba(60, 64, 67, 0.3), 0px 1px 3px 1px rgba(60, 64, 67, 0.15);\n",
              "      fill: #174EA6;\n",
              "    }\n",
              "\n",
              "    [theme=dark] .colab-df-convert {\n",
              "      background-color: #3B4455;\n",
              "      fill: #D2E3FC;\n",
              "    }\n",
              "\n",
              "    [theme=dark] .colab-df-convert:hover {\n",
              "      background-color: #434B5C;\n",
              "      box-shadow: 0px 1px 3px 1px rgba(0, 0, 0, 0.15);\n",
              "      filter: drop-shadow(0px 1px 2px rgba(0, 0, 0, 0.3));\n",
              "      fill: #FFFFFF;\n",
              "    }\n",
              "  </style>\n",
              "\n",
              "      <script>\n",
              "        const buttonEl =\n",
              "          document.querySelector('#df-3c07afed-ce1d-4063-8802-8ed902c1f4ae button.colab-df-convert');\n",
              "        buttonEl.style.display =\n",
              "          google.colab.kernel.accessAllowed ? 'block' : 'none';\n",
              "\n",
              "        async function convertToInteractive(key) {\n",
              "          const element = document.querySelector('#df-3c07afed-ce1d-4063-8802-8ed902c1f4ae');\n",
              "          const dataTable =\n",
              "            await google.colab.kernel.invokeFunction('convertToInteractive',\n",
              "                                                     [key], {});\n",
              "          if (!dataTable) return;\n",
              "\n",
              "          const docLinkHtml = 'Like what you see? Visit the ' +\n",
              "            '<a target=\"_blank\" href=https://colab.research.google.com/notebooks/data_table.ipynb>data table notebook</a>'\n",
              "            + ' to learn more about interactive tables.';\n",
              "          element.innerHTML = '';\n",
              "          dataTable['output_type'] = 'display_data';\n",
              "          await google.colab.output.renderOutput(dataTable, element);\n",
              "          const docLink = document.createElement('div');\n",
              "          docLink.innerHTML = docLinkHtml;\n",
              "          element.appendChild(docLink);\n",
              "        }\n",
              "      </script>\n",
              "    </div>\n",
              "  </div>\n",
              "  "
            ]
          },
          "metadata": {},
          "execution_count": 13
        }
      ]
    },
    {
      "cell_type": "code",
      "source": [
        "ct = make_column_transformer(\n",
        "    (OneHotEncoder(), [\"sex\", 'day']),\n",
        "    (StandardScaler(), ['total_bill','size']),\n",
        "    remainder=\"drop\"\n",
        ")\n",
        "ct"
      ],
      "metadata": {
        "colab": {
          "base_uri": "https://localhost:8080/"
        },
        "id": "UoQs3spOpxnw",
        "outputId": "e59c3188-0939-4bbb-812f-e18596b67e6b"
      },
      "execution_count": null,
      "outputs": [
        {
          "output_type": "execute_result",
          "data": {
            "text/plain": [
              "ColumnTransformer(transformers=[('onehotencoder', OneHotEncoder(),\n",
              "                                 ['sex', 'day']),\n",
              "                                ('standardscaler', StandardScaler(),\n",
              "                                 ['total_bill', 'size'])])"
            ]
          },
          "metadata": {},
          "execution_count": 14
        }
      ]
    },
    {
      "cell_type": "code",
      "source": [
        "pipeline = make_pipeline(\n",
        "    ct,\n",
        "    KNeighborsRegressor(n_neighbors=5)\n",
        ")\n",
        "\n",
        "pipeline.fit(X=df_tips[['total_bill','size','sex','day']],\n",
        "             y=df_tips['tip'])"
      ],
      "metadata": {
        "colab": {
          "base_uri": "https://localhost:8080/"
        },
        "id": "nKTZuBz7prAz",
        "outputId": "c1579b3b-2bb3-44b8-a4bd-eb7d84fb586c"
      },
      "execution_count": null,
      "outputs": [
        {
          "output_type": "execute_result",
          "data": {
            "text/plain": [
              "Pipeline(steps=[('columntransformer',\n",
              "                 ColumnTransformer(transformers=[('onehotencoder',\n",
              "                                                  OneHotEncoder(),\n",
              "                                                  ['sex', 'day']),\n",
              "                                                 ('standardscaler',\n",
              "                                                  StandardScaler(),\n",
              "                                                  ['total_bill', 'size'])])),\n",
              "                ('kneighborsregressor', KNeighborsRegressor())])"
            ]
          },
          "metadata": {},
          "execution_count": 15
        }
      ]
    },
    {
      "cell_type": "code",
      "source": [
        "x_test = pd.Series({\n",
        "    'total_bill':40,\n",
        "    'sex':'Male',\n",
        "    'day':'Sun',\n",
        "    'size':1\n",
        "})\n",
        "pipeline.predict(pd.DataFrame([x_test]))"
      ],
      "metadata": {
        "colab": {
          "base_uri": "https://localhost:8080/"
        },
        "id": "rpHE8NEtqTsZ",
        "outputId": "a059b184-9a42-4cf5-fc61-6dc81c5eb0c9"
      },
      "execution_count": null,
      "outputs": [
        {
          "output_type": "execute_result",
          "data": {
            "text/plain": [
              "array([2.802])"
            ]
          },
          "metadata": {},
          "execution_count": 16
        }
      ]
    }
  ]
}