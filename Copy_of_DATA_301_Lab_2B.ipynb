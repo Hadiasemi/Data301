{
  "nbformat": 4,
  "nbformat_minor": 0,
  "metadata": {
    "kernelspec": {
      "display_name": "Python 3",
      "language": "python",
      "name": "python3"
    },
    "language_info": {
      "codemirror_mode": {
        "name": "ipython",
        "version": 3
      },
      "file_extension": ".py",
      "mimetype": "text/x-python",
      "name": "python",
      "nbconvert_exporter": "python",
      "pygments_lexer": "ipython3",
      "version": "3.6.4"
    },
    "colab": {
      "name": "Copy of DATA 301 Lab 2B",
      "provenance": [],
      "collapsed_sections": [],
      "include_colab_link": true
    }
  },
  "cells": [
    {
      "cell_type": "markdown",
      "metadata": {
        "id": "view-in-github",
        "colab_type": "text"
      },
      "source": [
        "<a href=\"https://colab.research.google.com/github/Hadiasemi/Data301/blob/main/Copy_of_DATA_301_Lab_2B.ipynb\" target=\"_parent\"><img src=\"https://colab.research.google.com/assets/colab-badge.svg\" alt=\"Open In Colab\"/></a>"
      ]
    },
    {
      "cell_type": "markdown",
      "metadata": {
        "id": "3GRr9ej57rEW"
      },
      "source": [
        "# Evidence of Discrimination?\n",
        "\n",
        "The Department of Developmental Services (DDS) in California is responsible for allocating funds to support over 250,000 developmentally-disabled residents. The data set `https://dlsun.github.io/pods/data/ca_dds_expenditures.csv` contains data about 1,000 of these residents. The data comes from a discrimination lawsuit which alleged that California's Department of Developmental Services (DDS) privileged white (non-Hispanic) residents over Hispanic residents in allocating funds. We will focus on comparing the allocation of funds (i.e., expenditures) for these two ethnicities only, although there are other ethnicities in this data set.\n",
        "\n",
        "There are 6 variables in this data set:\n",
        "\n",
        "- Id:  5-digit, unique identification code for each consumer (similar to a social security number and used for identification purposes)  \n",
        "- Age Cohort:  Binned age variable represented as six age cohorts (0-5, 6-12, 13-17, 18-21, 22-50, and 51+)\n",
        "- Age:  Unbinned age variable\n",
        "- Gender:  Male or Female\n",
        "- Expenditures:  Dollar amount of annual expenditures spent on each consumer\n",
        "- Ethnicity:  Eight ethnic groups (American Indian, Asian, Black, Hispanic, Multi-race, Native Hawaiian, Other, and White non-Hispanic)"
      ]
    },
    {
      "cell_type": "markdown",
      "metadata": {
        "id": "pBrvxdVd7rEY"
      },
      "source": [
        "# Question 1\n",
        "\n",
        "Read in the data set. Make a graphic that compares the _average_ expenditures by the DDS on Hispanic residents and white (non-Hispanic) residents. Comment on what you see."
      ]
    },
    {
      "cell_type": "code",
      "metadata": {
        "id": "HPu1DTOY7rEa",
        "colab": {
          "base_uri": "https://localhost:8080/",
          "height": 206
        },
        "outputId": "211565c0-9c5a-44df-e1d8-9f72272ce616"
      },
      "source": [
        "# YOUR CODE HERE\n",
        "import pandas as pd\n",
        "df_ca = pd.read_csv(\"https://dlsun.github.io/pods/data/ca_dds_expenditures.csv\")\n",
        "df_ca.head()"
      ],
      "execution_count": 18,
      "outputs": [
        {
          "output_type": "execute_result",
          "data": {
            "text/plain": [
              "      Id Age Cohort  Age  Gender  Expenditures           Ethnicity\n",
              "0  10210   13 to 17   17  Female          2113  White not Hispanic\n",
              "1  10409   22 to 50   37    Male         41924  White not Hispanic\n",
              "2  10486     0 to 5    3    Male          1454            Hispanic\n",
              "3  10538   18 to 21   19  Female          6400            Hispanic\n",
              "4  10568   13 to 17   13    Male          4412  White not Hispanic"
            ],
            "text/html": [
              "\n",
              "  <div id=\"df-a7956b93-c7c2-4630-83e7-99a4eadc4aec\">\n",
              "    <div class=\"colab-df-container\">\n",
              "      <div>\n",
              "<style scoped>\n",
              "    .dataframe tbody tr th:only-of-type {\n",
              "        vertical-align: middle;\n",
              "    }\n",
              "\n",
              "    .dataframe tbody tr th {\n",
              "        vertical-align: top;\n",
              "    }\n",
              "\n",
              "    .dataframe thead th {\n",
              "        text-align: right;\n",
              "    }\n",
              "</style>\n",
              "<table border=\"1\" class=\"dataframe\">\n",
              "  <thead>\n",
              "    <tr style=\"text-align: right;\">\n",
              "      <th></th>\n",
              "      <th>Id</th>\n",
              "      <th>Age Cohort</th>\n",
              "      <th>Age</th>\n",
              "      <th>Gender</th>\n",
              "      <th>Expenditures</th>\n",
              "      <th>Ethnicity</th>\n",
              "    </tr>\n",
              "  </thead>\n",
              "  <tbody>\n",
              "    <tr>\n",
              "      <th>0</th>\n",
              "      <td>10210</td>\n",
              "      <td>13 to 17</td>\n",
              "      <td>17</td>\n",
              "      <td>Female</td>\n",
              "      <td>2113</td>\n",
              "      <td>White not Hispanic</td>\n",
              "    </tr>\n",
              "    <tr>\n",
              "      <th>1</th>\n",
              "      <td>10409</td>\n",
              "      <td>22 to 50</td>\n",
              "      <td>37</td>\n",
              "      <td>Male</td>\n",
              "      <td>41924</td>\n",
              "      <td>White not Hispanic</td>\n",
              "    </tr>\n",
              "    <tr>\n",
              "      <th>2</th>\n",
              "      <td>10486</td>\n",
              "      <td>0 to 5</td>\n",
              "      <td>3</td>\n",
              "      <td>Male</td>\n",
              "      <td>1454</td>\n",
              "      <td>Hispanic</td>\n",
              "    </tr>\n",
              "    <tr>\n",
              "      <th>3</th>\n",
              "      <td>10538</td>\n",
              "      <td>18 to 21</td>\n",
              "      <td>19</td>\n",
              "      <td>Female</td>\n",
              "      <td>6400</td>\n",
              "      <td>Hispanic</td>\n",
              "    </tr>\n",
              "    <tr>\n",
              "      <th>4</th>\n",
              "      <td>10568</td>\n",
              "      <td>13 to 17</td>\n",
              "      <td>13</td>\n",
              "      <td>Male</td>\n",
              "      <td>4412</td>\n",
              "      <td>White not Hispanic</td>\n",
              "    </tr>\n",
              "  </tbody>\n",
              "</table>\n",
              "</div>\n",
              "      <button class=\"colab-df-convert\" onclick=\"convertToInteractive('df-a7956b93-c7c2-4630-83e7-99a4eadc4aec')\"\n",
              "              title=\"Convert this dataframe to an interactive table.\"\n",
              "              style=\"display:none;\">\n",
              "        \n",
              "  <svg xmlns=\"http://www.w3.org/2000/svg\" height=\"24px\"viewBox=\"0 0 24 24\"\n",
              "       width=\"24px\">\n",
              "    <path d=\"M0 0h24v24H0V0z\" fill=\"none\"/>\n",
              "    <path d=\"M18.56 5.44l.94 2.06.94-2.06 2.06-.94-2.06-.94-.94-2.06-.94 2.06-2.06.94zm-11 1L8.5 8.5l.94-2.06 2.06-.94-2.06-.94L8.5 2.5l-.94 2.06-2.06.94zm10 10l.94 2.06.94-2.06 2.06-.94-2.06-.94-.94-2.06-.94 2.06-2.06.94z\"/><path d=\"M17.41 7.96l-1.37-1.37c-.4-.4-.92-.59-1.43-.59-.52 0-1.04.2-1.43.59L10.3 9.45l-7.72 7.72c-.78.78-.78 2.05 0 2.83L4 21.41c.39.39.9.59 1.41.59.51 0 1.02-.2 1.41-.59l7.78-7.78 2.81-2.81c.8-.78.8-2.07 0-2.86zM5.41 20L4 18.59l7.72-7.72 1.47 1.35L5.41 20z\"/>\n",
              "  </svg>\n",
              "      </button>\n",
              "      \n",
              "  <style>\n",
              "    .colab-df-container {\n",
              "      display:flex;\n",
              "      flex-wrap:wrap;\n",
              "      gap: 12px;\n",
              "    }\n",
              "\n",
              "    .colab-df-convert {\n",
              "      background-color: #E8F0FE;\n",
              "      border: none;\n",
              "      border-radius: 50%;\n",
              "      cursor: pointer;\n",
              "      display: none;\n",
              "      fill: #1967D2;\n",
              "      height: 32px;\n",
              "      padding: 0 0 0 0;\n",
              "      width: 32px;\n",
              "    }\n",
              "\n",
              "    .colab-df-convert:hover {\n",
              "      background-color: #E2EBFA;\n",
              "      box-shadow: 0px 1px 2px rgba(60, 64, 67, 0.3), 0px 1px 3px 1px rgba(60, 64, 67, 0.15);\n",
              "      fill: #174EA6;\n",
              "    }\n",
              "\n",
              "    [theme=dark] .colab-df-convert {\n",
              "      background-color: #3B4455;\n",
              "      fill: #D2E3FC;\n",
              "    }\n",
              "\n",
              "    [theme=dark] .colab-df-convert:hover {\n",
              "      background-color: #434B5C;\n",
              "      box-shadow: 0px 1px 3px 1px rgba(0, 0, 0, 0.15);\n",
              "      filter: drop-shadow(0px 1px 2px rgba(0, 0, 0, 0.3));\n",
              "      fill: #FFFFFF;\n",
              "    }\n",
              "  </style>\n",
              "\n",
              "      <script>\n",
              "        const buttonEl =\n",
              "          document.querySelector('#df-a7956b93-c7c2-4630-83e7-99a4eadc4aec button.colab-df-convert');\n",
              "        buttonEl.style.display =\n",
              "          google.colab.kernel.accessAllowed ? 'block' : 'none';\n",
              "\n",
              "        async function convertToInteractive(key) {\n",
              "          const element = document.querySelector('#df-a7956b93-c7c2-4630-83e7-99a4eadc4aec');\n",
              "          const dataTable =\n",
              "            await google.colab.kernel.invokeFunction('convertToInteractive',\n",
              "                                                     [key], {});\n",
              "          if (!dataTable) return;\n",
              "\n",
              "          const docLinkHtml = 'Like what you see? Visit the ' +\n",
              "            '<a target=\"_blank\" href=https://colab.research.google.com/notebooks/data_table.ipynb>data table notebook</a>'\n",
              "            + ' to learn more about interactive tables.';\n",
              "          element.innerHTML = '';\n",
              "          dataTable['output_type'] = 'display_data';\n",
              "          await google.colab.output.renderOutput(dataTable, element);\n",
              "          const docLink = document.createElement('div');\n",
              "          docLink.innerHTML = docLinkHtml;\n",
              "          element.appendChild(docLink);\n",
              "        }\n",
              "      </script>\n",
              "    </div>\n",
              "  </div>\n",
              "  "
            ]
          },
          "metadata": {},
          "execution_count": 18
        }
      ]
    },
    {
      "cell_type": "code",
      "source": [
        "df_combine =df_ca[(df_ca['Ethnicity'] == 'White not Hispanic') | (df_ca['Ethnicity'] == 'Hispanic')]\n",
        "df_combine.groupby('Ethnicity')['Expenditures'].mean().plot.bar()\n"
      ],
      "metadata": {
        "colab": {
          "base_uri": "https://localhost:8080/",
          "height": 382
        },
        "id": "BVGMK3BJiFch",
        "outputId": "273fea01-cb5c-4682-ea24-2a469db80054"
      },
      "execution_count": 19,
      "outputs": [
        {
          "output_type": "execute_result",
          "data": {
            "text/plain": [
              "<matplotlib.axes._subplots.AxesSubplot at 0x7f16e7f71f50>"
            ]
          },
          "metadata": {},
          "execution_count": 19
        },
        {
          "output_type": "display_data",
          "data": {
            "text/plain": [
              "<Figure size 432x288 with 1 Axes>"
            ],
            "image/png": "[encoded data removed]"
          },
          "metadata": {
            "needs_background": "light"
          }
        }
      ]
    },
    {
      "cell_type": "markdown",
      "metadata": {
        "id": "FvfRcog37rEf"
      },
      "source": [
        "**YOUR EXPLANATION HERE**\n",
        "\n",
        "The average for Hispanic is lowest."
      ]
    },
    {
      "cell_type": "markdown",
      "metadata": {
        "id": "CmxE7M3o7rEg"
      },
      "source": [
        "# Question 2\n",
        "\n",
        "Now, calculate the average expenditures by ethnicity and age cohort. Make a graphic that compares the average expenditure on Hispanic residents and white (non-Hispanic) residents, _within each age cohort_. \n",
        "\n",
        "Comment on what you see. How do these results appear to contradict the results you obtained in Question 1?"
      ]
    },
    {
      "cell_type": "code",
      "metadata": {
        "id": "u_J1LRI37rEh",
        "colab": {
          "base_uri": "https://localhost:8080/",
          "height": 437
        },
        "outputId": "561576bc-62a0-4c13-ef19-f8fccd67df75"
      },
      "source": [
        "# YOUR CODE HERE\n",
        "df_combine.groupby(['Age Cohort','Ethnicity'])['Expenditures'].mean().plot.bar()"
      ],
      "execution_count": 26,
      "outputs": [
        {
          "output_type": "execute_result",
          "data": {
            "text/plain": [
              "<matplotlib.axes._subplots.AxesSubplot at 0x7f16e7912310>"
            ]
          },
          "metadata": {},
          "execution_count": 26
        },
        {
          "output_type": "display_data",
          "data": {
            "text/plain": [
              "<Figure size 432x288 with 1 Axes>"
            ],
            "image/png": "[encoded data removed]"
          },
          "metadata": {
            "needs_background": "light"
          }
        }
      ]
    },
    {
      "cell_type": "markdown",
      "metadata": {
        "id": "CFriAmRB7rEl"
      },
      "source": [
        "**YOUR EXPLANATION HERE**\n",
        "\n",
        "This grph indicate 51+ hispanic cohort has the most expenditures that contradic the response from question 1 that white cohort spend more money on the average."
      ]
    },
    {
      "cell_type": "markdown",
      "metadata": {
        "id": "vNJHIPO77rEm"
      },
      "source": [
        "# Question 3\n",
        "\n",
        "Can you explain the discrepancy between the two analyses you conducted above (i.e., Questions 1 and 2)? Try to tell a complete story that interweaves tables, graphics, and explanation.\n",
        "\n",
        "_Hint:_ You might want to consider looking at:\n",
        "\n",
        "- the distributions of ages of Hispanics and whites\n",
        "- the average expenditure as a function of age"
      ]
    },
    {
      "cell_type": "code",
      "metadata": {
        "id": "mo4aLinP7rEn",
        "colab": {
          "base_uri": "https://localhost:8080/",
          "height": 283
        },
        "outputId": "c3e9f56b-70f6-496a-9879-3b6351ff341a"
      },
      "source": [
        "# YOUR CODE HERE (although you may want to add more code cells)\n",
        "df_hisp['Age'].plot.hist(bins = 50, density = True)"
      ],
      "execution_count": 33,
      "outputs": [
        {
          "output_type": "execute_result",
          "data": {
            "text/plain": [
              "<matplotlib.axes._subplots.AxesSubplot at 0x7f16e7f5cc90>"
            ]
          },
          "metadata": {},
          "execution_count": 33
        },
        {
          "output_type": "display_data",
          "data": {
            "text/plain": [
              "<Figure size 432x288 with 1 Axes>"
            ],
            "image/png": "[encoded data removed]"
          },
          "metadata": {
            "needs_background": "light"
          }
        }
      ]
    },
    {
      "cell_type": "code",
      "source": [
        "# YOUR CODE HERE (although you may want to add more code cells)\n",
        "df_white['Age'].plot.hist(bins = 50, density = True)"
      ],
      "metadata": {
        "colab": {
          "base_uri": "https://localhost:8080/",
          "height": 283
        },
        "id": "2qKNCm1w7cYG",
        "outputId": "778a6059-8c37-4092-eec5-f4cff7357b02"
      },
      "execution_count": 32,
      "outputs": [
        {
          "output_type": "execute_result",
          "data": {
            "text/plain": [
              "<matplotlib.axes._subplots.AxesSubplot at 0x7f16e797de50>"
            ]
          },
          "metadata": {},
          "execution_count": 32
        },
        {
          "output_type": "display_data",
          "data": {
            "text/plain": [
              "<Figure size 432x288 with 1 Axes>"
            ],
            "image/png": "[encoded data removed]"
          },
          "metadata": {
            "needs_background": "light"
          }
        }
      ]
    },
    {
      "cell_type": "markdown",
      "metadata": {
        "id": "dmdJ1RTp7rEq"
      },
      "source": [
        "**YOUR EXPLANATION HERE (although you may want to add more markdown cells)**"
      ]
    },
    {
      "cell_type": "markdown",
      "source": [
        "Average age for Hispanic is lower compare to white people. Based of our data from question 2 I saw that 51+ age group has the most average expenditure. This will help that white group have the higer expenditure average compare to hispanic."
      ],
      "metadata": {
        "id": "lvkqaplf7qxx"
      }
    },
    {
      "cell_type": "markdown",
      "metadata": {
        "id": "4JdcqKm57rEr"
      },
      "source": [
        "## Submission Instructions\n",
        "\n",
        "- Restart this notebook and run the cells from beginning to end:\n",
        "  - Go to Runtime > Restart and Run All.\n",
        "- Download the notebook:\n",
        "  - Go to File > Download > Download .ipynb.\n",
        "- Submit your notebook file to the assignment on Canvas.\n"
      ]
    },
    {
      "cell_type": "code",
      "source": [
        ""
      ],
      "metadata": {
        "id": "XoZH0HjLhnVR"
      },
      "execution_count": null,
      "outputs": []
    }
  ]
}