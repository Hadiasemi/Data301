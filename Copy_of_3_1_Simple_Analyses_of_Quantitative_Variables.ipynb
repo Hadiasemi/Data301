{
  "nbformat": 4,
  "nbformat_minor": 0,
  "metadata": {
    "colab": {
      "name": "Copy of 3.1 Simple Analyses of Quantitative Variables",
      "provenance": [],
      "collapsed_sections": [
        "Z4yNNG7m87M0",
        "1fQpqJu68-0C",
        "MxcFa2EHAJCi",
        "Cubp2y63BEbM"
      ],
      "include_colab_link": true
    },
    "kernelspec": {
      "name": "python3",
      "display_name": "Python 3"
    }
  },
  "cells": [
    {
      "cell_type": "markdown",
      "metadata": {
        "id": "view-in-github",
        "colab_type": "text"
      },
      "source": [
        "<a href=\"https://colab.research.google.com/github/Hadiasemi/Data301/blob/main/Copy_of_3_1_Simple_Analyses_of_Quantitative_Variables.ipynb\" target=\"_parent\"><img src=\"https://colab.research.google.com/assets/colab-badge.svg\" alt=\"Open In Colab\"/></a>"
      ]
    },
    {
      "cell_type": "markdown",
      "metadata": {
        "id": "YF_1q_0kjVGf"
      },
      "source": [
        "In the previous chapter, we discussed ways to analyze categorical variables, such as **gender**, **class**, and **embarked** in the Titanic data set. In this chapter, we discuss ways to analyze quantitative variables, such as **age** and **fare**."
      ]
    },
    {
      "cell_type": "code",
      "metadata": {
        "id": "WQrxrFke5X-F",
        "colab": {
          "base_uri": "https://localhost:8080/",
          "height": 423
        },
        "outputId": "29a6a129-3b3b-4797-eb9b-02ea0e13cd26"
      },
      "source": [
        "import pandas as pd\n",
        "data_dir = \"http://dlsun.github.io/pods/data/\"\n",
        "df_titanic = pd.read_csv(data_dir + \"titanic.csv\")\n",
        "df_titanic"
      ],
      "execution_count": 1,
      "outputs": [
        {
          "output_type": "execute_result",
          "data": {
            "text/plain": [
              "                                name  gender   age             class embarked  \\\n",
              "0                Abbing, Mr. Anthony    male  42.0               3rd        S   \n",
              "1          Abbott, Mr. Eugene Joseph    male  13.0               3rd        S   \n",
              "2        Abbott, Mr. Rossmore Edward    male  16.0               3rd        S   \n",
              "3     Abbott, Mrs. Rhoda Mary 'Rosa'  female  39.0               3rd        S   \n",
              "4        Abelseth, Miss. Karen Marie  female  16.0               3rd        S   \n",
              "...                              ...     ...   ...               ...      ...   \n",
              "2202                Wynn, Mr. Walter    male  41.0         deck crew        B   \n",
              "2203             Yearsley, Mr. Harry    male  40.0  victualling crew        S   \n",
              "2204        Young, Mr. Francis James    male  32.0  engineering crew        S   \n",
              "2205             Zanetti, Sig. Minio    male  20.0  restaurant staff        S   \n",
              "2206              Zarracchi, Sig. L.    male  26.0  restaurant staff        S   \n",
              "\n",
              "            country  ticketno   fare  survived  \n",
              "0     United States    5547.0   7.11         0  \n",
              "1     United States    2673.0  20.05         0  \n",
              "2     United States    2673.0  20.05         0  \n",
              "3           England    2673.0  20.05         1  \n",
              "4            Norway  348125.0   7.13         1  \n",
              "...             ...       ...    ...       ...  \n",
              "2202        England       NaN    NaN         1  \n",
              "2203        England       NaN    NaN         1  \n",
              "2204        England       NaN    NaN         0  \n",
              "2205        England       NaN    NaN         0  \n",
              "2206        England       NaN    NaN         0  \n",
              "\n",
              "[2207 rows x 9 columns]"
            ],
            "text/html": [
              "\n",
              "  <div id=\"df-99d9aefd-24f8-4970-a183-abd34227c339\">\n",
              "    <div class=\"colab-df-container\">\n",
              "      <div>\n",
              "<style scoped>\n",
              "    .dataframe tbody tr th:only-of-type {\n",
              "        vertical-align: middle;\n",
              "    }\n",
              "\n",
              "    .dataframe tbody tr th {\n",
              "        vertical-align: top;\n",
              "    }\n",
              "\n",
              "    .dataframe thead th {\n",
              "        text-align: right;\n",
              "    }\n",
              "</style>\n",
              "<table border=\"1\" class=\"dataframe\">\n",
              "  <thead>\n",
              "    <tr style=\"text-align: right;\">\n",
              "      <th></th>\n",
              "      <th>name</th>\n",
              "      <th>gender</th>\n",
              "      <th>age</th>\n",
              "      <th>class</th>\n",
              "      <th>embarked</th>\n",
              "      <th>country</th>\n",
              "      <th>ticketno</th>\n",
              "      <th>fare</th>\n",
              "      <th>survived</th>\n",
              "    </tr>\n",
              "  </thead>\n",
              "  <tbody>\n",
              "    <tr>\n",
              "      <th>0</th>\n",
              "      <td>Abbing, Mr. Anthony</td>\n",
              "      <td>male</td>\n",
              "      <td>42.0</td>\n",
              "      <td>3rd</td>\n",
              "      <td>S</td>\n",
              "      <td>United States</td>\n",
              "      <td>5547.0</td>\n",
              "      <td>7.11</td>\n",
              "      <td>0</td>\n",
              "    </tr>\n",
              "    <tr>\n",
              "      <th>1</th>\n",
              "      <td>Abbott, Mr. Eugene Joseph</td>\n",
              "      <td>male</td>\n",
              "      <td>13.0</td>\n",
              "      <td>3rd</td>\n",
              "      <td>S</td>\n",
              "      <td>United States</td>\n",
              "      <td>2673.0</td>\n",
              "      <td>20.05</td>\n",
              "      <td>0</td>\n",
              "    </tr>\n",
              "    <tr>\n",
              "      <th>2</th>\n",
              "      <td>Abbott, Mr. Rossmore Edward</td>\n",
              "      <td>male</td>\n",
              "      <td>16.0</td>\n",
              "      <td>3rd</td>\n",
              "      <td>S</td>\n",
              "      <td>United States</td>\n",
              "      <td>2673.0</td>\n",
              "      <td>20.05</td>\n",
              "      <td>0</td>\n",
              "    </tr>\n",
              "    <tr>\n",
              "      <th>3</th>\n",
              "      <td>Abbott, Mrs. Rhoda Mary 'Rosa'</td>\n",
              "      <td>female</td>\n",
              "      <td>39.0</td>\n",
              "      <td>3rd</td>\n",
              "      <td>S</td>\n",
              "      <td>England</td>\n",
              "      <td>2673.0</td>\n",
              "      <td>20.05</td>\n",
              "      <td>1</td>\n",
              "    </tr>\n",
              "    <tr>\n",
              "      <th>4</th>\n",
              "      <td>Abelseth, Miss. Karen Marie</td>\n",
              "      <td>female</td>\n",
              "      <td>16.0</td>\n",
              "      <td>3rd</td>\n",
              "      <td>S</td>\n",
              "      <td>Norway</td>\n",
              "      <td>348125.0</td>\n",
              "      <td>7.13</td>\n",
              "      <td>1</td>\n",
              "    </tr>\n",
              "    <tr>\n",
              "      <th>...</th>\n",
              "      <td>...</td>\n",
              "      <td>...</td>\n",
              "      <td>...</td>\n",
              "      <td>...</td>\n",
              "      <td>...</td>\n",
              "      <td>...</td>\n",
              "      <td>...</td>\n",
              "      <td>...</td>\n",
              "      <td>...</td>\n",
              "    </tr>\n",
              "    <tr>\n",
              "      <th>2202</th>\n",
              "      <td>Wynn, Mr. Walter</td>\n",
              "      <td>male</td>\n",
              "      <td>41.0</td>\n",
              "      <td>deck crew</td>\n",
              "      <td>B</td>\n",
              "      <td>England</td>\n",
              "      <td>NaN</td>\n",
              "      <td>NaN</td>\n",
              "      <td>1</td>\n",
              "    </tr>\n",
              "    <tr>\n",
              "      <th>2203</th>\n",
              "      <td>Yearsley, Mr. Harry</td>\n",
              "      <td>male</td>\n",
              "      <td>40.0</td>\n",
              "      <td>victualling crew</td>\n",
              "      <td>S</td>\n",
              "      <td>England</td>\n",
              "      <td>NaN</td>\n",
              "      <td>NaN</td>\n",
              "      <td>1</td>\n",
              "    </tr>\n",
              "    <tr>\n",
              "      <th>2204</th>\n",
              "      <td>Young, Mr. Francis James</td>\n",
              "      <td>male</td>\n",
              "      <td>32.0</td>\n",
              "      <td>engineering crew</td>\n",
              "      <td>S</td>\n",
              "      <td>England</td>\n",
              "      <td>NaN</td>\n",
              "      <td>NaN</td>\n",
              "      <td>0</td>\n",
              "    </tr>\n",
              "    <tr>\n",
              "      <th>2205</th>\n",
              "      <td>Zanetti, Sig. Minio</td>\n",
              "      <td>male</td>\n",
              "      <td>20.0</td>\n",
              "      <td>restaurant staff</td>\n",
              "      <td>S</td>\n",
              "      <td>England</td>\n",
              "      <td>NaN</td>\n",
              "      <td>NaN</td>\n",
              "      <td>0</td>\n",
              "    </tr>\n",
              "    <tr>\n",
              "      <th>2206</th>\n",
              "      <td>Zarracchi, Sig. L.</td>\n",
              "      <td>male</td>\n",
              "      <td>26.0</td>\n",
              "      <td>restaurant staff</td>\n",
              "      <td>S</td>\n",
              "      <td>England</td>\n",
              "      <td>NaN</td>\n",
              "      <td>NaN</td>\n",
              "      <td>0</td>\n",
              "    </tr>\n",
              "  </tbody>\n",
              "</table>\n",
              "<p>2207 rows × 9 columns</p>\n",
              "</div>\n",
              "      <button class=\"colab-df-convert\" onclick=\"convertToInteractive('df-99d9aefd-24f8-4970-a183-abd34227c339')\"\n",
              "              title=\"Convert this dataframe to an interactive table.\"\n",
              "              style=\"display:none;\">\n",
              "        \n",
              "  <svg xmlns=\"http://www.w3.org/2000/svg\" height=\"24px\"viewBox=\"0 0 24 24\"\n",
              "       width=\"24px\">\n",
              "    <path d=\"M0 0h24v24H0V0z\" fill=\"none\"/>\n",
              "    <path d=\"M18.56 5.44l.94 2.06.94-2.06 2.06-.94-2.06-.94-.94-2.06-.94 2.06-2.06.94zm-11 1L8.5 8.5l.94-2.06 2.06-.94-2.06-.94L8.5 2.5l-.94 2.06-2.06.94zm10 10l.94 2.06.94-2.06 2.06-.94-2.06-.94-.94-2.06-.94 2.06-2.06.94z\"/><path d=\"M17.41 7.96l-1.37-1.37c-.4-.4-.92-.59-1.43-.59-.52 0-1.04.2-1.43.59L10.3 9.45l-7.72 7.72c-.78.78-.78 2.05 0 2.83L4 21.41c.39.39.9.59 1.41.59.51 0 1.02-.2 1.41-.59l7.78-7.78 2.81-2.81c.8-.78.8-2.07 0-2.86zM5.41 20L4 18.59l7.72-7.72 1.47 1.35L5.41 20z\"/>\n",
              "  </svg>\n",
              "      </button>\n",
              "      \n",
              "  <style>\n",
              "    .colab-df-container {\n",
              "      display:flex;\n",
              "      flex-wrap:wrap;\n",
              "      gap: 12px;\n",
              "    }\n",
              "\n",
              "    .colab-df-convert {\n",
              "      background-color: #E8F0FE;\n",
              "      border: none;\n",
              "      border-radius: 50%;\n",
              "      cursor: pointer;\n",
              "      display: none;\n",
              "      fill: #1967D2;\n",
              "      height: 32px;\n",
              "      padding: 0 0 0 0;\n",
              "      width: 32px;\n",
              "    }\n",
              "\n",
              "    .colab-df-convert:hover {\n",
              "      background-color: #E2EBFA;\n",
              "      box-shadow: 0px 1px 2px rgba(60, 64, 67, 0.3), 0px 1px 3px 1px rgba(60, 64, 67, 0.15);\n",
              "      fill: #174EA6;\n",
              "    }\n",
              "\n",
              "    [theme=dark] .colab-df-convert {\n",
              "      background-color: #3B4455;\n",
              "      fill: #D2E3FC;\n",
              "    }\n",
              "\n",
              "    [theme=dark] .colab-df-convert:hover {\n",
              "      background-color: #434B5C;\n",
              "      box-shadow: 0px 1px 3px 1px rgba(0, 0, 0, 0.15);\n",
              "      filter: drop-shadow(0px 1px 2px rgba(0, 0, 0, 0.3));\n",
              "      fill: #FFFFFF;\n",
              "    }\n",
              "  </style>\n",
              "\n",
              "      <script>\n",
              "        const buttonEl =\n",
              "          document.querySelector('#df-99d9aefd-24f8-4970-a183-abd34227c339 button.colab-df-convert');\n",
              "        buttonEl.style.display =\n",
              "          google.colab.kernel.accessAllowed ? 'block' : 'none';\n",
              "\n",
              "        async function convertToInteractive(key) {\n",
              "          const element = document.querySelector('#df-99d9aefd-24f8-4970-a183-abd34227c339');\n",
              "          const dataTable =\n",
              "            await google.colab.kernel.invokeFunction('convertToInteractive',\n",
              "                                                     [key], {});\n",
              "          if (!dataTable) return;\n",
              "\n",
              "          const docLinkHtml = 'Like what you see? Visit the ' +\n",
              "            '<a target=\"_blank\" href=https://colab.research.google.com/notebooks/data_table.ipynb>data table notebook</a>'\n",
              "            + ' to learn more about interactive tables.';\n",
              "          element.innerHTML = '';\n",
              "          dataTable['output_type'] = 'display_data';\n",
              "          await google.colab.output.renderOutput(dataTable, element);\n",
              "          const docLink = document.createElement('div');\n",
              "          docLink.innerHTML = docLinkHtml;\n",
              "          element.appendChild(docLink);\n",
              "        }\n",
              "      </script>\n",
              "    </div>\n",
              "  </div>\n",
              "  "
            ]
          },
          "metadata": {},
          "execution_count": 1
        }
      ]
    },
    {
      "cell_type": "markdown",
      "metadata": {
        "id": "x3zYKBXa5kCa"
      },
      "source": [
        "# Simple Analyses of Quantitative Variables\n",
        "\n",
        "We begin by discussing ways to summarize and visualize a single quantitative variable.\n",
        "\n",
        "If a column in a `pandas` `DataFrame` has a numeric type, such as `int64` or `float64`, then the `.describe()` method will automatically produce many of the summaries discussed in this lesson."
      ]
    },
    {
      "cell_type": "code",
      "metadata": {
        "id": "jT4lvWsXs2Wh",
        "colab": {
          "base_uri": "https://localhost:8080/"
        },
        "outputId": "e1801b2f-a743-48a4-ea55-c96f3e7a0b4b"
      },
      "source": [
        "df_titanic[\"age\"].describe()"
      ],
      "execution_count": 2,
      "outputs": [
        {
          "output_type": "execute_result",
          "data": {
            "text/plain": [
              "count    2205.000000\n",
              "mean       30.436735\n",
              "std        12.159677\n",
              "min         0.166667\n",
              "25%        22.000000\n",
              "50%        29.000000\n",
              "75%        38.000000\n",
              "max        74.000000\n",
              "Name: age, dtype: float64"
            ]
          },
          "metadata": {},
          "execution_count": 2
        }
      ]
    },
    {
      "cell_type": "markdown",
      "metadata": {
        "id": "iLLCp6QB7cM-"
      },
      "source": [
        "## Summarizing a Quantitative Variable"
      ]
    },
    {
      "cell_type": "markdown",
      "metadata": {
        "id": "Ia9HDuVH7lC4"
      },
      "source": [
        "What statistics should we use to summarize a quantitative variable? The most salient features of a quantitative variable are its center and spread."
      ]
    },
    {
      "cell_type": "markdown",
      "metadata": {
        "id": "Z4yNNG7m87M0"
      },
      "source": [
        "### Measures of Center\n",
        "\n",
        "Some statistics measure the _center_ of a variable. Two commonly used measures of the center are:\n",
        "\n",
        "- the _mean_ (a.k.a. average): the sum of the values divided by the count. If the values are represented by the variables $x_1, x_2, ..., x_n$, then the mean $\\bar x$ is defined as \n",
        "$$ \\bar x = \\frac{1}{n} \\sum_{i=1}^n x_i. $$\n",
        "- the _median_: the middle value when you sort the values (i.e., a value such that 50% of the values lie below and 50% of the values lie above)\n",
        "\n",
        "A measure of center gives us information about the \"typical\" value of a variable. For example, you might not know whether a typical fare on the Titanic was £1, £10, or £100. But if we calculate the mean:"
      ]
    },
    {
      "cell_type": "code",
      "metadata": {
        "id": "DVxaWPJW7RhY",
        "colab": {
          "base_uri": "https://localhost:8080/"
        },
        "outputId": "2f87d932-cf62-4a59-d836-58a5013cc9a1"
      },
      "source": [
        "df_titanic.fare.mean()"
      ],
      "execution_count": 42,
      "outputs": [
        {
          "output_type": "execute_result",
          "data": {
            "text/plain": [
              "33.404760495739716"
            ]
          },
          "metadata": {},
          "execution_count": 42
        }
      ]
    },
    {
      "cell_type": "markdown",
      "metadata": {
        "id": "TdhrHvIQ7rm1"
      },
      "source": [
        "we see that a typical fare is around £30.\n",
        "\n",
        "Let's see what the median says about the \"typical\" fare:"
      ]
    },
    {
      "cell_type": "code",
      "metadata": {
        "id": "TQ6AeOgD7pPW",
        "colab": {
          "base_uri": "https://localhost:8080/"
        },
        "outputId": "caaf9d43-f30e-460c-adbe-a3b4e9908a14"
      },
      "source": [
        "df_titanic.fare.median()"
      ],
      "execution_count": 43,
      "outputs": [
        {
          "output_type": "execute_result",
          "data": {
            "text/plain": [
              "14.0902"
            ]
          },
          "metadata": {},
          "execution_count": 43
        }
      ]
    },
    {
      "cell_type": "markdown",
      "metadata": {
        "id": "q2XTiUAt7u3z"
      },
      "source": [
        "The median is quite different from the mean! It says that about 50% of the passengers paid less than £15 and about 50% paid more, so another reasonable value for the \"typical\" fare is £15.\n",
        "\n",
        "The mean was twice the median! What explains this discrepancy? The reason is that the mean is very sensitive to extreme values. To see this, let's look at the highest fare that any passenger paid."
      ]
    },
    {
      "cell_type": "code",
      "metadata": {
        "id": "-lFaz7Ej7xqy",
        "colab": {
          "base_uri": "https://localhost:8080/"
        },
        "outputId": "9c8e97fb-cf0d-4c02-ef9f-107898df1ca8"
      },
      "source": [
        "df_titanic.fare.max()"
      ],
      "execution_count": 44,
      "outputs": [
        {
          "output_type": "execute_result",
          "data": {
            "text/plain": [
              "512.0607"
            ]
          },
          "metadata": {},
          "execution_count": 44
        }
      ]
    },
    {
      "cell_type": "markdown",
      "metadata": {
        "id": "qWefRPRb71lE"
      },
      "source": [
        "The highest fare paid was over £500! Even if most passengers paid less than £15, extreme values like this one will pull the mean upward. On the other hand, since the median is always the middle value, it is not affected by the extreme values, as long as the ordering of the values does not change.\n",
        "\n",
        "To drive this point home, let's see what would happen to the mean and median if that maximum fare were (hypothetically) £10,000."
      ]
    },
    {
      "cell_type": "code",
      "metadata": {
        "id": "HMPoHx5f7_UW",
        "colab": {
          "base_uri": "https://localhost:8080/"
        },
        "outputId": "a82807b6-bb55-442b-abd4-a90e191e9ac6"
      },
      "source": [
        "fare_10k = df_titanic.fare.replace(df_titanic.fare.max(), 10000)\n",
        "fare_10k.mean(), fare_10k.median()"
      ],
      "execution_count": 45,
      "outputs": [
        {
          "output_type": "execute_result",
          "data": {
            "text/plain": [
              "(62.80193880712636, 14.0902)"
            ]
          },
          "metadata": {},
          "execution_count": 45
        }
      ]
    },
    {
      "cell_type": "markdown",
      "metadata": {
        "id": "puOZBFQi7_5i"
      },
      "source": [
        "Notice how the mean now increases to over £60, but the median is unaffected."
      ]
    },
    {
      "cell_type": "markdown",
      "metadata": {
        "id": "KJRyasay8QDA"
      },
      "source": [
        "Just to satisfy our curiosity, let's learn more about this passenger who paid the maximum fare. To do this, we have to find the row that achieved this maximum value. Fortunately, there is a convenient `pandas` function, `.idxmax()`, that returns the _row index_ of the maximum fare. (A mathematician might call this the [\"arg max\"](https://en.wikipedia.org/wiki/Arg_max).)"
      ]
    },
    {
      "cell_type": "code",
      "metadata": {
        "id": "DbIS0XDv8T6P",
        "colab": {
          "base_uri": "https://localhost:8080/"
        },
        "outputId": "89fc37ec-00c9-42d8-d985-37c42ad94352"
      },
      "source": [
        "df_titanic.fare.idxmax()"
      ],
      "execution_count": 46,
      "outputs": [
        {
          "output_type": "execute_result",
          "data": {
            "text/plain": [
              "197"
            ]
          },
          "metadata": {},
          "execution_count": 46
        }
      ]
    },
    {
      "cell_type": "markdown",
      "metadata": {
        "id": "B0toi2l38W-4"
      },
      "source": [
        "Now we can select the row corresponding to this index using `.loc`, as we learned in the previous section."
      ]
    },
    {
      "cell_type": "code",
      "metadata": {
        "id": "DpiNlLsj8bhT",
        "colab": {
          "base_uri": "https://localhost:8080/"
        },
        "outputId": "964ee322-f9e2-4dd4-cc2c-edbed5dbfce8"
      },
      "source": [
        "df_titanic.loc[df_titanic.fare.idxmax()]"
      ],
      "execution_count": 47,
      "outputs": [
        {
          "output_type": "execute_result",
          "data": {
            "text/plain": [
              "name        Cardeza, Mrs. Charlotte Wardle\n",
              "gender                              female\n",
              "age                                   58.0\n",
              "class                                  1st\n",
              "embarked                                 C\n",
              "country                      United States\n",
              "ticketno                           17755.0\n",
              "fare                              512.0607\n",
              "survived                                 1\n",
              "Name: 197, dtype: object"
            ]
          },
          "metadata": {},
          "execution_count": 47
        }
      ]
    },
    {
      "cell_type": "markdown",
      "metadata": {
        "id": "Knx5kR628dL3"
      },
      "source": [
        "The median is a number below which 50% of the values fall. What if we want to know some other percentile? We can use the `.quantile()` function, which takes a percentile rank (between 0 and 1) as input and returns the corresponding percentile.\n",
        "\n",
        "For example, the 75th percentile is:"
      ]
    },
    {
      "cell_type": "code",
      "metadata": {
        "id": "SPRGkg2o8jof",
        "colab": {
          "base_uri": "https://localhost:8080/"
        },
        "outputId": "80209afc-5df7-4e4a-9262-af8639e1b255"
      },
      "source": [
        "df_titanic.fare.quantile(.75)"
      ],
      "execution_count": 48,
      "outputs": [
        {
          "output_type": "execute_result",
          "data": {
            "text/plain": [
              "31.06075"
            ]
          },
          "metadata": {},
          "execution_count": 48
        }
      ]
    },
    {
      "cell_type": "markdown",
      "metadata": {
        "id": "rRwsIzT-8lPn"
      },
      "source": [
        "which is pretty close to the mean. So only about 25% of the passengers paid more than the mean! The mean is not a great measure of center when there are extreme values, as in this data set."
      ]
    },
    {
      "cell_type": "markdown",
      "metadata": {
        "id": "uSTOdrPO8pd9"
      },
      "source": [
        "To summarize, we have encountered several `pandas` functions that can be used to summarize a quantitative variable:\n",
        "\n",
        "- `.mean()` calculates the mean or average.\n",
        "- `.median()` calculates the median.\n",
        "- `.quantile(q)` returns a value such that a fraction `q` of the values fall below that value (in other words, the (100q)th percentile).\n",
        "- `.max()` calculates the maximum value.\n",
        "- `.idxmax()` returns the index of the row with the maximum value. If there are multiple rows that achieve this value, then it will only return the index of the first occurrence.\n",
        "\n",
        "The corresponding functions for the _minimum_ value exist as well:\n",
        "\n",
        "- `.min()` calculates the minimum value.\n",
        "- `.idxmin()` returns the index of the row with the minimum value. If there are multiple rows that achieve this value, then it will only return the index of the first occurrence."
      ]
    },
    {
      "cell_type": "code",
      "metadata": {
        "id": "GT2EqnHC8sUH",
        "colab": {
          "base_uri": "https://localhost:8080/"
        },
        "outputId": "f2e4de44-ce02-4d59-8ce9-27dcc59e3637"
      },
      "source": [
        "df_titanic.fare.min()"
      ],
      "execution_count": 49,
      "outputs": [
        {
          "output_type": "execute_result",
          "data": {
            "text/plain": [
              "3.0305"
            ]
          },
          "metadata": {},
          "execution_count": 49
        }
      ]
    },
    {
      "cell_type": "markdown",
      "metadata": {
        "id": "aurIyQ2v8xBB"
      },
      "source": [
        "Some passengers boarded the Titanic for free, apparently."
      ]
    },
    {
      "cell_type": "markdown",
      "metadata": {
        "id": "1fQpqJu68-0C"
      },
      "source": [
        "### Measures of Spread\n",
        "\n",
        "The center of a quantitative variable only tells part of the story. For one, it tells us nothing about how spread out the values are. Therefore, it is important to also report a measure of _spread_. The measures of spread that we will explore in this section are:\n",
        "- mean absolute deviation\n",
        "- variance\n",
        "- standard deviation"
      ]
    },
    {
      "cell_type": "markdown",
      "metadata": {
        "id": "B1N-a1vB80hu"
      },
      "source": [
        "\n",
        "\n",
        "Let's investigate a few measures of spread that are built into `pandas`. For completeness, the formulas for these statistics are provided, where $x_1, ..., x_n$ represent the values and $\\bar x$ their mean. But the intuition is more important to understand than the formulas.\n",
        "\n",
        "The first statistic that might come to mind is the _mean absolute deviation_, or _MAD_. To calculate the MAD, we first calculate the difference between each observation and the mean. Values below the mean will have a negative difference, while values above the mean will have a positive difference. We don't want the negative differences to cancel out the positive differences, since _all_ of them contribute to the spread. So we take the absolute value of all the differences and then average.\n",
        "\n",
        "$$\n",
        "\\begin{align*}\n",
        "\\textrm{MAD} &= \\textrm{mean of } |x_i - \\bar x| \\\\\n",
        "&= \\frac{1}{n} \\sum_{i=1}^n |x_i - \\bar x|\n",
        "\\end{align*}\n",
        "$$\n",
        "\n",
        "We can implement the MAD ourselves using the `.mean()` and `.abs()` functions."
      ]
    },
    {
      "cell_type": "code",
      "metadata": {
        "id": "BmLAAQKq9Nwz",
        "colab": {
          "base_uri": "https://localhost:8080/"
        },
        "outputId": "9571ae48-29b0-499c-cd74-fff81dcb7a1a"
      },
      "source": [
        "# STEP 1: Calculate the difference between each fare and the mean.\n",
        "(df_titanic.fare - df_titanic.fare.mean())"
      ],
      "execution_count": 50,
      "outputs": [
        {
          "output_type": "execute_result",
          "data": {
            "text/plain": [
              "0      -26.29476\n",
              "1      -13.35476\n",
              "2      -13.35476\n",
              "3      -13.35476\n",
              "4      -26.27476\n",
              "          ...   \n",
              "2202         NaN\n",
              "2203         NaN\n",
              "2204         NaN\n",
              "2205         NaN\n",
              "2206         NaN\n",
              "Name: fare, Length: 2207, dtype: float64"
            ]
          },
          "metadata": {},
          "execution_count": 50
        }
      ]
    },
    {
      "cell_type": "code",
      "metadata": {
        "id": "KZ-_BdsM9S9O",
        "colab": {
          "base_uri": "https://localhost:8080/"
        },
        "outputId": "8aa26021-0548-4473-f76a-62b08d8ccaf4"
      },
      "source": [
        "# STEP 2: Calculate the absolute value of each difference.\n",
        "(df_titanic.fare - df_titanic.fare.mean()).abs()"
      ],
      "execution_count": 51,
      "outputs": [
        {
          "output_type": "execute_result",
          "data": {
            "text/plain": [
              "0       26.29476\n",
              "1       13.35476\n",
              "2       13.35476\n",
              "3       13.35476\n",
              "4       26.27476\n",
              "          ...   \n",
              "2202         NaN\n",
              "2203         NaN\n",
              "2204         NaN\n",
              "2205         NaN\n",
              "2206         NaN\n",
              "Name: fare, Length: 2207, dtype: float64"
            ]
          },
          "metadata": {},
          "execution_count": 51
        }
      ]
    },
    {
      "cell_type": "code",
      "metadata": {
        "id": "32Bx2FIK9U_d",
        "colab": {
          "base_uri": "https://localhost:8080/"
        },
        "outputId": "f5661030-16c0-42c2-e182-68d701b8845f"
      },
      "source": [
        "# STEP 3: Take the mean of these absolute differences.\n",
        "(df_titanic.fare - df_titanic.fare.mean()).abs().mean()"
      ],
      "execution_count": 52,
      "outputs": [
        {
          "output_type": "execute_result",
          "data": {
            "text/plain": [
              "30.053517846306438"
            ]
          },
          "metadata": {},
          "execution_count": 52
        }
      ]
    },
    {
      "cell_type": "markdown",
      "metadata": {
        "id": "6ep5Vska9cMd"
      },
      "source": [
        "Notice that in Step 1, we subtracted a single number (`df_titanic.fare.mean()`) from a `pandas` `Series` (`df_titanic.fare`). `pandas`  automatically _broadcasted_ the subtraction over each number in the `Series`.\n",
        "\n",
        "The `.abs()` function in Step 2 is an example of a _vectorized_ function. The absolute value function is applied to each element of the `Series`."
      ]
    },
    {
      "cell_type": "markdown",
      "metadata": {
        "id": "eOG7qaXL-ApP"
      },
      "source": [
        "The MAD is actually built into `pandas`, so there really is no reason to implement it from scratch, as we did above. Let's check that we get the same answer when we call the built-in function."
      ]
    },
    {
      "cell_type": "code",
      "metadata": {
        "id": "s6xoX1ra91IZ",
        "colab": {
          "base_uri": "https://localhost:8080/"
        },
        "outputId": "1bed86fa-daf9-4ccc-983a-68b08d614e93"
      },
      "source": [
        "df_titanic.fare.mad()"
      ],
      "execution_count": 53,
      "outputs": [
        {
          "output_type": "execute_result",
          "data": {
            "text/plain": [
              "30.053517846306438"
            ]
          },
          "metadata": {},
          "execution_count": 53
        }
      ]
    },
    {
      "cell_type": "markdown",
      "metadata": {
        "id": "97d54PV1-LlV"
      },
      "source": [
        "Since the MAD is a mean of the absolute differences and the mean represents the \"typical\" value, we can interpret the MAD as saying that the \"typical\" fare is about £30 away from the average."
      ]
    },
    {
      "cell_type": "markdown",
      "metadata": {
        "id": "wgBkWtLB-PBC"
      },
      "source": [
        "A different way to ensure that the negative and positive differences don't cancel is to square all the differences before averaging. This leads to the definition of _variance_.\n",
        "\n",
        "\\begin{align}\n",
        "\\textrm{Variance} &= \\textrm{mean of } (x_i - \\bar x)^2 \\\\\n",
        "&= \\frac{1}{n} \\sum_{i=1}^n (x_i - \\bar x)^2\n",
        "\\end{align}\n",
        "\n",
        "We can implement the variance ourselves. Again, notice how the subtraction and the power operations are broadcast over the elements of the `Series`."
      ]
    },
    {
      "cell_type": "code",
      "metadata": {
        "id": "uZLqmhIL-IiK",
        "colab": {
          "base_uri": "https://localhost:8080/"
        },
        "outputId": "d5b159b8-981e-44cf-a40c-a2b086337858"
      },
      "source": [
        "((df_titanic.fare - df_titanic.fare.mean()) ** 2).mean()"
      ],
      "execution_count": 54,
      "outputs": [
        {
          "output_type": "execute_result",
          "data": {
            "text/plain": [
              "2725.6084735889035"
            ]
          },
          "metadata": {},
          "execution_count": 54
        }
      ]
    },
    {
      "cell_type": "markdown",
      "metadata": {
        "id": "guGpqpIm-xvA"
      },
      "source": [
        "Alternatively, we can simply call the `.var()` function in `pandas`."
      ]
    },
    {
      "cell_type": "code",
      "metadata": {
        "id": "0esz7NKm-3By",
        "colab": {
          "base_uri": "https://localhost:8080/"
        },
        "outputId": "a3faad55-612e-431e-d505-d3d75e9d0240"
      },
      "source": [
        "df_titanic.fare.var()"
      ],
      "execution_count": 55,
      "outputs": [
        {
          "output_type": "execute_result",
          "data": {
            "text/plain": [
              "2727.7213483746314"
            ]
          },
          "metadata": {},
          "execution_count": 55
        }
      ]
    },
    {
      "cell_type": "markdown",
      "metadata": {
        "id": "DfWU9sAs-8Qp"
      },
      "source": [
        "You might be surprised that `.var()` produced a slightly different number. This is because `pandas` divided by $n-1$ (rather than $n$) in calculating the mean of the squared differences. That is, the default variance formula that `pandas` uses is \n",
        "\n",
        "$$\\text{Variance} = \\frac{1}{n-1} \\sum_{i=1}^n (x_i - \\bar x)^2.$$\n",
        "\n",
        "To force Pandas to divide by $n$, you can set `ddof=0`."
      ]
    },
    {
      "cell_type": "code",
      "metadata": {
        "id": "PP4vo7rG-5Cc",
        "colab": {
          "base_uri": "https://localhost:8080/"
        },
        "outputId": "5aa94675-7258-4159-c63e-5b14ef6d2a2f"
      },
      "source": [
        "df_titanic.fare.var(ddof=0)"
      ],
      "execution_count": 56,
      "outputs": [
        {
          "output_type": "execute_result",
          "data": {
            "text/plain": [
              "2725.6084735889035"
            ]
          },
          "metadata": {},
          "execution_count": 56
        }
      ]
    },
    {
      "cell_type": "markdown",
      "metadata": {
        "id": "da0FZEro_TEs"
      },
      "source": [
        "The trouble with variance is that its units are wrong. If the original values $x_1, ..., x_n$ are in £, the variance would be in squared £. This is obvious if you simply look at the magnitude of the variance in the example above; the variance is in the _thousands_, even though the largest fare is just over £500.  To correct the units of variance, we take the square root to obtain a more interpretable measure of spread, called the _standard deviation_:\n",
        "\n",
        "$$\\textrm{SD} = \\sqrt{\\textrm{Variance}}.$$"
      ]
    },
    {
      "cell_type": "code",
      "metadata": {
        "id": "4ztL8PsK_F8D",
        "colab": {
          "base_uri": "https://localhost:8080/"
        },
        "outputId": "1888a46c-43a8-4f0e-b34d-d5f9743b22ad"
      },
      "source": [
        "df_titanic.fare.std()"
      ],
      "execution_count": 57,
      "outputs": [
        {
          "output_type": "execute_result",
          "data": {
            "text/plain": [
              "52.227591830129704"
            ]
          },
          "metadata": {},
          "execution_count": 57
        }
      ]
    },
    {
      "cell_type": "markdown",
      "metadata": {
        "id": "03_759No_Xzg"
      },
      "source": [
        "This standard deviation has a clean interpretation: the \"typical\" fare is about £50 away from the average."
      ]
    },
    {
      "cell_type": "markdown",
      "metadata": {
        "id": "DmcnNi3A_cos"
      },
      "source": [
        "The standard deviation is the most widely used measure of spread, more common than the MAD. At first, this might seem odd. To calculate the standard deviation, we squared the differences from the mean, only to take a square root in the end. Why bother with this rigmarole, when we could just calculate absolute values instead?\n",
        "\n",
        "The reasons for preferring the standard deviation are complicated. But the short answer is that the variance (i.e., the square of the standard deviation) is much nicer mathematically. If you know calculus, you might remember that the absolute value function does not have a derivative at 0. Therefore, the MAD is not _differentiable_, which makes it inconvenient mathematically. That doesn't necessarily mean that it's any worse as a measure of spread."
      ]
    },
    {
      "cell_type": "markdown",
      "metadata": {
        "id": "DotU6BF4_3ij"
      },
      "source": [
        "## Visualizing a Quantitative Variable\n",
        "\n",
        "Graphics can help us understand how the values of a quantitative variable are distributed. We will study two types of visualizations for quantitative variables: histograms and densities."
      ]
    },
    {
      "cell_type": "markdown",
      "metadata": {
        "id": "MxcFa2EHAJCi"
      },
      "source": [
        "### Histograms\n",
        "\n",
        "The standard visualization for a single quantitative variable is the _histogram_. A histogram sorts the values into bins and uses bars to represent the number of values in each bin.\n",
        "\n",
        "To make a histogram, we call the `.plot.hist()` method of the selected variable."
      ]
    },
    {
      "cell_type": "code",
      "metadata": {
        "id": "GLkYl-eI_peO",
        "colab": {
          "base_uri": "https://localhost:8080/",
          "height": 0
        },
        "outputId": "7a36cef7-76de-42e5-fef0-23578f4d80d3"
      },
      "source": [
        "df_titanic.fare.plot.hist()"
      ],
      "execution_count": 19,
      "outputs": [
        {
          "output_type": "execute_result",
          "data": {
            "text/plain": [
              "<matplotlib.axes._subplots.AxesSubplot at 0x7f774b4b7910>"
            ]
          },
          "metadata": {},
          "execution_count": 19
        },
        {
          "output_type": "display_data",
          "data": {
            "text/plain": [
              "<Figure size 432x288 with 1 Axes>"
            ],
            "image/png": "[encoded data removed]"
          },
          "metadata": {
            "needs_background": "light"
          }
        }
      ]
    },
    {
      "cell_type": "markdown",
      "metadata": {
        "id": "_yVtBO1WAW7l"
      },
      "source": [
        "It seems that we did not get enough resolution to really determine what is going on at the lower end of the scale. Let's ask for more bins."
      ]
    },
    {
      "cell_type": "code",
      "metadata": {
        "id": "AzP5uZDSAT1Q",
        "colab": {
          "base_uri": "https://localhost:8080/",
          "height": 0
        },
        "outputId": "c9d3a329-b5ee-4f89-d070-8511b447885c"
      },
      "source": [
        "df_titanic.fare.plot.hist(bins=50)"
      ],
      "execution_count": 20,
      "outputs": [
        {
          "output_type": "execute_result",
          "data": {
            "text/plain": [
              "<matplotlib.axes._subplots.AxesSubplot at 0x7f774af6ccd0>"
            ]
          },
          "metadata": {},
          "execution_count": 20
        },
        {
          "output_type": "display_data",
          "data": {
            "text/plain": [
              "<Figure size 432x288 with 1 Axes>"
            ],
            "image/png": "[encoded data removed]"
          },
          "metadata": {
            "needs_background": "light"
          }
        }
      ]
    },
    {
      "cell_type": "markdown",
      "metadata": {
        "id": "eTpx8Rs2Ajne"
      },
      "source": [
        "From this graph, we see a concentration of values around 10-30 (which we previously identified as the \"center\") and a spread of about 30-50 (which we previously identified as the \"spread\"). We also see the outlier who paid more than £500. We also see features that were not obvious before: the skewed shape of the distribution, the gap between £300 and £500, and so on. This single picture has managed to convey more information than a dozen summary statistics."
      ]
    },
    {
      "cell_type": "markdown",
      "metadata": {
        "id": "rJOC6_S7AofJ"
      },
      "source": [
        "We might want to plot multiple histograms on the same graphic to make for easy comparison. To do this, we simply make multiple calls to plotting functions within the same cell. For example, if we wanted to compare the distributions of the ages of 1st class and 3rd class passengers, we could call `.plot.hist()` twice."
      ]
    },
    {
      "cell_type": "code",
      "metadata": {
        "id": "gpYiV61lAbYP",
        "colab": {
          "base_uri": "https://localhost:8080/",
          "height": 0
        },
        "outputId": "89cd51b0-1def-4d69-ea31-0ab12e279235"
      },
      "source": [
        "df_titanic[df_titanic[\"class\"] == \"1st\"][\"age\"].plot.hist()\n",
        "df_titanic[df_titanic[\"class\"] == \"3rd\"][\"age\"].plot.hist()"
      ],
      "execution_count": 21,
      "outputs": [
        {
          "output_type": "execute_result",
          "data": {
            "text/plain": [
              "<matplotlib.axes._subplots.AxesSubplot at 0x7f774ae73410>"
            ]
          },
          "metadata": {},
          "execution_count": 21
        },
        {
          "output_type": "display_data",
          "data": {
            "text/plain": [
              "<Figure size 432x288 with 1 Axes>"
            ],
            "image/png": "[encoded data removed]"
          },
          "metadata": {
            "needs_background": "light"
          }
        }
      ]
    },
    {
      "cell_type": "markdown",
      "metadata": {
        "id": "mSJDlAx1A9nQ"
      },
      "source": [
        "Notice that `pandas` automatically plotted the two histograms using different colors. There are two problems with this plot. First, we don't know which color corresponds to which variable. Second, we cannot see the blue histogram underneath the orange histogram because the colors are opaque.\n",
        "\n",
        "To solve the first problem, we add a legend for each variable by specifying `legend=True`. The label that will be used in the legend will be the name of the `Series` by default; to customize this, we can specify the label using `label=`.\n",
        "\n",
        "To solve the second problem, we set the transparency `alpha`, which is a number between 0 and 1, with 0 being perfectly transparent and 1 being completely opaque. Try varying `alpha` to get a feel for what it does."
      ]
    },
    {
      "cell_type": "code",
      "metadata": {
        "id": "TWMrPFWCAhbQ",
        "colab": {
          "base_uri": "https://localhost:8080/",
          "height": 0
        },
        "outputId": "1c1371c8-d7c2-40b5-f662-5108e3a880cb"
      },
      "source": [
        "df_titanic[df_titanic[\"class\"] == \"1st\"][\"age\"].plot.hist(\n",
        "    label=\"1st\", legend=True, alpha=0.5\n",
        ")\n",
        "df_titanic[df_titanic[\"class\"] == \"3rd\"][\"age\"].plot.hist(\n",
        "    label=\"3rd\", legend=True, alpha=0.5\n",
        ")"
      ],
      "execution_count": 22,
      "outputs": [
        {
          "output_type": "execute_result",
          "data": {
            "text/plain": [
              "<matplotlib.axes._subplots.AxesSubplot at 0x7f774adb6e90>"
            ]
          },
          "metadata": {},
          "execution_count": 22
        },
        {
          "output_type": "display_data",
          "data": {
            "text/plain": [
              "<Figure size 432x288 with 1 Axes>"
            ],
            "image/png": "[encoded data removed]"
          },
          "metadata": {
            "needs_background": "light"
          }
        }
      ]
    },
    {
      "cell_type": "markdown",
      "metadata": {
        "id": "Cubp2y63BEbM"
      },
      "source": [
        "### Densities\n",
        "\n",
        "Another way to visualize the distribution of a quantitative variable is by plotting its **density**. A density plot turns the jagged histogram into a smooth curve, allowing the user to focus on the general shape of the distribution."
      ]
    },
    {
      "cell_type": "code",
      "metadata": {
        "id": "roxJARIDB0jZ",
        "colab": {
          "base_uri": "https://localhost:8080/",
          "height": 0
        },
        "outputId": "0641fcac-d8c4-460b-f741-0b231697289a"
      },
      "source": [
        "df_titanic.fare.plot.density()"
      ],
      "execution_count": 23,
      "outputs": [
        {
          "output_type": "execute_result",
          "data": {
            "text/plain": [
              "<matplotlib.axes._subplots.AxesSubplot at 0x7f774ad99e50>"
            ]
          },
          "metadata": {},
          "execution_count": 23
        },
        {
          "output_type": "display_data",
          "data": {
            "text/plain": [
              "<Figure size 432x288 with 1 Axes>"
            ],
            "image/png": "[encoded data removed]"
          },
          "metadata": {
            "needs_background": "light"
          }
        }
      ]
    },
    {
      "cell_type": "markdown",
      "metadata": {
        "id": "JAUStBW0B7ZT"
      },
      "source": [
        "The x-axis is too wide. (You cannot have negative fares.) We can set the limits of the x-axis manually using the `xlim` argument."
      ]
    },
    {
      "cell_type": "code",
      "metadata": {
        "id": "GRuG5sREB-hD",
        "colab": {
          "base_uri": "https://localhost:8080/",
          "height": 0
        },
        "outputId": "9fea583f-3f67-4ab7-b548-2a644bd349ef"
      },
      "source": [
        "df_titanic.fare.plot.density(xlim=(0, 600))"
      ],
      "execution_count": 24,
      "outputs": [
        {
          "output_type": "execute_result",
          "data": {
            "text/plain": [
              "<matplotlib.axes._subplots.AxesSubplot at 0x7f773cb3d0d0>"
            ]
          },
          "metadata": {},
          "execution_count": 24
        },
        {
          "output_type": "display_data",
          "data": {
            "text/plain": [
              "<Figure size 432x288 with 1 Axes>"
            ],
            "image/png": "[encoded data removed]"
          },
          "metadata": {
            "needs_background": "light"
          }
        }
      ]
    },
    {
      "cell_type": "markdown",
      "metadata": {
        "id": "145admmDCDtJ"
      },
      "source": [
        "Let's superimpose this density curve on top of the histogram, by making two calls to plotting functions:"
      ]
    },
    {
      "cell_type": "code",
      "metadata": {
        "id": "AYvwFxGlCAlU",
        "colab": {
          "base_uri": "https://localhost:8080/",
          "height": 0
        },
        "outputId": "a18e1176-4e92-4fe3-b811-4038cadfbed7"
      },
      "source": [
        "df_titanic.fare.plot.hist(bins=50)\n",
        "df_titanic.fare.plot.density(xlim=(0, 600))"
      ],
      "execution_count": 25,
      "outputs": [
        {
          "output_type": "execute_result",
          "data": {
            "text/plain": [
              "<matplotlib.axes._subplots.AxesSubplot at 0x7f773aab4590>"
            ]
          },
          "metadata": {},
          "execution_count": 25
        },
        {
          "output_type": "display_data",
          "data": {
            "text/plain": [
              "<Figure size 432x288 with 1 Axes>"
            ],
            "image/png": "[encoded data removed]"
          },
          "metadata": {
            "needs_background": "light"
          }
        }
      ]
    },
    {
      "cell_type": "markdown",
      "metadata": {
        "id": "KZ3V-C_JCIO8"
      },
      "source": [
        "If you squint at this plot, you will see an orange line at the bottom of the plot. This is supposed to be the density. But why does it appear as a flat line? The y-axis offers a hint. When we made the density plot earlier, the y-axis extended from 0 to about 0.02. Now the y-axis extends all the way to 500. On such a scale, a curve that fluctuates between 0 and 0.02 will appear to be a flat line!\n",
        "\n",
        "The problem is that the histogram and the density are currently on different scales. By default, histograms display counts, while densities display distributions. In other words, densities are normalized so that the total area under the curve is 1. To be able to display a histogram and density on the same graph, we have to normalize the histogram so that the total area of the bars is 1. We can do this by setting the option `density=True`."
      ]
    },
    {
      "cell_type": "code",
      "metadata": {
        "id": "zfDfgNHMCH9E",
        "colab": {
          "base_uri": "https://localhost:8080/",
          "height": 0
        },
        "outputId": "1fa769ff-8473-4547-f299-e62b33019698"
      },
      "source": [
        "df_titanic.fare.plot.hist(bins=50, density=True)\n",
        "df_titanic.fare.plot.density(xlim=(0, 600))"
      ],
      "execution_count": 26,
      "outputs": [
        {
          "output_type": "execute_result",
          "data": {
            "text/plain": [
              "<matplotlib.axes._subplots.AxesSubplot at 0x7f773a9c1750>"
            ]
          },
          "metadata": {},
          "execution_count": 26
        },
        {
          "output_type": "display_data",
          "data": {
            "text/plain": [
              "<Figure size 432x288 with 1 Axes>"
            ],
            "image/png": "[encoded data removed]"
          },
          "metadata": {
            "needs_background": "light"
          }
        }
      ]
    },
    {
      "cell_type": "markdown",
      "metadata": {
        "id": "W71GjPywCO5P"
      },
      "source": [
        "Now we can clearly see how the density smooths the histogram. It does a pretty good job for the most part, but it \"oversmooths\" near 0, missing the spike."
      ]
    },
    {
      "cell_type": "markdown",
      "metadata": {
        "id": "OtZBBzCQCSSo"
      },
      "source": [
        "You might wonder what options are available besides `legend`, `alpha`, `bins`, `density`, and `xlim`. Let's look at the documentation for `.plot.hist()`."
      ]
    },
    {
      "cell_type": "code",
      "metadata": {
        "id": "B9wl_ShMCOog"
      },
      "source": [
        "df_titanic.fare.plot.hist?"
      ],
      "execution_count": 27,
      "outputs": []
    },
    {
      "cell_type": "markdown",
      "metadata": {
        "id": "islDILU2CbwO"
      },
      "source": [
        "The documentation for `.plot.hist()` tells us about one option, `bins`, but then refers us to `.plot()` for additional options. If you peek inside `.plot()`, you will find the `legend`, `density`, and `xlim` options, as well as many others."
      ]
    },
    {
      "cell_type": "code",
      "metadata": {
        "id": "GIu2BO44Cbhd"
      },
      "source": [
        "df_titanic.fare.plot?"
      ],
      "execution_count": 28,
      "outputs": []
    },
    {
      "cell_type": "markdown",
      "metadata": {
        "id": "peaOk3u2CfvL"
      },
      "source": [
        "Try these out to get a feel for what they do. For example, can you figure out how to make the density curve red in the above graph? Or how to change the size of the figure?\n",
        "\n",
        "You might be surprised that `alpha` is not listed among the options above. This is because `alpha` is an option of the `matplotlib` plotting method that `pandas` calls. (Notice that the last argument of `.plot()` is `**kwds`, for \"options to pass to matplotlib plotting method\".)"
      ]
    },
    {
      "cell_type": "markdown",
      "metadata": {
        "id": "zu-iZlGPCr-8"
      },
      "source": [
        "## Exercises\n",
        "\n",
        "Exercises 1-6 ask you to work with the tips data set (https://dlsun.github.io/pods/data/tips.csv), which contains data on the tips paid to a waiter by different parties."
      ]
    },
    {
      "cell_type": "markdown",
      "metadata": {
        "id": "NgD4yzQpCjI0"
      },
      "source": [
        "1\\. How many people were in the largest party served by the waiter? The smallest?"
      ]
    },
    {
      "cell_type": "code",
      "source": [
        "df_tips = pd.read_csv(\"https://dlsun.github.io/pods/data/tips.csv\")\n",
        "df_tips.head()"
      ],
      "metadata": {
        "colab": {
          "base_uri": "https://localhost:8080/",
          "height": 206
        },
        "id": "1oejpIguhZRG",
        "outputId": "cf9b6c89-39d2-4c00-c319-b497a1ec567e"
      },
      "execution_count": 58,
      "outputs": [
        {
          "output_type": "execute_result",
          "data": {
            "text/plain": [
              "   total_bill   tip     sex smoker  day    time  size\n",
              "0       16.99  1.01  Female     No  Sun  Dinner     2\n",
              "1       10.34  1.66    Male     No  Sun  Dinner     3\n",
              "2       21.01  3.50    Male     No  Sun  Dinner     3\n",
              "3       23.68  3.31    Male     No  Sun  Dinner     2\n",
              "4       24.59  3.61  Female     No  Sun  Dinner     4"
            ],
            "text/html": [
              "\n",
              "  <div id=\"df-29f4dcc7-4634-4309-9a52-b340be65a477\">\n",
              "    <div class=\"colab-df-container\">\n",
              "      <div>\n",
              "<style scoped>\n",
              "    .dataframe tbody tr th:only-of-type {\n",
              "        vertical-align: middle;\n",
              "    }\n",
              "\n",
              "    .dataframe tbody tr th {\n",
              "        vertical-align: top;\n",
              "    }\n",
              "\n",
              "    .dataframe thead th {\n",
              "        text-align: right;\n",
              "    }\n",
              "</style>\n",
              "<table border=\"1\" class=\"dataframe\">\n",
              "  <thead>\n",
              "    <tr style=\"text-align: right;\">\n",
              "      <th></th>\n",
              "      <th>total_bill</th>\n",
              "      <th>tip</th>\n",
              "      <th>sex</th>\n",
              "      <th>smoker</th>\n",
              "      <th>day</th>\n",
              "      <th>time</th>\n",
              "      <th>size</th>\n",
              "    </tr>\n",
              "  </thead>\n",
              "  <tbody>\n",
              "    <tr>\n",
              "      <th>0</th>\n",
              "      <td>16.99</td>\n",
              "      <td>1.01</td>\n",
              "      <td>Female</td>\n",
              "      <td>No</td>\n",
              "      <td>Sun</td>\n",
              "      <td>Dinner</td>\n",
              "      <td>2</td>\n",
              "    </tr>\n",
              "    <tr>\n",
              "      <th>1</th>\n",
              "      <td>10.34</td>\n",
              "      <td>1.66</td>\n",
              "      <td>Male</td>\n",
              "      <td>No</td>\n",
              "      <td>Sun</td>\n",
              "      <td>Dinner</td>\n",
              "      <td>3</td>\n",
              "    </tr>\n",
              "    <tr>\n",
              "      <th>2</th>\n",
              "      <td>21.01</td>\n",
              "      <td>3.50</td>\n",
              "      <td>Male</td>\n",
              "      <td>No</td>\n",
              "      <td>Sun</td>\n",
              "      <td>Dinner</td>\n",
              "      <td>3</td>\n",
              "    </tr>\n",
              "    <tr>\n",
              "      <th>3</th>\n",
              "      <td>23.68</td>\n",
              "      <td>3.31</td>\n",
              "      <td>Male</td>\n",
              "      <td>No</td>\n",
              "      <td>Sun</td>\n",
              "      <td>Dinner</td>\n",
              "      <td>2</td>\n",
              "    </tr>\n",
              "    <tr>\n",
              "      <th>4</th>\n",
              "      <td>24.59</td>\n",
              "      <td>3.61</td>\n",
              "      <td>Female</td>\n",
              "      <td>No</td>\n",
              "      <td>Sun</td>\n",
              "      <td>Dinner</td>\n",
              "      <td>4</td>\n",
              "    </tr>\n",
              "  </tbody>\n",
              "</table>\n",
              "</div>\n",
              "      <button class=\"colab-df-convert\" onclick=\"convertToInteractive('df-29f4dcc7-4634-4309-9a52-b340be65a477')\"\n",
              "              title=\"Convert this dataframe to an interactive table.\"\n",
              "              style=\"display:none;\">\n",
              "        \n",
              "  <svg xmlns=\"http://www.w3.org/2000/svg\" height=\"24px\"viewBox=\"0 0 24 24\"\n",
              "       width=\"24px\">\n",
              "    <path d=\"M0 0h24v24H0V0z\" fill=\"none\"/>\n",
              "    <path d=\"M18.56 5.44l.94 2.06.94-2.06 2.06-.94-2.06-.94-.94-2.06-.94 2.06-2.06.94zm-11 1L8.5 8.5l.94-2.06 2.06-.94-2.06-.94L8.5 2.5l-.94 2.06-2.06.94zm10 10l.94 2.06.94-2.06 2.06-.94-2.06-.94-.94-2.06-.94 2.06-2.06.94z\"/><path d=\"M17.41 7.96l-1.37-1.37c-.4-.4-.92-.59-1.43-.59-.52 0-1.04.2-1.43.59L10.3 9.45l-7.72 7.72c-.78.78-.78 2.05 0 2.83L4 21.41c.39.39.9.59 1.41.59.51 0 1.02-.2 1.41-.59l7.78-7.78 2.81-2.81c.8-.78.8-2.07 0-2.86zM5.41 20L4 18.59l7.72-7.72 1.47 1.35L5.41 20z\"/>\n",
              "  </svg>\n",
              "      </button>\n",
              "      \n",
              "  <style>\n",
              "    .colab-df-container {\n",
              "      display:flex;\n",
              "      flex-wrap:wrap;\n",
              "      gap: 12px;\n",
              "    }\n",
              "\n",
              "    .colab-df-convert {\n",
              "      background-color: #E8F0FE;\n",
              "      border: none;\n",
              "      border-radius: 50%;\n",
              "      cursor: pointer;\n",
              "      display: none;\n",
              "      fill: #1967D2;\n",
              "      height: 32px;\n",
              "      padding: 0 0 0 0;\n",
              "      width: 32px;\n",
              "    }\n",
              "\n",
              "    .colab-df-convert:hover {\n",
              "      background-color: #E2EBFA;\n",
              "      box-shadow: 0px 1px 2px rgba(60, 64, 67, 0.3), 0px 1px 3px 1px rgba(60, 64, 67, 0.15);\n",
              "      fill: #174EA6;\n",
              "    }\n",
              "\n",
              "    [theme=dark] .colab-df-convert {\n",
              "      background-color: #3B4455;\n",
              "      fill: #D2E3FC;\n",
              "    }\n",
              "\n",
              "    [theme=dark] .colab-df-convert:hover {\n",
              "      background-color: #434B5C;\n",
              "      box-shadow: 0px 1px 3px 1px rgba(0, 0, 0, 0.15);\n",
              "      filter: drop-shadow(0px 1px 2px rgba(0, 0, 0, 0.3));\n",
              "      fill: #FFFFFF;\n",
              "    }\n",
              "  </style>\n",
              "\n",
              "      <script>\n",
              "        const buttonEl =\n",
              "          document.querySelector('#df-29f4dcc7-4634-4309-9a52-b340be65a477 button.colab-df-convert');\n",
              "        buttonEl.style.display =\n",
              "          google.colab.kernel.accessAllowed ? 'block' : 'none';\n",
              "\n",
              "        async function convertToInteractive(key) {\n",
              "          const element = document.querySelector('#df-29f4dcc7-4634-4309-9a52-b340be65a477');\n",
              "          const dataTable =\n",
              "            await google.colab.kernel.invokeFunction('convertToInteractive',\n",
              "                                                     [key], {});\n",
              "          if (!dataTable) return;\n",
              "\n",
              "          const docLinkHtml = 'Like what you see? Visit the ' +\n",
              "            '<a target=\"_blank\" href=https://colab.research.google.com/notebooks/data_table.ipynb>data table notebook</a>'\n",
              "            + ' to learn more about interactive tables.';\n",
              "          element.innerHTML = '';\n",
              "          dataTable['output_type'] = 'display_data';\n",
              "          await google.colab.output.renderOutput(dataTable, element);\n",
              "          const docLink = document.createElement('div');\n",
              "          docLink.innerHTML = docLinkHtml;\n",
              "          element.appendChild(docLink);\n",
              "        }\n",
              "      </script>\n",
              "    </div>\n",
              "  </div>\n",
              "  "
            ]
          },
          "metadata": {},
          "execution_count": 58
        }
      ]
    },
    {
      "cell_type": "code",
      "source": [
        "df_tips[\"size\"].max()"
      ],
      "metadata": {
        "colab": {
          "base_uri": "https://localhost:8080/"
        },
        "id": "Az19mCJIh3uB",
        "outputId": "64875004-6c9d-4d1d-bb77-07896a638c8f"
      },
      "execution_count": 59,
      "outputs": [
        {
          "output_type": "execute_result",
          "data": {
            "text/plain": [
              "6"
            ]
          },
          "metadata": {},
          "execution_count": 59
        }
      ]
    },
    {
      "cell_type": "markdown",
      "metadata": {
        "id": "7qSAJSlDsBNt"
      },
      "source": [
        "2\\. How could you use the `.quantile()` function to calculate the median? Check that your method works on an appropriate variable from the Tips data set."
      ]
    },
    {
      "cell_type": "code",
      "source": [
        "df_tips['tip'].quantile(0.5)"
      ],
      "metadata": {
        "colab": {
          "base_uri": "https://localhost:8080/"
        },
        "id": "taYdbBHQkf-6",
        "outputId": "cdd9d622-3479-4853-a53d-60376e60ba2c"
      },
      "execution_count": 71,
      "outputs": [
        {
          "output_type": "execute_result",
          "data": {
            "text/plain": [
              "2.9"
            ]
          },
          "metadata": {},
          "execution_count": 71
        }
      ]
    },
    {
      "cell_type": "markdown",
      "metadata": {
        "id": "OjJt4vOdsEoT"
      },
      "source": [
        "3\\. Another measure of spread is the **interquartile range**, or IQR, defined as:\n",
        "\n",
        "$$ \\textrm{IQR} = \\textrm{75th percentile} - \\textrm{25th percentile}. $$\n",
        "\n",
        "Measure the spread in the total bills by reporting the IQR."
      ]
    },
    {
      "cell_type": "code",
      "source": [
        "df_tips['total_bill'].quantile(0.75) - df_tips['total_bill'].quantile(0.25)"
      ],
      "metadata": {
        "colab": {
          "base_uri": "https://localhost:8080/"
        },
        "id": "FtUPwkwXlc1n",
        "outputId": "43b4f9d1-166c-4397-fe02-42883da01e85"
      },
      "execution_count": 64,
      "outputs": [
        {
          "output_type": "execute_result",
          "data": {
            "text/plain": [
              "10.779999999999998"
            ]
          },
          "metadata": {},
          "execution_count": 64
        }
      ]
    },
    {
      "cell_type": "markdown",
      "metadata": {
        "id": "XYsi5LL6sHz-"
      },
      "source": [
        "4\\. Some people use MAD to refer to the **median absolute deviation**. The median absolute deviation is the same as the mean absolute deviation, but it uses the median instead of the mean:\n",
        "\n",
        "$$\\textrm{M(edian)AD} = \\textrm{median of } |x_i - \\textrm{median}|. $$\n",
        "\n",
        "Calculate the median absolute deviation of the total bills. (The median absolute deviation is not built into Pandas, so you will have to implement it from scratch.)"
      ]
    },
    {
      "cell_type": "code",
      "source": [
        "(df_tips['total_bill'] - df_tips['total_bill'].median()).abs().median()\n"
      ],
      "metadata": {
        "colab": {
          "base_uri": "https://localhost:8080/"
        },
        "id": "G_wqoCMtl5ip",
        "outputId": "1a1dd578-ebe2-43e8-f7b0-ca43156fb069"
      },
      "execution_count": 69,
      "outputs": [
        {
          "output_type": "execute_result",
          "data": {
            "text/plain": [
              "5.03"
            ]
          },
          "metadata": {},
          "execution_count": 69
        }
      ]
    },
    {
      "cell_type": "markdown",
      "metadata": {
        "id": "FLCb7zbVsR4A"
      },
      "source": [
        "5\\. Make a graphic that shows the distribution of total bills. Explain what you see."
      ]
    },
    {
      "cell_type": "code",
      "source": [
        "df_tips['total_bill'].plot.hist(bins=25, density =True)\n",
        "df_tips['total_bill'].plot.density(xlim=[0,50])"
      ],
      "metadata": {
        "colab": {
          "base_uri": "https://localhost:8080/",
          "height": 283
        },
        "id": "nuzzyo5DnGV0",
        "outputId": "0d9d6a49-cb44-4c99-b2cf-31b74326f32e"
      },
      "execution_count": 75,
      "outputs": [
        {
          "output_type": "execute_result",
          "data": {
            "text/plain": [
              "<matplotlib.axes._subplots.AxesSubplot at 0x7f7737d88190>"
            ]
          },
          "metadata": {},
          "execution_count": 75
        },
        {
          "output_type": "display_data",
          "data": {
            "text/plain": [
              "<Figure size 432x288 with 1 Axes>"
            ],
            "image/png": "[encoded data removed]"
          },
          "metadata": {
            "needs_background": "light"
          }
        }
      ]
    },
    {
      "cell_type": "markdown",
      "metadata": {
        "id": "ENRti8XEsavx"
      },
      "source": [
        "6\\. Recall from the previous chapter that _bar charts_ are used to visualize categorical variables. What happens when you call `.plot.bar()` on a quantitative variable, like `tip`? Why does it look this way? Do you think bar charts are appropriate for quantitative variables?"
      ]
    },
    {
      "cell_type": "code",
      "source": [
        "df_tips['tip'].plot.bar()"
      ],
      "metadata": {
        "colab": {
          "base_uri": "https://localhost:8080/",
          "height": 292
        },
        "id": "OKfNw96MsoI0",
        "outputId": "4a594d5c-dfed-4432-d400-37a77a5e1d3c"
      },
      "execution_count": 76,
      "outputs": [
        {
          "output_type": "execute_result",
          "data": {
            "text/plain": [
              "<matplotlib.axes._subplots.AxesSubplot at 0x7f7737d78610>"
            ]
          },
          "metadata": {},
          "execution_count": 76
        },
        {
          "output_type": "display_data",
          "data": {
            "text/plain": [
              "<Figure size 432x288 with 1 Axes>"
            ],
            "image/png": "[encoded data removed]"
          },
          "metadata": {
            "needs_background": "light"
          }
        }
      ]
    },
    {
      "cell_type": "markdown",
      "source": [
        "just shows the number "
      ],
      "metadata": {
        "id": "NdO1d-5UszdV"
      }
    },
    {
      "cell_type": "code",
      "source": [
        ""
      ],
      "metadata": {
        "id": "rtKhPby8ssXp"
      },
      "execution_count": null,
      "outputs": []
    }
  ]
}